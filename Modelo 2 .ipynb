{
 "cells": [
  {
   "cell_type": "markdown",
   "metadata": {},
   "source": [
    "# 1-. Lectura de datos \n"
   ]
  },
  {
   "cell_type": "code",
   "execution_count": 1,
   "metadata": {
    "ExecuteTime": {
     "end_time": "2021-01-14T02:34:51.735961Z",
     "start_time": "2021-01-14T02:34:51.729110Z"
    }
   },
   "outputs": [],
   "source": [
    "import pandas as pd\n",
    "import statistics as stat\n",
    "import numpy as np\n",
    "import json as js\n",
    "from datetime import datetime\n",
    "import os\n",
    "import random\n",
    "import seaborn as sns\n",
    "import matplotlib.pyplot as plt    \n",
    "from sqlalchemy import create_engine\n",
    "from scipy.stats import ks_2samp\n",
    "import warnings\n",
    "warnings.filterwarnings('ignore')"
   ]
  },
  {
   "cell_type": "code",
   "execution_count": 2,
   "metadata": {
    "ExecuteTime": {
     "end_time": "2021-01-13T01:16:26.876363Z",
     "start_time": "2021-01-13T01:16:26.862808Z"
    }
   },
   "outputs": [
    {
     "data": {
      "text/plain": [
       "['2018_Yellow_Taxi_Trip_Data.csv', 'catalogo.json']"
      ]
     },
     "execution_count": 2,
     "metadata": {},
     "output_type": "execute_result"
    }
   ],
   "source": [
    "ruta = '/Users/usuario/Desktop/Luis/Ts/Base de datos' \n",
    "l_arch = os.listdir(ruta)\n",
    "l_arch"
   ]
  },
  {
   "cell_type": "code",
   "execution_count": 4,
   "metadata": {
    "ExecuteTime": {
     "end_time": "2021-01-13T01:29:15.526706Z",
     "start_time": "2021-01-13T01:24:27.539800Z"
    }
   },
   "outputs": [],
   "source": [
    "muestra= [\n",
    "    x\n",
    "    for x in pd.read_csv(os.path.join(ruta, l_arch[0]), chunksize=10000000)\n",
    "]"
   ]
  },
  {
   "cell_type": "code",
   "execution_count": 5,
   "metadata": {
    "ExecuteTime": {
     "end_time": "2021-01-13T01:34:42.722300Z",
     "start_time": "2021-01-13T01:29:26.500242Z"
    }
   },
   "outputs": [],
   "source": [
    "df=pd.concat(muestra,ignore_index=True)"
   ]
  },
  {
   "cell_type": "code",
   "execution_count": 6,
   "metadata": {
    "ExecuteTime": {
     "end_time": "2021-01-13T01:35:33.450409Z",
     "start_time": "2021-01-13T01:35:33.277019Z"
    },
    "scrolled": true
   },
   "outputs": [
    {
     "name": "stdout",
     "output_type": "stream",
     "text": [
      "<class 'pandas.core.frame.DataFrame'>\n",
      "RangeIndex: 112234626 entries, 0 to 112234625\n",
      "Data columns (total 17 columns):\n",
      " #   Column                 Dtype  \n",
      "---  ------                 -----  \n",
      " 0   VendorID               int64  \n",
      " 1   tpep_pickup_datetime   object \n",
      " 2   tpep_dropoff_datetime  object \n",
      " 3   passenger_count        int64  \n",
      " 4   trip_distance          float64\n",
      " 5   RatecodeID             int64  \n",
      " 6   store_and_fwd_flag     object \n",
      " 7   PULocationID           int64  \n",
      " 8   DOLocationID           int64  \n",
      " 9   payment_type           int64  \n",
      " 10  fare_amount            float64\n",
      " 11  extra                  float64\n",
      " 12  mta_tax                float64\n",
      " 13  tip_amount             float64\n",
      " 14  tolls_amount           float64\n",
      " 15  improvement_surcharge  float64\n",
      " 16  total_amount           float64\n",
      "dtypes: float64(8), int64(6), object(3)\n",
      "memory usage: 14.2+ GB\n"
     ]
    }
   ],
   "source": [
    "df.info()"
   ]
  },
  {
   "cell_type": "markdown",
   "metadata": {},
   "source": [
    "##  Muestra aleatoria \n",
    "\n",
    "Decidimos armar una muestra aleatoria representativa de tamaño n ,con el siguiente calculo \n",
    "### $$n=\\frac{Z^2p(1-p)}{\\frac{e^2}{1+\\frac{Z^2p(1-p)}{Ne^2}}}$$\n",
    "\n",
    "Donde:\n",
    "\n",
    "Z es el score de los intervalos de confianza\n",
    "\n",
    "N el tamaño de la población\n",
    "\n",
    "p es la desviación estándar \n",
    "\n",
    "_e_ es el margen de error \n",
    "\n",
    "Como no sabemos cuanta  desviación estándar de la población le asignamoes el valor  0.5 para asegurarse de que la muestra sea lo suficientemente grande, ademas escojeomos un error de $0.01\\%$ ademas con tenemos un nivel de confianza de $99\\% , Z=2.576$  y nuestra $N = 112234625$, asi que \n",
    "\n",
    "### $$n=\\frac{2.576^2 0.5 (1-0.5)}{\\frac{0.001^2}{1+\\frac{2.576^2 0.5 (1-0.5)}{112234625*0.001^2}}}=1683465$$"
   ]
  },
  {
   "cell_type": "code",
   "execution_count": 6,
   "metadata": {
    "ExecuteTime": {
     "end_time": "2020-12-23T23:41:32.870201Z",
     "start_time": "2020-12-23T23:41:30.715934Z"
    }
   },
   "outputs": [],
   "source": [
    "x=random.sample(range(0,112234624),1683465)"
   ]
  },
  {
   "cell_type": "code",
   "execution_count": 16,
   "metadata": {
    "ExecuteTime": {
     "end_time": "2020-12-24T01:30:28.467489Z",
     "start_time": "2020-12-23T23:47:43.202570Z"
    }
   },
   "outputs": [],
   "source": [
    "df_muestra=df.iloc[x,]"
   ]
  },
  {
   "cell_type": "code",
   "execution_count": 18,
   "metadata": {
    "ExecuteTime": {
     "end_time": "2020-12-24T01:53:25.439899Z",
     "start_time": "2020-12-24T01:53:25.412639Z"
    }
   },
   "outputs": [
    {
     "data": {
      "text/html": [
       "<div>\n",
       "<style scoped>\n",
       "    .dataframe tbody tr th:only-of-type {\n",
       "        vertical-align: middle;\n",
       "    }\n",
       "\n",
       "    .dataframe tbody tr th {\n",
       "        vertical-align: top;\n",
       "    }\n",
       "\n",
       "    .dataframe thead th {\n",
       "        text-align: right;\n",
       "    }\n",
       "</style>\n",
       "<table border=\"1\" class=\"dataframe\">\n",
       "  <thead>\n",
       "    <tr style=\"text-align: right;\">\n",
       "      <th></th>\n",
       "      <th>VendorID</th>\n",
       "      <th>tpep_pickup_datetime</th>\n",
       "      <th>tpep_dropoff_datetime</th>\n",
       "      <th>passenger_count</th>\n",
       "      <th>trip_distance</th>\n",
       "      <th>RatecodeID</th>\n",
       "      <th>store_and_fwd_flag</th>\n",
       "      <th>PULocationID</th>\n",
       "      <th>DOLocationID</th>\n",
       "      <th>payment_type</th>\n",
       "      <th>fare_amount</th>\n",
       "      <th>extra</th>\n",
       "      <th>mta_tax</th>\n",
       "      <th>tip_amount</th>\n",
       "      <th>tolls_amount</th>\n",
       "      <th>improvement_surcharge</th>\n",
       "      <th>total_amount</th>\n",
       "    </tr>\n",
       "  </thead>\n",
       "  <tbody>\n",
       "    <tr>\n",
       "      <th>12497563</th>\n",
       "      <td>2</td>\n",
       "      <td>11/06/2018 12:42:24 PM</td>\n",
       "      <td>11/06/2018 12:54:49 PM</td>\n",
       "      <td>1</td>\n",
       "      <td>0.87</td>\n",
       "      <td>1</td>\n",
       "      <td>N</td>\n",
       "      <td>229</td>\n",
       "      <td>237</td>\n",
       "      <td>2</td>\n",
       "      <td>9.0</td>\n",
       "      <td>0.0</td>\n",
       "      <td>0.5</td>\n",
       "      <td>0.00</td>\n",
       "      <td>0.00</td>\n",
       "      <td>0.3</td>\n",
       "      <td>9.80</td>\n",
       "    </tr>\n",
       "    <tr>\n",
       "      <th>49556802</th>\n",
       "      <td>1</td>\n",
       "      <td>02/16/2018 07:19:59 PM</td>\n",
       "      <td>02/16/2018 07:26:41 PM</td>\n",
       "      <td>0</td>\n",
       "      <td>1.50</td>\n",
       "      <td>1</td>\n",
       "      <td>N</td>\n",
       "      <td>48</td>\n",
       "      <td>158</td>\n",
       "      <td>1</td>\n",
       "      <td>7.0</td>\n",
       "      <td>1.0</td>\n",
       "      <td>0.5</td>\n",
       "      <td>1.32</td>\n",
       "      <td>0.00</td>\n",
       "      <td>0.3</td>\n",
       "      <td>10.12</td>\n",
       "    </tr>\n",
       "    <tr>\n",
       "      <th>48232374</th>\n",
       "      <td>1</td>\n",
       "      <td>02/12/2018 04:50:01 PM</td>\n",
       "      <td>02/12/2018 05:43:55 PM</td>\n",
       "      <td>3</td>\n",
       "      <td>22.60</td>\n",
       "      <td>2</td>\n",
       "      <td>N</td>\n",
       "      <td>132</td>\n",
       "      <td>48</td>\n",
       "      <td>2</td>\n",
       "      <td>52.0</td>\n",
       "      <td>0.0</td>\n",
       "      <td>0.5</td>\n",
       "      <td>0.00</td>\n",
       "      <td>5.76</td>\n",
       "      <td>0.3</td>\n",
       "      <td>58.56</td>\n",
       "    </tr>\n",
       "    <tr>\n",
       "      <th>71005448</th>\n",
       "      <td>2</td>\n",
       "      <td>03/28/2018 07:58:44 PM</td>\n",
       "      <td>03/28/2018 08:07:14 PM</td>\n",
       "      <td>1</td>\n",
       "      <td>1.61</td>\n",
       "      <td>1</td>\n",
       "      <td>N</td>\n",
       "      <td>68</td>\n",
       "      <td>211</td>\n",
       "      <td>1</td>\n",
       "      <td>8.0</td>\n",
       "      <td>1.0</td>\n",
       "      <td>0.5</td>\n",
       "      <td>1.00</td>\n",
       "      <td>0.00</td>\n",
       "      <td>0.3</td>\n",
       "      <td>10.80</td>\n",
       "    </tr>\n",
       "    <tr>\n",
       "      <th>11286082</th>\n",
       "      <td>1</td>\n",
       "      <td>11/02/2018 06:34:49 AM</td>\n",
       "      <td>11/02/2018 06:50:07 AM</td>\n",
       "      <td>1</td>\n",
       "      <td>2.70</td>\n",
       "      <td>1</td>\n",
       "      <td>N</td>\n",
       "      <td>79</td>\n",
       "      <td>230</td>\n",
       "      <td>1</td>\n",
       "      <td>12.5</td>\n",
       "      <td>0.0</td>\n",
       "      <td>0.5</td>\n",
       "      <td>2.65</td>\n",
       "      <td>0.00</td>\n",
       "      <td>0.3</td>\n",
       "      <td>15.95</td>\n",
       "    </tr>\n",
       "  </tbody>\n",
       "</table>\n",
       "</div>"
      ],
      "text/plain": [
       "          VendorID    tpep_pickup_datetime   tpep_dropoff_datetime  \\\n",
       "12497563         2  11/06/2018 12:42:24 PM  11/06/2018 12:54:49 PM   \n",
       "49556802         1  02/16/2018 07:19:59 PM  02/16/2018 07:26:41 PM   \n",
       "48232374         1  02/12/2018 04:50:01 PM  02/12/2018 05:43:55 PM   \n",
       "71005448         2  03/28/2018 07:58:44 PM  03/28/2018 08:07:14 PM   \n",
       "11286082         1  11/02/2018 06:34:49 AM  11/02/2018 06:50:07 AM   \n",
       "\n",
       "          passenger_count  trip_distance  RatecodeID store_and_fwd_flag  \\\n",
       "12497563                1           0.87           1                  N   \n",
       "49556802                0           1.50           1                  N   \n",
       "48232374                3          22.60           2                  N   \n",
       "71005448                1           1.61           1                  N   \n",
       "11286082                1           2.70           1                  N   \n",
       "\n",
       "          PULocationID  DOLocationID  payment_type  fare_amount  extra  \\\n",
       "12497563           229           237             2          9.0    0.0   \n",
       "49556802            48           158             1          7.0    1.0   \n",
       "48232374           132            48             2         52.0    0.0   \n",
       "71005448            68           211             1          8.0    1.0   \n",
       "11286082            79           230             1         12.5    0.0   \n",
       "\n",
       "          mta_tax  tip_amount  tolls_amount  improvement_surcharge  \\\n",
       "12497563      0.5        0.00          0.00                    0.3   \n",
       "49556802      0.5        1.32          0.00                    0.3   \n",
       "48232374      0.5        0.00          5.76                    0.3   \n",
       "71005448      0.5        1.00          0.00                    0.3   \n",
       "11286082      0.5        2.65          0.00                    0.3   \n",
       "\n",
       "          total_amount  \n",
       "12497563          9.80  \n",
       "49556802         10.12  \n",
       "48232374         58.56  \n",
       "71005448         10.80  \n",
       "11286082         15.95  "
      ]
     },
     "execution_count": 18,
     "metadata": {},
     "output_type": "execute_result"
    }
   ],
   "source": [
    "df_muestra.head()"
   ]
  },
  {
   "cell_type": "markdown",
   "metadata": {},
   "source": [
    "Hacemos un csv de la muestra para tener la muestra mas rapido y no cargar el codigo pasado, ya que es mas facil correr directamente el csv para otra persona, o también nos sirve de respando en caso de que el kernel no funcione "
   ]
  },
  {
   "cell_type": "code",
   "execution_count": null,
   "metadata": {},
   "outputs": [],
   "source": [
    "df_muestra.to_csv('muestra.csv',index=False)"
   ]
  },
  {
   "cell_type": "code",
   "execution_count": 7,
   "metadata": {
    "ExecuteTime": {
     "end_time": "2021-01-13T01:36:26.478162Z",
     "start_time": "2021-01-13T01:36:19.932798Z"
    }
   },
   "outputs": [],
   "source": [
    "df_muestra=pd.read_csv('muestra.csv')"
   ]
  },
  {
   "cell_type": "code",
   "execution_count": 8,
   "metadata": {
    "ExecuteTime": {
     "end_time": "2021-01-13T01:38:41.470664Z",
     "start_time": "2021-01-13T01:38:41.007445Z"
    }
   },
   "outputs": [
    {
     "name": "stdout",
     "output_type": "stream",
     "text": [
      "<class 'pandas.core.frame.DataFrame'>\n",
      "RangeIndex: 1683465 entries, 0 to 1683464\n",
      "Data columns (total 17 columns):\n",
      " #   Column                 Non-Null Count    Dtype  \n",
      "---  ------                 --------------    -----  \n",
      " 0   VendorID               1683465 non-null  int64  \n",
      " 1   tpep_pickup_datetime   1683465 non-null  object \n",
      " 2   tpep_dropoff_datetime  1683465 non-null  object \n",
      " 3   passenger_count        1683465 non-null  int64  \n",
      " 4   trip_distance          1683465 non-null  float64\n",
      " 5   RatecodeID             1683465 non-null  int64  \n",
      " 6   store_and_fwd_flag     1683465 non-null  object \n",
      " 7   PULocationID           1683465 non-null  int64  \n",
      " 8   DOLocationID           1683465 non-null  int64  \n",
      " 9   payment_type           1683465 non-null  int64  \n",
      " 10  fare_amount            1683465 non-null  float64\n",
      " 11  extra                  1683465 non-null  float64\n",
      " 12  mta_tax                1683465 non-null  float64\n",
      " 13  tip_amount             1683465 non-null  float64\n",
      " 14  tolls_amount           1683465 non-null  float64\n",
      " 15  improvement_surcharge  1683465 non-null  float64\n",
      " 16  total_amount           1683465 non-null  float64\n",
      "dtypes: float64(8), int64(6), object(3)\n",
      "memory usage: 218.3+ MB\n"
     ]
    }
   ],
   "source": [
    "df_muestra.info()"
   ]
  },
  {
   "cell_type": "code",
   "execution_count": 11,
   "metadata": {
    "ExecuteTime": {
     "end_time": "2021-01-13T01:50:43.966292Z",
     "start_time": "2021-01-13T01:50:00.550889Z"
    }
   },
   "outputs": [
    {
     "data": {
      "text/plain": [
       "KstestResult(statistic=0.0007187510657458152, pvalue=0.3581319351994644)"
      ]
     },
     "execution_count": 11,
     "metadata": {},
     "output_type": "execute_result"
    }
   ],
   "source": [
    "ks_2samp(df['total_amount'],df_muestra['total_amount'])"
   ]
  },
  {
   "cell_type": "code",
   "execution_count": 12,
   "metadata": {
    "ExecuteTime": {
     "end_time": "2021-01-13T01:55:09.452907Z",
     "start_time": "2021-01-13T01:54:32.951386Z"
    }
   },
   "outputs": [
    {
     "data": {
      "text/plain": [
       "KstestResult(statistic=0.0005955357663962046, pvalue=0.5984763940478086)"
      ]
     },
     "execution_count": 12,
     "metadata": {},
     "output_type": "execute_result"
    }
   ],
   "source": [
    "ks_2samp(df['PULocationID'],df_muestra['PULocationID'])"
   ]
  },
  {
   "cell_type": "markdown",
   "metadata": {},
   "source": [
    "Podemos ver que nuestra muestra realmente es representativa "
   ]
  },
  {
   "cell_type": "markdown",
   "metadata": {
    "lang": "en"
   },
   "source": [
    "## Catalogos \n",
    "\n",
    "Como ya tenemos un catalogo en json simplemte los cargamos "
   ]
  },
  {
   "cell_type": "code",
   "execution_count": 13,
   "metadata": {
    "ExecuteTime": {
     "end_time": "2021-01-13T02:47:43.160884Z",
     "start_time": "2021-01-13T02:47:43.149399Z"
    }
   },
   "outputs": [],
   "source": [
    "catalogos = js.load(open(os.path.join(ruta, l_arch[-1]), 'rb'))"
   ]
  },
  {
   "cell_type": "markdown",
   "metadata": {},
   "source": [
    "Como no tenemos el catalogo de las zonas pero si tenemos un _csv_ solamente lo cargaremos "
   ]
  },
  {
   "cell_type": "code",
   "execution_count": 14,
   "metadata": {
    "ExecuteTime": {
     "end_time": "2021-01-13T02:47:47.046872Z",
     "start_time": "2021-01-13T02:47:47.021065Z"
    }
   },
   "outputs": [],
   "source": [
    "PULocationID = pd.read_csv('taxi+_zone_lookup.csv')\n",
    "PULocationID.columns = [\n",
    "    'PULocationID', 'PUBorough', 'PUZone', 'PUservice_zone'\n",
    "]\n",
    "DOLocationID = pd.read_csv('taxi+_zone_lookup.csv')\n",
    "DOLocationID.columns = [\n",
    "    'DOLocationID', 'DOBorough', 'DOZone', 'DOservice_zone'\n",
    "]"
   ]
  },
  {
   "cell_type": "markdown",
   "metadata": {},
   "source": [
    "###  Creacion de tuplas de catalogos "
   ]
  },
  {
   "cell_type": "code",
   "execution_count": 15,
   "metadata": {
    "ExecuteTime": {
     "end_time": "2021-01-13T02:47:50.565141Z",
     "start_time": "2021-01-13T02:47:50.534736Z"
    }
   },
   "outputs": [],
   "source": [
    "l_cat = [(x,\n",
    "          pd.DataFrame.from_dict(\n",
    "              catalogos[x], orient='index',\n",
    "              columns=[\"x_%s\" % x]).reset_index().rename(columns={'index': x}))\n",
    "         for x in catalogos.keys()]\n",
    "l_catzon = [('PULocationID', PULocationID), ('DOLocationID', DOLocationID)]"
   ]
  },
  {
   "cell_type": "markdown",
   "metadata": {
    "ExecuteTime": {
     "end_time": "2020-12-23T00:04:14.553791Z",
     "start_time": "2020-12-23T00:04:14.540456Z"
    }
   },
   "source": [
    "##  Unir datos con los catalogos "
   ]
  },
  {
   "cell_type": "code",
   "execution_count": 16,
   "metadata": {
    "ExecuteTime": {
     "end_time": "2021-01-13T02:49:06.537161Z",
     "start_time": "2021-01-13T02:48:50.517292Z"
    }
   },
   "outputs": [
    {
     "name": "stdout",
     "output_type": "stream",
     "text": [
      "VendorID\n",
      "RatecodeID\n",
      "store_and_fwd_flag\n",
      "payment_type\n"
     ]
    }
   ],
   "source": [
    "for key, cat in l_cat:\n",
    "    print(key)\n",
    "    df_muestra[key] = df_muestra[key].fillna(9999).astype('S')\n",
    "    cat[key] = cat[key].astype('S')\n",
    "    df_muestra = df_muestra.merge(cat, on=key, how='left').drop(\n",
    "        key, axis=1).rename(columns={'x_%s' % key: key})"
   ]
  },
  {
   "cell_type": "code",
   "execution_count": 17,
   "metadata": {
    "ExecuteTime": {
     "end_time": "2021-01-13T02:49:16.333967Z",
     "start_time": "2021-01-13T02:49:07.293313Z"
    }
   },
   "outputs": [
    {
     "name": "stdout",
     "output_type": "stream",
     "text": [
      "PULocationID\n",
      "DOLocationID\n"
     ]
    }
   ],
   "source": [
    "for key, cat in l_catzon:\n",
    "    print(key)\n",
    "    df_muestra[key] = df_muestra[key].fillna(9999).astype('S')\n",
    "    cat[key] = cat[key].astype('S')\n",
    "    df_muestra = df_muestra.merge(cat, on=key, how='left').drop(\n",
    "        key, axis=1).rename(columns={'x_%s' % key: key})"
   ]
  },
  {
   "cell_type": "markdown",
   "metadata": {},
   "source": [
    "## Cambio de tipo de dato \n",
    "\n",
    "Vemos que el unico tipo de dato que no coincide solo las fechas, asi que las pondremos en tipo date \n"
   ]
  },
  {
   "cell_type": "code",
   "execution_count": 18,
   "metadata": {
    "ExecuteTime": {
     "end_time": "2021-01-13T02:51:57.444148Z",
     "start_time": "2021-01-13T02:49:35.203207Z"
    }
   },
   "outputs": [],
   "source": [
    "df_muestra['tpep_pickup_datetime'] = df_muestra['tpep_pickup_datetime'].map(\n",
    "    lambda x: datetime.strptime(x,'%m/%d/%Y %I:%M:%S %p'))\n",
    "df_muestra['tpep_dropoff_datetime']=df_muestra['tpep_dropoff_datetime'].map(\n",
    "    lambda x: datetime.strptime(x,'%m/%d/%Y %I:%M:%S %p'))\n",
    "df_muestra['tpep_pickup_datetime']=df_muestra['tpep_pickup_datetime'].map(lambda x:x.replace(year=2018))\n",
    "df_muestra['tpep_dropoff_datetime']=df_muestra['tpep_dropoff_datetime'].map(lambda x:x.replace(year=2018))"
   ]
  },
  {
   "cell_type": "code",
   "execution_count": 19,
   "metadata": {
    "ExecuteTime": {
     "end_time": "2021-01-13T02:53:13.583133Z",
     "start_time": "2021-01-13T02:53:13.509828Z"
    },
    "scrolled": true
   },
   "outputs": [
    {
     "data": {
      "text/html": [
       "<div>\n",
       "<style scoped>\n",
       "    .dataframe tbody tr th:only-of-type {\n",
       "        vertical-align: middle;\n",
       "    }\n",
       "\n",
       "    .dataframe tbody tr th {\n",
       "        vertical-align: top;\n",
       "    }\n",
       "\n",
       "    .dataframe thead th {\n",
       "        text-align: right;\n",
       "    }\n",
       "</style>\n",
       "<table border=\"1\" class=\"dataframe\">\n",
       "  <thead>\n",
       "    <tr style=\"text-align: right;\">\n",
       "      <th></th>\n",
       "      <th>tpep_pickup_datetime</th>\n",
       "      <th>tpep_dropoff_datetime</th>\n",
       "      <th>passenger_count</th>\n",
       "      <th>trip_distance</th>\n",
       "      <th>fare_amount</th>\n",
       "      <th>extra</th>\n",
       "      <th>mta_tax</th>\n",
       "      <th>tip_amount</th>\n",
       "      <th>tolls_amount</th>\n",
       "      <th>improvement_surcharge</th>\n",
       "      <th>...</th>\n",
       "      <th>VendorID</th>\n",
       "      <th>RatecodeID</th>\n",
       "      <th>store_and_fwd_flag</th>\n",
       "      <th>payment_type</th>\n",
       "      <th>PUBorough</th>\n",
       "      <th>PUZone</th>\n",
       "      <th>PUservice_zone</th>\n",
       "      <th>DOBorough</th>\n",
       "      <th>DOZone</th>\n",
       "      <th>DOservice_zone</th>\n",
       "    </tr>\n",
       "  </thead>\n",
       "  <tbody>\n",
       "    <tr>\n",
       "      <th>0</th>\n",
       "      <td>2018-11-06 12:42:24</td>\n",
       "      <td>2018-11-06 12:54:49</td>\n",
       "      <td>1</td>\n",
       "      <td>0.87</td>\n",
       "      <td>9.0</td>\n",
       "      <td>0.0</td>\n",
       "      <td>0.5</td>\n",
       "      <td>0.00</td>\n",
       "      <td>0.00</td>\n",
       "      <td>0.3</td>\n",
       "      <td>...</td>\n",
       "      <td>VeriFone Inc</td>\n",
       "      <td>Standard rate</td>\n",
       "      <td>not a store and forward trip</td>\n",
       "      <td>Cash</td>\n",
       "      <td>Manhattan</td>\n",
       "      <td>Sutton Place/Turtle Bay North</td>\n",
       "      <td>Yellow Zone</td>\n",
       "      <td>Manhattan</td>\n",
       "      <td>Upper East Side South</td>\n",
       "      <td>Yellow Zone</td>\n",
       "    </tr>\n",
       "    <tr>\n",
       "      <th>1</th>\n",
       "      <td>2018-02-16 19:19:59</td>\n",
       "      <td>2018-02-16 19:26:41</td>\n",
       "      <td>0</td>\n",
       "      <td>1.50</td>\n",
       "      <td>7.0</td>\n",
       "      <td>1.0</td>\n",
       "      <td>0.5</td>\n",
       "      <td>1.32</td>\n",
       "      <td>0.00</td>\n",
       "      <td>0.3</td>\n",
       "      <td>...</td>\n",
       "      <td>Creative Mobile Technologies</td>\n",
       "      <td>Standard rate</td>\n",
       "      <td>not a store and forward trip</td>\n",
       "      <td>Credit card</td>\n",
       "      <td>Manhattan</td>\n",
       "      <td>Clinton East</td>\n",
       "      <td>Yellow Zone</td>\n",
       "      <td>Manhattan</td>\n",
       "      <td>Meatpacking/West Village West</td>\n",
       "      <td>Yellow Zone</td>\n",
       "    </tr>\n",
       "    <tr>\n",
       "      <th>2</th>\n",
       "      <td>2018-02-12 16:50:01</td>\n",
       "      <td>2018-02-12 17:43:55</td>\n",
       "      <td>3</td>\n",
       "      <td>22.60</td>\n",
       "      <td>52.0</td>\n",
       "      <td>0.0</td>\n",
       "      <td>0.5</td>\n",
       "      <td>0.00</td>\n",
       "      <td>5.76</td>\n",
       "      <td>0.3</td>\n",
       "      <td>...</td>\n",
       "      <td>Creative Mobile Technologies</td>\n",
       "      <td>JFK</td>\n",
       "      <td>not a store and forward trip</td>\n",
       "      <td>Cash</td>\n",
       "      <td>Queens</td>\n",
       "      <td>JFK Airport</td>\n",
       "      <td>Airports</td>\n",
       "      <td>Manhattan</td>\n",
       "      <td>Clinton East</td>\n",
       "      <td>Yellow Zone</td>\n",
       "    </tr>\n",
       "    <tr>\n",
       "      <th>3</th>\n",
       "      <td>2018-03-28 19:58:44</td>\n",
       "      <td>2018-03-28 20:07:14</td>\n",
       "      <td>1</td>\n",
       "      <td>1.61</td>\n",
       "      <td>8.0</td>\n",
       "      <td>1.0</td>\n",
       "      <td>0.5</td>\n",
       "      <td>1.00</td>\n",
       "      <td>0.00</td>\n",
       "      <td>0.3</td>\n",
       "      <td>...</td>\n",
       "      <td>VeriFone Inc</td>\n",
       "      <td>Standard rate</td>\n",
       "      <td>not a store and forward trip</td>\n",
       "      <td>Credit card</td>\n",
       "      <td>Manhattan</td>\n",
       "      <td>East Chelsea</td>\n",
       "      <td>Yellow Zone</td>\n",
       "      <td>Manhattan</td>\n",
       "      <td>SoHo</td>\n",
       "      <td>Yellow Zone</td>\n",
       "    </tr>\n",
       "    <tr>\n",
       "      <th>4</th>\n",
       "      <td>2018-11-02 06:34:49</td>\n",
       "      <td>2018-11-02 06:50:07</td>\n",
       "      <td>1</td>\n",
       "      <td>2.70</td>\n",
       "      <td>12.5</td>\n",
       "      <td>0.0</td>\n",
       "      <td>0.5</td>\n",
       "      <td>2.65</td>\n",
       "      <td>0.00</td>\n",
       "      <td>0.3</td>\n",
       "      <td>...</td>\n",
       "      <td>Creative Mobile Technologies</td>\n",
       "      <td>Standard rate</td>\n",
       "      <td>not a store and forward trip</td>\n",
       "      <td>Credit card</td>\n",
       "      <td>Manhattan</td>\n",
       "      <td>East Village</td>\n",
       "      <td>Yellow Zone</td>\n",
       "      <td>Manhattan</td>\n",
       "      <td>Times Sq/Theatre District</td>\n",
       "      <td>Yellow Zone</td>\n",
       "    </tr>\n",
       "  </tbody>\n",
       "</table>\n",
       "<p>5 rows × 21 columns</p>\n",
       "</div>"
      ],
      "text/plain": [
       "  tpep_pickup_datetime tpep_dropoff_datetime  passenger_count  trip_distance  \\\n",
       "0  2018-11-06 12:42:24   2018-11-06 12:54:49                1           0.87   \n",
       "1  2018-02-16 19:19:59   2018-02-16 19:26:41                0           1.50   \n",
       "2  2018-02-12 16:50:01   2018-02-12 17:43:55                3          22.60   \n",
       "3  2018-03-28 19:58:44   2018-03-28 20:07:14                1           1.61   \n",
       "4  2018-11-02 06:34:49   2018-11-02 06:50:07                1           2.70   \n",
       "\n",
       "   fare_amount  extra  mta_tax  tip_amount  tolls_amount  \\\n",
       "0          9.0    0.0      0.5        0.00          0.00   \n",
       "1          7.0    1.0      0.5        1.32          0.00   \n",
       "2         52.0    0.0      0.5        0.00          5.76   \n",
       "3          8.0    1.0      0.5        1.00          0.00   \n",
       "4         12.5    0.0      0.5        2.65          0.00   \n",
       "\n",
       "   improvement_surcharge  ...                      VendorID     RatecodeID  \\\n",
       "0                    0.3  ...                  VeriFone Inc  Standard rate   \n",
       "1                    0.3  ...  Creative Mobile Technologies  Standard rate   \n",
       "2                    0.3  ...  Creative Mobile Technologies            JFK   \n",
       "3                    0.3  ...                  VeriFone Inc  Standard rate   \n",
       "4                    0.3  ...  Creative Mobile Technologies  Standard rate   \n",
       "\n",
       "             store_and_fwd_flag payment_type  PUBorough  \\\n",
       "0  not a store and forward trip         Cash  Manhattan   \n",
       "1  not a store and forward trip  Credit card  Manhattan   \n",
       "2  not a store and forward trip         Cash     Queens   \n",
       "3  not a store and forward trip  Credit card  Manhattan   \n",
       "4  not a store and forward trip  Credit card  Manhattan   \n",
       "\n",
       "                          PUZone PUservice_zone  DOBorough  \\\n",
       "0  Sutton Place/Turtle Bay North    Yellow Zone  Manhattan   \n",
       "1                   Clinton East    Yellow Zone  Manhattan   \n",
       "2                    JFK Airport       Airports  Manhattan   \n",
       "3                   East Chelsea    Yellow Zone  Manhattan   \n",
       "4                   East Village    Yellow Zone  Manhattan   \n",
       "\n",
       "                          DOZone DOservice_zone  \n",
       "0          Upper East Side South    Yellow Zone  \n",
       "1  Meatpacking/West Village West    Yellow Zone  \n",
       "2                   Clinton East    Yellow Zone  \n",
       "3                           SoHo    Yellow Zone  \n",
       "4      Times Sq/Theatre District    Yellow Zone  \n",
       "\n",
       "[5 rows x 21 columns]"
      ]
     },
     "execution_count": 19,
     "metadata": {},
     "output_type": "execute_result"
    }
   ],
   "source": [
    "df_muestra.head()"
   ]
  },
  {
   "cell_type": "markdown",
   "metadata": {},
   "source": [
    "#  Limpieza de datos "
   ]
  },
  {
   "cell_type": "markdown",
   "metadata": {},
   "source": [
    "##  Missings "
   ]
  },
  {
   "cell_type": "code",
   "execution_count": 21,
   "metadata": {
    "ExecuteTime": {
     "end_time": "2021-01-13T03:03:24.477682Z",
     "start_time": "2021-01-13T03:03:23.386313Z"
    }
   },
   "outputs": [],
   "source": [
    "miss=1-df_muestra.describe().T[['count']]/len(df_muestra)"
   ]
  },
  {
   "cell_type": "code",
   "execution_count": 22,
   "metadata": {
    "ExecuteTime": {
     "end_time": "2021-01-13T03:03:40.823081Z",
     "start_time": "2021-01-13T03:03:40.793776Z"
    },
    "scrolled": true
   },
   "outputs": [
    {
     "data": {
      "text/html": [
       "<div>\n",
       "<style scoped>\n",
       "    .dataframe tbody tr th:only-of-type {\n",
       "        vertical-align: middle;\n",
       "    }\n",
       "\n",
       "    .dataframe tbody tr th {\n",
       "        vertical-align: top;\n",
       "    }\n",
       "\n",
       "    .dataframe thead th {\n",
       "        text-align: right;\n",
       "    }\n",
       "</style>\n",
       "<table border=\"1\" class=\"dataframe\">\n",
       "  <thead>\n",
       "    <tr style=\"text-align: right;\">\n",
       "      <th></th>\n",
       "      <th>count</th>\n",
       "    </tr>\n",
       "  </thead>\n",
       "  <tbody>\n",
       "    <tr>\n",
       "      <th>count</th>\n",
       "      <td>9.0</td>\n",
       "    </tr>\n",
       "    <tr>\n",
       "      <th>mean</th>\n",
       "      <td>0.0</td>\n",
       "    </tr>\n",
       "    <tr>\n",
       "      <th>std</th>\n",
       "      <td>0.0</td>\n",
       "    </tr>\n",
       "    <tr>\n",
       "      <th>min</th>\n",
       "      <td>0.0</td>\n",
       "    </tr>\n",
       "    <tr>\n",
       "      <th>25%</th>\n",
       "      <td>0.0</td>\n",
       "    </tr>\n",
       "    <tr>\n",
       "      <th>50%</th>\n",
       "      <td>0.0</td>\n",
       "    </tr>\n",
       "    <tr>\n",
       "      <th>75%</th>\n",
       "      <td>0.0</td>\n",
       "    </tr>\n",
       "    <tr>\n",
       "      <th>max</th>\n",
       "      <td>0.0</td>\n",
       "    </tr>\n",
       "  </tbody>\n",
       "</table>\n",
       "</div>"
      ],
      "text/plain": [
       "       count\n",
       "count    9.0\n",
       "mean     0.0\n",
       "std      0.0\n",
       "min      0.0\n",
       "25%      0.0\n",
       "50%      0.0\n",
       "75%      0.0\n",
       "max      0.0"
      ]
     },
     "execution_count": 22,
     "metadata": {},
     "output_type": "execute_result"
    }
   ],
   "source": [
    "miss[['count']].describe()"
   ]
  },
  {
   "cell_type": "markdown",
   "metadata": {},
   "source": [
    "Vemos que en nuestras variables de cuantitativas no hay n.a,pero veamos en las cualitativas "
   ]
  },
  {
   "cell_type": "code",
   "execution_count": 32,
   "metadata": {
    "ExecuteTime": {
     "end_time": "2021-01-13T03:27:22.234624Z",
     "start_time": "2021-01-13T03:27:20.900456Z"
    }
   },
   "outputs": [
    {
     "data": {
      "text/plain": [
       "((1683465, 21), (1643539, 21))"
      ]
     },
     "execution_count": 32,
     "metadata": {},
     "output_type": "execute_result"
    }
   ],
   "source": [
    "df_muestra.shape,df_muestra.dropna().shape"
   ]
  },
  {
   "cell_type": "markdown",
   "metadata": {},
   "source": [
    "Vemos que tenemos Na's, veamos que teanto representa quitar esos Na's"
   ]
  },
  {
   "cell_type": "code",
   "execution_count": 38,
   "metadata": {
    "ExecuteTime": {
     "end_time": "2021-01-13T03:31:12.537329Z",
     "start_time": "2021-01-13T03:31:11.060217Z"
    }
   },
   "outputs": [
    {
     "data": {
      "text/plain": [
       "0.9762834392161405"
      ]
     },
     "execution_count": 38,
     "metadata": {},
     "output_type": "execute_result"
    }
   ],
   "source": [
    "df_muestra.dropna().shape[0]/df_muestra.shape[0]"
   ]
  },
  {
   "cell_type": "markdown",
   "metadata": {},
   "source": [
    "Vemos que esos Na respresnete menos del 4% de los datos , asi que obtamos por eliminar esos N.a's "
   ]
  },
  {
   "cell_type": "code",
   "execution_count": 39,
   "metadata": {
    "ExecuteTime": {
     "end_time": "2021-01-13T03:33:18.788304Z",
     "start_time": "2021-01-13T03:33:17.372301Z"
    }
   },
   "outputs": [],
   "source": [
    "df_muestra.dropna(inplace=True)"
   ]
  },
  {
   "cell_type": "code",
   "execution_count": 40,
   "metadata": {
    "ExecuteTime": {
     "end_time": "2021-01-13T03:34:16.246932Z",
     "start_time": "2021-01-13T03:34:15.148848Z"
    }
   },
   "outputs": [
    {
     "data": {
      "text/html": [
       "<div>\n",
       "<style scoped>\n",
       "    .dataframe tbody tr th:only-of-type {\n",
       "        vertical-align: middle;\n",
       "    }\n",
       "\n",
       "    .dataframe tbody tr th {\n",
       "        vertical-align: top;\n",
       "    }\n",
       "\n",
       "    .dataframe thead th {\n",
       "        text-align: right;\n",
       "    }\n",
       "</style>\n",
       "<table border=\"1\" class=\"dataframe\">\n",
       "  <thead>\n",
       "    <tr style=\"text-align: right;\">\n",
       "      <th></th>\n",
       "      <th>passenger_count</th>\n",
       "      <th>trip_distance</th>\n",
       "      <th>fare_amount</th>\n",
       "      <th>extra</th>\n",
       "      <th>mta_tax</th>\n",
       "      <th>tip_amount</th>\n",
       "      <th>tolls_amount</th>\n",
       "      <th>improvement_surcharge</th>\n",
       "      <th>total_amount</th>\n",
       "    </tr>\n",
       "  </thead>\n",
       "  <tbody>\n",
       "    <tr>\n",
       "      <th>count</th>\n",
       "      <td>1.643539e+06</td>\n",
       "      <td>1.643539e+06</td>\n",
       "      <td>1.643539e+06</td>\n",
       "      <td>1.643539e+06</td>\n",
       "      <td>1.643539e+06</td>\n",
       "      <td>1.643539e+06</td>\n",
       "      <td>1.643539e+06</td>\n",
       "      <td>1.643539e+06</td>\n",
       "      <td>1.643539e+06</td>\n",
       "    </tr>\n",
       "    <tr>\n",
       "      <th>mean</th>\n",
       "      <td>1.602218e+00</td>\n",
       "      <td>2.907798e+00</td>\n",
       "      <td>1.283130e+01</td>\n",
       "      <td>3.313339e-01</td>\n",
       "      <td>4.977158e-01</td>\n",
       "      <td>1.854000e+00</td>\n",
       "      <td>3.356426e-01</td>\n",
       "      <td>2.995652e-01</td>\n",
       "      <td>1.615335e+01</td>\n",
       "    </tr>\n",
       "    <tr>\n",
       "      <th>std</th>\n",
       "      <td>1.247471e+00</td>\n",
       "      <td>3.697920e+00</td>\n",
       "      <td>1.251826e+01</td>\n",
       "      <td>4.627568e-01</td>\n",
       "      <td>3.804835e-02</td>\n",
       "      <td>2.470432e+00</td>\n",
       "      <td>1.742505e+00</td>\n",
       "      <td>1.563230e-02</td>\n",
       "      <td>1.491245e+01</td>\n",
       "    </tr>\n",
       "    <tr>\n",
       "      <th>min</th>\n",
       "      <td>0.000000e+00</td>\n",
       "      <td>0.000000e+00</td>\n",
       "      <td>-1.600000e+02</td>\n",
       "      <td>-4.500000e+00</td>\n",
       "      <td>-5.000000e-01</td>\n",
       "      <td>-8.000000e+01</td>\n",
       "      <td>-1.500000e+01</td>\n",
       "      <td>-3.000000e-01</td>\n",
       "      <td>-1.608000e+02</td>\n",
       "    </tr>\n",
       "    <tr>\n",
       "      <th>25%</th>\n",
       "      <td>1.000000e+00</td>\n",
       "      <td>9.700000e-01</td>\n",
       "      <td>6.500000e+00</td>\n",
       "      <td>0.000000e+00</td>\n",
       "      <td>5.000000e-01</td>\n",
       "      <td>0.000000e+00</td>\n",
       "      <td>0.000000e+00</td>\n",
       "      <td>3.000000e-01</td>\n",
       "      <td>8.500000e+00</td>\n",
       "    </tr>\n",
       "    <tr>\n",
       "      <th>50%</th>\n",
       "      <td>1.000000e+00</td>\n",
       "      <td>1.600000e+00</td>\n",
       "      <td>9.500000e+00</td>\n",
       "      <td>0.000000e+00</td>\n",
       "      <td>5.000000e-01</td>\n",
       "      <td>1.400000e+00</td>\n",
       "      <td>0.000000e+00</td>\n",
       "      <td>3.000000e-01</td>\n",
       "      <td>1.180000e+01</td>\n",
       "    </tr>\n",
       "    <tr>\n",
       "      <th>75%</th>\n",
       "      <td>2.000000e+00</td>\n",
       "      <td>3.000000e+00</td>\n",
       "      <td>1.450000e+01</td>\n",
       "      <td>5.000000e-01</td>\n",
       "      <td>5.000000e-01</td>\n",
       "      <td>2.450000e+00</td>\n",
       "      <td>0.000000e+00</td>\n",
       "      <td>3.000000e-01</td>\n",
       "      <td>1.776000e+01</td>\n",
       "    </tr>\n",
       "    <tr>\n",
       "      <th>max</th>\n",
       "      <td>8.000000e+00</td>\n",
       "      <td>3.808300e+02</td>\n",
       "      <td>7.011500e+03</td>\n",
       "      <td>1.790000e+01</td>\n",
       "      <td>8.700000e-01</td>\n",
       "      <td>2.100000e+02</td>\n",
       "      <td>7.676600e+02</td>\n",
       "      <td>3.000000e-01</td>\n",
       "      <td>7.012800e+03</td>\n",
       "    </tr>\n",
       "  </tbody>\n",
       "</table>\n",
       "</div>"
      ],
      "text/plain": [
       "       passenger_count  trip_distance   fare_amount         extra  \\\n",
       "count     1.643539e+06   1.643539e+06  1.643539e+06  1.643539e+06   \n",
       "mean      1.602218e+00   2.907798e+00  1.283130e+01  3.313339e-01   \n",
       "std       1.247471e+00   3.697920e+00  1.251826e+01  4.627568e-01   \n",
       "min       0.000000e+00   0.000000e+00 -1.600000e+02 -4.500000e+00   \n",
       "25%       1.000000e+00   9.700000e-01  6.500000e+00  0.000000e+00   \n",
       "50%       1.000000e+00   1.600000e+00  9.500000e+00  0.000000e+00   \n",
       "75%       2.000000e+00   3.000000e+00  1.450000e+01  5.000000e-01   \n",
       "max       8.000000e+00   3.808300e+02  7.011500e+03  1.790000e+01   \n",
       "\n",
       "            mta_tax    tip_amount  tolls_amount  improvement_surcharge  \\\n",
       "count  1.643539e+06  1.643539e+06  1.643539e+06           1.643539e+06   \n",
       "mean   4.977158e-01  1.854000e+00  3.356426e-01           2.995652e-01   \n",
       "std    3.804835e-02  2.470432e+00  1.742505e+00           1.563230e-02   \n",
       "min   -5.000000e-01 -8.000000e+01 -1.500000e+01          -3.000000e-01   \n",
       "25%    5.000000e-01  0.000000e+00  0.000000e+00           3.000000e-01   \n",
       "50%    5.000000e-01  1.400000e+00  0.000000e+00           3.000000e-01   \n",
       "75%    5.000000e-01  2.450000e+00  0.000000e+00           3.000000e-01   \n",
       "max    8.700000e-01  2.100000e+02  7.676600e+02           3.000000e-01   \n",
       "\n",
       "       total_amount  \n",
       "count  1.643539e+06  \n",
       "mean   1.615335e+01  \n",
       "std    1.491245e+01  \n",
       "min   -1.608000e+02  \n",
       "25%    8.500000e+00  \n",
       "50%    1.180000e+01  \n",
       "75%    1.776000e+01  \n",
       "max    7.012800e+03  "
      ]
     },
     "execution_count": 40,
     "metadata": {},
     "output_type": "execute_result"
    }
   ],
   "source": [
    "df_muestra.describe()"
   ]
  },
  {
   "cell_type": "markdown",
   "metadata": {},
   "source": [
    "Vemos que tenemos valores con 0 y negativos en la cuestion financierea, entonces veamos que tan coveniente es eliminarlos"
   ]
  },
  {
   "cell_type": "code",
   "execution_count": 64,
   "metadata": {
    "ExecuteTime": {
     "end_time": "2021-01-13T05:01:09.230465Z",
     "start_time": "2021-01-13T05:01:08.869745Z"
    }
   },
   "outputs": [
    {
     "data": {
      "text/plain": [
       "((1643539, 21), (1642363, 21))"
      ]
     },
     "execution_count": 64,
     "metadata": {},
     "output_type": "execute_result"
    }
   ],
   "source": [
    "df_muestra.shape,df_muestra.drop(df_muestra[df_muestra['total_amount']<=0].index,axis=0).shape"
   ]
  },
  {
   "cell_type": "markdown",
   "metadata": {},
   "source": [
    "Vemos que los podemos quitar puesto que no respresentan muchos datos"
   ]
  },
  {
   "cell_type": "code",
   "execution_count": 69,
   "metadata": {
    "ExecuteTime": {
     "end_time": "2021-01-13T05:03:58.716795Z",
     "start_time": "2021-01-13T05:03:58.130635Z"
    }
   },
   "outputs": [],
   "source": [
    "df_muestra=df_muestra.drop(df_muestra[df_muestra['total_amount'] <= 0].index,\n",
    "                axis=0).reset_index(drop=True)"
   ]
  },
  {
   "cell_type": "markdown",
   "metadata": {},
   "source": [
    "Veamos que pasa con lo mismo con los viajes con distacia negativa y cero , asi que veamos cuanto representa eso para ver si los borramos "
   ]
  },
  {
   "cell_type": "code",
   "execution_count": 72,
   "metadata": {
    "ExecuteTime": {
     "end_time": "2021-01-13T05:05:58.484309Z",
     "start_time": "2021-01-13T05:05:58.452138Z"
    }
   },
   "outputs": [
    {
     "data": {
      "text/plain": [
       "0.0047997915199015076"
      ]
     },
     "execution_count": 72,
     "metadata": {},
     "output_type": "execute_result"
    }
   ],
   "source": [
    "df_muestra[df_muestra['trip_distance']<=0].shape[0]/df_muestra.shape[0]"
   ]
  },
  {
   "cell_type": "markdown",
   "metadata": {},
   "source": [
    "Vemos que no nos representan nada de los datos, asi que que los podemos eliminar "
   ]
  },
  {
   "cell_type": "code",
   "execution_count": 73,
   "metadata": {
    "ExecuteTime": {
     "end_time": "2021-01-13T05:07:05.566853Z",
     "start_time": "2021-01-13T05:07:04.918546Z"
    }
   },
   "outputs": [],
   "source": [
    "df_muestra=df_muestra.drop(df_muestra[df_muestra['trip_distance'] <= 0].index,\n",
    "                axis=0).reset_index(drop=True)"
   ]
  },
  {
   "cell_type": "code",
   "execution_count": 75,
   "metadata": {
    "ExecuteTime": {
     "end_time": "2021-01-13T05:07:14.790242Z",
     "start_time": "2021-01-13T05:07:13.871129Z"
    }
   },
   "outputs": [
    {
     "data": {
      "text/html": [
       "<div>\n",
       "<style scoped>\n",
       "    .dataframe tbody tr th:only-of-type {\n",
       "        vertical-align: middle;\n",
       "    }\n",
       "\n",
       "    .dataframe tbody tr th {\n",
       "        vertical-align: top;\n",
       "    }\n",
       "\n",
       "    .dataframe thead th {\n",
       "        text-align: right;\n",
       "    }\n",
       "</style>\n",
       "<table border=\"1\" class=\"dataframe\">\n",
       "  <thead>\n",
       "    <tr style=\"text-align: right;\">\n",
       "      <th></th>\n",
       "      <th>passenger_count</th>\n",
       "      <th>trip_distance</th>\n",
       "      <th>fare_amount</th>\n",
       "      <th>extra</th>\n",
       "      <th>mta_tax</th>\n",
       "      <th>tip_amount</th>\n",
       "      <th>tolls_amount</th>\n",
       "      <th>improvement_surcharge</th>\n",
       "      <th>total_amount</th>\n",
       "    </tr>\n",
       "  </thead>\n",
       "  <tbody>\n",
       "    <tr>\n",
       "      <th>count</th>\n",
       "      <td>1.634480e+06</td>\n",
       "      <td>1.634480e+06</td>\n",
       "      <td>1.634480e+06</td>\n",
       "      <td>1.634480e+06</td>\n",
       "      <td>1.634480e+06</td>\n",
       "      <td>1.634480e+06</td>\n",
       "      <td>1.634480e+06</td>\n",
       "      <td>1.634480e+06</td>\n",
       "      <td>1.634480e+06</td>\n",
       "    </tr>\n",
       "    <tr>\n",
       "      <th>mean</th>\n",
       "      <td>1.603389e+00</td>\n",
       "      <td>2.923550e+00</td>\n",
       "      <td>1.281220e+01</td>\n",
       "      <td>3.318700e-01</td>\n",
       "      <td>4.987521e-01</td>\n",
       "      <td>1.850677e+00</td>\n",
       "      <td>3.342323e-01</td>\n",
       "      <td>2.999829e-01</td>\n",
       "      <td>1.613150e+01</td>\n",
       "    </tr>\n",
       "    <tr>\n",
       "      <th>std</th>\n",
       "      <td>1.248539e+00</td>\n",
       "      <td>3.701847e+00</td>\n",
       "      <td>1.235774e+01</td>\n",
       "      <td>4.602604e-01</td>\n",
       "      <td>2.495153e-02</td>\n",
       "      <td>2.434375e+00</td>\n",
       "      <td>1.740650e+00</td>\n",
       "      <td>2.262876e-03</td>\n",
       "      <td>1.473696e+01</td>\n",
       "    </tr>\n",
       "    <tr>\n",
       "      <th>min</th>\n",
       "      <td>0.000000e+00</td>\n",
       "      <td>1.000000e-02</td>\n",
       "      <td>0.000000e+00</td>\n",
       "      <td>-5.000000e-01</td>\n",
       "      <td>0.000000e+00</td>\n",
       "      <td>0.000000e+00</td>\n",
       "      <td>0.000000e+00</td>\n",
       "      <td>0.000000e+00</td>\n",
       "      <td>3.000000e-01</td>\n",
       "    </tr>\n",
       "    <tr>\n",
       "      <th>25%</th>\n",
       "      <td>1.000000e+00</td>\n",
       "      <td>9.800000e-01</td>\n",
       "      <td>6.500000e+00</td>\n",
       "      <td>0.000000e+00</td>\n",
       "      <td>5.000000e-01</td>\n",
       "      <td>0.000000e+00</td>\n",
       "      <td>0.000000e+00</td>\n",
       "      <td>3.000000e-01</td>\n",
       "      <td>8.550000e+00</td>\n",
       "    </tr>\n",
       "    <tr>\n",
       "      <th>50%</th>\n",
       "      <td>1.000000e+00</td>\n",
       "      <td>1.610000e+00</td>\n",
       "      <td>9.500000e+00</td>\n",
       "      <td>0.000000e+00</td>\n",
       "      <td>5.000000e-01</td>\n",
       "      <td>1.430000e+00</td>\n",
       "      <td>0.000000e+00</td>\n",
       "      <td>3.000000e-01</td>\n",
       "      <td>1.180000e+01</td>\n",
       "    </tr>\n",
       "    <tr>\n",
       "      <th>75%</th>\n",
       "      <td>2.000000e+00</td>\n",
       "      <td>3.000000e+00</td>\n",
       "      <td>1.450000e+01</td>\n",
       "      <td>5.000000e-01</td>\n",
       "      <td>5.000000e-01</td>\n",
       "      <td>2.450000e+00</td>\n",
       "      <td>0.000000e+00</td>\n",
       "      <td>3.000000e-01</td>\n",
       "      <td>1.776000e+01</td>\n",
       "    </tr>\n",
       "    <tr>\n",
       "      <th>max</th>\n",
       "      <td>7.000000e+00</td>\n",
       "      <td>3.808300e+02</td>\n",
       "      <td>7.011500e+03</td>\n",
       "      <td>1.790000e+01</td>\n",
       "      <td>8.700000e-01</td>\n",
       "      <td>2.100000e+02</td>\n",
       "      <td>7.676600e+02</td>\n",
       "      <td>3.000000e-01</td>\n",
       "      <td>7.012800e+03</td>\n",
       "    </tr>\n",
       "  </tbody>\n",
       "</table>\n",
       "</div>"
      ],
      "text/plain": [
       "       passenger_count  trip_distance   fare_amount         extra  \\\n",
       "count     1.634480e+06   1.634480e+06  1.634480e+06  1.634480e+06   \n",
       "mean      1.603389e+00   2.923550e+00  1.281220e+01  3.318700e-01   \n",
       "std       1.248539e+00   3.701847e+00  1.235774e+01  4.602604e-01   \n",
       "min       0.000000e+00   1.000000e-02  0.000000e+00 -5.000000e-01   \n",
       "25%       1.000000e+00   9.800000e-01  6.500000e+00  0.000000e+00   \n",
       "50%       1.000000e+00   1.610000e+00  9.500000e+00  0.000000e+00   \n",
       "75%       2.000000e+00   3.000000e+00  1.450000e+01  5.000000e-01   \n",
       "max       7.000000e+00   3.808300e+02  7.011500e+03  1.790000e+01   \n",
       "\n",
       "            mta_tax    tip_amount  tolls_amount  improvement_surcharge  \\\n",
       "count  1.634480e+06  1.634480e+06  1.634480e+06           1.634480e+06   \n",
       "mean   4.987521e-01  1.850677e+00  3.342323e-01           2.999829e-01   \n",
       "std    2.495153e-02  2.434375e+00  1.740650e+00           2.262876e-03   \n",
       "min    0.000000e+00  0.000000e+00  0.000000e+00           0.000000e+00   \n",
       "25%    5.000000e-01  0.000000e+00  0.000000e+00           3.000000e-01   \n",
       "50%    5.000000e-01  1.430000e+00  0.000000e+00           3.000000e-01   \n",
       "75%    5.000000e-01  2.450000e+00  0.000000e+00           3.000000e-01   \n",
       "max    8.700000e-01  2.100000e+02  7.676600e+02           3.000000e-01   \n",
       "\n",
       "       total_amount  \n",
       "count  1.634480e+06  \n",
       "mean   1.613150e+01  \n",
       "std    1.473696e+01  \n",
       "min    3.000000e-01  \n",
       "25%    8.550000e+00  \n",
       "50%    1.180000e+01  \n",
       "75%    1.776000e+01  \n",
       "max    7.012800e+03  "
      ]
     },
     "execution_count": 75,
     "metadata": {},
     "output_type": "execute_result"
    }
   ],
   "source": [
    "df_muestra.describe()"
   ]
  },
  {
   "cell_type": "markdown",
   "metadata": {},
   "source": [
    "Vemos que aun conservamos un valor negativo en extra , asi que lo borramos esos negativos, pues ahi si podemos tener 0 y ya vimos que los valores negativos no representan nuestros datos "
   ]
  },
  {
   "cell_type": "code",
   "execution_count": 76,
   "metadata": {
    "ExecuteTime": {
     "end_time": "2021-01-13T05:15:26.154701Z",
     "start_time": "2021-01-13T05:15:25.463286Z"
    }
   },
   "outputs": [],
   "source": [
    "df_muestra=df_muestra.drop(df_muestra[df_muestra['extra'] < 0].index,\n",
    "                axis=0).reset_index(drop=True)"
   ]
  },
  {
   "cell_type": "markdown",
   "metadata": {},
   "source": [
    "## Acomodamiento de los datos "
   ]
  },
  {
   "cell_type": "markdown",
   "metadata": {},
   "source": [
    "Ponemos los valores constantes correspondientes, en este caso son los impuestos y el cargo extra"
   ]
  },
  {
   "cell_type": "code",
   "execution_count": 78,
   "metadata": {
    "ExecuteTime": {
     "end_time": "2021-01-13T05:20:25.724307Z",
     "start_time": "2021-01-13T05:20:24.578040Z"
    },
    "code_folding": []
   },
   "outputs": [],
   "source": [
    "df_muestra['mta_tax'] = df_muestra['mta_tax'].map(\n",
    "    lambda x: x if x == 0.5 else (0 if x == 0 else 0.5) )\n",
    "df_muestra['improvement_surcharge'] = df_muestra['improvement_surcharge'].map(\n",
    "    lambda x: x if x == 0.3 else (0 if x == 0 else 0.3))"
   ]
  },
  {
   "cell_type": "markdown",
   "metadata": {},
   "source": [
    "Ahora pongamos los valores correctos del total, lo que vendria siendo la suma total de los pagos "
   ]
  },
  {
   "cell_type": "code",
   "execution_count": 79,
   "metadata": {
    "ExecuteTime": {
     "end_time": "2021-01-13T05:21:47.921028Z",
     "start_time": "2021-01-13T05:21:45.350873Z"
    },
    "code_folding": []
   },
   "outputs": [],
   "source": [
    "pago=['fare_amount','extra','mta_tax','tip_amount',\n",
    "          'tolls_amount','improvement_surcharge']\n",
    "aux=[round(x,2) for x in df_muestra[pago].sum(axis=1)]\n",
    "df_muestra['total_amount']=aux \n",
    "    "
   ]
  },
  {
   "cell_type": "code",
   "execution_count": 80,
   "metadata": {
    "ExecuteTime": {
     "end_time": "2021-01-13T05:21:53.589440Z",
     "start_time": "2021-01-13T05:21:52.511041Z"
    }
   },
   "outputs": [
    {
     "data": {
      "text/html": [
       "<div>\n",
       "<style scoped>\n",
       "    .dataframe tbody tr th:only-of-type {\n",
       "        vertical-align: middle;\n",
       "    }\n",
       "\n",
       "    .dataframe tbody tr th {\n",
       "        vertical-align: top;\n",
       "    }\n",
       "\n",
       "    .dataframe thead th {\n",
       "        text-align: right;\n",
       "    }\n",
       "</style>\n",
       "<table border=\"1\" class=\"dataframe\">\n",
       "  <thead>\n",
       "    <tr style=\"text-align: right;\">\n",
       "      <th></th>\n",
       "      <th>passenger_count</th>\n",
       "      <th>trip_distance</th>\n",
       "      <th>fare_amount</th>\n",
       "      <th>extra</th>\n",
       "      <th>mta_tax</th>\n",
       "      <th>tip_amount</th>\n",
       "      <th>tolls_amount</th>\n",
       "      <th>improvement_surcharge</th>\n",
       "      <th>total_amount</th>\n",
       "    </tr>\n",
       "  </thead>\n",
       "  <tbody>\n",
       "    <tr>\n",
       "      <th>count</th>\n",
       "      <td>1.634479e+06</td>\n",
       "      <td>1.634479e+06</td>\n",
       "      <td>1.634479e+06</td>\n",
       "      <td>1.634479e+06</td>\n",
       "      <td>1.634479e+06</td>\n",
       "      <td>1.634479e+06</td>\n",
       "      <td>1.634479e+06</td>\n",
       "      <td>1.634479e+06</td>\n",
       "      <td>1.634479e+06</td>\n",
       "    </tr>\n",
       "    <tr>\n",
       "      <th>mean</th>\n",
       "      <td>1.603389e+00</td>\n",
       "      <td>2.923552e+00</td>\n",
       "      <td>1.281220e+01</td>\n",
       "      <td>3.318705e-01</td>\n",
       "      <td>4.987519e-01</td>\n",
       "      <td>1.850678e+00</td>\n",
       "      <td>3.342325e-01</td>\n",
       "      <td>2.999829e-01</td>\n",
       "      <td>1.612772e+01</td>\n",
       "    </tr>\n",
       "    <tr>\n",
       "      <th>std</th>\n",
       "      <td>1.248540e+00</td>\n",
       "      <td>3.701848e+00</td>\n",
       "      <td>1.235775e+01</td>\n",
       "      <td>4.602601e-01</td>\n",
       "      <td>2.494984e-02</td>\n",
       "      <td>2.434376e+00</td>\n",
       "      <td>1.740650e+00</td>\n",
       "      <td>2.262876e-03</td>\n",
       "      <td>1.473521e+01</td>\n",
       "    </tr>\n",
       "    <tr>\n",
       "      <th>min</th>\n",
       "      <td>0.000000e+00</td>\n",
       "      <td>1.000000e-02</td>\n",
       "      <td>0.000000e+00</td>\n",
       "      <td>0.000000e+00</td>\n",
       "      <td>0.000000e+00</td>\n",
       "      <td>0.000000e+00</td>\n",
       "      <td>0.000000e+00</td>\n",
       "      <td>0.000000e+00</td>\n",
       "      <td>3.000000e-01</td>\n",
       "    </tr>\n",
       "    <tr>\n",
       "      <th>25%</th>\n",
       "      <td>1.000000e+00</td>\n",
       "      <td>9.800000e-01</td>\n",
       "      <td>6.500000e+00</td>\n",
       "      <td>0.000000e+00</td>\n",
       "      <td>5.000000e-01</td>\n",
       "      <td>0.000000e+00</td>\n",
       "      <td>0.000000e+00</td>\n",
       "      <td>3.000000e-01</td>\n",
       "      <td>8.550000e+00</td>\n",
       "    </tr>\n",
       "    <tr>\n",
       "      <th>50%</th>\n",
       "      <td>1.000000e+00</td>\n",
       "      <td>1.610000e+00</td>\n",
       "      <td>9.500000e+00</td>\n",
       "      <td>0.000000e+00</td>\n",
       "      <td>5.000000e-01</td>\n",
       "      <td>1.430000e+00</td>\n",
       "      <td>0.000000e+00</td>\n",
       "      <td>3.000000e-01</td>\n",
       "      <td>1.180000e+01</td>\n",
       "    </tr>\n",
       "    <tr>\n",
       "      <th>75%</th>\n",
       "      <td>2.000000e+00</td>\n",
       "      <td>3.000000e+00</td>\n",
       "      <td>1.450000e+01</td>\n",
       "      <td>5.000000e-01</td>\n",
       "      <td>5.000000e-01</td>\n",
       "      <td>2.450000e+00</td>\n",
       "      <td>0.000000e+00</td>\n",
       "      <td>3.000000e-01</td>\n",
       "      <td>1.776000e+01</td>\n",
       "    </tr>\n",
       "    <tr>\n",
       "      <th>max</th>\n",
       "      <td>7.000000e+00</td>\n",
       "      <td>3.808300e+02</td>\n",
       "      <td>7.011500e+03</td>\n",
       "      <td>1.790000e+01</td>\n",
       "      <td>5.000000e-01</td>\n",
       "      <td>2.100000e+02</td>\n",
       "      <td>7.676600e+02</td>\n",
       "      <td>3.000000e-01</td>\n",
       "      <td>7.012800e+03</td>\n",
       "    </tr>\n",
       "  </tbody>\n",
       "</table>\n",
       "</div>"
      ],
      "text/plain": [
       "       passenger_count  trip_distance   fare_amount         extra  \\\n",
       "count     1.634479e+06   1.634479e+06  1.634479e+06  1.634479e+06   \n",
       "mean      1.603389e+00   2.923552e+00  1.281220e+01  3.318705e-01   \n",
       "std       1.248540e+00   3.701848e+00  1.235775e+01  4.602601e-01   \n",
       "min       0.000000e+00   1.000000e-02  0.000000e+00  0.000000e+00   \n",
       "25%       1.000000e+00   9.800000e-01  6.500000e+00  0.000000e+00   \n",
       "50%       1.000000e+00   1.610000e+00  9.500000e+00  0.000000e+00   \n",
       "75%       2.000000e+00   3.000000e+00  1.450000e+01  5.000000e-01   \n",
       "max       7.000000e+00   3.808300e+02  7.011500e+03  1.790000e+01   \n",
       "\n",
       "            mta_tax    tip_amount  tolls_amount  improvement_surcharge  \\\n",
       "count  1.634479e+06  1.634479e+06  1.634479e+06           1.634479e+06   \n",
       "mean   4.987519e-01  1.850678e+00  3.342325e-01           2.999829e-01   \n",
       "std    2.494984e-02  2.434376e+00  1.740650e+00           2.262876e-03   \n",
       "min    0.000000e+00  0.000000e+00  0.000000e+00           0.000000e+00   \n",
       "25%    5.000000e-01  0.000000e+00  0.000000e+00           3.000000e-01   \n",
       "50%    5.000000e-01  1.430000e+00  0.000000e+00           3.000000e-01   \n",
       "75%    5.000000e-01  2.450000e+00  0.000000e+00           3.000000e-01   \n",
       "max    5.000000e-01  2.100000e+02  7.676600e+02           3.000000e-01   \n",
       "\n",
       "       total_amount  \n",
       "count  1.634479e+06  \n",
       "mean   1.612772e+01  \n",
       "std    1.473521e+01  \n",
       "min    3.000000e-01  \n",
       "25%    8.550000e+00  \n",
       "50%    1.180000e+01  \n",
       "75%    1.776000e+01  \n",
       "max    7.012800e+03  "
      ]
     },
     "execution_count": 80,
     "metadata": {},
     "output_type": "execute_result"
    }
   ],
   "source": [
    "df_muestra.describe()"
   ]
  },
  {
   "cell_type": "markdown",
   "metadata": {},
   "source": [
    "Eliminaremos la columna de Vendor, ya que esa no nos aporta informacion de los viajes "
   ]
  },
  {
   "cell_type": "code",
   "execution_count": 85,
   "metadata": {
    "ExecuteTime": {
     "end_time": "2021-01-13T05:31:11.301261Z",
     "start_time": "2021-01-13T05:31:11.051115Z"
    }
   },
   "outputs": [],
   "source": [
    "df_muestra=df_muestra.drop('VendorID',axis=1)"
   ]
  },
  {
   "cell_type": "code",
   "execution_count": 87,
   "metadata": {
    "ExecuteTime": {
     "end_time": "2021-01-13T05:32:36.345320Z",
     "start_time": "2021-01-13T05:32:36.299003Z"
    }
   },
   "outputs": [
    {
     "data": {
      "text/html": [
       "<div>\n",
       "<style scoped>\n",
       "    .dataframe tbody tr th:only-of-type {\n",
       "        vertical-align: middle;\n",
       "    }\n",
       "\n",
       "    .dataframe tbody tr th {\n",
       "        vertical-align: top;\n",
       "    }\n",
       "\n",
       "    .dataframe thead th {\n",
       "        text-align: right;\n",
       "    }\n",
       "</style>\n",
       "<table border=\"1\" class=\"dataframe\">\n",
       "  <thead>\n",
       "    <tr style=\"text-align: right;\">\n",
       "      <th></th>\n",
       "      <th>tpep_pickup_datetime</th>\n",
       "      <th>tpep_dropoff_datetime</th>\n",
       "      <th>passenger_count</th>\n",
       "      <th>trip_distance</th>\n",
       "      <th>fare_amount</th>\n",
       "      <th>extra</th>\n",
       "      <th>mta_tax</th>\n",
       "      <th>tip_amount</th>\n",
       "      <th>tolls_amount</th>\n",
       "      <th>improvement_surcharge</th>\n",
       "      <th>total_amount</th>\n",
       "      <th>RatecodeID</th>\n",
       "      <th>store_and_fwd_flag</th>\n",
       "      <th>payment_type</th>\n",
       "      <th>PUBorough</th>\n",
       "      <th>PUZone</th>\n",
       "      <th>PUservice_zone</th>\n",
       "      <th>DOBorough</th>\n",
       "      <th>DOZone</th>\n",
       "      <th>DOservice_zone</th>\n",
       "    </tr>\n",
       "  </thead>\n",
       "  <tbody>\n",
       "    <tr>\n",
       "      <th>0</th>\n",
       "      <td>2018-11-06 12:42:24</td>\n",
       "      <td>2018-11-06 12:54:49</td>\n",
       "      <td>1</td>\n",
       "      <td>0.87</td>\n",
       "      <td>9.0</td>\n",
       "      <td>0.0</td>\n",
       "      <td>0.5</td>\n",
       "      <td>0.00</td>\n",
       "      <td>0.00</td>\n",
       "      <td>0.3</td>\n",
       "      <td>9.80</td>\n",
       "      <td>Standard rate</td>\n",
       "      <td>not a store and forward trip</td>\n",
       "      <td>Cash</td>\n",
       "      <td>Manhattan</td>\n",
       "      <td>Sutton Place/Turtle Bay North</td>\n",
       "      <td>Yellow Zone</td>\n",
       "      <td>Manhattan</td>\n",
       "      <td>Upper East Side South</td>\n",
       "      <td>Yellow Zone</td>\n",
       "    </tr>\n",
       "    <tr>\n",
       "      <th>1</th>\n",
       "      <td>2018-02-16 19:19:59</td>\n",
       "      <td>2018-02-16 19:26:41</td>\n",
       "      <td>0</td>\n",
       "      <td>1.50</td>\n",
       "      <td>7.0</td>\n",
       "      <td>1.0</td>\n",
       "      <td>0.5</td>\n",
       "      <td>1.32</td>\n",
       "      <td>0.00</td>\n",
       "      <td>0.3</td>\n",
       "      <td>10.12</td>\n",
       "      <td>Standard rate</td>\n",
       "      <td>not a store and forward trip</td>\n",
       "      <td>Credit card</td>\n",
       "      <td>Manhattan</td>\n",
       "      <td>Clinton East</td>\n",
       "      <td>Yellow Zone</td>\n",
       "      <td>Manhattan</td>\n",
       "      <td>Meatpacking/West Village West</td>\n",
       "      <td>Yellow Zone</td>\n",
       "    </tr>\n",
       "    <tr>\n",
       "      <th>2</th>\n",
       "      <td>2018-02-12 16:50:01</td>\n",
       "      <td>2018-02-12 17:43:55</td>\n",
       "      <td>3</td>\n",
       "      <td>22.60</td>\n",
       "      <td>52.0</td>\n",
       "      <td>0.0</td>\n",
       "      <td>0.5</td>\n",
       "      <td>0.00</td>\n",
       "      <td>5.76</td>\n",
       "      <td>0.3</td>\n",
       "      <td>58.56</td>\n",
       "      <td>JFK</td>\n",
       "      <td>not a store and forward trip</td>\n",
       "      <td>Cash</td>\n",
       "      <td>Queens</td>\n",
       "      <td>JFK Airport</td>\n",
       "      <td>Airports</td>\n",
       "      <td>Manhattan</td>\n",
       "      <td>Clinton East</td>\n",
       "      <td>Yellow Zone</td>\n",
       "    </tr>\n",
       "    <tr>\n",
       "      <th>3</th>\n",
       "      <td>2018-03-28 19:58:44</td>\n",
       "      <td>2018-03-28 20:07:14</td>\n",
       "      <td>1</td>\n",
       "      <td>1.61</td>\n",
       "      <td>8.0</td>\n",
       "      <td>1.0</td>\n",
       "      <td>0.5</td>\n",
       "      <td>1.00</td>\n",
       "      <td>0.00</td>\n",
       "      <td>0.3</td>\n",
       "      <td>10.80</td>\n",
       "      <td>Standard rate</td>\n",
       "      <td>not a store and forward trip</td>\n",
       "      <td>Credit card</td>\n",
       "      <td>Manhattan</td>\n",
       "      <td>East Chelsea</td>\n",
       "      <td>Yellow Zone</td>\n",
       "      <td>Manhattan</td>\n",
       "      <td>SoHo</td>\n",
       "      <td>Yellow Zone</td>\n",
       "    </tr>\n",
       "    <tr>\n",
       "      <th>4</th>\n",
       "      <td>2018-11-02 06:34:49</td>\n",
       "      <td>2018-11-02 06:50:07</td>\n",
       "      <td>1</td>\n",
       "      <td>2.70</td>\n",
       "      <td>12.5</td>\n",
       "      <td>0.0</td>\n",
       "      <td>0.5</td>\n",
       "      <td>2.65</td>\n",
       "      <td>0.00</td>\n",
       "      <td>0.3</td>\n",
       "      <td>15.95</td>\n",
       "      <td>Standard rate</td>\n",
       "      <td>not a store and forward trip</td>\n",
       "      <td>Credit card</td>\n",
       "      <td>Manhattan</td>\n",
       "      <td>East Village</td>\n",
       "      <td>Yellow Zone</td>\n",
       "      <td>Manhattan</td>\n",
       "      <td>Times Sq/Theatre District</td>\n",
       "      <td>Yellow Zone</td>\n",
       "    </tr>\n",
       "  </tbody>\n",
       "</table>\n",
       "</div>"
      ],
      "text/plain": [
       "  tpep_pickup_datetime tpep_dropoff_datetime  passenger_count  trip_distance  \\\n",
       "0  2018-11-06 12:42:24   2018-11-06 12:54:49                1           0.87   \n",
       "1  2018-02-16 19:19:59   2018-02-16 19:26:41                0           1.50   \n",
       "2  2018-02-12 16:50:01   2018-02-12 17:43:55                3          22.60   \n",
       "3  2018-03-28 19:58:44   2018-03-28 20:07:14                1           1.61   \n",
       "4  2018-11-02 06:34:49   2018-11-02 06:50:07                1           2.70   \n",
       "\n",
       "   fare_amount  extra  mta_tax  tip_amount  tolls_amount  \\\n",
       "0          9.0    0.0      0.5        0.00          0.00   \n",
       "1          7.0    1.0      0.5        1.32          0.00   \n",
       "2         52.0    0.0      0.5        0.00          5.76   \n",
       "3          8.0    1.0      0.5        1.00          0.00   \n",
       "4         12.5    0.0      0.5        2.65          0.00   \n",
       "\n",
       "   improvement_surcharge  total_amount     RatecodeID  \\\n",
       "0                    0.3          9.80  Standard rate   \n",
       "1                    0.3         10.12  Standard rate   \n",
       "2                    0.3         58.56            JFK   \n",
       "3                    0.3         10.80  Standard rate   \n",
       "4                    0.3         15.95  Standard rate   \n",
       "\n",
       "             store_and_fwd_flag payment_type  PUBorough  \\\n",
       "0  not a store and forward trip         Cash  Manhattan   \n",
       "1  not a store and forward trip  Credit card  Manhattan   \n",
       "2  not a store and forward trip         Cash     Queens   \n",
       "3  not a store and forward trip  Credit card  Manhattan   \n",
       "4  not a store and forward trip  Credit card  Manhattan   \n",
       "\n",
       "                          PUZone PUservice_zone  DOBorough  \\\n",
       "0  Sutton Place/Turtle Bay North    Yellow Zone  Manhattan   \n",
       "1                   Clinton East    Yellow Zone  Manhattan   \n",
       "2                    JFK Airport       Airports  Manhattan   \n",
       "3                   East Chelsea    Yellow Zone  Manhattan   \n",
       "4                   East Village    Yellow Zone  Manhattan   \n",
       "\n",
       "                          DOZone DOservice_zone  \n",
       "0          Upper East Side South    Yellow Zone  \n",
       "1  Meatpacking/West Village West    Yellow Zone  \n",
       "2                   Clinton East    Yellow Zone  \n",
       "3                           SoHo    Yellow Zone  \n",
       "4      Times Sq/Theatre District    Yellow Zone  "
      ]
     },
     "execution_count": 87,
     "metadata": {},
     "output_type": "execute_result"
    }
   ],
   "source": [
    "df_muestra.head()"
   ]
  },
  {
   "cell_type": "markdown",
   "metadata": {},
   "source": [
    "#  Conexion a sql "
   ]
  },
  {
   "cell_type": "code",
   "execution_count": 88,
   "metadata": {
    "ExecuteTime": {
     "end_time": "2021-01-13T05:32:41.021351Z",
     "start_time": "2021-01-13T05:32:41.008280Z"
    }
   },
   "outputs": [],
   "source": [
    "credenciales = js.load(open('cred.json','rb'))"
   ]
  },
  {
   "cell_type": "code",
   "execution_count": 89,
   "metadata": {
    "ExecuteTime": {
     "end_time": "2021-01-13T05:32:43.651536Z",
     "start_time": "2021-01-13T05:32:43.632733Z"
    }
   },
   "outputs": [],
   "source": [
    "usuario = credenciales['user']\n",
    "pwd = credenciales['pwd']\n",
    "host = credenciales['host']\n",
    "port = credenciales['port']\n",
    "db = credenciales['db']"
   ]
  },
  {
   "cell_type": "code",
   "execution_count": 90,
   "metadata": {
    "ExecuteTime": {
     "end_time": "2021-01-13T05:32:51.249844Z",
     "start_time": "2021-01-13T05:32:51.229268Z"
    }
   },
   "outputs": [],
   "source": [
    "engine = create_engine(f'mysql+pymysql://{usuario}:{pwd}@{host}:{port}/{db}').connect()"
   ]
  },
  {
   "cell_type": "markdown",
   "metadata": {},
   "source": [
    "# E-R \n"
   ]
  },
  {
   "cell_type": "markdown",
   "metadata": {
    "ExecuteTime": {
     "end_time": "2020-12-27T19:13:19.036481Z",
     "start_time": "2020-12-27T19:13:19.011102Z"
    }
   },
   "source": [
    "## Entidad Retecode"
   ]
  },
  {
   "cell_type": "code",
   "execution_count": 91,
   "metadata": {
    "ExecuteTime": {
     "end_time": "2021-01-13T05:34:10.751020Z",
     "start_time": "2021-01-13T05:34:10.456962Z"
    },
    "code_folding": []
   },
   "outputs": [],
   "source": [
    "ent_rate=df_muestra[['RatecodeID']].copy().drop_duplicates().dropna().reset_index(drop=True).rename(\n",
    "    columns={'RatecodeID': 'Retacode_code'})\n",
    "ent_rate.insert(0,'ID', ent_rate.index+1)\n",
    "ent_rate.to_sql(con=engine,\n",
    "                name='Ratecode',\n",
    "                if_exists='replace',\n",
    "                index=False)"
   ]
  },
  {
   "cell_type": "code",
   "execution_count": 92,
   "metadata": {
    "ExecuteTime": {
     "end_time": "2021-01-13T05:34:19.573335Z",
     "start_time": "2021-01-13T05:34:19.559999Z"
    }
   },
   "outputs": [],
   "source": [
    "ent_rate.to_csv('Ratecode.csv',index=False)"
   ]
  },
  {
   "cell_type": "markdown",
   "metadata": {
    "ExecuteTime": {
     "end_time": "2020-12-27T19:15:23.542991Z",
     "start_time": "2020-12-27T19:15:23.520523Z"
    }
   },
   "source": [
    "## Entidad  pago"
   ]
  },
  {
   "cell_type": "code",
   "execution_count": 93,
   "metadata": {
    "ExecuteTime": {
     "end_time": "2021-01-13T05:34:54.797880Z",
     "start_time": "2021-01-13T05:34:54.544321Z"
    }
   },
   "outputs": [],
   "source": [
    "ent_p = df_muestra[['payment_type']].drop_duplicates().reset_index(drop=True).rename(\n",
    "    columns={'payment_type': 'payment_type_code'})   \n",
    "ent_p.insert(0,'ID', ent_p.index+1)\n",
    "ent_p.to_sql(con=engine,\n",
    "                name='Pago',\n",
    "               if_exists='replace',\n",
    "               index=False)"
   ]
  },
  {
   "cell_type": "code",
   "execution_count": 94,
   "metadata": {
    "ExecuteTime": {
     "end_time": "2021-01-13T05:34:57.662324Z",
     "start_time": "2021-01-13T05:34:57.653083Z"
    }
   },
   "outputs": [],
   "source": [
    "ent_p.to_csv('Pago.csv',index=False)"
   ]
  },
  {
   "cell_type": "markdown",
   "metadata": {
    "ExecuteTime": {
     "end_time": "2020-12-27T19:43:47.914843Z",
     "start_time": "2020-12-27T19:43:47.897132Z"
    }
   },
   "source": [
    "## Entidad Zona \n",
    "\n",
    "Como ya tenemos el catalogo de la zona en tabla, solamente lo pondremos "
   ]
  },
  {
   "cell_type": "code",
   "execution_count": 95,
   "metadata": {
    "ExecuteTime": {
     "end_time": "2021-01-13T05:35:11.301819Z",
     "start_time": "2021-01-13T05:35:11.238288Z"
    }
   },
   "outputs": [],
   "source": [
    "ent_z = pd.read_csv('taxi+_zone_lookup.csv').rename(columns={'LocationID': 'ID'})\n",
    "ent_z.to_sql(con=engine,\n",
    "                name='Zona',\n",
    "                if_exists='replace',\n",
    "                index=False)"
   ]
  },
  {
   "cell_type": "code",
   "execution_count": 96,
   "metadata": {
    "ExecuteTime": {
     "end_time": "2021-01-13T05:35:13.989460Z",
     "start_time": "2021-01-13T05:35:13.975651Z"
    }
   },
   "outputs": [],
   "source": [
    "ent_z.to_csv('Zona.csv',index=False)"
   ]
  },
  {
   "cell_type": "markdown",
   "metadata": {},
   "source": [
    "## Entidad viaje \n",
    "\n",
    "Eliminaremos las columnas que no nos aporte info "
   ]
  },
  {
   "cell_type": "code",
   "execution_count": 97,
   "metadata": {
    "ExecuteTime": {
     "end_time": "2021-01-13T05:35:54.196313Z",
     "start_time": "2021-01-13T05:35:53.859545Z"
    }
   },
   "outputs": [],
   "source": [
    "df_muestra.drop(['store_and_fwd_flag','passenger_count'],axis=1,inplace=True)"
   ]
  },
  {
   "cell_type": "code",
   "execution_count": 98,
   "metadata": {
    "ExecuteTime": {
     "end_time": "2021-01-13T05:35:56.571051Z",
     "start_time": "2021-01-13T05:35:56.497191Z"
    },
    "scrolled": true
   },
   "outputs": [
    {
     "data": {
      "text/html": [
       "<div>\n",
       "<style scoped>\n",
       "    .dataframe tbody tr th:only-of-type {\n",
       "        vertical-align: middle;\n",
       "    }\n",
       "\n",
       "    .dataframe tbody tr th {\n",
       "        vertical-align: top;\n",
       "    }\n",
       "\n",
       "    .dataframe thead th {\n",
       "        text-align: right;\n",
       "    }\n",
       "</style>\n",
       "<table border=\"1\" class=\"dataframe\">\n",
       "  <thead>\n",
       "    <tr style=\"text-align: right;\">\n",
       "      <th></th>\n",
       "      <th>tpep_pickup_datetime</th>\n",
       "      <th>tpep_dropoff_datetime</th>\n",
       "      <th>trip_distance</th>\n",
       "      <th>fare_amount</th>\n",
       "      <th>extra</th>\n",
       "      <th>mta_tax</th>\n",
       "      <th>tip_amount</th>\n",
       "      <th>tolls_amount</th>\n",
       "      <th>improvement_surcharge</th>\n",
       "      <th>total_amount</th>\n",
       "      <th>RatecodeID</th>\n",
       "      <th>payment_type</th>\n",
       "      <th>PUBorough</th>\n",
       "      <th>PUZone</th>\n",
       "      <th>PUservice_zone</th>\n",
       "      <th>DOBorough</th>\n",
       "      <th>DOZone</th>\n",
       "      <th>DOservice_zone</th>\n",
       "    </tr>\n",
       "  </thead>\n",
       "  <tbody>\n",
       "    <tr>\n",
       "      <th>0</th>\n",
       "      <td>2018-11-06 12:42:24</td>\n",
       "      <td>2018-11-06 12:54:49</td>\n",
       "      <td>0.87</td>\n",
       "      <td>9.0</td>\n",
       "      <td>0.0</td>\n",
       "      <td>0.5</td>\n",
       "      <td>0.00</td>\n",
       "      <td>0.00</td>\n",
       "      <td>0.3</td>\n",
       "      <td>9.80</td>\n",
       "      <td>Standard rate</td>\n",
       "      <td>Cash</td>\n",
       "      <td>Manhattan</td>\n",
       "      <td>Sutton Place/Turtle Bay North</td>\n",
       "      <td>Yellow Zone</td>\n",
       "      <td>Manhattan</td>\n",
       "      <td>Upper East Side South</td>\n",
       "      <td>Yellow Zone</td>\n",
       "    </tr>\n",
       "    <tr>\n",
       "      <th>1</th>\n",
       "      <td>2018-02-16 19:19:59</td>\n",
       "      <td>2018-02-16 19:26:41</td>\n",
       "      <td>1.50</td>\n",
       "      <td>7.0</td>\n",
       "      <td>1.0</td>\n",
       "      <td>0.5</td>\n",
       "      <td>1.32</td>\n",
       "      <td>0.00</td>\n",
       "      <td>0.3</td>\n",
       "      <td>10.12</td>\n",
       "      <td>Standard rate</td>\n",
       "      <td>Credit card</td>\n",
       "      <td>Manhattan</td>\n",
       "      <td>Clinton East</td>\n",
       "      <td>Yellow Zone</td>\n",
       "      <td>Manhattan</td>\n",
       "      <td>Meatpacking/West Village West</td>\n",
       "      <td>Yellow Zone</td>\n",
       "    </tr>\n",
       "    <tr>\n",
       "      <th>2</th>\n",
       "      <td>2018-02-12 16:50:01</td>\n",
       "      <td>2018-02-12 17:43:55</td>\n",
       "      <td>22.60</td>\n",
       "      <td>52.0</td>\n",
       "      <td>0.0</td>\n",
       "      <td>0.5</td>\n",
       "      <td>0.00</td>\n",
       "      <td>5.76</td>\n",
       "      <td>0.3</td>\n",
       "      <td>58.56</td>\n",
       "      <td>JFK</td>\n",
       "      <td>Cash</td>\n",
       "      <td>Queens</td>\n",
       "      <td>JFK Airport</td>\n",
       "      <td>Airports</td>\n",
       "      <td>Manhattan</td>\n",
       "      <td>Clinton East</td>\n",
       "      <td>Yellow Zone</td>\n",
       "    </tr>\n",
       "    <tr>\n",
       "      <th>3</th>\n",
       "      <td>2018-03-28 19:58:44</td>\n",
       "      <td>2018-03-28 20:07:14</td>\n",
       "      <td>1.61</td>\n",
       "      <td>8.0</td>\n",
       "      <td>1.0</td>\n",
       "      <td>0.5</td>\n",
       "      <td>1.00</td>\n",
       "      <td>0.00</td>\n",
       "      <td>0.3</td>\n",
       "      <td>10.80</td>\n",
       "      <td>Standard rate</td>\n",
       "      <td>Credit card</td>\n",
       "      <td>Manhattan</td>\n",
       "      <td>East Chelsea</td>\n",
       "      <td>Yellow Zone</td>\n",
       "      <td>Manhattan</td>\n",
       "      <td>SoHo</td>\n",
       "      <td>Yellow Zone</td>\n",
       "    </tr>\n",
       "    <tr>\n",
       "      <th>4</th>\n",
       "      <td>2018-11-02 06:34:49</td>\n",
       "      <td>2018-11-02 06:50:07</td>\n",
       "      <td>2.70</td>\n",
       "      <td>12.5</td>\n",
       "      <td>0.0</td>\n",
       "      <td>0.5</td>\n",
       "      <td>2.65</td>\n",
       "      <td>0.00</td>\n",
       "      <td>0.3</td>\n",
       "      <td>15.95</td>\n",
       "      <td>Standard rate</td>\n",
       "      <td>Credit card</td>\n",
       "      <td>Manhattan</td>\n",
       "      <td>East Village</td>\n",
       "      <td>Yellow Zone</td>\n",
       "      <td>Manhattan</td>\n",
       "      <td>Times Sq/Theatre District</td>\n",
       "      <td>Yellow Zone</td>\n",
       "    </tr>\n",
       "  </tbody>\n",
       "</table>\n",
       "</div>"
      ],
      "text/plain": [
       "  tpep_pickup_datetime tpep_dropoff_datetime  trip_distance  fare_amount  \\\n",
       "0  2018-11-06 12:42:24   2018-11-06 12:54:49           0.87          9.0   \n",
       "1  2018-02-16 19:19:59   2018-02-16 19:26:41           1.50          7.0   \n",
       "2  2018-02-12 16:50:01   2018-02-12 17:43:55          22.60         52.0   \n",
       "3  2018-03-28 19:58:44   2018-03-28 20:07:14           1.61          8.0   \n",
       "4  2018-11-02 06:34:49   2018-11-02 06:50:07           2.70         12.5   \n",
       "\n",
       "   extra  mta_tax  tip_amount  tolls_amount  improvement_surcharge  \\\n",
       "0    0.0      0.5        0.00          0.00                    0.3   \n",
       "1    1.0      0.5        1.32          0.00                    0.3   \n",
       "2    0.0      0.5        0.00          5.76                    0.3   \n",
       "3    1.0      0.5        1.00          0.00                    0.3   \n",
       "4    0.0      0.5        2.65          0.00                    0.3   \n",
       "\n",
       "   total_amount     RatecodeID payment_type  PUBorough  \\\n",
       "0          9.80  Standard rate         Cash  Manhattan   \n",
       "1         10.12  Standard rate  Credit card  Manhattan   \n",
       "2         58.56            JFK         Cash     Queens   \n",
       "3         10.80  Standard rate  Credit card  Manhattan   \n",
       "4         15.95  Standard rate  Credit card  Manhattan   \n",
       "\n",
       "                          PUZone PUservice_zone  DOBorough  \\\n",
       "0  Sutton Place/Turtle Bay North    Yellow Zone  Manhattan   \n",
       "1                   Clinton East    Yellow Zone  Manhattan   \n",
       "2                    JFK Airport       Airports  Manhattan   \n",
       "3                   East Chelsea    Yellow Zone  Manhattan   \n",
       "4                   East Village    Yellow Zone  Manhattan   \n",
       "\n",
       "                          DOZone DOservice_zone  \n",
       "0          Upper East Side South    Yellow Zone  \n",
       "1  Meatpacking/West Village West    Yellow Zone  \n",
       "2                   Clinton East    Yellow Zone  \n",
       "3                           SoHo    Yellow Zone  \n",
       "4      Times Sq/Theatre District    Yellow Zone  "
      ]
     },
     "execution_count": 98,
     "metadata": {},
     "output_type": "execute_result"
    }
   ],
   "source": [
    "df_muestra.head()"
   ]
  },
  {
   "cell_type": "code",
   "execution_count": 100,
   "metadata": {
    "ExecuteTime": {
     "end_time": "2021-01-13T05:36:39.752924Z",
     "start_time": "2021-01-13T05:36:38.195264Z"
    }
   },
   "outputs": [],
   "source": [
    "df_muestra=df_muestra.merge(ent_rate,\n",
    "                 left_on='RatecodeID',\n",
    "                 right_on='Retacode_code',\n",
    "                 how='left').drop(['RatecodeID','Retacode_code'], axis=1)\n",
    "df_muestra.rename(columns={'ID':'fk_id_Ratecode'},inplace=True)"
   ]
  },
  {
   "cell_type": "code",
   "execution_count": 101,
   "metadata": {
    "ExecuteTime": {
     "end_time": "2021-01-13T05:36:43.982029Z",
     "start_time": "2021-01-13T05:36:43.948582Z"
    }
   },
   "outputs": [
    {
     "data": {
      "text/html": [
       "<div>\n",
       "<style scoped>\n",
       "    .dataframe tbody tr th:only-of-type {\n",
       "        vertical-align: middle;\n",
       "    }\n",
       "\n",
       "    .dataframe tbody tr th {\n",
       "        vertical-align: top;\n",
       "    }\n",
       "\n",
       "    .dataframe thead th {\n",
       "        text-align: right;\n",
       "    }\n",
       "</style>\n",
       "<table border=\"1\" class=\"dataframe\">\n",
       "  <thead>\n",
       "    <tr style=\"text-align: right;\">\n",
       "      <th></th>\n",
       "      <th>tpep_pickup_datetime</th>\n",
       "      <th>tpep_dropoff_datetime</th>\n",
       "      <th>trip_distance</th>\n",
       "      <th>fare_amount</th>\n",
       "      <th>extra</th>\n",
       "      <th>mta_tax</th>\n",
       "      <th>tip_amount</th>\n",
       "      <th>tolls_amount</th>\n",
       "      <th>improvement_surcharge</th>\n",
       "      <th>total_amount</th>\n",
       "      <th>payment_type</th>\n",
       "      <th>PUBorough</th>\n",
       "      <th>PUZone</th>\n",
       "      <th>PUservice_zone</th>\n",
       "      <th>DOBorough</th>\n",
       "      <th>DOZone</th>\n",
       "      <th>DOservice_zone</th>\n",
       "      <th>fk_id_Ratecode</th>\n",
       "    </tr>\n",
       "  </thead>\n",
       "  <tbody>\n",
       "    <tr>\n",
       "      <th>0</th>\n",
       "      <td>2018-11-06 12:42:24</td>\n",
       "      <td>2018-11-06 12:54:49</td>\n",
       "      <td>0.87</td>\n",
       "      <td>9.0</td>\n",
       "      <td>0.0</td>\n",
       "      <td>0.5</td>\n",
       "      <td>0.00</td>\n",
       "      <td>0.00</td>\n",
       "      <td>0.3</td>\n",
       "      <td>9.80</td>\n",
       "      <td>Cash</td>\n",
       "      <td>Manhattan</td>\n",
       "      <td>Sutton Place/Turtle Bay North</td>\n",
       "      <td>Yellow Zone</td>\n",
       "      <td>Manhattan</td>\n",
       "      <td>Upper East Side South</td>\n",
       "      <td>Yellow Zone</td>\n",
       "      <td>1</td>\n",
       "    </tr>\n",
       "    <tr>\n",
       "      <th>1</th>\n",
       "      <td>2018-02-16 19:19:59</td>\n",
       "      <td>2018-02-16 19:26:41</td>\n",
       "      <td>1.50</td>\n",
       "      <td>7.0</td>\n",
       "      <td>1.0</td>\n",
       "      <td>0.5</td>\n",
       "      <td>1.32</td>\n",
       "      <td>0.00</td>\n",
       "      <td>0.3</td>\n",
       "      <td>10.12</td>\n",
       "      <td>Credit card</td>\n",
       "      <td>Manhattan</td>\n",
       "      <td>Clinton East</td>\n",
       "      <td>Yellow Zone</td>\n",
       "      <td>Manhattan</td>\n",
       "      <td>Meatpacking/West Village West</td>\n",
       "      <td>Yellow Zone</td>\n",
       "      <td>1</td>\n",
       "    </tr>\n",
       "    <tr>\n",
       "      <th>2</th>\n",
       "      <td>2018-02-12 16:50:01</td>\n",
       "      <td>2018-02-12 17:43:55</td>\n",
       "      <td>22.60</td>\n",
       "      <td>52.0</td>\n",
       "      <td>0.0</td>\n",
       "      <td>0.5</td>\n",
       "      <td>0.00</td>\n",
       "      <td>5.76</td>\n",
       "      <td>0.3</td>\n",
       "      <td>58.56</td>\n",
       "      <td>Cash</td>\n",
       "      <td>Queens</td>\n",
       "      <td>JFK Airport</td>\n",
       "      <td>Airports</td>\n",
       "      <td>Manhattan</td>\n",
       "      <td>Clinton East</td>\n",
       "      <td>Yellow Zone</td>\n",
       "      <td>2</td>\n",
       "    </tr>\n",
       "    <tr>\n",
       "      <th>3</th>\n",
       "      <td>2018-03-28 19:58:44</td>\n",
       "      <td>2018-03-28 20:07:14</td>\n",
       "      <td>1.61</td>\n",
       "      <td>8.0</td>\n",
       "      <td>1.0</td>\n",
       "      <td>0.5</td>\n",
       "      <td>1.00</td>\n",
       "      <td>0.00</td>\n",
       "      <td>0.3</td>\n",
       "      <td>10.80</td>\n",
       "      <td>Credit card</td>\n",
       "      <td>Manhattan</td>\n",
       "      <td>East Chelsea</td>\n",
       "      <td>Yellow Zone</td>\n",
       "      <td>Manhattan</td>\n",
       "      <td>SoHo</td>\n",
       "      <td>Yellow Zone</td>\n",
       "      <td>1</td>\n",
       "    </tr>\n",
       "    <tr>\n",
       "      <th>4</th>\n",
       "      <td>2018-11-02 06:34:49</td>\n",
       "      <td>2018-11-02 06:50:07</td>\n",
       "      <td>2.70</td>\n",
       "      <td>12.5</td>\n",
       "      <td>0.0</td>\n",
       "      <td>0.5</td>\n",
       "      <td>2.65</td>\n",
       "      <td>0.00</td>\n",
       "      <td>0.3</td>\n",
       "      <td>15.95</td>\n",
       "      <td>Credit card</td>\n",
       "      <td>Manhattan</td>\n",
       "      <td>East Village</td>\n",
       "      <td>Yellow Zone</td>\n",
       "      <td>Manhattan</td>\n",
       "      <td>Times Sq/Theatre District</td>\n",
       "      <td>Yellow Zone</td>\n",
       "      <td>1</td>\n",
       "    </tr>\n",
       "  </tbody>\n",
       "</table>\n",
       "</div>"
      ],
      "text/plain": [
       "  tpep_pickup_datetime tpep_dropoff_datetime  trip_distance  fare_amount  \\\n",
       "0  2018-11-06 12:42:24   2018-11-06 12:54:49           0.87          9.0   \n",
       "1  2018-02-16 19:19:59   2018-02-16 19:26:41           1.50          7.0   \n",
       "2  2018-02-12 16:50:01   2018-02-12 17:43:55          22.60         52.0   \n",
       "3  2018-03-28 19:58:44   2018-03-28 20:07:14           1.61          8.0   \n",
       "4  2018-11-02 06:34:49   2018-11-02 06:50:07           2.70         12.5   \n",
       "\n",
       "   extra  mta_tax  tip_amount  tolls_amount  improvement_surcharge  \\\n",
       "0    0.0      0.5        0.00          0.00                    0.3   \n",
       "1    1.0      0.5        1.32          0.00                    0.3   \n",
       "2    0.0      0.5        0.00          5.76                    0.3   \n",
       "3    1.0      0.5        1.00          0.00                    0.3   \n",
       "4    0.0      0.5        2.65          0.00                    0.3   \n",
       "\n",
       "   total_amount payment_type  PUBorough                         PUZone  \\\n",
       "0          9.80         Cash  Manhattan  Sutton Place/Turtle Bay North   \n",
       "1         10.12  Credit card  Manhattan                   Clinton East   \n",
       "2         58.56         Cash     Queens                    JFK Airport   \n",
       "3         10.80  Credit card  Manhattan                   East Chelsea   \n",
       "4         15.95  Credit card  Manhattan                   East Village   \n",
       "\n",
       "  PUservice_zone  DOBorough                         DOZone DOservice_zone  \\\n",
       "0    Yellow Zone  Manhattan          Upper East Side South    Yellow Zone   \n",
       "1    Yellow Zone  Manhattan  Meatpacking/West Village West    Yellow Zone   \n",
       "2       Airports  Manhattan                   Clinton East    Yellow Zone   \n",
       "3    Yellow Zone  Manhattan                           SoHo    Yellow Zone   \n",
       "4    Yellow Zone  Manhattan      Times Sq/Theatre District    Yellow Zone   \n",
       "\n",
       "   fk_id_Ratecode  \n",
       "0               1  \n",
       "1               1  \n",
       "2               2  \n",
       "3               1  \n",
       "4               1  "
      ]
     },
     "execution_count": 101,
     "metadata": {},
     "output_type": "execute_result"
    }
   ],
   "source": [
    "df_muestra.head()"
   ]
  },
  {
   "cell_type": "code",
   "execution_count": 102,
   "metadata": {
    "ExecuteTime": {
     "end_time": "2021-01-13T05:36:56.847517Z",
     "start_time": "2021-01-13T05:36:55.622516Z"
    },
    "code_folding": []
   },
   "outputs": [],
   "source": [
    "df_muestra=df_muestra.merge(ent_p,\n",
    "                 left_on='payment_type',\n",
    "                 right_on='payment_type_code',\n",
    "                 how='left').drop(['payment_type','payment_type_code'], axis=1)\n",
    "df_muestra.rename(columns={'ID':'fk_id_payment_type'},inplace=True)"
   ]
  },
  {
   "cell_type": "code",
   "execution_count": 103,
   "metadata": {
    "ExecuteTime": {
     "end_time": "2021-01-13T05:37:01.810980Z",
     "start_time": "2021-01-13T05:37:01.780334Z"
    },
    "scrolled": true
   },
   "outputs": [
    {
     "data": {
      "text/html": [
       "<div>\n",
       "<style scoped>\n",
       "    .dataframe tbody tr th:only-of-type {\n",
       "        vertical-align: middle;\n",
       "    }\n",
       "\n",
       "    .dataframe tbody tr th {\n",
       "        vertical-align: top;\n",
       "    }\n",
       "\n",
       "    .dataframe thead th {\n",
       "        text-align: right;\n",
       "    }\n",
       "</style>\n",
       "<table border=\"1\" class=\"dataframe\">\n",
       "  <thead>\n",
       "    <tr style=\"text-align: right;\">\n",
       "      <th></th>\n",
       "      <th>tpep_pickup_datetime</th>\n",
       "      <th>tpep_dropoff_datetime</th>\n",
       "      <th>trip_distance</th>\n",
       "      <th>fare_amount</th>\n",
       "      <th>extra</th>\n",
       "      <th>mta_tax</th>\n",
       "      <th>tip_amount</th>\n",
       "      <th>tolls_amount</th>\n",
       "      <th>improvement_surcharge</th>\n",
       "      <th>total_amount</th>\n",
       "      <th>PUBorough</th>\n",
       "      <th>PUZone</th>\n",
       "      <th>PUservice_zone</th>\n",
       "      <th>DOBorough</th>\n",
       "      <th>DOZone</th>\n",
       "      <th>DOservice_zone</th>\n",
       "      <th>fk_id_Ratecode</th>\n",
       "      <th>fk_id_payment_type</th>\n",
       "    </tr>\n",
       "  </thead>\n",
       "  <tbody>\n",
       "    <tr>\n",
       "      <th>0</th>\n",
       "      <td>2018-11-06 12:42:24</td>\n",
       "      <td>2018-11-06 12:54:49</td>\n",
       "      <td>0.87</td>\n",
       "      <td>9.0</td>\n",
       "      <td>0.0</td>\n",
       "      <td>0.5</td>\n",
       "      <td>0.00</td>\n",
       "      <td>0.00</td>\n",
       "      <td>0.3</td>\n",
       "      <td>9.80</td>\n",
       "      <td>Manhattan</td>\n",
       "      <td>Sutton Place/Turtle Bay North</td>\n",
       "      <td>Yellow Zone</td>\n",
       "      <td>Manhattan</td>\n",
       "      <td>Upper East Side South</td>\n",
       "      <td>Yellow Zone</td>\n",
       "      <td>1</td>\n",
       "      <td>1</td>\n",
       "    </tr>\n",
       "    <tr>\n",
       "      <th>1</th>\n",
       "      <td>2018-02-16 19:19:59</td>\n",
       "      <td>2018-02-16 19:26:41</td>\n",
       "      <td>1.50</td>\n",
       "      <td>7.0</td>\n",
       "      <td>1.0</td>\n",
       "      <td>0.5</td>\n",
       "      <td>1.32</td>\n",
       "      <td>0.00</td>\n",
       "      <td>0.3</td>\n",
       "      <td>10.12</td>\n",
       "      <td>Manhattan</td>\n",
       "      <td>Clinton East</td>\n",
       "      <td>Yellow Zone</td>\n",
       "      <td>Manhattan</td>\n",
       "      <td>Meatpacking/West Village West</td>\n",
       "      <td>Yellow Zone</td>\n",
       "      <td>1</td>\n",
       "      <td>2</td>\n",
       "    </tr>\n",
       "    <tr>\n",
       "      <th>2</th>\n",
       "      <td>2018-02-12 16:50:01</td>\n",
       "      <td>2018-02-12 17:43:55</td>\n",
       "      <td>22.60</td>\n",
       "      <td>52.0</td>\n",
       "      <td>0.0</td>\n",
       "      <td>0.5</td>\n",
       "      <td>0.00</td>\n",
       "      <td>5.76</td>\n",
       "      <td>0.3</td>\n",
       "      <td>58.56</td>\n",
       "      <td>Queens</td>\n",
       "      <td>JFK Airport</td>\n",
       "      <td>Airports</td>\n",
       "      <td>Manhattan</td>\n",
       "      <td>Clinton East</td>\n",
       "      <td>Yellow Zone</td>\n",
       "      <td>2</td>\n",
       "      <td>1</td>\n",
       "    </tr>\n",
       "    <tr>\n",
       "      <th>3</th>\n",
       "      <td>2018-03-28 19:58:44</td>\n",
       "      <td>2018-03-28 20:07:14</td>\n",
       "      <td>1.61</td>\n",
       "      <td>8.0</td>\n",
       "      <td>1.0</td>\n",
       "      <td>0.5</td>\n",
       "      <td>1.00</td>\n",
       "      <td>0.00</td>\n",
       "      <td>0.3</td>\n",
       "      <td>10.80</td>\n",
       "      <td>Manhattan</td>\n",
       "      <td>East Chelsea</td>\n",
       "      <td>Yellow Zone</td>\n",
       "      <td>Manhattan</td>\n",
       "      <td>SoHo</td>\n",
       "      <td>Yellow Zone</td>\n",
       "      <td>1</td>\n",
       "      <td>2</td>\n",
       "    </tr>\n",
       "    <tr>\n",
       "      <th>4</th>\n",
       "      <td>2018-11-02 06:34:49</td>\n",
       "      <td>2018-11-02 06:50:07</td>\n",
       "      <td>2.70</td>\n",
       "      <td>12.5</td>\n",
       "      <td>0.0</td>\n",
       "      <td>0.5</td>\n",
       "      <td>2.65</td>\n",
       "      <td>0.00</td>\n",
       "      <td>0.3</td>\n",
       "      <td>15.95</td>\n",
       "      <td>Manhattan</td>\n",
       "      <td>East Village</td>\n",
       "      <td>Yellow Zone</td>\n",
       "      <td>Manhattan</td>\n",
       "      <td>Times Sq/Theatre District</td>\n",
       "      <td>Yellow Zone</td>\n",
       "      <td>1</td>\n",
       "      <td>2</td>\n",
       "    </tr>\n",
       "  </tbody>\n",
       "</table>\n",
       "</div>"
      ],
      "text/plain": [
       "  tpep_pickup_datetime tpep_dropoff_datetime  trip_distance  fare_amount  \\\n",
       "0  2018-11-06 12:42:24   2018-11-06 12:54:49           0.87          9.0   \n",
       "1  2018-02-16 19:19:59   2018-02-16 19:26:41           1.50          7.0   \n",
       "2  2018-02-12 16:50:01   2018-02-12 17:43:55          22.60         52.0   \n",
       "3  2018-03-28 19:58:44   2018-03-28 20:07:14           1.61          8.0   \n",
       "4  2018-11-02 06:34:49   2018-11-02 06:50:07           2.70         12.5   \n",
       "\n",
       "   extra  mta_tax  tip_amount  tolls_amount  improvement_surcharge  \\\n",
       "0    0.0      0.5        0.00          0.00                    0.3   \n",
       "1    1.0      0.5        1.32          0.00                    0.3   \n",
       "2    0.0      0.5        0.00          5.76                    0.3   \n",
       "3    1.0      0.5        1.00          0.00                    0.3   \n",
       "4    0.0      0.5        2.65          0.00                    0.3   \n",
       "\n",
       "   total_amount  PUBorough                         PUZone PUservice_zone  \\\n",
       "0          9.80  Manhattan  Sutton Place/Turtle Bay North    Yellow Zone   \n",
       "1         10.12  Manhattan                   Clinton East    Yellow Zone   \n",
       "2         58.56     Queens                    JFK Airport       Airports   \n",
       "3         10.80  Manhattan                   East Chelsea    Yellow Zone   \n",
       "4         15.95  Manhattan                   East Village    Yellow Zone   \n",
       "\n",
       "   DOBorough                         DOZone DOservice_zone  fk_id_Ratecode  \\\n",
       "0  Manhattan          Upper East Side South    Yellow Zone               1   \n",
       "1  Manhattan  Meatpacking/West Village West    Yellow Zone               1   \n",
       "2  Manhattan                   Clinton East    Yellow Zone               2   \n",
       "3  Manhattan                           SoHo    Yellow Zone               1   \n",
       "4  Manhattan      Times Sq/Theatre District    Yellow Zone               1   \n",
       "\n",
       "   fk_id_payment_type  \n",
       "0                   1  \n",
       "1                   2  \n",
       "2                   1  \n",
       "3                   2  \n",
       "4                   2  "
      ]
     },
     "execution_count": 103,
     "metadata": {},
     "output_type": "execute_result"
    }
   ],
   "source": [
    "df_muestra.head()"
   ]
  },
  {
   "cell_type": "code",
   "execution_count": 104,
   "metadata": {
    "ExecuteTime": {
     "end_time": "2021-01-13T05:37:17.710609Z",
     "start_time": "2021-01-13T05:37:14.547107Z"
    },
    "code_folding": [],
    "scrolled": false
   },
   "outputs": [],
   "source": [
    "df_muestra=df_muestra.merge(ent_z,\n",
    "                 left_on=['PUBorough','PUZone','PUservice_zone'],\n",
    "                 right_on=['Borough','Zone','service_zone'],\n",
    "                 how='left').drop(['PUBorough','PUZone','PUservice_zone',\n",
    "                                  'Borough','Zone','service_zone'], axis=1)\n",
    "df_muestra.rename(columns={'ID':'fk_id_PUZone'},inplace=True)\n",
    "\n",
    "df_muestra=df_muestra.merge(ent_z,\n",
    "                 left_on=['DOBorough','DOZone','DOservice_zone'],\n",
    "                 right_on=['Borough','Zone','service_zone'],\n",
    "                 how='left').drop(['DOBorough','DOZone','DOservice_zone',\n",
    "                                  'Borough','Zone','service_zone'], axis=1)\n",
    "df_muestra.rename(columns={'ID':'fk_id_DOZone'},inplace=True)"
   ]
  },
  {
   "cell_type": "code",
   "execution_count": 105,
   "metadata": {
    "ExecuteTime": {
     "end_time": "2021-01-13T05:37:19.911452Z",
     "start_time": "2021-01-13T05:37:19.876394Z"
    }
   },
   "outputs": [
    {
     "data": {
      "text/html": [
       "<div>\n",
       "<style scoped>\n",
       "    .dataframe tbody tr th:only-of-type {\n",
       "        vertical-align: middle;\n",
       "    }\n",
       "\n",
       "    .dataframe tbody tr th {\n",
       "        vertical-align: top;\n",
       "    }\n",
       "\n",
       "    .dataframe thead th {\n",
       "        text-align: right;\n",
       "    }\n",
       "</style>\n",
       "<table border=\"1\" class=\"dataframe\">\n",
       "  <thead>\n",
       "    <tr style=\"text-align: right;\">\n",
       "      <th></th>\n",
       "      <th>tpep_pickup_datetime</th>\n",
       "      <th>tpep_dropoff_datetime</th>\n",
       "      <th>trip_distance</th>\n",
       "      <th>fare_amount</th>\n",
       "      <th>extra</th>\n",
       "      <th>mta_tax</th>\n",
       "      <th>tip_amount</th>\n",
       "      <th>tolls_amount</th>\n",
       "      <th>improvement_surcharge</th>\n",
       "      <th>total_amount</th>\n",
       "      <th>fk_id_Ratecode</th>\n",
       "      <th>fk_id_payment_type</th>\n",
       "      <th>fk_id_PUZone</th>\n",
       "      <th>fk_id_DOZone</th>\n",
       "    </tr>\n",
       "  </thead>\n",
       "  <tbody>\n",
       "    <tr>\n",
       "      <th>0</th>\n",
       "      <td>2018-11-06 12:42:24</td>\n",
       "      <td>2018-11-06 12:54:49</td>\n",
       "      <td>0.87</td>\n",
       "      <td>9.0</td>\n",
       "      <td>0.0</td>\n",
       "      <td>0.5</td>\n",
       "      <td>0.00</td>\n",
       "      <td>0.00</td>\n",
       "      <td>0.3</td>\n",
       "      <td>9.80</td>\n",
       "      <td>1</td>\n",
       "      <td>1</td>\n",
       "      <td>229</td>\n",
       "      <td>237</td>\n",
       "    </tr>\n",
       "    <tr>\n",
       "      <th>1</th>\n",
       "      <td>2018-02-16 19:19:59</td>\n",
       "      <td>2018-02-16 19:26:41</td>\n",
       "      <td>1.50</td>\n",
       "      <td>7.0</td>\n",
       "      <td>1.0</td>\n",
       "      <td>0.5</td>\n",
       "      <td>1.32</td>\n",
       "      <td>0.00</td>\n",
       "      <td>0.3</td>\n",
       "      <td>10.12</td>\n",
       "      <td>1</td>\n",
       "      <td>2</td>\n",
       "      <td>48</td>\n",
       "      <td>158</td>\n",
       "    </tr>\n",
       "    <tr>\n",
       "      <th>2</th>\n",
       "      <td>2018-02-12 16:50:01</td>\n",
       "      <td>2018-02-12 17:43:55</td>\n",
       "      <td>22.60</td>\n",
       "      <td>52.0</td>\n",
       "      <td>0.0</td>\n",
       "      <td>0.5</td>\n",
       "      <td>0.00</td>\n",
       "      <td>5.76</td>\n",
       "      <td>0.3</td>\n",
       "      <td>58.56</td>\n",
       "      <td>2</td>\n",
       "      <td>1</td>\n",
       "      <td>132</td>\n",
       "      <td>48</td>\n",
       "    </tr>\n",
       "    <tr>\n",
       "      <th>3</th>\n",
       "      <td>2018-03-28 19:58:44</td>\n",
       "      <td>2018-03-28 20:07:14</td>\n",
       "      <td>1.61</td>\n",
       "      <td>8.0</td>\n",
       "      <td>1.0</td>\n",
       "      <td>0.5</td>\n",
       "      <td>1.00</td>\n",
       "      <td>0.00</td>\n",
       "      <td>0.3</td>\n",
       "      <td>10.80</td>\n",
       "      <td>1</td>\n",
       "      <td>2</td>\n",
       "      <td>68</td>\n",
       "      <td>211</td>\n",
       "    </tr>\n",
       "    <tr>\n",
       "      <th>4</th>\n",
       "      <td>2018-11-02 06:34:49</td>\n",
       "      <td>2018-11-02 06:50:07</td>\n",
       "      <td>2.70</td>\n",
       "      <td>12.5</td>\n",
       "      <td>0.0</td>\n",
       "      <td>0.5</td>\n",
       "      <td>2.65</td>\n",
       "      <td>0.00</td>\n",
       "      <td>0.3</td>\n",
       "      <td>15.95</td>\n",
       "      <td>1</td>\n",
       "      <td>2</td>\n",
       "      <td>79</td>\n",
       "      <td>230</td>\n",
       "    </tr>\n",
       "  </tbody>\n",
       "</table>\n",
       "</div>"
      ],
      "text/plain": [
       "  tpep_pickup_datetime tpep_dropoff_datetime  trip_distance  fare_amount  \\\n",
       "0  2018-11-06 12:42:24   2018-11-06 12:54:49           0.87          9.0   \n",
       "1  2018-02-16 19:19:59   2018-02-16 19:26:41           1.50          7.0   \n",
       "2  2018-02-12 16:50:01   2018-02-12 17:43:55          22.60         52.0   \n",
       "3  2018-03-28 19:58:44   2018-03-28 20:07:14           1.61          8.0   \n",
       "4  2018-11-02 06:34:49   2018-11-02 06:50:07           2.70         12.5   \n",
       "\n",
       "   extra  mta_tax  tip_amount  tolls_amount  improvement_surcharge  \\\n",
       "0    0.0      0.5        0.00          0.00                    0.3   \n",
       "1    1.0      0.5        1.32          0.00                    0.3   \n",
       "2    0.0      0.5        0.00          5.76                    0.3   \n",
       "3    1.0      0.5        1.00          0.00                    0.3   \n",
       "4    0.0      0.5        2.65          0.00                    0.3   \n",
       "\n",
       "   total_amount  fk_id_Ratecode  fk_id_payment_type  fk_id_PUZone  \\\n",
       "0          9.80               1                   1           229   \n",
       "1         10.12               1                   2            48   \n",
       "2         58.56               2                   1           132   \n",
       "3         10.80               1                   2            68   \n",
       "4         15.95               1                   2            79   \n",
       "\n",
       "   fk_id_DOZone  \n",
       "0           237  \n",
       "1           158  \n",
       "2            48  \n",
       "3           211  \n",
       "4           230  "
      ]
     },
     "execution_count": 105,
     "metadata": {},
     "output_type": "execute_result"
    }
   ],
   "source": [
    "df_muestra.head()"
   ]
  },
  {
   "cell_type": "code",
   "execution_count": 106,
   "metadata": {
    "ExecuteTime": {
     "end_time": "2021-01-13T05:39:30.654943Z",
     "start_time": "2021-01-13T05:39:30.629489Z"
    }
   },
   "outputs": [],
   "source": [
    "df_muestra.insert(0,'ID',df_muestra.index+1)"
   ]
  },
  {
   "cell_type": "code",
   "execution_count": 107,
   "metadata": {
    "ExecuteTime": {
     "end_time": "2021-01-13T05:39:33.115941Z",
     "start_time": "2021-01-13T05:39:33.085590Z"
    }
   },
   "outputs": [
    {
     "data": {
      "text/html": [
       "<div>\n",
       "<style scoped>\n",
       "    .dataframe tbody tr th:only-of-type {\n",
       "        vertical-align: middle;\n",
       "    }\n",
       "\n",
       "    .dataframe tbody tr th {\n",
       "        vertical-align: top;\n",
       "    }\n",
       "\n",
       "    .dataframe thead th {\n",
       "        text-align: right;\n",
       "    }\n",
       "</style>\n",
       "<table border=\"1\" class=\"dataframe\">\n",
       "  <thead>\n",
       "    <tr style=\"text-align: right;\">\n",
       "      <th></th>\n",
       "      <th>ID</th>\n",
       "      <th>tpep_pickup_datetime</th>\n",
       "      <th>tpep_dropoff_datetime</th>\n",
       "      <th>trip_distance</th>\n",
       "      <th>fare_amount</th>\n",
       "      <th>extra</th>\n",
       "      <th>mta_tax</th>\n",
       "      <th>tip_amount</th>\n",
       "      <th>tolls_amount</th>\n",
       "      <th>improvement_surcharge</th>\n",
       "      <th>total_amount</th>\n",
       "      <th>fk_id_Ratecode</th>\n",
       "      <th>fk_id_payment_type</th>\n",
       "      <th>fk_id_PUZone</th>\n",
       "      <th>fk_id_DOZone</th>\n",
       "    </tr>\n",
       "  </thead>\n",
       "  <tbody>\n",
       "    <tr>\n",
       "      <th>0</th>\n",
       "      <td>1</td>\n",
       "      <td>2018-11-06 12:42:24</td>\n",
       "      <td>2018-11-06 12:54:49</td>\n",
       "      <td>0.87</td>\n",
       "      <td>9.0</td>\n",
       "      <td>0.0</td>\n",
       "      <td>0.5</td>\n",
       "      <td>0.00</td>\n",
       "      <td>0.00</td>\n",
       "      <td>0.3</td>\n",
       "      <td>9.80</td>\n",
       "      <td>1</td>\n",
       "      <td>1</td>\n",
       "      <td>229</td>\n",
       "      <td>237</td>\n",
       "    </tr>\n",
       "    <tr>\n",
       "      <th>1</th>\n",
       "      <td>2</td>\n",
       "      <td>2018-02-16 19:19:59</td>\n",
       "      <td>2018-02-16 19:26:41</td>\n",
       "      <td>1.50</td>\n",
       "      <td>7.0</td>\n",
       "      <td>1.0</td>\n",
       "      <td>0.5</td>\n",
       "      <td>1.32</td>\n",
       "      <td>0.00</td>\n",
       "      <td>0.3</td>\n",
       "      <td>10.12</td>\n",
       "      <td>1</td>\n",
       "      <td>2</td>\n",
       "      <td>48</td>\n",
       "      <td>158</td>\n",
       "    </tr>\n",
       "    <tr>\n",
       "      <th>2</th>\n",
       "      <td>3</td>\n",
       "      <td>2018-02-12 16:50:01</td>\n",
       "      <td>2018-02-12 17:43:55</td>\n",
       "      <td>22.60</td>\n",
       "      <td>52.0</td>\n",
       "      <td>0.0</td>\n",
       "      <td>0.5</td>\n",
       "      <td>0.00</td>\n",
       "      <td>5.76</td>\n",
       "      <td>0.3</td>\n",
       "      <td>58.56</td>\n",
       "      <td>2</td>\n",
       "      <td>1</td>\n",
       "      <td>132</td>\n",
       "      <td>48</td>\n",
       "    </tr>\n",
       "    <tr>\n",
       "      <th>3</th>\n",
       "      <td>4</td>\n",
       "      <td>2018-03-28 19:58:44</td>\n",
       "      <td>2018-03-28 20:07:14</td>\n",
       "      <td>1.61</td>\n",
       "      <td>8.0</td>\n",
       "      <td>1.0</td>\n",
       "      <td>0.5</td>\n",
       "      <td>1.00</td>\n",
       "      <td>0.00</td>\n",
       "      <td>0.3</td>\n",
       "      <td>10.80</td>\n",
       "      <td>1</td>\n",
       "      <td>2</td>\n",
       "      <td>68</td>\n",
       "      <td>211</td>\n",
       "    </tr>\n",
       "    <tr>\n",
       "      <th>4</th>\n",
       "      <td>5</td>\n",
       "      <td>2018-11-02 06:34:49</td>\n",
       "      <td>2018-11-02 06:50:07</td>\n",
       "      <td>2.70</td>\n",
       "      <td>12.5</td>\n",
       "      <td>0.0</td>\n",
       "      <td>0.5</td>\n",
       "      <td>2.65</td>\n",
       "      <td>0.00</td>\n",
       "      <td>0.3</td>\n",
       "      <td>15.95</td>\n",
       "      <td>1</td>\n",
       "      <td>2</td>\n",
       "      <td>79</td>\n",
       "      <td>230</td>\n",
       "    </tr>\n",
       "  </tbody>\n",
       "</table>\n",
       "</div>"
      ],
      "text/plain": [
       "   ID tpep_pickup_datetime tpep_dropoff_datetime  trip_distance  fare_amount  \\\n",
       "0   1  2018-11-06 12:42:24   2018-11-06 12:54:49           0.87          9.0   \n",
       "1   2  2018-02-16 19:19:59   2018-02-16 19:26:41           1.50          7.0   \n",
       "2   3  2018-02-12 16:50:01   2018-02-12 17:43:55          22.60         52.0   \n",
       "3   4  2018-03-28 19:58:44   2018-03-28 20:07:14           1.61          8.0   \n",
       "4   5  2018-11-02 06:34:49   2018-11-02 06:50:07           2.70         12.5   \n",
       "\n",
       "   extra  mta_tax  tip_amount  tolls_amount  improvement_surcharge  \\\n",
       "0    0.0      0.5        0.00          0.00                    0.3   \n",
       "1    1.0      0.5        1.32          0.00                    0.3   \n",
       "2    0.0      0.5        0.00          5.76                    0.3   \n",
       "3    1.0      0.5        1.00          0.00                    0.3   \n",
       "4    0.0      0.5        2.65          0.00                    0.3   \n",
       "\n",
       "   total_amount  fk_id_Ratecode  fk_id_payment_type  fk_id_PUZone  \\\n",
       "0          9.80               1                   1           229   \n",
       "1         10.12               1                   2            48   \n",
       "2         58.56               2                   1           132   \n",
       "3         10.80               1                   2            68   \n",
       "4         15.95               1                   2            79   \n",
       "\n",
       "   fk_id_DOZone  \n",
       "0           237  \n",
       "1           158  \n",
       "2            48  \n",
       "3           211  \n",
       "4           230  "
      ]
     },
     "execution_count": 107,
     "metadata": {},
     "output_type": "execute_result"
    }
   ],
   "source": [
    "df_muestra.head()"
   ]
  },
  {
   "cell_type": "markdown",
   "metadata": {},
   "source": [
    "Guardamos el df para posteriormente cargarlo y no hacer todo el proceso anterior"
   ]
  },
  {
   "cell_type": "code",
   "execution_count": 108,
   "metadata": {
    "ExecuteTime": {
     "end_time": "2021-01-13T05:40:33.273122Z",
     "start_time": "2021-01-13T05:40:32.446598Z"
    }
   },
   "outputs": [],
   "source": [
    "df_muestra.to_pickle('viaje.pickle')"
   ]
  },
  {
   "cell_type": "code",
   "execution_count": 2,
   "metadata": {
    "ExecuteTime": {
     "end_time": "2021-01-14T07:21:46.445807Z",
     "start_time": "2021-01-14T07:21:45.340767Z"
    }
   },
   "outputs": [],
   "source": [
    "df_muestra=pd.read_pickle('viaje.pickle')"
   ]
  },
  {
   "cell_type": "code",
   "execution_count": 110,
   "metadata": {
    "ExecuteTime": {
     "end_time": "2021-01-13T05:44:36.727624Z",
     "start_time": "2021-01-13T05:41:09.892706Z"
    }
   },
   "outputs": [],
   "source": [
    "df_muestra.to_sql(con=engine,\n",
    "               name='viaje',\n",
    "               if_exists='replace',\n",
    "               chunksize=10000,\n",
    "               index=False)"
   ]
  },
  {
   "cell_type": "code",
   "execution_count": 111,
   "metadata": {
    "ExecuteTime": {
     "end_time": "2021-01-13T05:47:49.366623Z",
     "start_time": "2021-01-13T05:47:07.592413Z"
    }
   },
   "outputs": [],
   "source": [
    "df_muestra.to_csv('viaje.csv',index=False)"
   ]
  },
  {
   "cell_type": "markdown",
   "metadata": {},
   "source": [
    "# Ventanas de Tiempo "
   ]
  },
  {
   "cell_type": "markdown",
   "metadata": {},
   "source": [
    "## Catalogo de tiempo "
   ]
  },
  {
   "cell_type": "code",
   "execution_count": 3,
   "metadata": {
    "ExecuteTime": {
     "end_time": "2021-01-14T07:21:50.446749Z",
     "start_time": "2021-01-14T07:21:50.089385Z"
    }
   },
   "outputs": [],
   "source": [
    "cat=df_muestra.copy()"
   ]
  },
  {
   "cell_type": "code",
   "execution_count": 4,
   "metadata": {
    "ExecuteTime": {
     "end_time": "2021-01-14T07:21:52.986384Z",
     "start_time": "2021-01-14T07:21:52.674683Z"
    }
   },
   "outputs": [],
   "source": [
    "cat=cat[['tpep_pickup_datetime']]"
   ]
  },
  {
   "cell_type": "code",
   "execution_count": 5,
   "metadata": {
    "ExecuteTime": {
     "end_time": "2021-01-14T07:22:24.548826Z",
     "start_time": "2021-01-14T07:21:52.995960Z"
    }
   },
   "outputs": [],
   "source": [
    "cat['Dia'] = cat['tpep_pickup_datetime'].map(lambda x:x.strftime('%j')).astype('int')"
   ]
  },
  {
   "cell_type": "code",
   "execution_count": 6,
   "metadata": {
    "ExecuteTime": {
     "end_time": "2021-01-14T07:22:26.937821Z",
     "start_time": "2021-01-14T07:22:26.449019Z"
    }
   },
   "outputs": [],
   "source": [
    "aux = cat[['Dia']].drop_duplicates('Dia').sort_values(\"Dia\").sort_values(\n",
    "    by='Dia').reset_index(drop=True)\n",
    "\n",
    "aux['id'] = aux.index\n",
    "\n",
    "cat = cat.merge(aux, on='Dia', how='inner')"
   ]
  },
  {
   "cell_type": "code",
   "execution_count": 7,
   "metadata": {
    "ExecuteTime": {
     "end_time": "2021-01-14T07:22:30.032192Z",
     "start_time": "2021-01-14T07:22:30.007491Z"
    }
   },
   "outputs": [
    {
     "data": {
      "text/html": [
       "<div>\n",
       "<style scoped>\n",
       "    .dataframe tbody tr th:only-of-type {\n",
       "        vertical-align: middle;\n",
       "    }\n",
       "\n",
       "    .dataframe tbody tr th {\n",
       "        vertical-align: top;\n",
       "    }\n",
       "\n",
       "    .dataframe thead th {\n",
       "        text-align: right;\n",
       "    }\n",
       "</style>\n",
       "<table border=\"1\" class=\"dataframe\">\n",
       "  <thead>\n",
       "    <tr style=\"text-align: right;\">\n",
       "      <th></th>\n",
       "      <th>tpep_pickup_datetime</th>\n",
       "      <th>Dia</th>\n",
       "      <th>id</th>\n",
       "    </tr>\n",
       "  </thead>\n",
       "  <tbody>\n",
       "    <tr>\n",
       "      <th>0</th>\n",
       "      <td>2018-11-06 12:42:24</td>\n",
       "      <td>310</td>\n",
       "      <td>309</td>\n",
       "    </tr>\n",
       "    <tr>\n",
       "      <th>1</th>\n",
       "      <td>2018-11-06 11:53:38</td>\n",
       "      <td>310</td>\n",
       "      <td>309</td>\n",
       "    </tr>\n",
       "    <tr>\n",
       "      <th>2</th>\n",
       "      <td>2018-11-06 10:09:36</td>\n",
       "      <td>310</td>\n",
       "      <td>309</td>\n",
       "    </tr>\n",
       "    <tr>\n",
       "      <th>3</th>\n",
       "      <td>2018-11-06 11:02:18</td>\n",
       "      <td>310</td>\n",
       "      <td>309</td>\n",
       "    </tr>\n",
       "    <tr>\n",
       "      <th>4</th>\n",
       "      <td>2018-11-06 15:42:23</td>\n",
       "      <td>310</td>\n",
       "      <td>309</td>\n",
       "    </tr>\n",
       "    <tr>\n",
       "      <th>...</th>\n",
       "      <td>...</td>\n",
       "      <td>...</td>\n",
       "      <td>...</td>\n",
       "    </tr>\n",
       "    <tr>\n",
       "      <th>1635081</th>\n",
       "      <td>2018-12-19 18:49:10</td>\n",
       "      <td>353</td>\n",
       "      <td>352</td>\n",
       "    </tr>\n",
       "    <tr>\n",
       "      <th>1635082</th>\n",
       "      <td>2018-12-19 18:59:47</td>\n",
       "      <td>353</td>\n",
       "      <td>352</td>\n",
       "    </tr>\n",
       "    <tr>\n",
       "      <th>1635083</th>\n",
       "      <td>2018-12-19 21:35:22</td>\n",
       "      <td>353</td>\n",
       "      <td>352</td>\n",
       "    </tr>\n",
       "    <tr>\n",
       "      <th>1635084</th>\n",
       "      <td>2018-12-19 10:15:29</td>\n",
       "      <td>353</td>\n",
       "      <td>352</td>\n",
       "    </tr>\n",
       "    <tr>\n",
       "      <th>1635085</th>\n",
       "      <td>2018-12-19 09:19:11</td>\n",
       "      <td>353</td>\n",
       "      <td>352</td>\n",
       "    </tr>\n",
       "  </tbody>\n",
       "</table>\n",
       "<p>1635086 rows × 3 columns</p>\n",
       "</div>"
      ],
      "text/plain": [
       "        tpep_pickup_datetime  Dia   id\n",
       "0        2018-11-06 12:42:24  310  309\n",
       "1        2018-11-06 11:53:38  310  309\n",
       "2        2018-11-06 10:09:36  310  309\n",
       "3        2018-11-06 11:02:18  310  309\n",
       "4        2018-11-06 15:42:23  310  309\n",
       "...                      ...  ...  ...\n",
       "1635081  2018-12-19 18:49:10  353  352\n",
       "1635082  2018-12-19 18:59:47  353  352\n",
       "1635083  2018-12-19 21:35:22  353  352\n",
       "1635084  2018-12-19 10:15:29  353  352\n",
       "1635085  2018-12-19 09:19:11  353  352\n",
       "\n",
       "[1635086 rows x 3 columns]"
      ]
     },
     "execution_count": 7,
     "metadata": {},
     "output_type": "execute_result"
    }
   ],
   "source": [
    "cat"
   ]
  },
  {
   "cell_type": "code",
   "execution_count": 8,
   "metadata": {
    "ExecuteTime": {
     "end_time": "2021-01-14T07:22:33.488539Z",
     "start_time": "2021-01-14T07:22:31.856563Z"
    }
   },
   "outputs": [],
   "source": [
    "df_muestra = df_muestra.merge(cat.drop('Dia',axis=1),\n",
    "                             on='tpep_pickup_datetime',how='inner')"
   ]
  },
  {
   "cell_type": "code",
   "execution_count": 9,
   "metadata": {
    "ExecuteTime": {
     "end_time": "2021-01-14T07:22:35.404863Z",
     "start_time": "2021-01-14T07:22:35.370878Z"
    }
   },
   "outputs": [
    {
     "data": {
      "text/html": [
       "<div>\n",
       "<style scoped>\n",
       "    .dataframe tbody tr th:only-of-type {\n",
       "        vertical-align: middle;\n",
       "    }\n",
       "\n",
       "    .dataframe tbody tr th {\n",
       "        vertical-align: top;\n",
       "    }\n",
       "\n",
       "    .dataframe thead th {\n",
       "        text-align: right;\n",
       "    }\n",
       "</style>\n",
       "<table border=\"1\" class=\"dataframe\">\n",
       "  <thead>\n",
       "    <tr style=\"text-align: right;\">\n",
       "      <th></th>\n",
       "      <th>ID</th>\n",
       "      <th>tpep_pickup_datetime</th>\n",
       "      <th>tpep_dropoff_datetime</th>\n",
       "      <th>trip_distance</th>\n",
       "      <th>fare_amount</th>\n",
       "      <th>extra</th>\n",
       "      <th>mta_tax</th>\n",
       "      <th>tip_amount</th>\n",
       "      <th>tolls_amount</th>\n",
       "      <th>improvement_surcharge</th>\n",
       "      <th>total_amount</th>\n",
       "      <th>fk_id_Ratecode</th>\n",
       "      <th>fk_id_payment_type</th>\n",
       "      <th>fk_id_PUZone</th>\n",
       "      <th>fk_id_DOZone</th>\n",
       "      <th>id</th>\n",
       "    </tr>\n",
       "  </thead>\n",
       "  <tbody>\n",
       "    <tr>\n",
       "      <th>0</th>\n",
       "      <td>1</td>\n",
       "      <td>2018-11-06 12:42:24</td>\n",
       "      <td>2018-11-06 12:54:49</td>\n",
       "      <td>0.87</td>\n",
       "      <td>9.0</td>\n",
       "      <td>0.0</td>\n",
       "      <td>0.5</td>\n",
       "      <td>0.00</td>\n",
       "      <td>0.00</td>\n",
       "      <td>0.3</td>\n",
       "      <td>9.80</td>\n",
       "      <td>1</td>\n",
       "      <td>1</td>\n",
       "      <td>229</td>\n",
       "      <td>237</td>\n",
       "      <td>309</td>\n",
       "    </tr>\n",
       "    <tr>\n",
       "      <th>1</th>\n",
       "      <td>2</td>\n",
       "      <td>2018-02-16 19:19:59</td>\n",
       "      <td>2018-02-16 19:26:41</td>\n",
       "      <td>1.50</td>\n",
       "      <td>7.0</td>\n",
       "      <td>1.0</td>\n",
       "      <td>0.5</td>\n",
       "      <td>1.32</td>\n",
       "      <td>0.00</td>\n",
       "      <td>0.3</td>\n",
       "      <td>10.12</td>\n",
       "      <td>1</td>\n",
       "      <td>2</td>\n",
       "      <td>48</td>\n",
       "      <td>158</td>\n",
       "      <td>46</td>\n",
       "    </tr>\n",
       "    <tr>\n",
       "      <th>2</th>\n",
       "      <td>3</td>\n",
       "      <td>2018-02-12 16:50:01</td>\n",
       "      <td>2018-02-12 17:43:55</td>\n",
       "      <td>22.60</td>\n",
       "      <td>52.0</td>\n",
       "      <td>0.0</td>\n",
       "      <td>0.5</td>\n",
       "      <td>0.00</td>\n",
       "      <td>5.76</td>\n",
       "      <td>0.3</td>\n",
       "      <td>58.56</td>\n",
       "      <td>2</td>\n",
       "      <td>1</td>\n",
       "      <td>132</td>\n",
       "      <td>48</td>\n",
       "      <td>42</td>\n",
       "    </tr>\n",
       "    <tr>\n",
       "      <th>3</th>\n",
       "      <td>4</td>\n",
       "      <td>2018-03-28 19:58:44</td>\n",
       "      <td>2018-03-28 20:07:14</td>\n",
       "      <td>1.61</td>\n",
       "      <td>8.0</td>\n",
       "      <td>1.0</td>\n",
       "      <td>0.5</td>\n",
       "      <td>1.00</td>\n",
       "      <td>0.00</td>\n",
       "      <td>0.3</td>\n",
       "      <td>10.80</td>\n",
       "      <td>1</td>\n",
       "      <td>2</td>\n",
       "      <td>68</td>\n",
       "      <td>211</td>\n",
       "      <td>86</td>\n",
       "    </tr>\n",
       "    <tr>\n",
       "      <th>4</th>\n",
       "      <td>5</td>\n",
       "      <td>2018-11-02 06:34:49</td>\n",
       "      <td>2018-11-02 06:50:07</td>\n",
       "      <td>2.70</td>\n",
       "      <td>12.5</td>\n",
       "      <td>0.0</td>\n",
       "      <td>0.5</td>\n",
       "      <td>2.65</td>\n",
       "      <td>0.00</td>\n",
       "      <td>0.3</td>\n",
       "      <td>15.95</td>\n",
       "      <td>1</td>\n",
       "      <td>2</td>\n",
       "      <td>79</td>\n",
       "      <td>230</td>\n",
       "      <td>305</td>\n",
       "    </tr>\n",
       "  </tbody>\n",
       "</table>\n",
       "</div>"
      ],
      "text/plain": [
       "   ID tpep_pickup_datetime tpep_dropoff_datetime  trip_distance  fare_amount  \\\n",
       "0   1  2018-11-06 12:42:24   2018-11-06 12:54:49           0.87          9.0   \n",
       "1   2  2018-02-16 19:19:59   2018-02-16 19:26:41           1.50          7.0   \n",
       "2   3  2018-02-12 16:50:01   2018-02-12 17:43:55          22.60         52.0   \n",
       "3   4  2018-03-28 19:58:44   2018-03-28 20:07:14           1.61          8.0   \n",
       "4   5  2018-11-02 06:34:49   2018-11-02 06:50:07           2.70         12.5   \n",
       "\n",
       "   extra  mta_tax  tip_amount  tolls_amount  improvement_surcharge  \\\n",
       "0    0.0      0.5        0.00          0.00                    0.3   \n",
       "1    1.0      0.5        1.32          0.00                    0.3   \n",
       "2    0.0      0.5        0.00          5.76                    0.3   \n",
       "3    1.0      0.5        1.00          0.00                    0.3   \n",
       "4    0.0      0.5        2.65          0.00                    0.3   \n",
       "\n",
       "   total_amount  fk_id_Ratecode  fk_id_payment_type  fk_id_PUZone  \\\n",
       "0          9.80               1                   1           229   \n",
       "1         10.12               1                   2            48   \n",
       "2         58.56               2                   1           132   \n",
       "3         10.80               1                   2            68   \n",
       "4         15.95               1                   2            79   \n",
       "\n",
       "   fk_id_DOZone   id  \n",
       "0           237  309  \n",
       "1           158   46  \n",
       "2            48   42  \n",
       "3           211   86  \n",
       "4           230  305  "
      ]
     },
     "execution_count": 9,
     "metadata": {},
     "output_type": "execute_result"
    }
   ],
   "source": [
    "df_muestra.head()"
   ]
  },
  {
   "cell_type": "markdown",
   "metadata": {},
   "source": [
    "Agregamos el volumen del viaje,como cada viaje es individual el volumen es 1 "
   ]
  },
  {
   "cell_type": "code",
   "execution_count": 10,
   "metadata": {
    "ExecuteTime": {
     "end_time": "2021-01-14T07:22:38.000593Z",
     "start_time": "2021-01-14T07:22:37.981973Z"
    }
   },
   "outputs": [],
   "source": [
    "df_muestra['Volumen']=1 "
   ]
  },
  {
   "cell_type": "code",
   "execution_count": 11,
   "metadata": {
    "ExecuteTime": {
     "end_time": "2021-01-14T07:22:40.683145Z",
     "start_time": "2021-01-14T07:22:40.612173Z"
    }
   },
   "outputs": [],
   "source": [
    "df_muestra['hora']=df_muestra['tpep_pickup_datetime'].map(lambda x:x.strftime('%H')).astype('int')"
   ]
  },
  {
   "cell_type": "markdown",
   "metadata": {},
   "source": [
    "Ahora agrupamos dia y id , pero para ello,quitamos las variables que no nos sirvan, la finalidad de este agrupamiento es para ver cuantos viajes se hicieron en esa hora en ese  dia "
   ]
  },
  {
   "cell_type": "code",
   "execution_count": 12,
   "metadata": {
    "ExecuteTime": {
     "end_time": "2021-01-14T07:22:43.051911Z",
     "start_time": "2021-01-14T07:22:42.648305Z"
    }
   },
   "outputs": [],
   "source": [
    "df_muestra.drop(['ID', 'tpep_pickup_datetime', 'tpep_dropoff_datetime',\n",
    "                'fk_id_Ratecode','fk_id_payment_type','fk_id_DOZone'],\n",
    "               axis=1,inplace=True)"
   ]
  },
  {
   "cell_type": "code",
   "execution_count": 13,
   "metadata": {
    "ExecuteTime": {
     "end_time": "2021-01-14T07:22:45.985386Z",
     "start_time": "2021-01-14T07:22:45.056636Z"
    }
   },
   "outputs": [],
   "source": [
    "um=['id','hora','fk_id_PUZone']\n",
    "df_muestra=df_muestra.groupby(um).sum().reset_index()"
   ]
  },
  {
   "cell_type": "code",
   "execution_count": 14,
   "metadata": {
    "ExecuteTime": {
     "end_time": "2021-01-14T07:22:47.594587Z",
     "start_time": "2021-01-14T07:22:47.570412Z"
    }
   },
   "outputs": [
    {
     "data": {
      "text/html": [
       "<div>\n",
       "<style scoped>\n",
       "    .dataframe tbody tr th:only-of-type {\n",
       "        vertical-align: middle;\n",
       "    }\n",
       "\n",
       "    .dataframe tbody tr th {\n",
       "        vertical-align: top;\n",
       "    }\n",
       "\n",
       "    .dataframe thead th {\n",
       "        text-align: right;\n",
       "    }\n",
       "</style>\n",
       "<table border=\"1\" class=\"dataframe\">\n",
       "  <thead>\n",
       "    <tr style=\"text-align: right;\">\n",
       "      <th></th>\n",
       "      <th>id</th>\n",
       "      <th>hora</th>\n",
       "      <th>fk_id_PUZone</th>\n",
       "      <th>trip_distance</th>\n",
       "      <th>fare_amount</th>\n",
       "      <th>extra</th>\n",
       "      <th>mta_tax</th>\n",
       "      <th>tip_amount</th>\n",
       "      <th>tolls_amount</th>\n",
       "      <th>improvement_surcharge</th>\n",
       "      <th>total_amount</th>\n",
       "      <th>Volumen</th>\n",
       "    </tr>\n",
       "  </thead>\n",
       "  <tbody>\n",
       "    <tr>\n",
       "      <th>0</th>\n",
       "      <td>0</td>\n",
       "      <td>0</td>\n",
       "      <td>13</td>\n",
       "      <td>15.40</td>\n",
       "      <td>53.0</td>\n",
       "      <td>1.0</td>\n",
       "      <td>1.0</td>\n",
       "      <td>4.05</td>\n",
       "      <td>0.0</td>\n",
       "      <td>0.6</td>\n",
       "      <td>59.65</td>\n",
       "      <td>2</td>\n",
       "    </tr>\n",
       "    <tr>\n",
       "      <th>1</th>\n",
       "      <td>0</td>\n",
       "      <td>0</td>\n",
       "      <td>41</td>\n",
       "      <td>0.04</td>\n",
       "      <td>28.0</td>\n",
       "      <td>0.0</td>\n",
       "      <td>0.0</td>\n",
       "      <td>5.72</td>\n",
       "      <td>0.0</td>\n",
       "      <td>0.6</td>\n",
       "      <td>34.32</td>\n",
       "      <td>2</td>\n",
       "    </tr>\n",
       "    <tr>\n",
       "      <th>2</th>\n",
       "      <td>0</td>\n",
       "      <td>0</td>\n",
       "      <td>42</td>\n",
       "      <td>0.60</td>\n",
       "      <td>4.5</td>\n",
       "      <td>0.5</td>\n",
       "      <td>0.5</td>\n",
       "      <td>0.00</td>\n",
       "      <td>0.0</td>\n",
       "      <td>0.3</td>\n",
       "      <td>5.80</td>\n",
       "      <td>1</td>\n",
       "    </tr>\n",
       "    <tr>\n",
       "      <th>3</th>\n",
       "      <td>0</td>\n",
       "      <td>0</td>\n",
       "      <td>43</td>\n",
       "      <td>34.50</td>\n",
       "      <td>151.5</td>\n",
       "      <td>3.5</td>\n",
       "      <td>3.5</td>\n",
       "      <td>0.00</td>\n",
       "      <td>0.0</td>\n",
       "      <td>2.1</td>\n",
       "      <td>160.60</td>\n",
       "      <td>7</td>\n",
       "    </tr>\n",
       "    <tr>\n",
       "      <th>4</th>\n",
       "      <td>0</td>\n",
       "      <td>0</td>\n",
       "      <td>45</td>\n",
       "      <td>3.60</td>\n",
       "      <td>19.0</td>\n",
       "      <td>1.0</td>\n",
       "      <td>1.0</td>\n",
       "      <td>1.85</td>\n",
       "      <td>0.0</td>\n",
       "      <td>0.6</td>\n",
       "      <td>23.45</td>\n",
       "      <td>2</td>\n",
       "    </tr>\n",
       "  </tbody>\n",
       "</table>\n",
       "</div>"
      ],
      "text/plain": [
       "   id  hora  fk_id_PUZone  trip_distance  fare_amount  extra  mta_tax  \\\n",
       "0   0     0            13          15.40         53.0    1.0      1.0   \n",
       "1   0     0            41           0.04         28.0    0.0      0.0   \n",
       "2   0     0            42           0.60          4.5    0.5      0.5   \n",
       "3   0     0            43          34.50        151.5    3.5      3.5   \n",
       "4   0     0            45           3.60         19.0    1.0      1.0   \n",
       "\n",
       "   tip_amount  tolls_amount  improvement_surcharge  total_amount  Volumen  \n",
       "0        4.05           0.0                    0.6         59.65        2  \n",
       "1        5.72           0.0                    0.6         34.32        2  \n",
       "2        0.00           0.0                    0.3          5.80        1  \n",
       "3        0.00           0.0                    2.1        160.60        7  \n",
       "4        1.85           0.0                    0.6         23.45        2  "
      ]
     },
     "execution_count": 14,
     "metadata": {},
     "output_type": "execute_result"
    }
   ],
   "source": [
    "df_muestra.head()"
   ]
  },
  {
   "cell_type": "markdown",
   "metadata": {},
   "source": [
    "## Anclas "
   ]
  },
  {
   "cell_type": "code",
   "execution_count": 27,
   "metadata": {
    "ExecuteTime": {
     "end_time": "2021-01-14T07:22:49.755465Z",
     "start_time": "2021-01-14T07:22:49.744136Z"
    }
   },
   "outputs": [],
   "source": [
    "vobs=14\n",
    "vdes=1 "
   ]
  },
  {
   "cell_type": "code",
   "execution_count": 28,
   "metadata": {
    "ExecuteTime": {
     "end_time": "2021-01-14T07:22:51.953606Z",
     "start_time": "2021-01-14T07:22:51.939808Z"
    },
    "scrolled": true
   },
   "outputs": [
    {
     "data": {
      "text/plain": [
       "(13, 363)"
      ]
     },
     "execution_count": 28,
     "metadata": {},
     "output_type": "execute_result"
    }
   ],
   "source": [
    "vini=vobs-1\n",
    "vfin=df_muestra['id'].max()-vdes\n",
    "vini,vfin"
   ]
  },
  {
   "cell_type": "code",
   "execution_count": 29,
   "metadata": {
    "ExecuteTime": {
     "end_time": "2021-01-14T07:22:53.831069Z",
     "start_time": "2021-01-14T07:22:53.822322Z"
    }
   },
   "outputs": [],
   "source": [
    "anclas=list(range(vini,vfin+1))"
   ]
  },
  {
   "cell_type": "code",
   "execution_count": 30,
   "metadata": {
    "ExecuteTime": {
     "end_time": "2021-01-14T07:22:55.773826Z",
     "start_time": "2021-01-14T07:22:55.761318Z"
    }
   },
   "outputs": [
    {
     "data": {
      "text/plain": [
       "351"
      ]
     },
     "execution_count": 30,
     "metadata": {},
     "output_type": "execute_result"
    }
   ],
   "source": [
    "len(anclas)"
   ]
  },
  {
   "cell_type": "code",
   "execution_count": 19,
   "metadata": {
    "ExecuteTime": {
     "end_time": "2021-01-14T07:22:57.667020Z",
     "start_time": "2021-01-14T07:22:57.618547Z"
    }
   },
   "outputs": [
    {
     "data": {
      "text/html": [
       "<div>\n",
       "<style scoped>\n",
       "    .dataframe tbody tr th:only-of-type {\n",
       "        vertical-align: middle;\n",
       "    }\n",
       "\n",
       "    .dataframe tbody tr th {\n",
       "        vertical-align: top;\n",
       "    }\n",
       "\n",
       "    .dataframe thead th {\n",
       "        text-align: right;\n",
       "    }\n",
       "</style>\n",
       "<table border=\"1\" class=\"dataframe\">\n",
       "  <thead>\n",
       "    <tr style=\"text-align: right;\">\n",
       "      <th></th>\n",
       "      <th>id</th>\n",
       "      <th>hora</th>\n",
       "      <th>fk_id_PUZone</th>\n",
       "      <th>trip_distance</th>\n",
       "      <th>fare_amount</th>\n",
       "      <th>extra</th>\n",
       "      <th>mta_tax</th>\n",
       "      <th>tip_amount</th>\n",
       "      <th>tolls_amount</th>\n",
       "      <th>improvement_surcharge</th>\n",
       "      <th>total_amount</th>\n",
       "      <th>Volumen</th>\n",
       "    </tr>\n",
       "  </thead>\n",
       "  <tbody>\n",
       "    <tr>\n",
       "      <th>0</th>\n",
       "      <td>0</td>\n",
       "      <td>0</td>\n",
       "      <td>13</td>\n",
       "      <td>15.40</td>\n",
       "      <td>53.0</td>\n",
       "      <td>1.0</td>\n",
       "      <td>1.0</td>\n",
       "      <td>4.05</td>\n",
       "      <td>0.0</td>\n",
       "      <td>0.6</td>\n",
       "      <td>59.65</td>\n",
       "      <td>2</td>\n",
       "    </tr>\n",
       "    <tr>\n",
       "      <th>1</th>\n",
       "      <td>0</td>\n",
       "      <td>0</td>\n",
       "      <td>41</td>\n",
       "      <td>0.04</td>\n",
       "      <td>28.0</td>\n",
       "      <td>0.0</td>\n",
       "      <td>0.0</td>\n",
       "      <td>5.72</td>\n",
       "      <td>0.0</td>\n",
       "      <td>0.6</td>\n",
       "      <td>34.32</td>\n",
       "      <td>2</td>\n",
       "    </tr>\n",
       "    <tr>\n",
       "      <th>2</th>\n",
       "      <td>0</td>\n",
       "      <td>0</td>\n",
       "      <td>42</td>\n",
       "      <td>0.60</td>\n",
       "      <td>4.5</td>\n",
       "      <td>0.5</td>\n",
       "      <td>0.5</td>\n",
       "      <td>0.00</td>\n",
       "      <td>0.0</td>\n",
       "      <td>0.3</td>\n",
       "      <td>5.80</td>\n",
       "      <td>1</td>\n",
       "    </tr>\n",
       "    <tr>\n",
       "      <th>3</th>\n",
       "      <td>0</td>\n",
       "      <td>0</td>\n",
       "      <td>43</td>\n",
       "      <td>34.50</td>\n",
       "      <td>151.5</td>\n",
       "      <td>3.5</td>\n",
       "      <td>3.5</td>\n",
       "      <td>0.00</td>\n",
       "      <td>0.0</td>\n",
       "      <td>2.1</td>\n",
       "      <td>160.60</td>\n",
       "      <td>7</td>\n",
       "    </tr>\n",
       "    <tr>\n",
       "      <th>4</th>\n",
       "      <td>0</td>\n",
       "      <td>0</td>\n",
       "      <td>45</td>\n",
       "      <td>3.60</td>\n",
       "      <td>19.0</td>\n",
       "      <td>1.0</td>\n",
       "      <td>1.0</td>\n",
       "      <td>1.85</td>\n",
       "      <td>0.0</td>\n",
       "      <td>0.6</td>\n",
       "      <td>23.45</td>\n",
       "      <td>2</td>\n",
       "    </tr>\n",
       "  </tbody>\n",
       "</table>\n",
       "</div>"
      ],
      "text/plain": [
       "   id  hora  fk_id_PUZone  trip_distance  fare_amount  extra  mta_tax  \\\n",
       "0   0     0            13          15.40         53.0    1.0      1.0   \n",
       "1   0     0            41           0.04         28.0    0.0      0.0   \n",
       "2   0     0            42           0.60          4.5    0.5      0.5   \n",
       "3   0     0            43          34.50        151.5    3.5      3.5   \n",
       "4   0     0            45           3.60         19.0    1.0      1.0   \n",
       "\n",
       "   tip_amount  tolls_amount  improvement_surcharge  total_amount  Volumen  \n",
       "0        4.05           0.0                    0.6         59.65        2  \n",
       "1        5.72           0.0                    0.6         34.32        2  \n",
       "2        0.00           0.0                    0.3          5.80        1  \n",
       "3        0.00           0.0                    2.1        160.60        7  \n",
       "4        1.85           0.0                    0.6         23.45        2  "
      ]
     },
     "execution_count": 19,
     "metadata": {},
     "output_type": "execute_result"
    }
   ],
   "source": [
    "df_muestra.head()"
   ]
  },
  {
   "cell_type": "code",
   "execution_count": 31,
   "metadata": {
    "ExecuteTime": {
     "end_time": "2021-01-14T07:22:59.328287Z",
     "start_time": "2021-01-14T07:22:59.311085Z"
    }
   },
   "outputs": [],
   "source": [
    "def predictoras(ancla):\n",
    "    step=2\n",
    "    aux=df_muestra.loc[(df_muestra['id']>=(ancla-vobs+1))&(df_muestra['id']<=ancla)]\n",
    "    aux['id'].replace(dict(zip(reversed(aux['id'].unique()),range(1,vobs+1))),inplace=True)\n",
    "    var=['trip_distance', 'fare_amount', 'extra',\n",
    "       'mta_tax', 'tip_amount', 'tolls_amount', 'improvement_surcharge',\n",
    "       'total_amount', 'Volumen']\n",
    "    aux = aux.pivot_table(index=['hora','fk_id_PUZone'],\n",
    "                        columns='id',\n",
    "                        values=var,\n",
    "                        aggfunc=['min', 'max', 'mean'])\n",
    "    aux=aux.fillna(0)\n",
    "    aux.columns=[f'{x}_{y}_{z}' for x,y,z in aux.columns]\n",
    "    varx=sorted(set([\"_\".join(c.split('_')[:-1]) for c in aux.columns]))\n",
    "    for k in range(step,vobs+step,step):\n",
    "        for v in varx:\n",
    "            vec=[f'{v}_{i+1}' for i in range(k)]\n",
    "            aux[f'v_mean_{v}_{k}']=aux[vec].mean(axis=1)\n",
    "            aux[f'v_max_{v}_{k}']=aux[vec].max(axis=1)\n",
    "            aux[f'v_min_{v}_{k}']=aux[vec].min(axis=1)\n",
    "    aux=aux.filter(like='v_').reset_index()\n",
    "    aux.insert(1,'ancla',ancla)\n",
    "      \n",
    "    return(aux)\n"
   ]
  },
  {
   "cell_type": "code",
   "execution_count": 32,
   "metadata": {
    "ExecuteTime": {
     "end_time": "2021-01-14T07:23:12.811245Z",
     "start_time": "2021-01-14T07:23:11.304846Z"
    }
   },
   "outputs": [
    {
     "name": "stdout",
     "output_type": "stream",
     "text": [
      "363\n"
     ]
    },
    {
     "data": {
      "text/html": [
       "<div>\n",
       "<style scoped>\n",
       "    .dataframe tbody tr th:only-of-type {\n",
       "        vertical-align: middle;\n",
       "    }\n",
       "\n",
       "    .dataframe tbody tr th {\n",
       "        vertical-align: top;\n",
       "    }\n",
       "\n",
       "    .dataframe thead th {\n",
       "        text-align: right;\n",
       "    }\n",
       "</style>\n",
       "<table border=\"1\" class=\"dataframe\">\n",
       "  <thead>\n",
       "    <tr style=\"text-align: right;\">\n",
       "      <th></th>\n",
       "      <th>hora</th>\n",
       "      <th>ancla</th>\n",
       "      <th>fk_id_PUZone</th>\n",
       "      <th>v_mean_max_Volumen_2</th>\n",
       "      <th>v_max_max_Volumen_2</th>\n",
       "      <th>v_min_max_Volumen_2</th>\n",
       "      <th>v_mean_max_extra_2</th>\n",
       "      <th>v_max_max_extra_2</th>\n",
       "      <th>v_min_max_extra_2</th>\n",
       "      <th>v_mean_max_fare_amount_2</th>\n",
       "      <th>...</th>\n",
       "      <th>v_min_min_tip_amount_14</th>\n",
       "      <th>v_mean_min_tolls_amount_14</th>\n",
       "      <th>v_max_min_tolls_amount_14</th>\n",
       "      <th>v_min_min_tolls_amount_14</th>\n",
       "      <th>v_mean_min_total_amount_14</th>\n",
       "      <th>v_max_min_total_amount_14</th>\n",
       "      <th>v_min_min_total_amount_14</th>\n",
       "      <th>v_mean_min_trip_distance_14</th>\n",
       "      <th>v_max_min_trip_distance_14</th>\n",
       "      <th>v_min_min_trip_distance_14</th>\n",
       "    </tr>\n",
       "  </thead>\n",
       "  <tbody>\n",
       "    <tr>\n",
       "      <th>0</th>\n",
       "      <td>0</td>\n",
       "      <td>363</td>\n",
       "      <td>4</td>\n",
       "      <td>0.5</td>\n",
       "      <td>1.0</td>\n",
       "      <td>0.0</td>\n",
       "      <td>0.25</td>\n",
       "      <td>0.5</td>\n",
       "      <td>0.0</td>\n",
       "      <td>10.50</td>\n",
       "      <td>...</td>\n",
       "      <td>0.0</td>\n",
       "      <td>0.0</td>\n",
       "      <td>0.0</td>\n",
       "      <td>0.0</td>\n",
       "      <td>3.614286</td>\n",
       "      <td>32.30</td>\n",
       "      <td>0.0</td>\n",
       "      <td>0.749286</td>\n",
       "      <td>6.00</td>\n",
       "      <td>0.0</td>\n",
       "    </tr>\n",
       "    <tr>\n",
       "      <th>1</th>\n",
       "      <td>0</td>\n",
       "      <td>363</td>\n",
       "      <td>7</td>\n",
       "      <td>0.5</td>\n",
       "      <td>1.0</td>\n",
       "      <td>0.0</td>\n",
       "      <td>0.25</td>\n",
       "      <td>0.5</td>\n",
       "      <td>0.0</td>\n",
       "      <td>4.25</td>\n",
       "      <td>...</td>\n",
       "      <td>0.0</td>\n",
       "      <td>0.0</td>\n",
       "      <td>0.0</td>\n",
       "      <td>0.0</td>\n",
       "      <td>2.296429</td>\n",
       "      <td>12.25</td>\n",
       "      <td>0.0</td>\n",
       "      <td>0.323571</td>\n",
       "      <td>1.91</td>\n",
       "      <td>0.0</td>\n",
       "    </tr>\n",
       "    <tr>\n",
       "      <th>2</th>\n",
       "      <td>0</td>\n",
       "      <td>363</td>\n",
       "      <td>13</td>\n",
       "      <td>0.0</td>\n",
       "      <td>0.0</td>\n",
       "      <td>0.0</td>\n",
       "      <td>0.00</td>\n",
       "      <td>0.0</td>\n",
       "      <td>0.0</td>\n",
       "      <td>0.00</td>\n",
       "      <td>...</td>\n",
       "      <td>0.0</td>\n",
       "      <td>0.0</td>\n",
       "      <td>0.0</td>\n",
       "      <td>0.0</td>\n",
       "      <td>4.627143</td>\n",
       "      <td>27.83</td>\n",
       "      <td>0.0</td>\n",
       "      <td>0.997857</td>\n",
       "      <td>6.91</td>\n",
       "      <td>0.0</td>\n",
       "    </tr>\n",
       "    <tr>\n",
       "      <th>3</th>\n",
       "      <td>0</td>\n",
       "      <td>363</td>\n",
       "      <td>17</td>\n",
       "      <td>0.0</td>\n",
       "      <td>0.0</td>\n",
       "      <td>0.0</td>\n",
       "      <td>0.00</td>\n",
       "      <td>0.0</td>\n",
       "      <td>0.0</td>\n",
       "      <td>0.00</td>\n",
       "      <td>...</td>\n",
       "      <td>0.0</td>\n",
       "      <td>0.0</td>\n",
       "      <td>0.0</td>\n",
       "      <td>0.0</td>\n",
       "      <td>1.128571</td>\n",
       "      <td>15.80</td>\n",
       "      <td>0.0</td>\n",
       "      <td>0.257143</td>\n",
       "      <td>3.60</td>\n",
       "      <td>0.0</td>\n",
       "    </tr>\n",
       "    <tr>\n",
       "      <th>4</th>\n",
       "      <td>0</td>\n",
       "      <td>363</td>\n",
       "      <td>24</td>\n",
       "      <td>0.0</td>\n",
       "      <td>0.0</td>\n",
       "      <td>0.0</td>\n",
       "      <td>0.00</td>\n",
       "      <td>0.0</td>\n",
       "      <td>0.0</td>\n",
       "      <td>0.00</td>\n",
       "      <td>...</td>\n",
       "      <td>0.0</td>\n",
       "      <td>0.0</td>\n",
       "      <td>0.0</td>\n",
       "      <td>0.0</td>\n",
       "      <td>0.514286</td>\n",
       "      <td>7.20</td>\n",
       "      <td>0.0</td>\n",
       "      <td>0.050000</td>\n",
       "      <td>0.70</td>\n",
       "      <td>0.0</td>\n",
       "    </tr>\n",
       "    <tr>\n",
       "      <th>...</th>\n",
       "      <td>...</td>\n",
       "      <td>...</td>\n",
       "      <td>...</td>\n",
       "      <td>...</td>\n",
       "      <td>...</td>\n",
       "      <td>...</td>\n",
       "      <td>...</td>\n",
       "      <td>...</td>\n",
       "      <td>...</td>\n",
       "      <td>...</td>\n",
       "      <td>...</td>\n",
       "      <td>...</td>\n",
       "      <td>...</td>\n",
       "      <td>...</td>\n",
       "      <td>...</td>\n",
       "      <td>...</td>\n",
       "      <td>...</td>\n",
       "      <td>...</td>\n",
       "      <td>...</td>\n",
       "      <td>...</td>\n",
       "      <td>...</td>\n",
       "    </tr>\n",
       "    <tr>\n",
       "      <th>2150</th>\n",
       "      <td>23</td>\n",
       "      <td>363</td>\n",
       "      <td>255</td>\n",
       "      <td>0.5</td>\n",
       "      <td>1.0</td>\n",
       "      <td>0.0</td>\n",
       "      <td>0.25</td>\n",
       "      <td>0.5</td>\n",
       "      <td>0.0</td>\n",
       "      <td>5.50</td>\n",
       "      <td>...</td>\n",
       "      <td>0.0</td>\n",
       "      <td>0.0</td>\n",
       "      <td>0.0</td>\n",
       "      <td>0.0</td>\n",
       "      <td>8.635000</td>\n",
       "      <td>52.92</td>\n",
       "      <td>0.0</td>\n",
       "      <td>1.621429</td>\n",
       "      <td>12.92</td>\n",
       "      <td>0.0</td>\n",
       "    </tr>\n",
       "    <tr>\n",
       "      <th>2151</th>\n",
       "      <td>23</td>\n",
       "      <td>363</td>\n",
       "      <td>256</td>\n",
       "      <td>0.0</td>\n",
       "      <td>0.0</td>\n",
       "      <td>0.0</td>\n",
       "      <td>0.00</td>\n",
       "      <td>0.0</td>\n",
       "      <td>0.0</td>\n",
       "      <td>0.00</td>\n",
       "      <td>...</td>\n",
       "      <td>0.0</td>\n",
       "      <td>0.0</td>\n",
       "      <td>0.0</td>\n",
       "      <td>0.0</td>\n",
       "      <td>1.511429</td>\n",
       "      <td>12.36</td>\n",
       "      <td>0.0</td>\n",
       "      <td>0.275714</td>\n",
       "      <td>2.25</td>\n",
       "      <td>0.0</td>\n",
       "    </tr>\n",
       "    <tr>\n",
       "      <th>2152</th>\n",
       "      <td>23</td>\n",
       "      <td>363</td>\n",
       "      <td>261</td>\n",
       "      <td>0.5</td>\n",
       "      <td>1.0</td>\n",
       "      <td>0.0</td>\n",
       "      <td>0.25</td>\n",
       "      <td>0.5</td>\n",
       "      <td>0.0</td>\n",
       "      <td>5.00</td>\n",
       "      <td>...</td>\n",
       "      <td>0.0</td>\n",
       "      <td>0.0</td>\n",
       "      <td>0.0</td>\n",
       "      <td>0.0</td>\n",
       "      <td>4.394286</td>\n",
       "      <td>21.80</td>\n",
       "      <td>0.0</td>\n",
       "      <td>1.030000</td>\n",
       "      <td>6.50</td>\n",
       "      <td>0.0</td>\n",
       "    </tr>\n",
       "    <tr>\n",
       "      <th>2153</th>\n",
       "      <td>23</td>\n",
       "      <td>363</td>\n",
       "      <td>262</td>\n",
       "      <td>0.0</td>\n",
       "      <td>0.0</td>\n",
       "      <td>0.0</td>\n",
       "      <td>0.00</td>\n",
       "      <td>0.0</td>\n",
       "      <td>0.0</td>\n",
       "      <td>0.00</td>\n",
       "      <td>...</td>\n",
       "      <td>0.0</td>\n",
       "      <td>0.0</td>\n",
       "      <td>0.0</td>\n",
       "      <td>0.0</td>\n",
       "      <td>9.871429</td>\n",
       "      <td>50.50</td>\n",
       "      <td>0.0</td>\n",
       "      <td>1.796429</td>\n",
       "      <td>11.37</td>\n",
       "      <td>0.0</td>\n",
       "    </tr>\n",
       "    <tr>\n",
       "      <th>2154</th>\n",
       "      <td>23</td>\n",
       "      <td>363</td>\n",
       "      <td>263</td>\n",
       "      <td>1.0</td>\n",
       "      <td>1.0</td>\n",
       "      <td>1.0</td>\n",
       "      <td>0.50</td>\n",
       "      <td>0.5</td>\n",
       "      <td>0.5</td>\n",
       "      <td>5.75</td>\n",
       "      <td>...</td>\n",
       "      <td>0.0</td>\n",
       "      <td>0.0</td>\n",
       "      <td>0.0</td>\n",
       "      <td>0.0</td>\n",
       "      <td>39.323571</td>\n",
       "      <td>85.19</td>\n",
       "      <td>0.0</td>\n",
       "      <td>7.975000</td>\n",
       "      <td>19.23</td>\n",
       "      <td>0.0</td>\n",
       "    </tr>\n",
       "  </tbody>\n",
       "</table>\n",
       "<p>2155 rows × 570 columns</p>\n",
       "</div>"
      ],
      "text/plain": [
       "      hora  ancla  fk_id_PUZone  v_mean_max_Volumen_2  v_max_max_Volumen_2  \\\n",
       "0        0    363             4                   0.5                  1.0   \n",
       "1        0    363             7                   0.5                  1.0   \n",
       "2        0    363            13                   0.0                  0.0   \n",
       "3        0    363            17                   0.0                  0.0   \n",
       "4        0    363            24                   0.0                  0.0   \n",
       "...    ...    ...           ...                   ...                  ...   \n",
       "2150    23    363           255                   0.5                  1.0   \n",
       "2151    23    363           256                   0.0                  0.0   \n",
       "2152    23    363           261                   0.5                  1.0   \n",
       "2153    23    363           262                   0.0                  0.0   \n",
       "2154    23    363           263                   1.0                  1.0   \n",
       "\n",
       "      v_min_max_Volumen_2  v_mean_max_extra_2  v_max_max_extra_2  \\\n",
       "0                     0.0                0.25                0.5   \n",
       "1                     0.0                0.25                0.5   \n",
       "2                     0.0                0.00                0.0   \n",
       "3                     0.0                0.00                0.0   \n",
       "4                     0.0                0.00                0.0   \n",
       "...                   ...                 ...                ...   \n",
       "2150                  0.0                0.25                0.5   \n",
       "2151                  0.0                0.00                0.0   \n",
       "2152                  0.0                0.25                0.5   \n",
       "2153                  0.0                0.00                0.0   \n",
       "2154                  1.0                0.50                0.5   \n",
       "\n",
       "      v_min_max_extra_2  v_mean_max_fare_amount_2  ...  \\\n",
       "0                   0.0                     10.50  ...   \n",
       "1                   0.0                      4.25  ...   \n",
       "2                   0.0                      0.00  ...   \n",
       "3                   0.0                      0.00  ...   \n",
       "4                   0.0                      0.00  ...   \n",
       "...                 ...                       ...  ...   \n",
       "2150                0.0                      5.50  ...   \n",
       "2151                0.0                      0.00  ...   \n",
       "2152                0.0                      5.00  ...   \n",
       "2153                0.0                      0.00  ...   \n",
       "2154                0.5                      5.75  ...   \n",
       "\n",
       "      v_min_min_tip_amount_14  v_mean_min_tolls_amount_14  \\\n",
       "0                         0.0                         0.0   \n",
       "1                         0.0                         0.0   \n",
       "2                         0.0                         0.0   \n",
       "3                         0.0                         0.0   \n",
       "4                         0.0                         0.0   \n",
       "...                       ...                         ...   \n",
       "2150                      0.0                         0.0   \n",
       "2151                      0.0                         0.0   \n",
       "2152                      0.0                         0.0   \n",
       "2153                      0.0                         0.0   \n",
       "2154                      0.0                         0.0   \n",
       "\n",
       "      v_max_min_tolls_amount_14  v_min_min_tolls_amount_14  \\\n",
       "0                           0.0                        0.0   \n",
       "1                           0.0                        0.0   \n",
       "2                           0.0                        0.0   \n",
       "3                           0.0                        0.0   \n",
       "4                           0.0                        0.0   \n",
       "...                         ...                        ...   \n",
       "2150                        0.0                        0.0   \n",
       "2151                        0.0                        0.0   \n",
       "2152                        0.0                        0.0   \n",
       "2153                        0.0                        0.0   \n",
       "2154                        0.0                        0.0   \n",
       "\n",
       "      v_mean_min_total_amount_14  v_max_min_total_amount_14  \\\n",
       "0                       3.614286                      32.30   \n",
       "1                       2.296429                      12.25   \n",
       "2                       4.627143                      27.83   \n",
       "3                       1.128571                      15.80   \n",
       "4                       0.514286                       7.20   \n",
       "...                          ...                        ...   \n",
       "2150                    8.635000                      52.92   \n",
       "2151                    1.511429                      12.36   \n",
       "2152                    4.394286                      21.80   \n",
       "2153                    9.871429                      50.50   \n",
       "2154                   39.323571                      85.19   \n",
       "\n",
       "      v_min_min_total_amount_14  v_mean_min_trip_distance_14  \\\n",
       "0                           0.0                     0.749286   \n",
       "1                           0.0                     0.323571   \n",
       "2                           0.0                     0.997857   \n",
       "3                           0.0                     0.257143   \n",
       "4                           0.0                     0.050000   \n",
       "...                         ...                          ...   \n",
       "2150                        0.0                     1.621429   \n",
       "2151                        0.0                     0.275714   \n",
       "2152                        0.0                     1.030000   \n",
       "2153                        0.0                     1.796429   \n",
       "2154                        0.0                     7.975000   \n",
       "\n",
       "      v_max_min_trip_distance_14  v_min_min_trip_distance_14  \n",
       "0                           6.00                         0.0  \n",
       "1                           1.91                         0.0  \n",
       "2                           6.91                         0.0  \n",
       "3                           3.60                         0.0  \n",
       "4                           0.70                         0.0  \n",
       "...                          ...                         ...  \n",
       "2150                       12.92                         0.0  \n",
       "2151                        2.25                         0.0  \n",
       "2152                        6.50                         0.0  \n",
       "2153                       11.37                         0.0  \n",
       "2154                       19.23                         0.0  \n",
       "\n",
       "[2155 rows x 570 columns]"
      ]
     },
     "execution_count": 32,
     "metadata": {},
     "output_type": "execute_result"
    }
   ],
   "source": [
    "predictoras(anclas[-1])"
   ]
  },
  {
   "cell_type": "markdown",
   "metadata": {},
   "source": [
    "# ING. DE DATOS"
   ]
  },
  {
   "cell_type": "markdown",
   "metadata": {},
   "source": [
    "## Matriz X "
   ]
  },
  {
   "cell_type": "code",
   "execution_count": null,
   "metadata": {},
   "outputs": [],
   "source": [
    "X=pd.concat(map(predictoras,anclas[-100:]),ignore_index=False)"
   ]
  },
  {
   "cell_type": "code",
   "execution_count": 34,
   "metadata": {
    "ExecuteTime": {
     "end_time": "2021-01-14T07:57:47.897795Z",
     "start_time": "2021-01-14T07:57:44.888548Z"
    },
    "scrolled": true
   },
   "outputs": [],
   "source": [
    "X.to_pickle('Prueba2.pickle')"
   ]
  },
  {
   "cell_type": "code",
   "execution_count": 408,
   "metadata": {},
   "outputs": [],
   "source": [
    "X=pd.read_pickle('Prueba2.pickle')"
   ]
  },
  {
   "cell_type": "markdown",
   "metadata": {},
   "source": [
    "## Vector Y "
   ]
  },
  {
   "cell_type": "code",
   "execution_count": 35,
   "metadata": {
    "ExecuteTime": {
     "end_time": "2021-01-14T07:58:56.326789Z",
     "start_time": "2021-01-14T07:58:56.099661Z"
    }
   },
   "outputs": [],
   "source": [
    "y=df_muestra[um+['Volumen']].copy()\n",
    "y =y.groupby(um).sum().reset_index()"
   ]
  },
  {
   "cell_type": "code",
   "execution_count": 36,
   "metadata": {
    "ExecuteTime": {
     "end_time": "2021-01-14T07:59:10.982459Z",
     "start_time": "2021-01-14T07:59:10.971107Z"
    }
   },
   "outputs": [],
   "source": [
    "y['ancla']=y['id']-1"
   ]
  },
  {
   "cell_type": "code",
   "execution_count": 37,
   "metadata": {
    "ExecuteTime": {
     "end_time": "2021-01-14T07:59:13.537588Z",
     "start_time": "2021-01-14T07:59:13.516245Z"
    },
    "scrolled": false
   },
   "outputs": [
    {
     "data": {
      "text/html": [
       "<div>\n",
       "<style scoped>\n",
       "    .dataframe tbody tr th:only-of-type {\n",
       "        vertical-align: middle;\n",
       "    }\n",
       "\n",
       "    .dataframe tbody tr th {\n",
       "        vertical-align: top;\n",
       "    }\n",
       "\n",
       "    .dataframe thead th {\n",
       "        text-align: right;\n",
       "    }\n",
       "</style>\n",
       "<table border=\"1\" class=\"dataframe\">\n",
       "  <thead>\n",
       "    <tr style=\"text-align: right;\">\n",
       "      <th></th>\n",
       "      <th>id</th>\n",
       "      <th>hora</th>\n",
       "      <th>fk_id_PUZone</th>\n",
       "      <th>Volumen</th>\n",
       "      <th>ancla</th>\n",
       "    </tr>\n",
       "  </thead>\n",
       "  <tbody>\n",
       "    <tr>\n",
       "      <th>403750</th>\n",
       "      <td>364</td>\n",
       "      <td>0</td>\n",
       "      <td>48</td>\n",
       "      <td>1</td>\n",
       "      <td>363</td>\n",
       "    </tr>\n",
       "    <tr>\n",
       "      <th>403751</th>\n",
       "      <td>364</td>\n",
       "      <td>0</td>\n",
       "      <td>68</td>\n",
       "      <td>3</td>\n",
       "      <td>363</td>\n",
       "    </tr>\n",
       "    <tr>\n",
       "      <th>403752</th>\n",
       "      <td>364</td>\n",
       "      <td>0</td>\n",
       "      <td>79</td>\n",
       "      <td>7</td>\n",
       "      <td>363</td>\n",
       "    </tr>\n",
       "    <tr>\n",
       "      <th>403753</th>\n",
       "      <td>364</td>\n",
       "      <td>0</td>\n",
       "      <td>90</td>\n",
       "      <td>1</td>\n",
       "      <td>363</td>\n",
       "    </tr>\n",
       "    <tr>\n",
       "      <th>403754</th>\n",
       "      <td>364</td>\n",
       "      <td>0</td>\n",
       "      <td>100</td>\n",
       "      <td>1</td>\n",
       "      <td>363</td>\n",
       "    </tr>\n",
       "    <tr>\n",
       "      <th>...</th>\n",
       "      <td>...</td>\n",
       "      <td>...</td>\n",
       "      <td>...</td>\n",
       "      <td>...</td>\n",
       "      <td>...</td>\n",
       "    </tr>\n",
       "    <tr>\n",
       "      <th>404754</th>\n",
       "      <td>364</td>\n",
       "      <td>23</td>\n",
       "      <td>239</td>\n",
       "      <td>3</td>\n",
       "      <td>363</td>\n",
       "    </tr>\n",
       "    <tr>\n",
       "      <th>404755</th>\n",
       "      <td>364</td>\n",
       "      <td>23</td>\n",
       "      <td>244</td>\n",
       "      <td>1</td>\n",
       "      <td>363</td>\n",
       "    </tr>\n",
       "    <tr>\n",
       "      <th>404756</th>\n",
       "      <td>364</td>\n",
       "      <td>23</td>\n",
       "      <td>249</td>\n",
       "      <td>5</td>\n",
       "      <td>363</td>\n",
       "    </tr>\n",
       "    <tr>\n",
       "      <th>404757</th>\n",
       "      <td>364</td>\n",
       "      <td>23</td>\n",
       "      <td>262</td>\n",
       "      <td>2</td>\n",
       "      <td>363</td>\n",
       "    </tr>\n",
       "    <tr>\n",
       "      <th>404758</th>\n",
       "      <td>364</td>\n",
       "      <td>23</td>\n",
       "      <td>263</td>\n",
       "      <td>6</td>\n",
       "      <td>363</td>\n",
       "    </tr>\n",
       "  </tbody>\n",
       "</table>\n",
       "<p>1009 rows × 5 columns</p>\n",
       "</div>"
      ],
      "text/plain": [
       "         id  hora  fk_id_PUZone  Volumen  ancla\n",
       "403750  364     0            48        1    363\n",
       "403751  364     0            68        3    363\n",
       "403752  364     0            79        7    363\n",
       "403753  364     0            90        1    363\n",
       "403754  364     0           100        1    363\n",
       "...     ...   ...           ...      ...    ...\n",
       "404754  364    23           239        3    363\n",
       "404755  364    23           244        1    363\n",
       "404756  364    23           249        5    363\n",
       "404757  364    23           262        2    363\n",
       "404758  364    23           263        6    363\n",
       "\n",
       "[1009 rows x 5 columns]"
      ]
     },
     "execution_count": 37,
     "metadata": {},
     "output_type": "execute_result"
    }
   ],
   "source": [
    "y.loc[y['ancla']==363]"
   ]
  },
  {
   "cell_type": "code",
   "execution_count": 38,
   "metadata": {
    "ExecuteTime": {
     "end_time": "2021-01-14T07:59:19.554414Z",
     "start_time": "2021-01-14T07:59:19.547229Z"
    }
   },
   "outputs": [
    {
     "data": {
      "text/plain": [
       "(404759, 5)"
      ]
     },
     "execution_count": 38,
     "metadata": {},
     "output_type": "execute_result"
    }
   ],
   "source": [
    "y.shape"
   ]
  },
  {
   "cell_type": "code",
   "execution_count": 39,
   "metadata": {
    "ExecuteTime": {
     "end_time": "2021-01-14T07:59:41.109255Z",
     "start_time": "2021-01-14T07:59:40.947400Z"
    }
   },
   "outputs": [],
   "source": [
    "y=X[['hora','fk_id_PUZone','ancla']].merge(y, on=['hora','fk_id_PUZone','ancla'],\n",
    "            how='inner').drop('id',\n",
    "                              axis=1).rename(columns={'Volumen': 'VolumenY'})"
   ]
  },
  {
   "cell_type": "code",
   "execution_count": 40,
   "metadata": {
    "ExecuteTime": {
     "end_time": "2021-01-14T07:59:43.574849Z",
     "start_time": "2021-01-14T07:59:43.559353Z"
    }
   },
   "outputs": [
    {
     "data": {
      "text/html": [
       "<div>\n",
       "<style scoped>\n",
       "    .dataframe tbody tr th:only-of-type {\n",
       "        vertical-align: middle;\n",
       "    }\n",
       "\n",
       "    .dataframe tbody tr th {\n",
       "        vertical-align: top;\n",
       "    }\n",
       "\n",
       "    .dataframe thead th {\n",
       "        text-align: right;\n",
       "    }\n",
       "</style>\n",
       "<table border=\"1\" class=\"dataframe\">\n",
       "  <thead>\n",
       "    <tr style=\"text-align: right;\">\n",
       "      <th></th>\n",
       "      <th>hora</th>\n",
       "      <th>fk_id_PUZone</th>\n",
       "      <th>ancla</th>\n",
       "      <th>VolumenY</th>\n",
       "    </tr>\n",
       "  </thead>\n",
       "  <tbody>\n",
       "    <tr>\n",
       "      <th>0</th>\n",
       "      <td>0</td>\n",
       "      <td>4</td>\n",
       "      <td>264</td>\n",
       "      <td>1</td>\n",
       "    </tr>\n",
       "    <tr>\n",
       "      <th>1</th>\n",
       "      <td>0</td>\n",
       "      <td>13</td>\n",
       "      <td>264</td>\n",
       "      <td>1</td>\n",
       "    </tr>\n",
       "    <tr>\n",
       "      <th>2</th>\n",
       "      <td>0</td>\n",
       "      <td>17</td>\n",
       "      <td>264</td>\n",
       "      <td>2</td>\n",
       "    </tr>\n",
       "    <tr>\n",
       "      <th>3</th>\n",
       "      <td>0</td>\n",
       "      <td>25</td>\n",
       "      <td>264</td>\n",
       "      <td>1</td>\n",
       "    </tr>\n",
       "    <tr>\n",
       "      <th>4</th>\n",
       "      <td>0</td>\n",
       "      <td>41</td>\n",
       "      <td>264</td>\n",
       "      <td>2</td>\n",
       "    </tr>\n",
       "  </tbody>\n",
       "</table>\n",
       "</div>"
      ],
      "text/plain": [
       "   hora  fk_id_PUZone  ancla  VolumenY\n",
       "0     0             4    264         1\n",
       "1     0            13    264         1\n",
       "2     0            17    264         2\n",
       "3     0            25    264         1\n",
       "4     0            41    264         2"
      ]
     },
     "execution_count": 40,
     "metadata": {},
     "output_type": "execute_result"
    }
   ],
   "source": [
    "y.head()"
   ]
  },
  {
   "cell_type": "code",
   "execution_count": 41,
   "metadata": {
    "ExecuteTime": {
     "end_time": "2021-01-14T07:59:48.298892Z",
     "start_time": "2021-01-14T07:59:48.286390Z"
    }
   },
   "outputs": [
    {
     "data": {
      "text/plain": [
       "(103141, 4)"
      ]
     },
     "execution_count": 41,
     "metadata": {},
     "output_type": "execute_result"
    }
   ],
   "source": [
    "y.shape"
   ]
  },
  {
   "cell_type": "code",
   "execution_count": 42,
   "metadata": {
    "ExecuteTime": {
     "end_time": "2021-01-14T07:59:51.250329Z",
     "start_time": "2021-01-14T07:59:50.938209Z"
    }
   },
   "outputs": [
    {
     "data": {
      "text/plain": [
       "<AxesSubplot:>"
      ]
     },
     "execution_count": 42,
     "metadata": {},
     "output_type": "execute_result"
    },
    {
     "data": {
      "image/png": "[encoded data removed]",
      "text/plain": [
       "<Figure size 432x288 with 1 Axes>"
      ]
     },
     "metadata": {
      "needs_background": "light"
     },
     "output_type": "display_data"
    }
   ],
   "source": [
    "y['VolumenY'].hist()"
   ]
  },
  {
   "cell_type": "code",
   "execution_count": 43,
   "metadata": {
    "ExecuteTime": {
     "end_time": "2021-01-14T08:00:24.666926Z",
     "start_time": "2021-01-14T08:00:24.465240Z"
    }
   },
   "outputs": [],
   "source": [
    "X=X.merge(y[['hora','fk_id_PUZone','ancla']],on=['hora','fk_id_PUZone','ancla'],\n",
    "         how='inner')"
   ]
  },
  {
   "cell_type": "code",
   "execution_count": 44,
   "metadata": {
    "ExecuteTime": {
     "end_time": "2021-01-14T08:00:26.420639Z",
     "start_time": "2021-01-14T08:00:26.408036Z"
    }
   },
   "outputs": [
    {
     "data": {
      "text/plain": [
       "(103141, 570)"
      ]
     },
     "execution_count": 44,
     "metadata": {},
     "output_type": "execute_result"
    }
   ],
   "source": [
    "X.shape"
   ]
  },
  {
   "cell_type": "markdown",
   "metadata": {},
   "source": [
    "##  Exploracion de datos de la matriz "
   ]
  },
  {
   "cell_type": "code",
   "execution_count": 45,
   "metadata": {
    "ExecuteTime": {
     "end_time": "2021-01-14T08:00:31.136014Z",
     "start_time": "2021-01-14T08:00:31.098390Z"
    }
   },
   "outputs": [
    {
     "data": {
      "text/html": [
       "<div>\n",
       "<style scoped>\n",
       "    .dataframe tbody tr th:only-of-type {\n",
       "        vertical-align: middle;\n",
       "    }\n",
       "\n",
       "    .dataframe tbody tr th {\n",
       "        vertical-align: top;\n",
       "    }\n",
       "\n",
       "    .dataframe thead th {\n",
       "        text-align: right;\n",
       "    }\n",
       "</style>\n",
       "<table border=\"1\" class=\"dataframe\">\n",
       "  <thead>\n",
       "    <tr style=\"text-align: right;\">\n",
       "      <th></th>\n",
       "      <th>hora</th>\n",
       "      <th>ancla</th>\n",
       "      <th>fk_id_PUZone</th>\n",
       "      <th>v_mean_max_Volumen_2</th>\n",
       "      <th>v_max_max_Volumen_2</th>\n",
       "      <th>v_min_max_Volumen_2</th>\n",
       "      <th>v_mean_max_extra_2</th>\n",
       "      <th>v_max_max_extra_2</th>\n",
       "      <th>v_min_max_extra_2</th>\n",
       "      <th>v_mean_max_fare_amount_2</th>\n",
       "      <th>...</th>\n",
       "      <th>v_min_min_tip_amount_14</th>\n",
       "      <th>v_mean_min_tolls_amount_14</th>\n",
       "      <th>v_max_min_tolls_amount_14</th>\n",
       "      <th>v_min_min_tolls_amount_14</th>\n",
       "      <th>v_mean_min_total_amount_14</th>\n",
       "      <th>v_max_min_total_amount_14</th>\n",
       "      <th>v_min_min_total_amount_14</th>\n",
       "      <th>v_mean_min_trip_distance_14</th>\n",
       "      <th>v_max_min_trip_distance_14</th>\n",
       "      <th>v_min_min_trip_distance_14</th>\n",
       "    </tr>\n",
       "  </thead>\n",
       "  <tbody>\n",
       "    <tr>\n",
       "      <th>0</th>\n",
       "      <td>0</td>\n",
       "      <td>264</td>\n",
       "      <td>4</td>\n",
       "      <td>0.0</td>\n",
       "      <td>0.0</td>\n",
       "      <td>0.0</td>\n",
       "      <td>0.00</td>\n",
       "      <td>0.0</td>\n",
       "      <td>0.0</td>\n",
       "      <td>0.00</td>\n",
       "      <td>...</td>\n",
       "      <td>0.0</td>\n",
       "      <td>0.000000</td>\n",
       "      <td>0.00</td>\n",
       "      <td>0.0</td>\n",
       "      <td>6.729286</td>\n",
       "      <td>62.41</td>\n",
       "      <td>0.0</td>\n",
       "      <td>0.962143</td>\n",
       "      <td>9.60</td>\n",
       "      <td>0.0</td>\n",
       "    </tr>\n",
       "    <tr>\n",
       "      <th>1</th>\n",
       "      <td>0</td>\n",
       "      <td>264</td>\n",
       "      <td>13</td>\n",
       "      <td>0.5</td>\n",
       "      <td>1.0</td>\n",
       "      <td>0.0</td>\n",
       "      <td>0.25</td>\n",
       "      <td>0.5</td>\n",
       "      <td>0.0</td>\n",
       "      <td>11.75</td>\n",
       "      <td>...</td>\n",
       "      <td>0.0</td>\n",
       "      <td>0.411429</td>\n",
       "      <td>5.76</td>\n",
       "      <td>0.0</td>\n",
       "      <td>11.062143</td>\n",
       "      <td>45.36</td>\n",
       "      <td>0.0</td>\n",
       "      <td>2.410714</td>\n",
       "      <td>11.40</td>\n",
       "      <td>0.0</td>\n",
       "    </tr>\n",
       "    <tr>\n",
       "      <th>2</th>\n",
       "      <td>0</td>\n",
       "      <td>264</td>\n",
       "      <td>17</td>\n",
       "      <td>0.0</td>\n",
       "      <td>0.0</td>\n",
       "      <td>0.0</td>\n",
       "      <td>0.00</td>\n",
       "      <td>0.0</td>\n",
       "      <td>0.0</td>\n",
       "      <td>0.00</td>\n",
       "      <td>...</td>\n",
       "      <td>0.0</td>\n",
       "      <td>0.000000</td>\n",
       "      <td>0.00</td>\n",
       "      <td>0.0</td>\n",
       "      <td>1.021429</td>\n",
       "      <td>14.30</td>\n",
       "      <td>0.0</td>\n",
       "      <td>0.179286</td>\n",
       "      <td>2.51</td>\n",
       "      <td>0.0</td>\n",
       "    </tr>\n",
       "    <tr>\n",
       "      <th>3</th>\n",
       "      <td>0</td>\n",
       "      <td>264</td>\n",
       "      <td>25</td>\n",
       "      <td>0.0</td>\n",
       "      <td>0.0</td>\n",
       "      <td>0.0</td>\n",
       "      <td>0.00</td>\n",
       "      <td>0.0</td>\n",
       "      <td>0.0</td>\n",
       "      <td>0.00</td>\n",
       "      <td>...</td>\n",
       "      <td>0.0</td>\n",
       "      <td>0.000000</td>\n",
       "      <td>0.00</td>\n",
       "      <td>0.0</td>\n",
       "      <td>8.657143</td>\n",
       "      <td>87.10</td>\n",
       "      <td>0.0</td>\n",
       "      <td>2.060714</td>\n",
       "      <td>20.36</td>\n",
       "      <td>0.0</td>\n",
       "    </tr>\n",
       "    <tr>\n",
       "      <th>4</th>\n",
       "      <td>0</td>\n",
       "      <td>264</td>\n",
       "      <td>41</td>\n",
       "      <td>0.0</td>\n",
       "      <td>0.0</td>\n",
       "      <td>0.0</td>\n",
       "      <td>0.00</td>\n",
       "      <td>0.0</td>\n",
       "      <td>0.0</td>\n",
       "      <td>0.00</td>\n",
       "      <td>...</td>\n",
       "      <td>0.0</td>\n",
       "      <td>0.000000</td>\n",
       "      <td>0.00</td>\n",
       "      <td>0.0</td>\n",
       "      <td>5.715000</td>\n",
       "      <td>33.10</td>\n",
       "      <td>0.0</td>\n",
       "      <td>1.184286</td>\n",
       "      <td>8.92</td>\n",
       "      <td>0.0</td>\n",
       "    </tr>\n",
       "  </tbody>\n",
       "</table>\n",
       "<p>5 rows × 570 columns</p>\n",
       "</div>"
      ],
      "text/plain": [
       "   hora  ancla  fk_id_PUZone  v_mean_max_Volumen_2  v_max_max_Volumen_2  \\\n",
       "0     0    264             4                   0.0                  0.0   \n",
       "1     0    264            13                   0.5                  1.0   \n",
       "2     0    264            17                   0.0                  0.0   \n",
       "3     0    264            25                   0.0                  0.0   \n",
       "4     0    264            41                   0.0                  0.0   \n",
       "\n",
       "   v_min_max_Volumen_2  v_mean_max_extra_2  v_max_max_extra_2  \\\n",
       "0                  0.0                0.00                0.0   \n",
       "1                  0.0                0.25                0.5   \n",
       "2                  0.0                0.00                0.0   \n",
       "3                  0.0                0.00                0.0   \n",
       "4                  0.0                0.00                0.0   \n",
       "\n",
       "   v_min_max_extra_2  v_mean_max_fare_amount_2  ...  v_min_min_tip_amount_14  \\\n",
       "0                0.0                      0.00  ...                      0.0   \n",
       "1                0.0                     11.75  ...                      0.0   \n",
       "2                0.0                      0.00  ...                      0.0   \n",
       "3                0.0                      0.00  ...                      0.0   \n",
       "4                0.0                      0.00  ...                      0.0   \n",
       "\n",
       "   v_mean_min_tolls_amount_14  v_max_min_tolls_amount_14  \\\n",
       "0                    0.000000                       0.00   \n",
       "1                    0.411429                       5.76   \n",
       "2                    0.000000                       0.00   \n",
       "3                    0.000000                       0.00   \n",
       "4                    0.000000                       0.00   \n",
       "\n",
       "   v_min_min_tolls_amount_14  v_mean_min_total_amount_14  \\\n",
       "0                        0.0                    6.729286   \n",
       "1                        0.0                   11.062143   \n",
       "2                        0.0                    1.021429   \n",
       "3                        0.0                    8.657143   \n",
       "4                        0.0                    5.715000   \n",
       "\n",
       "   v_max_min_total_amount_14  v_min_min_total_amount_14  \\\n",
       "0                      62.41                        0.0   \n",
       "1                      45.36                        0.0   \n",
       "2                      14.30                        0.0   \n",
       "3                      87.10                        0.0   \n",
       "4                      33.10                        0.0   \n",
       "\n",
       "   v_mean_min_trip_distance_14  v_max_min_trip_distance_14  \\\n",
       "0                     0.962143                        9.60   \n",
       "1                     2.410714                       11.40   \n",
       "2                     0.179286                        2.51   \n",
       "3                     2.060714                       20.36   \n",
       "4                     1.184286                        8.92   \n",
       "\n",
       "   v_min_min_trip_distance_14  \n",
       "0                         0.0  \n",
       "1                         0.0  \n",
       "2                         0.0  \n",
       "3                         0.0  \n",
       "4                         0.0  \n",
       "\n",
       "[5 rows x 570 columns]"
      ]
     },
     "execution_count": 45,
     "metadata": {},
     "output_type": "execute_result"
    }
   ],
   "source": [
    "X.head()"
   ]
  },
  {
   "cell_type": "code",
   "execution_count": 46,
   "metadata": {
    "ExecuteTime": {
     "end_time": "2021-01-14T08:00:37.939007Z",
     "start_time": "2021-01-14T08:00:37.931054Z"
    }
   },
   "outputs": [],
   "source": [
    "var=[v for v in X.columns if v[:2]=='v_']"
   ]
  },
  {
   "cell_type": "code",
   "execution_count": 47,
   "metadata": {
    "ExecuteTime": {
     "end_time": "2021-01-14T08:00:42.931729Z",
     "start_time": "2021-01-14T08:00:39.977397Z"
    }
   },
   "outputs": [],
   "source": [
    "miss=1-X[var].describe().T[['count']]/len(X)"
   ]
  },
  {
   "cell_type": "code",
   "execution_count": 48,
   "metadata": {
    "ExecuteTime": {
     "end_time": "2021-01-14T08:00:44.631915Z",
     "start_time": "2021-01-14T08:00:44.606225Z"
    }
   },
   "outputs": [
    {
     "data": {
      "text/html": [
       "<div>\n",
       "<style scoped>\n",
       "    .dataframe tbody tr th:only-of-type {\n",
       "        vertical-align: middle;\n",
       "    }\n",
       "\n",
       "    .dataframe tbody tr th {\n",
       "        vertical-align: top;\n",
       "    }\n",
       "\n",
       "    .dataframe thead th {\n",
       "        text-align: right;\n",
       "    }\n",
       "</style>\n",
       "<table border=\"1\" class=\"dataframe\">\n",
       "  <thead>\n",
       "    <tr style=\"text-align: right;\">\n",
       "      <th></th>\n",
       "      <th>count</th>\n",
       "    </tr>\n",
       "  </thead>\n",
       "  <tbody>\n",
       "    <tr>\n",
       "      <th>count</th>\n",
       "      <td>567.0</td>\n",
       "    </tr>\n",
       "    <tr>\n",
       "      <th>mean</th>\n",
       "      <td>0.0</td>\n",
       "    </tr>\n",
       "    <tr>\n",
       "      <th>std</th>\n",
       "      <td>0.0</td>\n",
       "    </tr>\n",
       "    <tr>\n",
       "      <th>min</th>\n",
       "      <td>0.0</td>\n",
       "    </tr>\n",
       "    <tr>\n",
       "      <th>25%</th>\n",
       "      <td>0.0</td>\n",
       "    </tr>\n",
       "    <tr>\n",
       "      <th>50%</th>\n",
       "      <td>0.0</td>\n",
       "    </tr>\n",
       "    <tr>\n",
       "      <th>75%</th>\n",
       "      <td>0.0</td>\n",
       "    </tr>\n",
       "    <tr>\n",
       "      <th>max</th>\n",
       "      <td>0.0</td>\n",
       "    </tr>\n",
       "  </tbody>\n",
       "</table>\n",
       "</div>"
      ],
      "text/plain": [
       "       count\n",
       "count  567.0\n",
       "mean     0.0\n",
       "std      0.0\n",
       "min      0.0\n",
       "25%      0.0\n",
       "50%      0.0\n",
       "75%      0.0\n",
       "max      0.0"
      ]
     },
     "execution_count": 48,
     "metadata": {},
     "output_type": "execute_result"
    }
   ],
   "source": [
    "miss[['count']].describe()"
   ]
  },
  {
   "cell_type": "markdown",
   "metadata": {},
   "source": [
    "Vemos que no hay valores faltantes "
   ]
  },
  {
   "cell_type": "markdown",
   "metadata": {},
   "source": [
    "## Datos Extremos "
   ]
  },
  {
   "cell_type": "code",
   "execution_count": 49,
   "metadata": {
    "ExecuteTime": {
     "end_time": "2021-01-14T08:00:55.233858Z",
     "start_time": "2021-01-14T08:00:52.260357Z"
    }
   },
   "outputs": [],
   "source": [
    "l_extr = X[var].describe(percentiles=[0.01, 0.99]).T[[\n",
    "    '1%', '99%'\n",
    "]].reset_index().values.tolist()"
   ]
  },
  {
   "cell_type": "code",
   "execution_count": 50,
   "metadata": {
    "ExecuteTime": {
     "end_time": "2021-01-14T08:01:03.278857Z",
     "start_time": "2021-01-14T08:01:01.495455Z"
    }
   },
   "outputs": [],
   "source": [
    "for v,ci,cs in l_extr:\n",
    "    X[f'ol_{v}']=((X[v]<ci)|(X[v]>cs)).astype('int')\n",
    "varx=[v for v in X.columns if v[:2]=='ol']"
   ]
  },
  {
   "cell_type": "code",
   "execution_count": 51,
   "metadata": {
    "ExecuteTime": {
     "end_time": "2021-01-14T08:01:05.552350Z",
     "start_time": "2021-01-14T08:01:05.016433Z"
    }
   },
   "outputs": [],
   "source": [
    "X['extremo']=X[varx].max(axis=1)"
   ]
  },
  {
   "cell_type": "code",
   "execution_count": 52,
   "metadata": {
    "ExecuteTime": {
     "end_time": "2021-01-14T08:01:09.153489Z",
     "start_time": "2021-01-14T08:01:09.143453Z"
    }
   },
   "outputs": [
    {
     "data": {
      "text/plain": [
       "0    0.893738\n",
       "1    0.106262\n",
       "Name: extremo, dtype: float64"
      ]
     },
     "execution_count": 52,
     "metadata": {},
     "output_type": "execute_result"
    }
   ],
   "source": [
    "X['extremo'].value_counts(True)"
   ]
  },
  {
   "cell_type": "markdown",
   "metadata": {},
   "source": [
    "Vemos que tenemos 10% vemamos asi que no los eliminaremos "
   ]
  },
  {
   "cell_type": "code",
   "execution_count": 53,
   "metadata": {
    "ExecuteTime": {
     "end_time": "2021-01-14T08:02:44.488937Z",
     "start_time": "2021-01-14T08:02:43.975347Z"
    }
   },
   "outputs": [],
   "source": [
    "X.drop(varx+['extremo'],axis=1,inplace=True)"
   ]
  },
  {
   "cell_type": "markdown",
   "metadata": {},
   "source": [
    "## Multicolinealidad"
   ]
  },
  {
   "cell_type": "code",
   "execution_count": 54,
   "metadata": {},
   "outputs": [],
   "source": [
    "from varclushi import VarClusHi"
   ]
  },
  {
   "cell_type": "code",
   "execution_count": 55,
   "metadata": {
    "ExecuteTime": {
     "end_time": "2021-01-14T08:14:03.419104Z",
     "start_time": "2021-01-14T08:04:20.809625Z"
    }
   },
   "outputs": [
    {
     "data": {
      "text/plain": [
       "<varclushi.varclushi.VarClusHi at 0x119122c70>"
      ]
     },
     "execution_count": 55,
     "metadata": {},
     "output_type": "execute_result"
    }
   ],
   "source": [
    "vc = VarClusHi(df=X,feat_list=var)\n",
    "vc.varclus()"
   ]
  },
  {
   "cell_type": "code",
   "execution_count": 57,
   "metadata": {
    "ExecuteTime": {
     "end_time": "2021-01-14T08:14:25.021280Z",
     "start_time": "2021-01-14T08:14:09.960044Z"
    }
   },
   "outputs": [],
   "source": [
    "rs=vc.rsquare"
   ]
  },
  {
   "cell_type": "code",
   "execution_count": 58,
   "metadata": {},
   "outputs": [
    {
     "data": {
      "text/html": [
       "<div>\n",
       "<style scoped>\n",
       "    .dataframe tbody tr th:only-of-type {\n",
       "        vertical-align: middle;\n",
       "    }\n",
       "\n",
       "    .dataframe tbody tr th {\n",
       "        vertical-align: top;\n",
       "    }\n",
       "\n",
       "    .dataframe thead th {\n",
       "        text-align: right;\n",
       "    }\n",
       "</style>\n",
       "<table border=\"1\" class=\"dataframe\">\n",
       "  <thead>\n",
       "    <tr style=\"text-align: right;\">\n",
       "      <th></th>\n",
       "      <th>Cluster</th>\n",
       "      <th>Variable</th>\n",
       "      <th>RS_Own</th>\n",
       "      <th>RS_NC</th>\n",
       "      <th>RS_Ratio</th>\n",
       "    </tr>\n",
       "  </thead>\n",
       "  <tbody>\n",
       "    <tr>\n",
       "      <th>0</th>\n",
       "      <td>0</td>\n",
       "      <td>v_mean_max_Volumen_6</td>\n",
       "      <td>0.974022</td>\n",
       "      <td>0.892933</td>\n",
       "      <td>0.242635</td>\n",
       "    </tr>\n",
       "    <tr>\n",
       "      <th>1</th>\n",
       "      <td>0</td>\n",
       "      <td>v_mean_max_improvement_surcharge_6</td>\n",
       "      <td>0.974020</td>\n",
       "      <td>0.892933</td>\n",
       "      <td>0.242649</td>\n",
       "    </tr>\n",
       "    <tr>\n",
       "      <th>2</th>\n",
       "      <td>0</td>\n",
       "      <td>v_mean_max_mta_tax_6</td>\n",
       "      <td>0.973959</td>\n",
       "      <td>0.893031</td>\n",
       "      <td>0.243448</td>\n",
       "    </tr>\n",
       "    <tr>\n",
       "      <th>3</th>\n",
       "      <td>0</td>\n",
       "      <td>v_mean_mean_Volumen_6</td>\n",
       "      <td>0.974022</td>\n",
       "      <td>0.892933</td>\n",
       "      <td>0.242635</td>\n",
       "    </tr>\n",
       "    <tr>\n",
       "      <th>4</th>\n",
       "      <td>0</td>\n",
       "      <td>v_mean_mean_improvement_surcharge_6</td>\n",
       "      <td>0.974020</td>\n",
       "      <td>0.892933</td>\n",
       "      <td>0.242649</td>\n",
       "    </tr>\n",
       "    <tr>\n",
       "      <th>...</th>\n",
       "      <td>...</td>\n",
       "      <td>...</td>\n",
       "      <td>...</td>\n",
       "      <td>...</td>\n",
       "      <td>...</td>\n",
       "    </tr>\n",
       "    <tr>\n",
       "      <th>562</th>\n",
       "      <td>28</td>\n",
       "      <td>v_min_mean_improvement_surcharge_10</td>\n",
       "      <td>0.978567</td>\n",
       "      <td>0.912669</td>\n",
       "      <td>0.245427</td>\n",
       "    </tr>\n",
       "    <tr>\n",
       "      <th>563</th>\n",
       "      <td>28</td>\n",
       "      <td>v_min_mean_mta_tax_10</td>\n",
       "      <td>0.978094</td>\n",
       "      <td>0.912392</td>\n",
       "      <td>0.250050</td>\n",
       "    </tr>\n",
       "    <tr>\n",
       "      <th>564</th>\n",
       "      <td>28</td>\n",
       "      <td>v_min_min_Volumen_10</td>\n",
       "      <td>0.978567</td>\n",
       "      <td>0.912658</td>\n",
       "      <td>0.245396</td>\n",
       "    </tr>\n",
       "    <tr>\n",
       "      <th>565</th>\n",
       "      <td>28</td>\n",
       "      <td>v_min_min_improvement_surcharge_10</td>\n",
       "      <td>0.978567</td>\n",
       "      <td>0.912669</td>\n",
       "      <td>0.245427</td>\n",
       "    </tr>\n",
       "    <tr>\n",
       "      <th>566</th>\n",
       "      <td>28</td>\n",
       "      <td>v_min_min_mta_tax_10</td>\n",
       "      <td>0.978094</td>\n",
       "      <td>0.912392</td>\n",
       "      <td>0.250050</td>\n",
       "    </tr>\n",
       "  </tbody>\n",
       "</table>\n",
       "<p>567 rows × 5 columns</p>\n",
       "</div>"
      ],
      "text/plain": [
       "    Cluster                             Variable    RS_Own     RS_NC  RS_Ratio\n",
       "0         0                 v_mean_max_Volumen_6  0.974022  0.892933  0.242635\n",
       "1         0   v_mean_max_improvement_surcharge_6  0.974020  0.892933  0.242649\n",
       "2         0                 v_mean_max_mta_tax_6  0.973959  0.893031  0.243448\n",
       "3         0                v_mean_mean_Volumen_6  0.974022  0.892933  0.242635\n",
       "4         0  v_mean_mean_improvement_surcharge_6  0.974020  0.892933  0.242649\n",
       "..      ...                                  ...       ...       ...       ...\n",
       "562      28  v_min_mean_improvement_surcharge_10  0.978567  0.912669  0.245427\n",
       "563      28                v_min_mean_mta_tax_10  0.978094  0.912392  0.250050\n",
       "564      28                 v_min_min_Volumen_10  0.978567  0.912658  0.245396\n",
       "565      28   v_min_min_improvement_surcharge_10  0.978567  0.912669  0.245427\n",
       "566      28                 v_min_min_mta_tax_10  0.978094  0.912392  0.250050\n",
       "\n",
       "[567 rows x 5 columns]"
      ]
     },
     "execution_count": 58,
     "metadata": {},
     "output_type": "execute_result"
    }
   ],
   "source": [
    "rs"
   ]
  },
  {
   "cell_type": "code",
   "execution_count": 59,
   "metadata": {
    "ExecuteTime": {
     "end_time": "2021-01-14T08:14:58.245808Z",
     "start_time": "2021-01-14T08:14:58.216841Z"
    }
   },
   "outputs": [],
   "source": [
    "rs=rs.sort_values(by=['Cluster','RS_Ratio'],ascending=[1,1]).reset_index(drop=True)\n",
    "rs['importancia']=rs.groupby('Cluster').cumcount()+1 "
   ]
  },
  {
   "cell_type": "code",
   "execution_count": 60,
   "metadata": {
    "ExecuteTime": {
     "end_time": "2021-01-14T08:15:16.112026Z",
     "start_time": "2021-01-14T08:15:16.092585Z"
    }
   },
   "outputs": [],
   "source": [
    "rs=rs.loc[rs['importancia']==1]"
   ]
  },
  {
   "cell_type": "code",
   "execution_count": 61,
   "metadata": {
    "ExecuteTime": {
     "end_time": "2021-01-14T08:27:48.582274Z",
     "start_time": "2021-01-14T08:27:48.577325Z"
    }
   },
   "outputs": [],
   "source": [
    "best=rs['Variable'].tolist()"
   ]
  },
  {
   "cell_type": "code",
   "execution_count": 62,
   "metadata": {},
   "outputs": [],
   "source": [
    "Xe=X[best].copy()"
   ]
  },
  {
   "cell_type": "code",
   "execution_count": 63,
   "metadata": {
    "ExecuteTime": {
     "end_time": "2021-01-14T08:20:23.290471Z",
     "start_time": "2021-01-14T08:20:23.272169Z"
    }
   },
   "outputs": [],
   "source": [
    "Xe[['hora','fk_id_PUZone','ancla']]=X[['hora','fk_id_PUZone','ancla']]"
   ]
  },
  {
   "cell_type": "code",
   "execution_count": 64,
   "metadata": {
    "ExecuteTime": {
     "end_time": "2021-01-14T08:21:08.092764Z",
     "start_time": "2021-01-14T08:21:08.061923Z"
    }
   },
   "outputs": [],
   "source": [
    "ye = y.merge(Xe[['hora','fk_id_PUZone','ancla']],on=['hora','fk_id_PUZone','ancla'],how='inner')"
   ]
  },
  {
   "cell_type": "markdown",
   "metadata": {},
   "source": [
    "## Poder predictivo"
   ]
  },
  {
   "cell_type": "code",
   "execution_count": 65,
   "metadata": {
    "ExecuteTime": {
     "end_time": "2021-01-14T08:21:10.466540Z",
     "start_time": "2021-01-14T08:21:10.461334Z"
    }
   },
   "outputs": [],
   "source": [
    "from sklearn.feature_selection import SelectKBest\n",
    "from sklearn.feature_selection import f_regression"
   ]
  },
  {
   "cell_type": "code",
   "execution_count": 68,
   "metadata": {
    "ExecuteTime": {
     "end_time": "2021-01-14T08:28:00.331351Z",
     "start_time": "2021-01-14T08:28:00.289207Z"
    }
   },
   "outputs": [
    {
     "data": {
      "text/plain": [
       "SelectKBest(k=9, score_func=<function f_regression at 0x119e09e50>)"
      ]
     },
     "execution_count": 68,
     "metadata": {},
     "output_type": "execute_result"
    }
   ],
   "source": [
    "sk = SelectKBest(f_regression,k=9)\n",
    "sk.fit(Xe[best],ye['hora'])"
   ]
  },
  {
   "cell_type": "code",
   "execution_count": 69,
   "metadata": {
    "ExecuteTime": {
     "end_time": "2021-01-14T08:28:21.125626Z",
     "start_time": "2021-01-14T08:28:21.120207Z"
    }
   },
   "outputs": [],
   "source": [
    "best = [x for x,y in zip(best,sk.get_support()) if y]"
   ]
  },
  {
   "cell_type": "code",
   "execution_count": 70,
   "metadata": {
    "ExecuteTime": {
     "end_time": "2021-01-14T08:28:23.102921Z",
     "start_time": "2021-01-14T08:28:23.071500Z"
    }
   },
   "outputs": [
    {
     "data": {
      "text/html": [
       "<div>\n",
       "<style scoped>\n",
       "    .dataframe tbody tr th:only-of-type {\n",
       "        vertical-align: middle;\n",
       "    }\n",
       "\n",
       "    .dataframe tbody tr th {\n",
       "        vertical-align: top;\n",
       "    }\n",
       "\n",
       "    .dataframe thead th {\n",
       "        text-align: right;\n",
       "    }\n",
       "</style>\n",
       "<table border=\"1\" class=\"dataframe\">\n",
       "  <thead>\n",
       "    <tr style=\"text-align: right;\">\n",
       "      <th></th>\n",
       "      <th>v_mean_max_Volumen_10</th>\n",
       "      <th>v_mean_max_extra_12</th>\n",
       "      <th>v_min_max_Volumen_14</th>\n",
       "      <th>v_min_max_extra_10</th>\n",
       "      <th>v_max_max_Volumen_2</th>\n",
       "      <th>v_min_max_extra_2</th>\n",
       "      <th>v_min_max_Volumen_4</th>\n",
       "      <th>v_min_max_extra_4</th>\n",
       "      <th>v_min_max_improvement_surcharge_8</th>\n",
       "    </tr>\n",
       "  </thead>\n",
       "  <tbody>\n",
       "    <tr>\n",
       "      <th>0</th>\n",
       "      <td>0.6</td>\n",
       "      <td>0.250000</td>\n",
       "      <td>0.0</td>\n",
       "      <td>0.0</td>\n",
       "      <td>0.0</td>\n",
       "      <td>0.0</td>\n",
       "      <td>0.0</td>\n",
       "      <td>0.0</td>\n",
       "      <td>0.0</td>\n",
       "    </tr>\n",
       "    <tr>\n",
       "      <th>1</th>\n",
       "      <td>0.6</td>\n",
       "      <td>0.291667</td>\n",
       "      <td>0.0</td>\n",
       "      <td>0.0</td>\n",
       "      <td>1.0</td>\n",
       "      <td>0.0</td>\n",
       "      <td>0.0</td>\n",
       "      <td>0.0</td>\n",
       "      <td>0.0</td>\n",
       "    </tr>\n",
       "    <tr>\n",
       "      <th>2</th>\n",
       "      <td>0.0</td>\n",
       "      <td>0.000000</td>\n",
       "      <td>0.0</td>\n",
       "      <td>0.0</td>\n",
       "      <td>0.0</td>\n",
       "      <td>0.0</td>\n",
       "      <td>0.0</td>\n",
       "      <td>0.0</td>\n",
       "      <td>0.0</td>\n",
       "    </tr>\n",
       "    <tr>\n",
       "      <th>3</th>\n",
       "      <td>0.2</td>\n",
       "      <td>0.083333</td>\n",
       "      <td>0.0</td>\n",
       "      <td>0.0</td>\n",
       "      <td>0.0</td>\n",
       "      <td>0.0</td>\n",
       "      <td>0.0</td>\n",
       "      <td>0.0</td>\n",
       "      <td>0.0</td>\n",
       "    </tr>\n",
       "    <tr>\n",
       "      <th>4</th>\n",
       "      <td>0.3</td>\n",
       "      <td>0.125000</td>\n",
       "      <td>0.0</td>\n",
       "      <td>0.0</td>\n",
       "      <td>0.0</td>\n",
       "      <td>0.0</td>\n",
       "      <td>0.0</td>\n",
       "      <td>0.0</td>\n",
       "      <td>0.0</td>\n",
       "    </tr>\n",
       "    <tr>\n",
       "      <th>...</th>\n",
       "      <td>...</td>\n",
       "      <td>...</td>\n",
       "      <td>...</td>\n",
       "      <td>...</td>\n",
       "      <td>...</td>\n",
       "      <td>...</td>\n",
       "      <td>...</td>\n",
       "      <td>...</td>\n",
       "      <td>...</td>\n",
       "    </tr>\n",
       "    <tr>\n",
       "      <th>103136</th>\n",
       "      <td>1.6</td>\n",
       "      <td>0.750000</td>\n",
       "      <td>0.0</td>\n",
       "      <td>0.0</td>\n",
       "      <td>2.0</td>\n",
       "      <td>1.0</td>\n",
       "      <td>1.0</td>\n",
       "      <td>0.5</td>\n",
       "      <td>0.0</td>\n",
       "    </tr>\n",
       "    <tr>\n",
       "      <th>103137</th>\n",
       "      <td>0.3</td>\n",
       "      <td>0.208333</td>\n",
       "      <td>0.0</td>\n",
       "      <td>0.0</td>\n",
       "      <td>1.0</td>\n",
       "      <td>0.0</td>\n",
       "      <td>0.0</td>\n",
       "      <td>0.0</td>\n",
       "      <td>0.0</td>\n",
       "    </tr>\n",
       "    <tr>\n",
       "      <th>103138</th>\n",
       "      <td>4.5</td>\n",
       "      <td>2.458333</td>\n",
       "      <td>1.0</td>\n",
       "      <td>0.5</td>\n",
       "      <td>8.0</td>\n",
       "      <td>0.5</td>\n",
       "      <td>1.0</td>\n",
       "      <td>0.5</td>\n",
       "      <td>0.3</td>\n",
       "    </tr>\n",
       "    <tr>\n",
       "      <th>103139</th>\n",
       "      <td>0.8</td>\n",
       "      <td>0.416667</td>\n",
       "      <td>0.0</td>\n",
       "      <td>0.0</td>\n",
       "      <td>0.0</td>\n",
       "      <td>0.0</td>\n",
       "      <td>0.0</td>\n",
       "      <td>0.0</td>\n",
       "      <td>0.0</td>\n",
       "    </tr>\n",
       "    <tr>\n",
       "      <th>103140</th>\n",
       "      <td>2.2</td>\n",
       "      <td>1.333333</td>\n",
       "      <td>0.0</td>\n",
       "      <td>0.0</td>\n",
       "      <td>1.0</td>\n",
       "      <td>0.5</td>\n",
       "      <td>0.0</td>\n",
       "      <td>0.0</td>\n",
       "      <td>0.0</td>\n",
       "    </tr>\n",
       "  </tbody>\n",
       "</table>\n",
       "<p>103141 rows × 9 columns</p>\n",
       "</div>"
      ],
      "text/plain": [
       "        v_mean_max_Volumen_10  v_mean_max_extra_12  v_min_max_Volumen_14  \\\n",
       "0                         0.6             0.250000                   0.0   \n",
       "1                         0.6             0.291667                   0.0   \n",
       "2                         0.0             0.000000                   0.0   \n",
       "3                         0.2             0.083333                   0.0   \n",
       "4                         0.3             0.125000                   0.0   \n",
       "...                       ...                  ...                   ...   \n",
       "103136                    1.6             0.750000                   0.0   \n",
       "103137                    0.3             0.208333                   0.0   \n",
       "103138                    4.5             2.458333                   1.0   \n",
       "103139                    0.8             0.416667                   0.0   \n",
       "103140                    2.2             1.333333                   0.0   \n",
       "\n",
       "        v_min_max_extra_10  v_max_max_Volumen_2  v_min_max_extra_2  \\\n",
       "0                      0.0                  0.0                0.0   \n",
       "1                      0.0                  1.0                0.0   \n",
       "2                      0.0                  0.0                0.0   \n",
       "3                      0.0                  0.0                0.0   \n",
       "4                      0.0                  0.0                0.0   \n",
       "...                    ...                  ...                ...   \n",
       "103136                 0.0                  2.0                1.0   \n",
       "103137                 0.0                  1.0                0.0   \n",
       "103138                 0.5                  8.0                0.5   \n",
       "103139                 0.0                  0.0                0.0   \n",
       "103140                 0.0                  1.0                0.5   \n",
       "\n",
       "        v_min_max_Volumen_4  v_min_max_extra_4  \\\n",
       "0                       0.0                0.0   \n",
       "1                       0.0                0.0   \n",
       "2                       0.0                0.0   \n",
       "3                       0.0                0.0   \n",
       "4                       0.0                0.0   \n",
       "...                     ...                ...   \n",
       "103136                  1.0                0.5   \n",
       "103137                  0.0                0.0   \n",
       "103138                  1.0                0.5   \n",
       "103139                  0.0                0.0   \n",
       "103140                  0.0                0.0   \n",
       "\n",
       "        v_min_max_improvement_surcharge_8  \n",
       "0                                     0.0  \n",
       "1                                     0.0  \n",
       "2                                     0.0  \n",
       "3                                     0.0  \n",
       "4                                     0.0  \n",
       "...                                   ...  \n",
       "103136                                0.0  \n",
       "103137                                0.0  \n",
       "103138                                0.3  \n",
       "103139                                0.0  \n",
       "103140                                0.0  \n",
       "\n",
       "[103141 rows x 9 columns]"
      ]
     },
     "execution_count": 70,
     "metadata": {},
     "output_type": "execute_result"
    }
   ],
   "source": [
    "Xe[best]"
   ]
  },
  {
   "cell_type": "markdown",
   "metadata": {},
   "source": [
    "# Transformacion de espacio"
   ]
  },
  {
   "cell_type": "code",
   "execution_count": 71,
   "metadata": {
    "ExecuteTime": {
     "end_time": "2021-01-14T08:28:40.430855Z",
     "start_time": "2021-01-14T08:28:40.414977Z"
    }
   },
   "outputs": [],
   "source": [
    "from sklearn.preprocessing import MinMaxScaler,StandardScaler\n",
    "from sklearn.decomposition import PCA"
   ]
  },
  {
   "cell_type": "code",
   "execution_count": 73,
   "metadata": {
    "ExecuteTime": {
     "end_time": "2021-01-14T08:28:44.148286Z",
     "start_time": "2021-01-14T08:28:44.142601Z"
    }
   },
   "outputs": [],
   "source": [
    "sc=StandardScaler()\n",
    "scy=StandardScaler()"
   ]
  },
  {
   "cell_type": "code",
   "execution_count": 74,
   "metadata": {
    "ExecuteTime": {
     "end_time": "2021-01-14T08:28:49.443331Z",
     "start_time": "2021-01-14T08:28:49.414308Z"
    }
   },
   "outputs": [
    {
     "data": {
      "text/plain": [
       "StandardScaler()"
      ]
     },
     "execution_count": 74,
     "metadata": {},
     "output_type": "execute_result"
    }
   ],
   "source": [
    "sc.fit(Xe[best])"
   ]
  },
  {
   "cell_type": "code",
   "execution_count": 75,
   "metadata": {
    "ExecuteTime": {
     "end_time": "2021-01-14T08:28:52.967406Z",
     "start_time": "2021-01-14T08:28:52.951638Z"
    }
   },
   "outputs": [
    {
     "data": {
      "text/plain": [
       "StandardScaler()"
      ]
     },
     "execution_count": 75,
     "metadata": {},
     "output_type": "execute_result"
    }
   ],
   "source": [
    "scy.fit(ye[['VolumenY']])"
   ]
  },
  {
   "cell_type": "code",
   "execution_count": 76,
   "metadata": {
    "ExecuteTime": {
     "end_time": "2021-01-14T08:28:54.998220Z",
     "start_time": "2021-01-14T08:28:54.974704Z"
    }
   },
   "outputs": [],
   "source": [
    "Xs=pd.DataFrame(sc.transform(Xe[best]),columns=best)\n",
    "ys=pd.DataFrame(scy.transform(ye[['VolumenY']]),columns=['VolumenY'])"
   ]
  },
  {
   "cell_type": "code",
   "execution_count": 77,
   "metadata": {
    "ExecuteTime": {
     "end_time": "2021-01-14T08:28:59.055721Z",
     "start_time": "2021-01-14T08:28:58.968298Z"
    }
   },
   "outputs": [
    {
     "data": {
      "text/html": [
       "<div>\n",
       "<style scoped>\n",
       "    .dataframe tbody tr th:only-of-type {\n",
       "        vertical-align: middle;\n",
       "    }\n",
       "\n",
       "    .dataframe tbody tr th {\n",
       "        vertical-align: top;\n",
       "    }\n",
       "\n",
       "    .dataframe thead th {\n",
       "        text-align: right;\n",
       "    }\n",
       "</style>\n",
       "<table border=\"1\" class=\"dataframe\">\n",
       "  <thead>\n",
       "    <tr style=\"text-align: right;\">\n",
       "      <th></th>\n",
       "      <th>v_mean_max_Volumen_10</th>\n",
       "      <th>v_mean_max_extra_12</th>\n",
       "      <th>v_min_max_Volumen_14</th>\n",
       "      <th>v_min_max_extra_10</th>\n",
       "      <th>v_max_max_Volumen_2</th>\n",
       "      <th>v_min_max_extra_2</th>\n",
       "      <th>v_min_max_Volumen_4</th>\n",
       "      <th>v_min_max_extra_4</th>\n",
       "      <th>v_min_max_improvement_surcharge_8</th>\n",
       "    </tr>\n",
       "  </thead>\n",
       "  <tbody>\n",
       "    <tr>\n",
       "      <th>count</th>\n",
       "      <td>1.031410e+05</td>\n",
       "      <td>1.031410e+05</td>\n",
       "      <td>1.031410e+05</td>\n",
       "      <td>1.031410e+05</td>\n",
       "      <td>1.031410e+05</td>\n",
       "      <td>1.031410e+05</td>\n",
       "      <td>1.031410e+05</td>\n",
       "      <td>1.031410e+05</td>\n",
       "      <td>1.031410e+05</td>\n",
       "    </tr>\n",
       "    <tr>\n",
       "      <th>mean</th>\n",
       "      <td>-6.282807e-17</td>\n",
       "      <td>-7.550391e-17</td>\n",
       "      <td>-2.755617e-17</td>\n",
       "      <td>-1.873820e-17</td>\n",
       "      <td>2.645392e-17</td>\n",
       "      <td>-4.960111e-17</td>\n",
       "      <td>4.408987e-17</td>\n",
       "      <td>2.424943e-17</td>\n",
       "      <td>2.424943e-17</td>\n",
       "    </tr>\n",
       "    <tr>\n",
       "      <th>std</th>\n",
       "      <td>1.000005e+00</td>\n",
       "      <td>1.000005e+00</td>\n",
       "      <td>1.000005e+00</td>\n",
       "      <td>1.000005e+00</td>\n",
       "      <td>1.000005e+00</td>\n",
       "      <td>1.000005e+00</td>\n",
       "      <td>1.000005e+00</td>\n",
       "      <td>1.000005e+00</td>\n",
       "      <td>1.000005e+00</td>\n",
       "    </tr>\n",
       "    <tr>\n",
       "      <th>min</th>\n",
       "      <td>-1.241981e+00</td>\n",
       "      <td>-5.965019e-01</td>\n",
       "      <td>-6.128847e-01</td>\n",
       "      <td>-2.871842e-01</td>\n",
       "      <td>-1.152792e+00</td>\n",
       "      <td>-3.785728e-01</td>\n",
       "      <td>-7.745206e-01</td>\n",
       "      <td>-3.099206e-01</td>\n",
       "      <td>-6.835278e-01</td>\n",
       "    </tr>\n",
       "    <tr>\n",
       "      <th>25%</th>\n",
       "      <td>-7.979364e-01</td>\n",
       "      <td>-5.965019e-01</td>\n",
       "      <td>-6.128847e-01</td>\n",
       "      <td>-2.871842e-01</td>\n",
       "      <td>-9.066372e-01</td>\n",
       "      <td>-3.785728e-01</td>\n",
       "      <td>-7.745206e-01</td>\n",
       "      <td>-3.099206e-01</td>\n",
       "      <td>-6.835278e-01</td>\n",
       "    </tr>\n",
       "    <tr>\n",
       "      <th>50%</th>\n",
       "      <td>-2.172628e-01</td>\n",
       "      <td>-5.133871e-01</td>\n",
       "      <td>-6.128847e-01</td>\n",
       "      <td>-2.871842e-01</td>\n",
       "      <td>-1.681731e-01</td>\n",
       "      <td>-3.785728e-01</td>\n",
       "      <td>-3.177278e-01</td>\n",
       "      <td>-3.099206e-01</td>\n",
       "      <td>-6.835278e-01</td>\n",
       "    </tr>\n",
       "    <tr>\n",
       "      <th>75%</th>\n",
       "      <td>6.025116e-01</td>\n",
       "      <td>2.554241e-01</td>\n",
       "      <td>1.098366e-01</td>\n",
       "      <td>-2.871842e-01</td>\n",
       "      <td>5.702910e-01</td>\n",
       "      <td>-1.032901e-01</td>\n",
       "      <td>5.958576e-01</td>\n",
       "      <td>-3.099206e-01</td>\n",
       "      <td>5.085746e-01</td>\n",
       "    </tr>\n",
       "    <tr>\n",
       "      <th>max</th>\n",
       "      <td>6.067674e+00</td>\n",
       "      <td>1.255640e+01</td>\n",
       "      <td>8.059771e+00</td>\n",
       "      <td>1.271337e+01</td>\n",
       "      <td>9.924170e+00</td>\n",
       "      <td>2.357102e+01</td>\n",
       "      <td>8.361334e+00</td>\n",
       "      <td>2.551698e+01</td>\n",
       "      <td>7.065138e+00</td>\n",
       "    </tr>\n",
       "  </tbody>\n",
       "</table>\n",
       "</div>"
      ],
      "text/plain": [
       "       v_mean_max_Volumen_10  v_mean_max_extra_12  v_min_max_Volumen_14  \\\n",
       "count           1.031410e+05         1.031410e+05          1.031410e+05   \n",
       "mean           -6.282807e-17        -7.550391e-17         -2.755617e-17   \n",
       "std             1.000005e+00         1.000005e+00          1.000005e+00   \n",
       "min            -1.241981e+00        -5.965019e-01         -6.128847e-01   \n",
       "25%            -7.979364e-01        -5.965019e-01         -6.128847e-01   \n",
       "50%            -2.172628e-01        -5.133871e-01         -6.128847e-01   \n",
       "75%             6.025116e-01         2.554241e-01          1.098366e-01   \n",
       "max             6.067674e+00         1.255640e+01          8.059771e+00   \n",
       "\n",
       "       v_min_max_extra_10  v_max_max_Volumen_2  v_min_max_extra_2  \\\n",
       "count        1.031410e+05         1.031410e+05       1.031410e+05   \n",
       "mean        -1.873820e-17         2.645392e-17      -4.960111e-17   \n",
       "std          1.000005e+00         1.000005e+00       1.000005e+00   \n",
       "min         -2.871842e-01        -1.152792e+00      -3.785728e-01   \n",
       "25%         -2.871842e-01        -9.066372e-01      -3.785728e-01   \n",
       "50%         -2.871842e-01        -1.681731e-01      -3.785728e-01   \n",
       "75%         -2.871842e-01         5.702910e-01      -1.032901e-01   \n",
       "max          1.271337e+01         9.924170e+00       2.357102e+01   \n",
       "\n",
       "       v_min_max_Volumen_4  v_min_max_extra_4  \\\n",
       "count         1.031410e+05       1.031410e+05   \n",
       "mean          4.408987e-17       2.424943e-17   \n",
       "std           1.000005e+00       1.000005e+00   \n",
       "min          -7.745206e-01      -3.099206e-01   \n",
       "25%          -7.745206e-01      -3.099206e-01   \n",
       "50%          -3.177278e-01      -3.099206e-01   \n",
       "75%           5.958576e-01      -3.099206e-01   \n",
       "max           8.361334e+00       2.551698e+01   \n",
       "\n",
       "       v_min_max_improvement_surcharge_8  \n",
       "count                       1.031410e+05  \n",
       "mean                        2.424943e-17  \n",
       "std                         1.000005e+00  \n",
       "min                        -6.835278e-01  \n",
       "25%                        -6.835278e-01  \n",
       "50%                        -6.835278e-01  \n",
       "75%                         5.085746e-01  \n",
       "max                         7.065138e+00  "
      ]
     },
     "execution_count": 77,
     "metadata": {},
     "output_type": "execute_result"
    }
   ],
   "source": [
    "Xs.describe()"
   ]
  },
  {
   "cell_type": "code",
   "execution_count": 78,
   "metadata": {
    "ExecuteTime": {
     "end_time": "2021-01-14T08:29:03.682550Z",
     "start_time": "2021-01-14T08:29:03.647047Z"
    }
   },
   "outputs": [
    {
     "data": {
      "text/html": [
       "<div>\n",
       "<style scoped>\n",
       "    .dataframe tbody tr th:only-of-type {\n",
       "        vertical-align: middle;\n",
       "    }\n",
       "\n",
       "    .dataframe tbody tr th {\n",
       "        vertical-align: top;\n",
       "    }\n",
       "\n",
       "    .dataframe thead th {\n",
       "        text-align: right;\n",
       "    }\n",
       "</style>\n",
       "<table border=\"1\" class=\"dataframe\">\n",
       "  <thead>\n",
       "    <tr style=\"text-align: right;\">\n",
       "      <th></th>\n",
       "      <th>VolumenY</th>\n",
       "    </tr>\n",
       "  </thead>\n",
       "  <tbody>\n",
       "    <tr>\n",
       "      <th>count</th>\n",
       "      <td>1.031410e+05</td>\n",
       "    </tr>\n",
       "    <tr>\n",
       "      <th>mean</th>\n",
       "      <td>7.274829e-17</td>\n",
       "    </tr>\n",
       "    <tr>\n",
       "      <th>std</th>\n",
       "      <td>1.000005e+00</td>\n",
       "    </tr>\n",
       "    <tr>\n",
       "      <th>min</th>\n",
       "      <td>-8.640193e-01</td>\n",
       "    </tr>\n",
       "    <tr>\n",
       "      <th>25%</th>\n",
       "      <td>-8.640193e-01</td>\n",
       "    </tr>\n",
       "    <tr>\n",
       "      <th>50%</th>\n",
       "      <td>-2.814907e-01</td>\n",
       "    </tr>\n",
       "    <tr>\n",
       "      <th>75%</th>\n",
       "      <td>3.010380e-01</td>\n",
       "    </tr>\n",
       "    <tr>\n",
       "      <th>max</th>\n",
       "      <td>1.195161e+01</td>\n",
       "    </tr>\n",
       "  </tbody>\n",
       "</table>\n",
       "</div>"
      ],
      "text/plain": [
       "           VolumenY\n",
       "count  1.031410e+05\n",
       "mean   7.274829e-17\n",
       "std    1.000005e+00\n",
       "min   -8.640193e-01\n",
       "25%   -8.640193e-01\n",
       "50%   -2.814907e-01\n",
       "75%    3.010380e-01\n",
       "max    1.195161e+01"
      ]
     },
     "execution_count": 78,
     "metadata": {},
     "output_type": "execute_result"
    }
   ],
   "source": [
    "ys.describe()"
   ]
  },
  {
   "cell_type": "code",
   "execution_count": 79,
   "metadata": {
    "ExecuteTime": {
     "end_time": "2021-01-14T08:29:08.133173Z",
     "start_time": "2021-01-14T08:29:07.950486Z"
    }
   },
   "outputs": [
    {
     "data": {
      "text/plain": [
       "PCA(n_components=7)"
      ]
     },
     "execution_count": 79,
     "metadata": {},
     "output_type": "execute_result"
    }
   ],
   "source": [
    "pca=PCA(n_components=7)\n",
    "pca.fit(Xs)"
   ]
  },
  {
   "cell_type": "code",
   "execution_count": 80,
   "metadata": {
    "ExecuteTime": {
     "end_time": "2021-01-14T08:29:10.622520Z",
     "start_time": "2021-01-14T08:29:10.607688Z"
    }
   },
   "outputs": [],
   "source": [
    "Xp=pd.DataFrame(pca.transform(Xs))"
   ]
  },
  {
   "cell_type": "code",
   "execution_count": 81,
   "metadata": {
    "ExecuteTime": {
     "end_time": "2021-01-14T08:29:12.757425Z",
     "start_time": "2021-01-14T08:29:12.748252Z"
    }
   },
   "outputs": [
    {
     "data": {
      "text/plain": [
       "array([0.58561669, 0.75114005, 0.83671934, 0.88528126, 0.9303092 ,\n",
       "       0.96151963, 0.98018594])"
      ]
     },
     "execution_count": 81,
     "metadata": {},
     "output_type": "execute_result"
    }
   ],
   "source": [
    "pca.explained_variance_ratio_.cumsum()"
   ]
  },
  {
   "cell_type": "code",
   "execution_count": 82,
   "metadata": {
    "ExecuteTime": {
     "end_time": "2021-01-14T08:30:19.979044Z",
     "start_time": "2021-01-14T08:30:19.973009Z"
    }
   },
   "outputs": [],
   "source": [
    "mm=MinMaxScaler()"
   ]
  },
  {
   "cell_type": "code",
   "execution_count": 83,
   "metadata": {
    "ExecuteTime": {
     "end_time": "2021-01-14T08:30:22.037325Z",
     "start_time": "2021-01-14T08:30:22.020931Z"
    }
   },
   "outputs": [
    {
     "data": {
      "text/plain": [
       "MinMaxScaler()"
      ]
     },
     "execution_count": 83,
     "metadata": {},
     "output_type": "execute_result"
    }
   ],
   "source": [
    "mm.fit(Xp)"
   ]
  },
  {
   "cell_type": "code",
   "execution_count": 84,
   "metadata": {
    "ExecuteTime": {
     "end_time": "2021-01-14T08:30:24.456380Z",
     "start_time": "2021-01-14T08:30:24.444191Z"
    }
   },
   "outputs": [],
   "source": [
    "Xp=pd.DataFrame(mm.transform(Xp))\n"
   ]
  },
  {
   "cell_type": "code",
   "execution_count": 85,
   "metadata": {
    "ExecuteTime": {
     "end_time": "2021-01-14T08:30:28.642941Z",
     "start_time": "2021-01-14T08:30:28.552450Z"
    }
   },
   "outputs": [
    {
     "data": {
      "text/html": [
       "<div>\n",
       "<style scoped>\n",
       "    .dataframe tbody tr th:only-of-type {\n",
       "        vertical-align: middle;\n",
       "    }\n",
       "\n",
       "    .dataframe tbody tr th {\n",
       "        vertical-align: top;\n",
       "    }\n",
       "\n",
       "    .dataframe thead th {\n",
       "        text-align: right;\n",
       "    }\n",
       "</style>\n",
       "<table border=\"1\" class=\"dataframe\">\n",
       "  <thead>\n",
       "    <tr style=\"text-align: right;\">\n",
       "      <th></th>\n",
       "      <th>0</th>\n",
       "      <th>1</th>\n",
       "      <th>2</th>\n",
       "      <th>3</th>\n",
       "      <th>4</th>\n",
       "      <th>5</th>\n",
       "      <th>6</th>\n",
       "    </tr>\n",
       "  </thead>\n",
       "  <tbody>\n",
       "    <tr>\n",
       "      <th>count</th>\n",
       "      <td>103141.000000</td>\n",
       "      <td>103141.000000</td>\n",
       "      <td>103141.000000</td>\n",
       "      <td>103141.000000</td>\n",
       "      <td>103141.000000</td>\n",
       "      <td>103141.000000</td>\n",
       "      <td>103141.000000</td>\n",
       "    </tr>\n",
       "    <tr>\n",
       "      <th>mean</th>\n",
       "      <td>0.087959</td>\n",
       "      <td>0.231294</td>\n",
       "      <td>0.474728</td>\n",
       "      <td>0.340618</td>\n",
       "      <td>0.446202</td>\n",
       "      <td>0.323456</td>\n",
       "      <td>0.498986</td>\n",
       "    </tr>\n",
       "    <tr>\n",
       "      <th>std</th>\n",
       "      <td>0.095102</td>\n",
       "      <td>0.036928</td>\n",
       "      <td>0.042686</td>\n",
       "      <td>0.036172</td>\n",
       "      <td>0.048330</td>\n",
       "      <td>0.029982</td>\n",
       "      <td>0.055014</td>\n",
       "    </tr>\n",
       "    <tr>\n",
       "      <th>min</th>\n",
       "      <td>0.000000</td>\n",
       "      <td>0.000000</td>\n",
       "      <td>0.000000</td>\n",
       "      <td>0.000000</td>\n",
       "      <td>0.000000</td>\n",
       "      <td>0.000000</td>\n",
       "      <td>0.000000</td>\n",
       "    </tr>\n",
       "    <tr>\n",
       "      <th>25%</th>\n",
       "      <td>0.016941</td>\n",
       "      <td>0.216634</td>\n",
       "      <td>0.469247</td>\n",
       "      <td>0.327732</td>\n",
       "      <td>0.418197</td>\n",
       "      <td>0.316871</td>\n",
       "      <td>0.474199</td>\n",
       "    </tr>\n",
       "    <tr>\n",
       "      <th>50%</th>\n",
       "      <td>0.055698</td>\n",
       "      <td>0.238647</td>\n",
       "      <td>0.472610</td>\n",
       "      <td>0.345593</td>\n",
       "      <td>0.439298</td>\n",
       "      <td>0.326140</td>\n",
       "      <td>0.496584</td>\n",
       "    </tr>\n",
       "    <tr>\n",
       "      <th>75%</th>\n",
       "      <td>0.128291</td>\n",
       "      <td>0.243358</td>\n",
       "      <td>0.481724</td>\n",
       "      <td>0.355353</td>\n",
       "      <td>0.469508</td>\n",
       "      <td>0.331134</td>\n",
       "      <td>0.515878</td>\n",
       "    </tr>\n",
       "    <tr>\n",
       "      <th>max</th>\n",
       "      <td>1.000000</td>\n",
       "      <td>1.000000</td>\n",
       "      <td>1.000000</td>\n",
       "      <td>1.000000</td>\n",
       "      <td>1.000000</td>\n",
       "      <td>1.000000</td>\n",
       "      <td>1.000000</td>\n",
       "    </tr>\n",
       "  </tbody>\n",
       "</table>\n",
       "</div>"
      ],
      "text/plain": [
       "                   0              1              2              3  \\\n",
       "count  103141.000000  103141.000000  103141.000000  103141.000000   \n",
       "mean        0.087959       0.231294       0.474728       0.340618   \n",
       "std         0.095102       0.036928       0.042686       0.036172   \n",
       "min         0.000000       0.000000       0.000000       0.000000   \n",
       "25%         0.016941       0.216634       0.469247       0.327732   \n",
       "50%         0.055698       0.238647       0.472610       0.345593   \n",
       "75%         0.128291       0.243358       0.481724       0.355353   \n",
       "max         1.000000       1.000000       1.000000       1.000000   \n",
       "\n",
       "                   4              5              6  \n",
       "count  103141.000000  103141.000000  103141.000000  \n",
       "mean        0.446202       0.323456       0.498986  \n",
       "std         0.048330       0.029982       0.055014  \n",
       "min         0.000000       0.000000       0.000000  \n",
       "25%         0.418197       0.316871       0.474199  \n",
       "50%         0.439298       0.326140       0.496584  \n",
       "75%         0.469508       0.331134       0.515878  \n",
       "max         1.000000       1.000000       1.000000  "
      ]
     },
     "execution_count": 85,
     "metadata": {},
     "output_type": "execute_result"
    }
   ],
   "source": [
    "Xp.describe()"
   ]
  },
  {
   "cell_type": "code",
   "execution_count": 86,
   "metadata": {
    "ExecuteTime": {
     "end_time": "2021-01-14T08:31:09.428672Z",
     "start_time": "2021-01-14T08:31:09.394109Z"
    }
   },
   "outputs": [
    {
     "data": {
      "text/html": [
       "<div>\n",
       "<style scoped>\n",
       "    .dataframe tbody tr th:only-of-type {\n",
       "        vertical-align: middle;\n",
       "    }\n",
       "\n",
       "    .dataframe tbody tr th {\n",
       "        vertical-align: top;\n",
       "    }\n",
       "\n",
       "    .dataframe thead th {\n",
       "        text-align: right;\n",
       "    }\n",
       "</style>\n",
       "<table border=\"1\" class=\"dataframe\">\n",
       "  <thead>\n",
       "    <tr style=\"text-align: right;\">\n",
       "      <th></th>\n",
       "      <th>0</th>\n",
       "      <th>1</th>\n",
       "      <th>2</th>\n",
       "      <th>3</th>\n",
       "      <th>4</th>\n",
       "      <th>5</th>\n",
       "      <th>6</th>\n",
       "    </tr>\n",
       "  </thead>\n",
       "  <tbody>\n",
       "    <tr>\n",
       "      <th>0</th>\n",
       "      <td>1.0</td>\n",
       "      <td>-0.0</td>\n",
       "      <td>0.0</td>\n",
       "      <td>0.0</td>\n",
       "      <td>0.0</td>\n",
       "      <td>0.0</td>\n",
       "      <td>0.0</td>\n",
       "    </tr>\n",
       "    <tr>\n",
       "      <th>1</th>\n",
       "      <td>-0.0</td>\n",
       "      <td>1.0</td>\n",
       "      <td>0.0</td>\n",
       "      <td>-0.0</td>\n",
       "      <td>-0.0</td>\n",
       "      <td>-0.0</td>\n",
       "      <td>-0.0</td>\n",
       "    </tr>\n",
       "    <tr>\n",
       "      <th>2</th>\n",
       "      <td>0.0</td>\n",
       "      <td>0.0</td>\n",
       "      <td>1.0</td>\n",
       "      <td>0.0</td>\n",
       "      <td>0.0</td>\n",
       "      <td>-0.0</td>\n",
       "      <td>0.0</td>\n",
       "    </tr>\n",
       "    <tr>\n",
       "      <th>3</th>\n",
       "      <td>0.0</td>\n",
       "      <td>-0.0</td>\n",
       "      <td>0.0</td>\n",
       "      <td>1.0</td>\n",
       "      <td>-0.0</td>\n",
       "      <td>0.0</td>\n",
       "      <td>0.0</td>\n",
       "    </tr>\n",
       "    <tr>\n",
       "      <th>4</th>\n",
       "      <td>0.0</td>\n",
       "      <td>-0.0</td>\n",
       "      <td>0.0</td>\n",
       "      <td>-0.0</td>\n",
       "      <td>1.0</td>\n",
       "      <td>0.0</td>\n",
       "      <td>0.0</td>\n",
       "    </tr>\n",
       "    <tr>\n",
       "      <th>5</th>\n",
       "      <td>0.0</td>\n",
       "      <td>-0.0</td>\n",
       "      <td>-0.0</td>\n",
       "      <td>0.0</td>\n",
       "      <td>0.0</td>\n",
       "      <td>1.0</td>\n",
       "      <td>-0.0</td>\n",
       "    </tr>\n",
       "    <tr>\n",
       "      <th>6</th>\n",
       "      <td>0.0</td>\n",
       "      <td>-0.0</td>\n",
       "      <td>0.0</td>\n",
       "      <td>0.0</td>\n",
       "      <td>0.0</td>\n",
       "      <td>-0.0</td>\n",
       "      <td>1.0</td>\n",
       "    </tr>\n",
       "  </tbody>\n",
       "</table>\n",
       "</div>"
      ],
      "text/plain": [
       "     0    1    2    3    4    5    6\n",
       "0  1.0 -0.0  0.0  0.0  0.0  0.0  0.0\n",
       "1 -0.0  1.0  0.0 -0.0 -0.0 -0.0 -0.0\n",
       "2  0.0  0.0  1.0  0.0  0.0 -0.0  0.0\n",
       "3  0.0 -0.0  0.0  1.0 -0.0  0.0  0.0\n",
       "4  0.0 -0.0  0.0 -0.0  1.0  0.0  0.0\n",
       "5  0.0 -0.0 -0.0  0.0  0.0  1.0 -0.0\n",
       "6  0.0 -0.0  0.0  0.0  0.0 -0.0  1.0"
      ]
     },
     "execution_count": 86,
     "metadata": {},
     "output_type": "execute_result"
    }
   ],
   "source": [
    "Xp.corr().round(2)"
   ]
  },
  {
   "cell_type": "markdown",
   "metadata": {
    "ExecuteTime": {
     "end_time": "2020-12-31T04:10:18.786920Z",
     "start_time": "2020-12-31T04:09:28.360348Z"
    }
   },
   "source": [
    "# Modelo de Arbol "
   ]
  },
  {
   "cell_type": "code",
   "execution_count": 87,
   "metadata": {
    "ExecuteTime": {
     "end_time": "2021-01-14T08:31:16.787093Z",
     "start_time": "2021-01-14T08:31:16.765219Z"
    }
   },
   "outputs": [],
   "source": [
    "from sklearn.tree import DecisionTreeRegressor"
   ]
  },
  {
   "cell_type": "code",
   "execution_count": 88,
   "metadata": {
    "ExecuteTime": {
     "end_time": "2021-01-14T08:31:18.771577Z",
     "start_time": "2021-01-14T08:31:18.763890Z"
    }
   },
   "outputs": [],
   "source": [
    "hiper_param = dict(criterion =[\"mse\"],\n",
    "splitter = [\"best\", \"random\"],\n",
    "max_leaf_nodes = list(range(2, 100)),\n",
    "min_samples_split= [2, 3, 4])"
   ]
  },
  {
   "cell_type": "code",
   "execution_count": 89,
   "metadata": {
    "ExecuteTime": {
     "end_time": "2021-01-14T08:31:21.761141Z",
     "start_time": "2021-01-14T08:31:21.750478Z"
    }
   },
   "outputs": [],
   "source": [
    "from sklearn.model_selection import GridSearchCV\n",
    "from sklearn.model_selection import train_test_split\n",
    "from sklearn.metrics import mean_absolute_error,mean_squared_error"
   ]
  },
  {
   "cell_type": "code",
   "execution_count": 90,
   "metadata": {
    "ExecuteTime": {
     "end_time": "2021-01-14T08:31:31.875133Z",
     "start_time": "2021-01-14T08:31:31.850691Z"
    }
   },
   "outputs": [],
   "source": [
    "Xt, Xv, yt, yv = train_test_split(Xp,ys,train_size=0.7)"
   ]
  },
  {
   "cell_type": "code",
   "execution_count": 93,
   "metadata": {
    "ExecuteTime": {
     "end_time": "2021-01-14T08:37:06.974328Z",
     "start_time": "2021-01-14T08:37:06.968452Z"
    }
   },
   "outputs": [],
   "source": [
    "from sklearn.model_selection import GridSearchCV\n",
    "grid = GridSearchCV(DecisionTreeRegressor(),\n",
    "                    hiper_param ,\n",
    "                    verbose=1, \n",
    "                    cv=10,\n",
    "                    scoring='explained_variance',\n",
    "                    n_jobs=-1)"
   ]
  },
  {
   "cell_type": "code",
   "execution_count": 94,
   "metadata": {
    "ExecuteTime": {
     "end_time": "2021-01-14T08:38:35.384885Z",
     "start_time": "2021-01-14T08:37:09.408623Z"
    }
   },
   "outputs": [
    {
     "name": "stdout",
     "output_type": "stream",
     "text": [
      "Fitting 10 folds for each of 588 candidates, totalling 5880 fits\n"
     ]
    },
    {
     "name": "stderr",
     "output_type": "stream",
     "text": [
      "[Parallel(n_jobs=-1)]: Using backend LokyBackend with 4 concurrent workers.\n",
      "[Parallel(n_jobs=-1)]: Done  42 tasks      | elapsed:    4.4s\n",
      "[Parallel(n_jobs=-1)]: Done 192 tasks      | elapsed:   12.1s\n",
      "[Parallel(n_jobs=-1)]: Done 442 tasks      | elapsed:   27.7s\n",
      "[Parallel(n_jobs=-1)]: Done 792 tasks      | elapsed:   53.8s\n",
      "[Parallel(n_jobs=-1)]: Done 1242 tasks      | elapsed:  1.5min\n",
      "[Parallel(n_jobs=-1)]: Done 1792 tasks      | elapsed:  2.3min\n",
      "[Parallel(n_jobs=-1)]: Done 2442 tasks      | elapsed:  3.3min\n",
      "[Parallel(n_jobs=-1)]: Done 3192 tasks      | elapsed:  4.5min\n",
      "[Parallel(n_jobs=-1)]: Done 4042 tasks      | elapsed:  5.8min\n",
      "[Parallel(n_jobs=-1)]: Done 4992 tasks      | elapsed:  7.3min\n",
      "[Parallel(n_jobs=-1)]: Done 5880 out of 5880 | elapsed:  8.8min finished\n"
     ]
    },
    {
     "data": {
      "text/plain": [
       "GridSearchCV(cv=10, estimator=DecisionTreeRegressor(), n_jobs=-1,\n",
       "             param_grid={'criterion': ['mse'],\n",
       "                         'max_leaf_nodes': [2, 3, 4, 5, 6, 7, 8, 9, 10, 11, 12,\n",
       "                                            13, 14, 15, 16, 17, 18, 19, 20, 21,\n",
       "                                            22, 23, 24, 25, 26, 27, 28, 29, 30,\n",
       "                                            31, ...],\n",
       "                         'min_samples_split': [2, 3, 4],\n",
       "                         'splitter': ['best', 'random']},\n",
       "             scoring='explained_variance', verbose=1)"
      ]
     },
     "execution_count": 94,
     "metadata": {},
     "output_type": "execute_result"
    }
   ],
   "source": [
    "grid.fit(Xt,yt) "
   ]
  },
  {
   "cell_type": "code",
   "execution_count": 95,
   "metadata": {
    "ExecuteTime": {
     "end_time": "2021-01-14T08:38:38.204851Z",
     "start_time": "2021-01-14T08:38:38.198202Z"
    }
   },
   "outputs": [
    {
     "data": {
      "text/plain": [
       "{'criterion': 'mse',\n",
       " 'max_leaf_nodes': 83,\n",
       " 'min_samples_split': 3,\n",
       " 'splitter': 'random'}"
      ]
     },
     "execution_count": 95,
     "metadata": {},
     "output_type": "execute_result"
    }
   ],
   "source": [
    "grid.best_params_"
   ]
  },
  {
   "cell_type": "code",
   "execution_count": 96,
   "metadata": {
    "ExecuteTime": {
     "end_time": "2021-01-14T08:38:40.319118Z",
     "start_time": "2021-01-14T08:38:40.311026Z"
    }
   },
   "outputs": [
    {
     "data": {
      "text/plain": [
       "0.47255778426444833"
      ]
     },
     "execution_count": 96,
     "metadata": {},
     "output_type": "execute_result"
    }
   ],
   "source": [
    "grid.best_score_"
   ]
  },
  {
   "cell_type": "code",
   "execution_count": 97,
   "metadata": {},
   "outputs": [
    {
     "data": {
      "text/plain": [
       "DecisionTreeRegressor(max_leaf_nodes=83, min_samples_split=3, splitter='random')"
      ]
     },
     "execution_count": 97,
     "metadata": {},
     "output_type": "execute_result"
    }
   ],
   "source": [
    "grid.best_estimator_"
   ]
  },
  {
   "cell_type": "markdown",
   "metadata": {},
   "source": [
    "Podemos ver que tenemos un muy buen score, asi que utilizaremos ese modelo "
   ]
  },
  {
   "cell_type": "code",
   "execution_count": 98,
   "metadata": {
    "ExecuteTime": {
     "end_time": "2021-01-14T08:38:44.264403Z",
     "start_time": "2021-01-14T08:38:44.255528Z"
    }
   },
   "outputs": [],
   "source": [
    "modelo = grid.best_estimator_"
   ]
  },
  {
   "cell_type": "code",
   "execution_count": 99,
   "metadata": {
    "ExecuteTime": {
     "end_time": "2021-01-14T08:38:46.133939Z",
     "start_time": "2021-01-14T08:38:46.114646Z"
    }
   },
   "outputs": [
    {
     "data": {
      "text/plain": [
       "DecisionTreeRegressor(max_leaf_nodes=83, min_samples_split=3, splitter='random')"
      ]
     },
     "execution_count": 99,
     "metadata": {},
     "output_type": "execute_result"
    }
   ],
   "source": [
    "modelo.fit(Xt,yt)"
   ]
  },
  {
   "cell_type": "code",
   "execution_count": 100,
   "metadata": {
    "ExecuteTime": {
     "end_time": "2021-01-14T08:38:51.124695Z",
     "start_time": "2021-01-14T08:38:50.517064Z"
    }
   },
   "outputs": [
    {
     "data": {
      "text/plain": [
       "<AxesSubplot:ylabel='Density'>"
      ]
     },
     "execution_count": 100,
     "metadata": {},
     "output_type": "execute_result"
    },
    {
     "data": {
      "image/png": "[encoded data removed]",
      "text/plain": [
       "<Figure size 432x288 with 1 Axes>"
      ]
     },
     "metadata": {
      "needs_background": "light"
     },
     "output_type": "display_data"
    }
   ],
   "source": [
    "sns.distplot(scy.inverse_transform(yv),hist=False)\n",
    "sns.distplot(scy.inverse_transform(pd.DataFrame(modelo.predict(Xv))),hist=False)"
   ]
  },
  {
   "cell_type": "code",
   "execution_count": 101,
   "metadata": {
    "ExecuteTime": {
     "end_time": "2021-01-14T08:38:56.139872Z",
     "start_time": "2021-01-14T08:38:55.501555Z"
    }
   },
   "outputs": [
    {
     "data": {
      "text/plain": [
       "<AxesSubplot:ylabel='Density'>"
      ]
     },
     "execution_count": 101,
     "metadata": {},
     "output_type": "execute_result"
    },
    {
     "data": {
      "image/png": "[encoded data removed]",
      "text/plain": [
       "<Figure size 432x288 with 1 Axes>"
      ]
     },
     "metadata": {
      "needs_background": "light"
     },
     "output_type": "display_data"
    }
   ],
   "source": [
    "sns.distplot(scy.inverse_transform(yt),hist=False)\n",
    "sns.distplot(scy.inverse_transform(pd.DataFrame(modelo.predict(Xt))),hist=False)"
   ]
  },
  {
   "cell_type": "code",
   "execution_count": 102,
   "metadata": {
    "ExecuteTime": {
     "end_time": "2021-01-14T08:39:00.330590Z",
     "start_time": "2021-01-14T08:38:58.932182Z"
    }
   },
   "outputs": [
    {
     "data": {
      "text/plain": [
       "<AxesSubplot:ylabel='Density'>"
      ]
     },
     "execution_count": 102,
     "metadata": {},
     "output_type": "execute_result"
    },
    {
     "data": {
      "image/png": "[encoded data removed]",
      "text/plain": [
       "<Figure size 432x288 with 1 Axes>"
      ]
     },
     "metadata": {
      "needs_background": "light"
     },
     "output_type": "display_data"
    }
   ],
   "source": [
    "sns.distplot(scy.inverse_transform(yt),hist=False,kde_kws={'cumulative':True})\n",
    "sns.distplot(scy.inverse_transform(pd.DataFrame(modelo.predict(Xt))),hist=False,kde_kws={'cumulative':True})"
   ]
  },
  {
   "cell_type": "code",
   "execution_count": 103,
   "metadata": {},
   "outputs": [
    {
     "data": {
      "text/plain": [
       "<AxesSubplot:ylabel='Density'>"
      ]
     },
     "execution_count": 103,
     "metadata": {},
     "output_type": "execute_result"
    },
    {
     "data": {
      "image/png": "[encoded data removed]",
      "text/plain": [
       "<Figure size 432x288 with 1 Axes>"
      ]
     },
     "metadata": {
      "needs_background": "light"
     },
     "output_type": "display_data"
    }
   ],
   "source": [
    "sns.distplot(scy.inverse_transform(yv),hist=False,kde_kws={'cumulative':True})\n",
    "sns.distplot(scy.inverse_transform(pd.DataFrame(modelo.predict(Xv))),hist=False,kde_kws={'cumulative':True})"
   ]
  },
  {
   "cell_type": "markdown",
   "metadata": {},
   "source": [
    "## Resultados del modelo "
   ]
  },
  {
   "cell_type": "code",
   "execution_count": 104,
   "metadata": {},
   "outputs": [],
   "source": [
    "Arb=Xe.copy()"
   ]
  },
  {
   "cell_type": "code",
   "execution_count": 105,
   "metadata": {},
   "outputs": [],
   "source": [
    "Arb['y']=ye['VolumenY']\n",
    "Arb['y^e']=scy.inverse_transform(pd.DataFrame(modelo.predict(Xp)))"
   ]
  },
  {
   "cell_type": "code",
   "execution_count": 106,
   "metadata": {},
   "outputs": [
    {
     "data": {
      "text/html": [
       "<div>\n",
       "<style scoped>\n",
       "    .dataframe tbody tr th:only-of-type {\n",
       "        vertical-align: middle;\n",
       "    }\n",
       "\n",
       "    .dataframe tbody tr th {\n",
       "        vertical-align: top;\n",
       "    }\n",
       "\n",
       "    .dataframe thead th {\n",
       "        text-align: right;\n",
       "    }\n",
       "</style>\n",
       "<table border=\"1\" class=\"dataframe\">\n",
       "  <thead>\n",
       "    <tr style=\"text-align: right;\">\n",
       "      <th></th>\n",
       "      <th>v_mean_max_Volumen_10</th>\n",
       "      <th>v_mean_max_total_amount_10</th>\n",
       "      <th>v_mean_max_extra_12</th>\n",
       "      <th>v_mean_max_trip_distance_12</th>\n",
       "      <th>v_mean_max_tolls_amount_10</th>\n",
       "      <th>v_min_max_Volumen_14</th>\n",
       "      <th>v_min_max_extra_10</th>\n",
       "      <th>v_min_max_fare_amount_12</th>\n",
       "      <th>v_max_max_total_amount_12</th>\n",
       "      <th>v_min_max_tolls_amount_12</th>\n",
       "      <th>...</th>\n",
       "      <th>v_min_max_Volumen_2</th>\n",
       "      <th>v_min_max_extra_4</th>\n",
       "      <th>v_max_max_tolls_amount_2</th>\n",
       "      <th>v_mean_max_trip_distance_2</th>\n",
       "      <th>v_min_max_improvement_surcharge_8</th>\n",
       "      <th>hora</th>\n",
       "      <th>fk_id_PUZone</th>\n",
       "      <th>ancla</th>\n",
       "      <th>y</th>\n",
       "      <th>y^e</th>\n",
       "    </tr>\n",
       "  </thead>\n",
       "  <tbody>\n",
       "    <tr>\n",
       "      <th>0</th>\n",
       "      <td>0.6</td>\n",
       "      <td>8.696</td>\n",
       "      <td>0.250000</td>\n",
       "      <td>1.078333</td>\n",
       "      <td>0.000</td>\n",
       "      <td>0.0</td>\n",
       "      <td>0.0</td>\n",
       "      <td>0.0</td>\n",
       "      <td>62.41</td>\n",
       "      <td>0.0</td>\n",
       "      <td>...</td>\n",
       "      <td>0.0</td>\n",
       "      <td>0.0</td>\n",
       "      <td>0.00</td>\n",
       "      <td>0.000</td>\n",
       "      <td>0.0</td>\n",
       "      <td>0</td>\n",
       "      <td>4</td>\n",
       "      <td>264</td>\n",
       "      <td>1</td>\n",
       "      <td>1.305132</td>\n",
       "    </tr>\n",
       "    <tr>\n",
       "      <th>1</th>\n",
       "      <td>0.6</td>\n",
       "      <td>13.137</td>\n",
       "      <td>0.291667</td>\n",
       "      <td>2.812500</td>\n",
       "      <td>0.576</td>\n",
       "      <td>0.0</td>\n",
       "      <td>0.0</td>\n",
       "      <td>0.0</td>\n",
       "      <td>45.36</td>\n",
       "      <td>0.0</td>\n",
       "      <td>...</td>\n",
       "      <td>0.0</td>\n",
       "      <td>0.0</td>\n",
       "      <td>5.76</td>\n",
       "      <td>3.650</td>\n",
       "      <td>0.0</td>\n",
       "      <td>0</td>\n",
       "      <td>13</td>\n",
       "      <td>264</td>\n",
       "      <td>1</td>\n",
       "      <td>1.690821</td>\n",
       "    </tr>\n",
       "    <tr>\n",
       "      <th>2</th>\n",
       "      <td>0.0</td>\n",
       "      <td>0.000</td>\n",
       "      <td>0.000000</td>\n",
       "      <td>0.000000</td>\n",
       "      <td>0.000</td>\n",
       "      <td>0.0</td>\n",
       "      <td>0.0</td>\n",
       "      <td>0.0</td>\n",
       "      <td>0.00</td>\n",
       "      <td>0.0</td>\n",
       "      <td>...</td>\n",
       "      <td>0.0</td>\n",
       "      <td>0.0</td>\n",
       "      <td>0.00</td>\n",
       "      <td>0.000</td>\n",
       "      <td>0.0</td>\n",
       "      <td>0</td>\n",
       "      <td>17</td>\n",
       "      <td>264</td>\n",
       "      <td>2</td>\n",
       "      <td>1.305132</td>\n",
       "    </tr>\n",
       "    <tr>\n",
       "      <th>3</th>\n",
       "      <td>0.2</td>\n",
       "      <td>3.410</td>\n",
       "      <td>0.083333</td>\n",
       "      <td>0.707500</td>\n",
       "      <td>0.000</td>\n",
       "      <td>0.0</td>\n",
       "      <td>0.0</td>\n",
       "      <td>0.0</td>\n",
       "      <td>17.30</td>\n",
       "      <td>0.0</td>\n",
       "      <td>...</td>\n",
       "      <td>0.0</td>\n",
       "      <td>0.0</td>\n",
       "      <td>0.00</td>\n",
       "      <td>0.000</td>\n",
       "      <td>0.0</td>\n",
       "      <td>0</td>\n",
       "      <td>25</td>\n",
       "      <td>264</td>\n",
       "      <td>1</td>\n",
       "      <td>1.305132</td>\n",
       "    </tr>\n",
       "    <tr>\n",
       "      <th>4</th>\n",
       "      <td>0.3</td>\n",
       "      <td>3.790</td>\n",
       "      <td>0.125000</td>\n",
       "      <td>0.768333</td>\n",
       "      <td>0.000</td>\n",
       "      <td>0.0</td>\n",
       "      <td>0.0</td>\n",
       "      <td>0.0</td>\n",
       "      <td>33.10</td>\n",
       "      <td>0.0</td>\n",
       "      <td>...</td>\n",
       "      <td>0.0</td>\n",
       "      <td>0.0</td>\n",
       "      <td>0.00</td>\n",
       "      <td>0.000</td>\n",
       "      <td>0.0</td>\n",
       "      <td>0</td>\n",
       "      <td>41</td>\n",
       "      <td>264</td>\n",
       "      <td>2</td>\n",
       "      <td>1.305132</td>\n",
       "    </tr>\n",
       "    <tr>\n",
       "      <th>...</th>\n",
       "      <td>...</td>\n",
       "      <td>...</td>\n",
       "      <td>...</td>\n",
       "      <td>...</td>\n",
       "      <td>...</td>\n",
       "      <td>...</td>\n",
       "      <td>...</td>\n",
       "      <td>...</td>\n",
       "      <td>...</td>\n",
       "      <td>...</td>\n",
       "      <td>...</td>\n",
       "      <td>...</td>\n",
       "      <td>...</td>\n",
       "      <td>...</td>\n",
       "      <td>...</td>\n",
       "      <td>...</td>\n",
       "      <td>...</td>\n",
       "      <td>...</td>\n",
       "      <td>...</td>\n",
       "      <td>...</td>\n",
       "      <td>...</td>\n",
       "    </tr>\n",
       "    <tr>\n",
       "      <th>103136</th>\n",
       "      <td>1.6</td>\n",
       "      <td>22.779</td>\n",
       "      <td>0.750000</td>\n",
       "      <td>4.264167</td>\n",
       "      <td>0.000</td>\n",
       "      <td>0.0</td>\n",
       "      <td>0.0</td>\n",
       "      <td>0.0</td>\n",
       "      <td>49.22</td>\n",
       "      <td>0.0</td>\n",
       "      <td>...</td>\n",
       "      <td>2.0</td>\n",
       "      <td>0.5</td>\n",
       "      <td>0.00</td>\n",
       "      <td>7.035</td>\n",
       "      <td>0.0</td>\n",
       "      <td>23</td>\n",
       "      <td>239</td>\n",
       "      <td>363</td>\n",
       "      <td>3</td>\n",
       "      <td>2.375398</td>\n",
       "    </tr>\n",
       "    <tr>\n",
       "      <th>103137</th>\n",
       "      <td>0.3</td>\n",
       "      <td>3.150</td>\n",
       "      <td>0.208333</td>\n",
       "      <td>0.700833</td>\n",
       "      <td>0.000</td>\n",
       "      <td>0.0</td>\n",
       "      <td>0.0</td>\n",
       "      <td>0.0</td>\n",
       "      <td>20.34</td>\n",
       "      <td>0.0</td>\n",
       "      <td>...</td>\n",
       "      <td>0.0</td>\n",
       "      <td>0.0</td>\n",
       "      <td>0.00</td>\n",
       "      <td>0.850</td>\n",
       "      <td>0.0</td>\n",
       "      <td>23</td>\n",
       "      <td>244</td>\n",
       "      <td>363</td>\n",
       "      <td>1</td>\n",
       "      <td>1.305132</td>\n",
       "    </tr>\n",
       "    <tr>\n",
       "      <th>103138</th>\n",
       "      <td>4.5</td>\n",
       "      <td>59.506</td>\n",
       "      <td>2.458333</td>\n",
       "      <td>10.893333</td>\n",
       "      <td>0.576</td>\n",
       "      <td>1.0</td>\n",
       "      <td>0.5</td>\n",
       "      <td>3.0</td>\n",
       "      <td>170.81</td>\n",
       "      <td>0.0</td>\n",
       "      <td>...</td>\n",
       "      <td>1.0</td>\n",
       "      <td>0.5</td>\n",
       "      <td>0.00</td>\n",
       "      <td>7.865</td>\n",
       "      <td>0.3</td>\n",
       "      <td>23</td>\n",
       "      <td>249</td>\n",
       "      <td>363</td>\n",
       "      <td>5</td>\n",
       "      <td>5.237692</td>\n",
       "    </tr>\n",
       "    <tr>\n",
       "      <th>103139</th>\n",
       "      <td>0.8</td>\n",
       "      <td>10.715</td>\n",
       "      <td>0.416667</td>\n",
       "      <td>1.995833</td>\n",
       "      <td>0.000</td>\n",
       "      <td>0.0</td>\n",
       "      <td>0.0</td>\n",
       "      <td>0.0</td>\n",
       "      <td>50.50</td>\n",
       "      <td>0.0</td>\n",
       "      <td>...</td>\n",
       "      <td>0.0</td>\n",
       "      <td>0.0</td>\n",
       "      <td>0.00</td>\n",
       "      <td>0.000</td>\n",
       "      <td>0.0</td>\n",
       "      <td>23</td>\n",
       "      <td>262</td>\n",
       "      <td>363</td>\n",
       "      <td>2</td>\n",
       "      <td>1.305132</td>\n",
       "    </tr>\n",
       "    <tr>\n",
       "      <th>103140</th>\n",
       "      <td>2.2</td>\n",
       "      <td>28.041</td>\n",
       "      <td>1.333333</td>\n",
       "      <td>7.685000</td>\n",
       "      <td>0.000</td>\n",
       "      <td>0.0</td>\n",
       "      <td>0.0</td>\n",
       "      <td>0.0</td>\n",
       "      <td>85.19</td>\n",
       "      <td>0.0</td>\n",
       "      <td>...</td>\n",
       "      <td>1.0</td>\n",
       "      <td>0.0</td>\n",
       "      <td>0.00</td>\n",
       "      <td>1.085</td>\n",
       "      <td>0.0</td>\n",
       "      <td>23</td>\n",
       "      <td>263</td>\n",
       "      <td>363</td>\n",
       "      <td>6</td>\n",
       "      <td>2.579941</td>\n",
       "    </tr>\n",
       "  </tbody>\n",
       "</table>\n",
       "<p>103141 rows × 34 columns</p>\n",
       "</div>"
      ],
      "text/plain": [
       "        v_mean_max_Volumen_10  v_mean_max_total_amount_10  \\\n",
       "0                         0.6                       8.696   \n",
       "1                         0.6                      13.137   \n",
       "2                         0.0                       0.000   \n",
       "3                         0.2                       3.410   \n",
       "4                         0.3                       3.790   \n",
       "...                       ...                         ...   \n",
       "103136                    1.6                      22.779   \n",
       "103137                    0.3                       3.150   \n",
       "103138                    4.5                      59.506   \n",
       "103139                    0.8                      10.715   \n",
       "103140                    2.2                      28.041   \n",
       "\n",
       "        v_mean_max_extra_12  v_mean_max_trip_distance_12  \\\n",
       "0                  0.250000                     1.078333   \n",
       "1                  0.291667                     2.812500   \n",
       "2                  0.000000                     0.000000   \n",
       "3                  0.083333                     0.707500   \n",
       "4                  0.125000                     0.768333   \n",
       "...                     ...                          ...   \n",
       "103136             0.750000                     4.264167   \n",
       "103137             0.208333                     0.700833   \n",
       "103138             2.458333                    10.893333   \n",
       "103139             0.416667                     1.995833   \n",
       "103140             1.333333                     7.685000   \n",
       "\n",
       "        v_mean_max_tolls_amount_10  v_min_max_Volumen_14  v_min_max_extra_10  \\\n",
       "0                            0.000                   0.0                 0.0   \n",
       "1                            0.576                   0.0                 0.0   \n",
       "2                            0.000                   0.0                 0.0   \n",
       "3                            0.000                   0.0                 0.0   \n",
       "4                            0.000                   0.0                 0.0   \n",
       "...                            ...                   ...                 ...   \n",
       "103136                       0.000                   0.0                 0.0   \n",
       "103137                       0.000                   0.0                 0.0   \n",
       "103138                       0.576                   1.0                 0.5   \n",
       "103139                       0.000                   0.0                 0.0   \n",
       "103140                       0.000                   0.0                 0.0   \n",
       "\n",
       "        v_min_max_fare_amount_12  v_max_max_total_amount_12  \\\n",
       "0                            0.0                      62.41   \n",
       "1                            0.0                      45.36   \n",
       "2                            0.0                       0.00   \n",
       "3                            0.0                      17.30   \n",
       "4                            0.0                      33.10   \n",
       "...                          ...                        ...   \n",
       "103136                       0.0                      49.22   \n",
       "103137                       0.0                      20.34   \n",
       "103138                       3.0                     170.81   \n",
       "103139                       0.0                      50.50   \n",
       "103140                       0.0                      85.19   \n",
       "\n",
       "        v_min_max_tolls_amount_12  ...  v_min_max_Volumen_2  \\\n",
       "0                             0.0  ...                  0.0   \n",
       "1                             0.0  ...                  0.0   \n",
       "2                             0.0  ...                  0.0   \n",
       "3                             0.0  ...                  0.0   \n",
       "4                             0.0  ...                  0.0   \n",
       "...                           ...  ...                  ...   \n",
       "103136                        0.0  ...                  2.0   \n",
       "103137                        0.0  ...                  0.0   \n",
       "103138                        0.0  ...                  1.0   \n",
       "103139                        0.0  ...                  0.0   \n",
       "103140                        0.0  ...                  1.0   \n",
       "\n",
       "        v_min_max_extra_4  v_max_max_tolls_amount_2  \\\n",
       "0                     0.0                      0.00   \n",
       "1                     0.0                      5.76   \n",
       "2                     0.0                      0.00   \n",
       "3                     0.0                      0.00   \n",
       "4                     0.0                      0.00   \n",
       "...                   ...                       ...   \n",
       "103136                0.5                      0.00   \n",
       "103137                0.0                      0.00   \n",
       "103138                0.5                      0.00   \n",
       "103139                0.0                      0.00   \n",
       "103140                0.0                      0.00   \n",
       "\n",
       "        v_mean_max_trip_distance_2  v_min_max_improvement_surcharge_8  hora  \\\n",
       "0                            0.000                                0.0     0   \n",
       "1                            3.650                                0.0     0   \n",
       "2                            0.000                                0.0     0   \n",
       "3                            0.000                                0.0     0   \n",
       "4                            0.000                                0.0     0   \n",
       "...                            ...                                ...   ...   \n",
       "103136                       7.035                                0.0    23   \n",
       "103137                       0.850                                0.0    23   \n",
       "103138                       7.865                                0.3    23   \n",
       "103139                       0.000                                0.0    23   \n",
       "103140                       1.085                                0.0    23   \n",
       "\n",
       "        fk_id_PUZone  ancla  y       y^e  \n",
       "0                  4    264  1  1.305132  \n",
       "1                 13    264  1  1.690821  \n",
       "2                 17    264  2  1.305132  \n",
       "3                 25    264  1  1.305132  \n",
       "4                 41    264  2  1.305132  \n",
       "...              ...    ... ..       ...  \n",
       "103136           239    363  3  2.375398  \n",
       "103137           244    363  1  1.305132  \n",
       "103138           249    363  5  5.237692  \n",
       "103139           262    363  2  1.305132  \n",
       "103140           263    363  6  2.579941  \n",
       "\n",
       "[103141 rows x 34 columns]"
      ]
     },
     "execution_count": 106,
     "metadata": {},
     "output_type": "execute_result"
    }
   ],
   "source": [
    "Arb"
   ]
  },
  {
   "cell_type": "code",
   "execution_count": 480,
   "metadata": {},
   "outputs": [
    {
     "data": {
      "text/plain": [
       "43.22259134898378"
      ]
     },
     "execution_count": 480,
     "metadata": {},
     "output_type": "execute_result"
    }
   ],
   "source": [
    "np.abs(Arb['y']-Arb['y^e']).mean()"
   ]
  },
  {
   "cell_type": "code",
   "execution_count": 107,
   "metadata": {},
   "outputs": [
    {
     "data": {
      "text/plain": [
       "0.6468516187140506"
      ]
     },
     "execution_count": 107,
     "metadata": {},
     "output_type": "execute_result"
    }
   ],
   "source": [
    "np.abs((Arb['y']-Arb['y^e'])/Arb['y']).mean()"
   ]
  },
  {
   "cell_type": "code",
   "execution_count": 125,
   "metadata": {},
   "outputs": [],
   "source": [
    "Tabla=Arb[['hora','fk_id_PUZone','ancla','y','y^e']]"
   ]
  },
  {
   "cell_type": "code",
   "execution_count": 134,
   "metadata": {},
   "outputs": [],
   "source": [
    "graf=Tabla.loc[Tabla['ancla']==363]"
   ]
  },
  {
   "cell_type": "code",
   "execution_count": 127,
   "metadata": {},
   "outputs": [
    {
     "data": {
      "text/html": [
       "<div>\n",
       "<style scoped>\n",
       "    .dataframe tbody tr th:only-of-type {\n",
       "        vertical-align: middle;\n",
       "    }\n",
       "\n",
       "    .dataframe tbody tr th {\n",
       "        vertical-align: top;\n",
       "    }\n",
       "\n",
       "    .dataframe thead th {\n",
       "        text-align: right;\n",
       "    }\n",
       "</style>\n",
       "<table border=\"1\" class=\"dataframe\">\n",
       "  <thead>\n",
       "    <tr style=\"text-align: right;\">\n",
       "      <th></th>\n",
       "      <th>hora</th>\n",
       "      <th>fk_id_PUZone</th>\n",
       "      <th>ancla</th>\n",
       "      <th>y</th>\n",
       "      <th>y^e</th>\n",
       "    </tr>\n",
       "  </thead>\n",
       "  <tbody>\n",
       "    <tr>\n",
       "      <th>102182</th>\n",
       "      <td>0</td>\n",
       "      <td>48</td>\n",
       "      <td>363</td>\n",
       "      <td>1</td>\n",
       "      <td>5.151737</td>\n",
       "    </tr>\n",
       "    <tr>\n",
       "      <th>102183</th>\n",
       "      <td>0</td>\n",
       "      <td>68</td>\n",
       "      <td>363</td>\n",
       "      <td>3</td>\n",
       "      <td>3.234657</td>\n",
       "    </tr>\n",
       "    <tr>\n",
       "      <th>102184</th>\n",
       "      <td>0</td>\n",
       "      <td>79</td>\n",
       "      <td>363</td>\n",
       "      <td>7</td>\n",
       "      <td>5.840985</td>\n",
       "    </tr>\n",
       "    <tr>\n",
       "      <th>102185</th>\n",
       "      <td>0</td>\n",
       "      <td>90</td>\n",
       "      <td>363</td>\n",
       "      <td>1</td>\n",
       "      <td>3.553058</td>\n",
       "    </tr>\n",
       "    <tr>\n",
       "      <th>102186</th>\n",
       "      <td>0</td>\n",
       "      <td>100</td>\n",
       "      <td>363</td>\n",
       "      <td>1</td>\n",
       "      <td>3.234657</td>\n",
       "    </tr>\n",
       "    <tr>\n",
       "      <th>...</th>\n",
       "      <td>...</td>\n",
       "      <td>...</td>\n",
       "      <td>...</td>\n",
       "      <td>...</td>\n",
       "      <td>...</td>\n",
       "    </tr>\n",
       "    <tr>\n",
       "      <th>103136</th>\n",
       "      <td>23</td>\n",
       "      <td>239</td>\n",
       "      <td>363</td>\n",
       "      <td>3</td>\n",
       "      <td>2.375398</td>\n",
       "    </tr>\n",
       "    <tr>\n",
       "      <th>103137</th>\n",
       "      <td>23</td>\n",
       "      <td>244</td>\n",
       "      <td>363</td>\n",
       "      <td>1</td>\n",
       "      <td>1.305132</td>\n",
       "    </tr>\n",
       "    <tr>\n",
       "      <th>103138</th>\n",
       "      <td>23</td>\n",
       "      <td>249</td>\n",
       "      <td>363</td>\n",
       "      <td>5</td>\n",
       "      <td>5.237692</td>\n",
       "    </tr>\n",
       "    <tr>\n",
       "      <th>103139</th>\n",
       "      <td>23</td>\n",
       "      <td>262</td>\n",
       "      <td>363</td>\n",
       "      <td>2</td>\n",
       "      <td>1.305132</td>\n",
       "    </tr>\n",
       "    <tr>\n",
       "      <th>103140</th>\n",
       "      <td>23</td>\n",
       "      <td>263</td>\n",
       "      <td>363</td>\n",
       "      <td>6</td>\n",
       "      <td>2.579941</td>\n",
       "    </tr>\n",
       "  </tbody>\n",
       "</table>\n",
       "<p>959 rows × 5 columns</p>\n",
       "</div>"
      ],
      "text/plain": [
       "        hora  fk_id_PUZone  ancla  y       y^e\n",
       "102182     0            48    363  1  5.151737\n",
       "102183     0            68    363  3  3.234657\n",
       "102184     0            79    363  7  5.840985\n",
       "102185     0            90    363  1  3.553058\n",
       "102186     0           100    363  1  3.234657\n",
       "...      ...           ...    ... ..       ...\n",
       "103136    23           239    363  3  2.375398\n",
       "103137    23           244    363  1  1.305132\n",
       "103138    23           249    363  5  5.237692\n",
       "103139    23           262    363  2  1.305132\n",
       "103140    23           263    363  6  2.579941\n",
       "\n",
       "[959 rows x 5 columns]"
      ]
     },
     "execution_count": 127,
     "metadata": {},
     "output_type": "execute_result"
    }
   ],
   "source": [
    "graf"
   ]
  },
  {
   "cell_type": "code",
   "execution_count": 135,
   "metadata": {},
   "outputs": [],
   "source": [
    "graf=graf[['hora','y','y^e']].groupby('hora').sum().reset_index()"
   ]
  },
  {
   "cell_type": "code",
   "execution_count": 136,
   "metadata": {},
   "outputs": [
    {
     "data": {
      "text/html": [
       "<div>\n",
       "<style scoped>\n",
       "    .dataframe tbody tr th:only-of-type {\n",
       "        vertical-align: middle;\n",
       "    }\n",
       "\n",
       "    .dataframe tbody tr th {\n",
       "        vertical-align: top;\n",
       "    }\n",
       "\n",
       "    .dataframe thead th {\n",
       "        text-align: right;\n",
       "    }\n",
       "</style>\n",
       "<table border=\"1\" class=\"dataframe\">\n",
       "  <thead>\n",
       "    <tr style=\"text-align: right;\">\n",
       "      <th></th>\n",
       "      <th>hora</th>\n",
       "      <th>y</th>\n",
       "      <th>y^e</th>\n",
       "    </tr>\n",
       "  </thead>\n",
       "  <tbody>\n",
       "    <tr>\n",
       "      <th>0</th>\n",
       "      <td>0</td>\n",
       "      <td>83</td>\n",
       "      <td>106.611545</td>\n",
       "    </tr>\n",
       "    <tr>\n",
       "      <th>1</th>\n",
       "      <td>1</td>\n",
       "      <td>60</td>\n",
       "      <td>78.576208</td>\n",
       "    </tr>\n",
       "    <tr>\n",
       "      <th>2</th>\n",
       "      <td>2</td>\n",
       "      <td>35</td>\n",
       "      <td>61.758601</td>\n",
       "    </tr>\n",
       "    <tr>\n",
       "      <th>3</th>\n",
       "      <td>3</td>\n",
       "      <td>19</td>\n",
       "      <td>33.783497</td>\n",
       "    </tr>\n",
       "    <tr>\n",
       "      <th>4</th>\n",
       "      <td>4</td>\n",
       "      <td>15</td>\n",
       "      <td>26.417494</td>\n",
       "    </tr>\n",
       "    <tr>\n",
       "      <th>5</th>\n",
       "      <td>5</td>\n",
       "      <td>27</td>\n",
       "      <td>26.402589</td>\n",
       "    </tr>\n",
       "    <tr>\n",
       "      <th>6</th>\n",
       "      <td>6</td>\n",
       "      <td>35</td>\n",
       "      <td>37.207740</td>\n",
       "    </tr>\n",
       "    <tr>\n",
       "      <th>7</th>\n",
       "      <td>7</td>\n",
       "      <td>59</td>\n",
       "      <td>64.340955</td>\n",
       "    </tr>\n",
       "    <tr>\n",
       "      <th>8</th>\n",
       "      <td>8</td>\n",
       "      <td>89</td>\n",
       "      <td>84.059100</td>\n",
       "    </tr>\n",
       "    <tr>\n",
       "      <th>9</th>\n",
       "      <td>9</td>\n",
       "      <td>108</td>\n",
       "      <td>116.596432</td>\n",
       "    </tr>\n",
       "    <tr>\n",
       "      <th>10</th>\n",
       "      <td>10</td>\n",
       "      <td>128</td>\n",
       "      <td>140.845485</td>\n",
       "    </tr>\n",
       "    <tr>\n",
       "      <th>11</th>\n",
       "      <td>11</td>\n",
       "      <td>130</td>\n",
       "      <td>158.765666</td>\n",
       "    </tr>\n",
       "    <tr>\n",
       "      <th>12</th>\n",
       "      <td>12</td>\n",
       "      <td>137</td>\n",
       "      <td>164.939501</td>\n",
       "    </tr>\n",
       "    <tr>\n",
       "      <th>13</th>\n",
       "      <td>13</td>\n",
       "      <td>165</td>\n",
       "      <td>193.547628</td>\n",
       "    </tr>\n",
       "    <tr>\n",
       "      <th>14</th>\n",
       "      <td>14</td>\n",
       "      <td>203</td>\n",
       "      <td>198.002546</td>\n",
       "    </tr>\n",
       "    <tr>\n",
       "      <th>15</th>\n",
       "      <td>15</td>\n",
       "      <td>200</td>\n",
       "      <td>189.568403</td>\n",
       "    </tr>\n",
       "    <tr>\n",
       "      <th>16</th>\n",
       "      <td>16</td>\n",
       "      <td>202</td>\n",
       "      <td>195.426381</td>\n",
       "    </tr>\n",
       "    <tr>\n",
       "      <th>17</th>\n",
       "      <td>17</td>\n",
       "      <td>208</td>\n",
       "      <td>206.185479</td>\n",
       "    </tr>\n",
       "    <tr>\n",
       "      <th>18</th>\n",
       "      <td>18</td>\n",
       "      <td>222</td>\n",
       "      <td>210.926113</td>\n",
       "    </tr>\n",
       "    <tr>\n",
       "      <th>19</th>\n",
       "      <td>19</td>\n",
       "      <td>222</td>\n",
       "      <td>203.398383</td>\n",
       "    </tr>\n",
       "    <tr>\n",
       "      <th>20</th>\n",
       "      <td>20</td>\n",
       "      <td>207</td>\n",
       "      <td>184.583107</td>\n",
       "    </tr>\n",
       "    <tr>\n",
       "      <th>21</th>\n",
       "      <td>21</td>\n",
       "      <td>202</td>\n",
       "      <td>197.086008</td>\n",
       "    </tr>\n",
       "    <tr>\n",
       "      <th>22</th>\n",
       "      <td>22</td>\n",
       "      <td>169</td>\n",
       "      <td>163.624461</td>\n",
       "    </tr>\n",
       "    <tr>\n",
       "      <th>23</th>\n",
       "      <td>23</td>\n",
       "      <td>125</td>\n",
       "      <td>146.176377</td>\n",
       "    </tr>\n",
       "  </tbody>\n",
       "</table>\n",
       "</div>"
      ],
      "text/plain": [
       "    hora    y         y^e\n",
       "0      0   83  106.611545\n",
       "1      1   60   78.576208\n",
       "2      2   35   61.758601\n",
       "3      3   19   33.783497\n",
       "4      4   15   26.417494\n",
       "5      5   27   26.402589\n",
       "6      6   35   37.207740\n",
       "7      7   59   64.340955\n",
       "8      8   89   84.059100\n",
       "9      9  108  116.596432\n",
       "10    10  128  140.845485\n",
       "11    11  130  158.765666\n",
       "12    12  137  164.939501\n",
       "13    13  165  193.547628\n",
       "14    14  203  198.002546\n",
       "15    15  200  189.568403\n",
       "16    16  202  195.426381\n",
       "17    17  208  206.185479\n",
       "18    18  222  210.926113\n",
       "19    19  222  203.398383\n",
       "20    20  207  184.583107\n",
       "21    21  202  197.086008\n",
       "22    22  169  163.624461\n",
       "23    23  125  146.176377"
      ]
     },
     "execution_count": 136,
     "metadata": {},
     "output_type": "execute_result"
    }
   ],
   "source": [
    "graf"
   ]
  },
  {
   "cell_type": "code",
   "execution_count": 239,
   "metadata": {},
   "outputs": [],
   "source": [
    "graf['y^e']=round(graf['y^e'])"
   ]
  },
  {
   "cell_type": "code",
   "execution_count": 240,
   "metadata": {},
   "outputs": [
    {
     "data": {
      "image/png": "[encoded data removed]",
      "text/plain": [
       "<Figure size 1080x360 with 1 Axes>"
      ]
     },
     "metadata": {
      "needs_background": "light"
     },
     "output_type": "display_data"
    }
   ],
   "source": [
    "ax=graf.plot(x='hora', y=['y', 'y^e'], kind='line', style=\"-o\", figsize=(15,5))\n",
    "ax.set_ylabel(\"count\")\n",
    "plt.show()"
   ]
  },
  {
   "cell_type": "markdown",
   "metadata": {},
   "source": [
    "## Red neuronal"
   ]
  },
  {
   "cell_type": "code",
   "execution_count": 138,
   "metadata": {
    "ExecuteTime": {
     "end_time": "2021-01-14T08:39:16.258523Z",
     "start_time": "2021-01-14T08:39:16.252589Z"
    }
   },
   "outputs": [],
   "source": [
    "from sklearn.neural_network import MLPRegressor \n",
    "from sklearn.preprocessing import RobustScaler\n",
    "from sklearn.model_selection import train_test_split,GridSearchCV,RandomizedSearchCV"
   ]
  },
  {
   "cell_type": "code",
   "execution_count": 142,
   "metadata": {
    "ExecuteTime": {
     "end_time": "2021-01-14T08:39:18.125433Z",
     "start_time": "2021-01-14T08:39:18.080262Z"
    }
   },
   "outputs": [],
   "source": [
    "Xt, Xv, yt, yv = train_test_split(Xp,ys,train_size=0.7)"
   ]
  },
  {
   "cell_type": "code",
   "execution_count": 146,
   "metadata": {
    "ExecuteTime": {
     "end_time": "2021-01-14T08:39:21.422808Z",
     "start_time": "2021-01-14T08:39:21.413513Z"
    }
   },
   "outputs": [],
   "source": [
    "MaxN = len(best) \n",
    "hyper_param = dict(hidden_layer_sizes=[(\n",
    "    a,\n",
    "    b,\n",
    "    c,\n",
    ") for a in range(1, MaxN + 1) for b in range(1, MaxN + 1)\n",
    "                                       for c in range(1, MaxN + 1)],\n",
    "                   activation=['tanh'],\n",
    "                   alpha=np.arange(0.01, 1, 0.01),\n",
    "                   learning_rate=['constant', 'invscaling', 'adaptive'],\n",
    "                   solver=['lbfgs', 'sgd', 'adam'])"
   ]
  },
  {
   "cell_type": "code",
   "execution_count": 147,
   "metadata": {
    "ExecuteTime": {
     "end_time": "2021-01-14T08:50:20.724432Z",
     "start_time": "2021-01-14T08:50:20.719387Z"
    }
   },
   "outputs": [],
   "source": [
    "red = MLPRegressor()"
   ]
  },
  {
   "cell_type": "code",
   "execution_count": 150,
   "metadata": {
    "ExecuteTime": {
     "end_time": "2021-01-14T08:50:22.603556Z",
     "start_time": "2021-01-14T08:50:22.596965Z"
    }
   },
   "outputs": [],
   "source": [
    "grid = RandomizedSearchCV(estimator=red,\n",
    "                          n_iter=10,\n",
    "                    param_distributions=hyper_param,\n",
    "                    error_score='neg_mean_absolute_error',\n",
    "                    cv=5,\n",
    "                    n_jobs=-1,\n",
    "                    verbose=True)"
   ]
  },
  {
   "cell_type": "code",
   "execution_count": 151,
   "metadata": {
    "ExecuteTime": {
     "start_time": "2021-01-14T08:50:39.449Z"
    }
   },
   "outputs": [
    {
     "name": "stdout",
     "output_type": "stream",
     "text": [
      "Fitting 5 folds for each of 10 candidates, totalling 50 fits\n"
     ]
    },
    {
     "name": "stderr",
     "output_type": "stream",
     "text": [
      "[Parallel(n_jobs=-1)]: Using backend LokyBackend with 4 concurrent workers.\n",
      "[Parallel(n_jobs=-1)]: Done  42 tasks      | elapsed:  4.7min\n",
      "[Parallel(n_jobs=-1)]: Done  50 out of  50 | elapsed:  7.3min finished\n"
     ]
    },
    {
     "data": {
      "text/plain": [
       "RandomizedSearchCV(cv=5, error_score='neg_mean_absolute_error',\n",
       "                   estimator=MLPRegressor(), n_jobs=-1,\n",
       "                   param_distributions={'activation': ['tanh'],\n",
       "                                        'alpha': array([0.01, 0.02, 0.03, 0.04, 0.05, 0.06, 0.07, 0.08, 0.09, 0.1 , 0.11,\n",
       "       0.12, 0.13, 0.14, 0.15, 0.16, 0.17, 0.18, 0.19, 0.2 , 0.21, 0.22,\n",
       "       0.23, 0.24, 0.25, 0.26, 0.27, 0.28, 0.29, 0.3 , 0.31, 0.32, 0.33,\n",
       "       0.34, 0.35, 0.36, 0.37, 0.38, 0.39, 0.4...\n",
       "                                        'hidden_layer_sizes': [(1, 1, 1),\n",
       "                                                               (1, 1, 2),\n",
       "                                                               (1, 1, 3),\n",
       "                                                               (1, 1, 4),\n",
       "                                                               (1, 1, 5),\n",
       "                                                               (1, 1, 6),\n",
       "                                                               (1, 1, 7),\n",
       "                                                               (1, 1, 8),\n",
       "                                                               (1, 1, 9),\n",
       "                                                               (1, 2, 1),\n",
       "                                                               (1, 2, 2),\n",
       "                                                               (1, 2, 3),\n",
       "                                                               (1, 2, 4),\n",
       "                                                               (1, 2, 5),\n",
       "                                                               (1, 2, 6),\n",
       "                                                               (1, 2, 7),\n",
       "                                                               (1, 2, 8),\n",
       "                                                               (1, 2, 9),\n",
       "                                                               (1, 3, 1),\n",
       "                                                               (1, 3, 2),\n",
       "                                                               (1, 3, 3),\n",
       "                                                               (1, 3, 4),\n",
       "                                                               (1, 3, 5),\n",
       "                                                               (1, 3, 6),\n",
       "                                                               (1, 3, 7),\n",
       "                                                               (1, 3, 8),\n",
       "                                                               (1, 3, 9),\n",
       "                                                               (1, 4, 1),\n",
       "                                                               (1, 4, 2),\n",
       "                                                               (1, 4, 3), ...],\n",
       "                                        'learning_rate': ['constant',\n",
       "                                                          'invscaling',\n",
       "                                                          'adaptive'],\n",
       "                                        'solver': ['lbfgs', 'sgd', 'adam']},\n",
       "                   verbose=True)"
      ]
     },
     "execution_count": 151,
     "metadata": {},
     "output_type": "execute_result"
    }
   ],
   "source": [
    "grid.fit(Xt,yt) "
   ]
  },
  {
   "cell_type": "code",
   "execution_count": 152,
   "metadata": {
    "ExecuteTime": {
     "end_time": "2021-01-14T08:45:00.706192Z",
     "start_time": "2021-01-14T08:45:00.695251Z"
    }
   },
   "outputs": [],
   "source": [
    "red=grid.best_estimator_ "
   ]
  },
  {
   "cell_type": "code",
   "execution_count": 153,
   "metadata": {
    "ExecuteTime": {
     "end_time": "2021-01-14T08:45:04.552758Z",
     "start_time": "2021-01-14T08:45:04.543009Z"
    }
   },
   "outputs": [
    {
     "data": {
      "text/plain": [
       "0.4859552836241014"
      ]
     },
     "execution_count": 153,
     "metadata": {},
     "output_type": "execute_result"
    }
   ],
   "source": [
    "grid.best_score_"
   ]
  },
  {
   "cell_type": "code",
   "execution_count": 155,
   "metadata": {
    "ExecuteTime": {
     "end_time": "2021-01-14T08:45:09.926530Z",
     "start_time": "2021-01-14T08:45:09.261309Z"
    }
   },
   "outputs": [
    {
     "data": {
      "text/plain": [
       "<AxesSubplot:ylabel='Density'>"
      ]
     },
     "execution_count": 155,
     "metadata": {},
     "output_type": "execute_result"
    },
    {
     "data": {
      "image/png": "[encoded data removed]",
      "text/plain": [
       "<Figure size 432x288 with 1 Axes>"
      ]
     },
     "metadata": {
      "needs_background": "light"
     },
     "output_type": "display_data"
    }
   ],
   "source": [
    "sns.distplot(scy.inverse_transform(yt),hist=False)\n",
    "sns.distplot(scy.inverse_transform(pd.DataFrame(red.predict(Xt))),hist=False)"
   ]
  },
  {
   "cell_type": "code",
   "execution_count": 156,
   "metadata": {},
   "outputs": [
    {
     "data": {
      "text/plain": [
       "<AxesSubplot:ylabel='Density'>"
      ]
     },
     "execution_count": 156,
     "metadata": {},
     "output_type": "execute_result"
    },
    {
     "data": {
      "image/png": "[encoded data removed]",
      "text/plain": [
       "<Figure size 432x288 with 1 Axes>"
      ]
     },
     "metadata": {
      "needs_background": "light"
     },
     "output_type": "display_data"
    }
   ],
   "source": [
    "sns.distplot(scy.inverse_transform(yv),hist=False)\n",
    "sns.distplot(scy.inverse_transform(pd.DataFrame(red.predict(Xv))),hist=False)"
   ]
  },
  {
   "cell_type": "code",
   "execution_count": 157,
   "metadata": {
    "ExecuteTime": {
     "end_time": "2021-01-14T06:45:16.456503Z",
     "start_time": "2021-01-14T06:45:16.160528Z"
    }
   },
   "outputs": [
    {
     "data": {
      "text/plain": [
       "<AxesSubplot:ylabel='Density'>"
      ]
     },
     "execution_count": 157,
     "metadata": {},
     "output_type": "execute_result"
    },
    {
     "data": {
      "image/png": "[encoded data removed]",
      "text/plain": [
       "<Figure size 432x288 with 1 Axes>"
      ]
     },
     "metadata": {
      "needs_background": "light"
     },
     "output_type": "display_data"
    }
   ],
   "source": [
    "sns.distplot(scy.inverse_transform(yt),hist=False,kde_kws={'cumulative':True})\n",
    "sns.distplot(scy.inverse_transform(pd.DataFrame(red.predict(Xt))),hist=False,kde_kws={'cumulative':True})"
   ]
  },
  {
   "cell_type": "code",
   "execution_count": 158,
   "metadata": {},
   "outputs": [
    {
     "data": {
      "text/plain": [
       "<AxesSubplot:ylabel='Density'>"
      ]
     },
     "execution_count": 158,
     "metadata": {},
     "output_type": "execute_result"
    },
    {
     "data": {
      "image/png": "[encoded data removed]",
      "text/plain": [
       "<Figure size 432x288 with 1 Axes>"
      ]
     },
     "metadata": {
      "needs_background": "light"
     },
     "output_type": "display_data"
    }
   ],
   "source": [
    "sns.distplot(scy.inverse_transform(yv),hist=False,kde_kws={'cumulative':True})\n",
    "sns.distplot(scy.inverse_transform(pd.DataFrame(red.predict(Xv))),hist=False,kde_kws={'cumulative':True})"
   ]
  },
  {
   "cell_type": "markdown",
   "metadata": {},
   "source": [
    "## Resultados del modelo "
   ]
  },
  {
   "cell_type": "code",
   "execution_count": 159,
   "metadata": {},
   "outputs": [],
   "source": [
    "Red=Xe.copy()"
   ]
  },
  {
   "cell_type": "code",
   "execution_count": 160,
   "metadata": {},
   "outputs": [],
   "source": [
    "Red['y']=ye['VolumenY']\n",
    "Red['y^e']=scy.inverse_transform(pd.DataFrame(red.predict(Xp)))"
   ]
  },
  {
   "cell_type": "code",
   "execution_count": 161,
   "metadata": {},
   "outputs": [
    {
     "data": {
      "text/html": [
       "<div>\n",
       "<style scoped>\n",
       "    .dataframe tbody tr th:only-of-type {\n",
       "        vertical-align: middle;\n",
       "    }\n",
       "\n",
       "    .dataframe tbody tr th {\n",
       "        vertical-align: top;\n",
       "    }\n",
       "\n",
       "    .dataframe thead th {\n",
       "        text-align: right;\n",
       "    }\n",
       "</style>\n",
       "<table border=\"1\" class=\"dataframe\">\n",
       "  <thead>\n",
       "    <tr style=\"text-align: right;\">\n",
       "      <th></th>\n",
       "      <th>v_mean_max_Volumen_10</th>\n",
       "      <th>v_mean_max_total_amount_10</th>\n",
       "      <th>v_mean_max_extra_12</th>\n",
       "      <th>v_mean_max_trip_distance_12</th>\n",
       "      <th>v_mean_max_tolls_amount_10</th>\n",
       "      <th>v_min_max_Volumen_14</th>\n",
       "      <th>v_min_max_extra_10</th>\n",
       "      <th>v_min_max_fare_amount_12</th>\n",
       "      <th>v_max_max_total_amount_12</th>\n",
       "      <th>v_min_max_tolls_amount_12</th>\n",
       "      <th>...</th>\n",
       "      <th>v_min_max_Volumen_2</th>\n",
       "      <th>v_min_max_extra_4</th>\n",
       "      <th>v_max_max_tolls_amount_2</th>\n",
       "      <th>v_mean_max_trip_distance_2</th>\n",
       "      <th>v_min_max_improvement_surcharge_8</th>\n",
       "      <th>hora</th>\n",
       "      <th>fk_id_PUZone</th>\n",
       "      <th>ancla</th>\n",
       "      <th>y</th>\n",
       "      <th>y^e</th>\n",
       "    </tr>\n",
       "  </thead>\n",
       "  <tbody>\n",
       "    <tr>\n",
       "      <th>0</th>\n",
       "      <td>0.6</td>\n",
       "      <td>8.696</td>\n",
       "      <td>0.250000</td>\n",
       "      <td>1.078333</td>\n",
       "      <td>0.000</td>\n",
       "      <td>0.0</td>\n",
       "      <td>0.0</td>\n",
       "      <td>0.0</td>\n",
       "      <td>62.41</td>\n",
       "      <td>0.0</td>\n",
       "      <td>...</td>\n",
       "      <td>0.0</td>\n",
       "      <td>0.0</td>\n",
       "      <td>0.00</td>\n",
       "      <td>0.000</td>\n",
       "      <td>0.0</td>\n",
       "      <td>0</td>\n",
       "      <td>4</td>\n",
       "      <td>264</td>\n",
       "      <td>1</td>\n",
       "      <td>1.392376</td>\n",
       "    </tr>\n",
       "    <tr>\n",
       "      <th>1</th>\n",
       "      <td>0.6</td>\n",
       "      <td>13.137</td>\n",
       "      <td>0.291667</td>\n",
       "      <td>2.812500</td>\n",
       "      <td>0.576</td>\n",
       "      <td>0.0</td>\n",
       "      <td>0.0</td>\n",
       "      <td>0.0</td>\n",
       "      <td>45.36</td>\n",
       "      <td>0.0</td>\n",
       "      <td>...</td>\n",
       "      <td>0.0</td>\n",
       "      <td>0.0</td>\n",
       "      <td>5.76</td>\n",
       "      <td>3.650</td>\n",
       "      <td>0.0</td>\n",
       "      <td>0</td>\n",
       "      <td>13</td>\n",
       "      <td>264</td>\n",
       "      <td>1</td>\n",
       "      <td>1.653541</td>\n",
       "    </tr>\n",
       "    <tr>\n",
       "      <th>2</th>\n",
       "      <td>0.0</td>\n",
       "      <td>0.000</td>\n",
       "      <td>0.000000</td>\n",
       "      <td>0.000000</td>\n",
       "      <td>0.000</td>\n",
       "      <td>0.0</td>\n",
       "      <td>0.0</td>\n",
       "      <td>0.0</td>\n",
       "      <td>0.00</td>\n",
       "      <td>0.0</td>\n",
       "      <td>...</td>\n",
       "      <td>0.0</td>\n",
       "      <td>0.0</td>\n",
       "      <td>0.00</td>\n",
       "      <td>0.000</td>\n",
       "      <td>0.0</td>\n",
       "      <td>0</td>\n",
       "      <td>17</td>\n",
       "      <td>264</td>\n",
       "      <td>2</td>\n",
       "      <td>1.134790</td>\n",
       "    </tr>\n",
       "    <tr>\n",
       "      <th>3</th>\n",
       "      <td>0.2</td>\n",
       "      <td>3.410</td>\n",
       "      <td>0.083333</td>\n",
       "      <td>0.707500</td>\n",
       "      <td>0.000</td>\n",
       "      <td>0.0</td>\n",
       "      <td>0.0</td>\n",
       "      <td>0.0</td>\n",
       "      <td>17.30</td>\n",
       "      <td>0.0</td>\n",
       "      <td>...</td>\n",
       "      <td>0.0</td>\n",
       "      <td>0.0</td>\n",
       "      <td>0.00</td>\n",
       "      <td>0.000</td>\n",
       "      <td>0.0</td>\n",
       "      <td>0</td>\n",
       "      <td>25</td>\n",
       "      <td>264</td>\n",
       "      <td>1</td>\n",
       "      <td>1.221340</td>\n",
       "    </tr>\n",
       "    <tr>\n",
       "      <th>4</th>\n",
       "      <td>0.3</td>\n",
       "      <td>3.790</td>\n",
       "      <td>0.125000</td>\n",
       "      <td>0.768333</td>\n",
       "      <td>0.000</td>\n",
       "      <td>0.0</td>\n",
       "      <td>0.0</td>\n",
       "      <td>0.0</td>\n",
       "      <td>33.10</td>\n",
       "      <td>0.0</td>\n",
       "      <td>...</td>\n",
       "      <td>0.0</td>\n",
       "      <td>0.0</td>\n",
       "      <td>0.00</td>\n",
       "      <td>0.000</td>\n",
       "      <td>0.0</td>\n",
       "      <td>0</td>\n",
       "      <td>41</td>\n",
       "      <td>264</td>\n",
       "      <td>2</td>\n",
       "      <td>1.264353</td>\n",
       "    </tr>\n",
       "    <tr>\n",
       "      <th>...</th>\n",
       "      <td>...</td>\n",
       "      <td>...</td>\n",
       "      <td>...</td>\n",
       "      <td>...</td>\n",
       "      <td>...</td>\n",
       "      <td>...</td>\n",
       "      <td>...</td>\n",
       "      <td>...</td>\n",
       "      <td>...</td>\n",
       "      <td>...</td>\n",
       "      <td>...</td>\n",
       "      <td>...</td>\n",
       "      <td>...</td>\n",
       "      <td>...</td>\n",
       "      <td>...</td>\n",
       "      <td>...</td>\n",
       "      <td>...</td>\n",
       "      <td>...</td>\n",
       "      <td>...</td>\n",
       "      <td>...</td>\n",
       "      <td>...</td>\n",
       "    </tr>\n",
       "    <tr>\n",
       "      <th>103136</th>\n",
       "      <td>1.6</td>\n",
       "      <td>22.779</td>\n",
       "      <td>0.750000</td>\n",
       "      <td>4.264167</td>\n",
       "      <td>0.000</td>\n",
       "      <td>0.0</td>\n",
       "      <td>0.0</td>\n",
       "      <td>0.0</td>\n",
       "      <td>49.22</td>\n",
       "      <td>0.0</td>\n",
       "      <td>...</td>\n",
       "      <td>2.0</td>\n",
       "      <td>0.5</td>\n",
       "      <td>0.00</td>\n",
       "      <td>7.035</td>\n",
       "      <td>0.0</td>\n",
       "      <td>23</td>\n",
       "      <td>239</td>\n",
       "      <td>363</td>\n",
       "      <td>3</td>\n",
       "      <td>2.154105</td>\n",
       "    </tr>\n",
       "    <tr>\n",
       "      <th>103137</th>\n",
       "      <td>0.3</td>\n",
       "      <td>3.150</td>\n",
       "      <td>0.208333</td>\n",
       "      <td>0.700833</td>\n",
       "      <td>0.000</td>\n",
       "      <td>0.0</td>\n",
       "      <td>0.0</td>\n",
       "      <td>0.0</td>\n",
       "      <td>20.34</td>\n",
       "      <td>0.0</td>\n",
       "      <td>...</td>\n",
       "      <td>0.0</td>\n",
       "      <td>0.0</td>\n",
       "      <td>0.00</td>\n",
       "      <td>0.850</td>\n",
       "      <td>0.0</td>\n",
       "      <td>23</td>\n",
       "      <td>244</td>\n",
       "      <td>363</td>\n",
       "      <td>1</td>\n",
       "      <td>1.540642</td>\n",
       "    </tr>\n",
       "    <tr>\n",
       "      <th>103138</th>\n",
       "      <td>4.5</td>\n",
       "      <td>59.506</td>\n",
       "      <td>2.458333</td>\n",
       "      <td>10.893333</td>\n",
       "      <td>0.576</td>\n",
       "      <td>1.0</td>\n",
       "      <td>0.5</td>\n",
       "      <td>3.0</td>\n",
       "      <td>170.81</td>\n",
       "      <td>0.0</td>\n",
       "      <td>...</td>\n",
       "      <td>1.0</td>\n",
       "      <td>0.5</td>\n",
       "      <td>0.00</td>\n",
       "      <td>7.865</td>\n",
       "      <td>0.3</td>\n",
       "      <td>23</td>\n",
       "      <td>249</td>\n",
       "      <td>363</td>\n",
       "      <td>5</td>\n",
       "      <td>5.408985</td>\n",
       "    </tr>\n",
       "    <tr>\n",
       "      <th>103139</th>\n",
       "      <td>0.8</td>\n",
       "      <td>10.715</td>\n",
       "      <td>0.416667</td>\n",
       "      <td>1.995833</td>\n",
       "      <td>0.000</td>\n",
       "      <td>0.0</td>\n",
       "      <td>0.0</td>\n",
       "      <td>0.0</td>\n",
       "      <td>50.50</td>\n",
       "      <td>0.0</td>\n",
       "      <td>...</td>\n",
       "      <td>0.0</td>\n",
       "      <td>0.0</td>\n",
       "      <td>0.00</td>\n",
       "      <td>0.000</td>\n",
       "      <td>0.0</td>\n",
       "      <td>23</td>\n",
       "      <td>262</td>\n",
       "      <td>363</td>\n",
       "      <td>2</td>\n",
       "      <td>1.503159</td>\n",
       "    </tr>\n",
       "    <tr>\n",
       "      <th>103140</th>\n",
       "      <td>2.2</td>\n",
       "      <td>28.041</td>\n",
       "      <td>1.333333</td>\n",
       "      <td>7.685000</td>\n",
       "      <td>0.000</td>\n",
       "      <td>0.0</td>\n",
       "      <td>0.0</td>\n",
       "      <td>0.0</td>\n",
       "      <td>85.19</td>\n",
       "      <td>0.0</td>\n",
       "      <td>...</td>\n",
       "      <td>1.0</td>\n",
       "      <td>0.0</td>\n",
       "      <td>0.00</td>\n",
       "      <td>1.085</td>\n",
       "      <td>0.0</td>\n",
       "      <td>23</td>\n",
       "      <td>263</td>\n",
       "      <td>363</td>\n",
       "      <td>6</td>\n",
       "      <td>2.327694</td>\n",
       "    </tr>\n",
       "  </tbody>\n",
       "</table>\n",
       "<p>103141 rows × 34 columns</p>\n",
       "</div>"
      ],
      "text/plain": [
       "        v_mean_max_Volumen_10  v_mean_max_total_amount_10  \\\n",
       "0                         0.6                       8.696   \n",
       "1                         0.6                      13.137   \n",
       "2                         0.0                       0.000   \n",
       "3                         0.2                       3.410   \n",
       "4                         0.3                       3.790   \n",
       "...                       ...                         ...   \n",
       "103136                    1.6                      22.779   \n",
       "103137                    0.3                       3.150   \n",
       "103138                    4.5                      59.506   \n",
       "103139                    0.8                      10.715   \n",
       "103140                    2.2                      28.041   \n",
       "\n",
       "        v_mean_max_extra_12  v_mean_max_trip_distance_12  \\\n",
       "0                  0.250000                     1.078333   \n",
       "1                  0.291667                     2.812500   \n",
       "2                  0.000000                     0.000000   \n",
       "3                  0.083333                     0.707500   \n",
       "4                  0.125000                     0.768333   \n",
       "...                     ...                          ...   \n",
       "103136             0.750000                     4.264167   \n",
       "103137             0.208333                     0.700833   \n",
       "103138             2.458333                    10.893333   \n",
       "103139             0.416667                     1.995833   \n",
       "103140             1.333333                     7.685000   \n",
       "\n",
       "        v_mean_max_tolls_amount_10  v_min_max_Volumen_14  v_min_max_extra_10  \\\n",
       "0                            0.000                   0.0                 0.0   \n",
       "1                            0.576                   0.0                 0.0   \n",
       "2                            0.000                   0.0                 0.0   \n",
       "3                            0.000                   0.0                 0.0   \n",
       "4                            0.000                   0.0                 0.0   \n",
       "...                            ...                   ...                 ...   \n",
       "103136                       0.000                   0.0                 0.0   \n",
       "103137                       0.000                   0.0                 0.0   \n",
       "103138                       0.576                   1.0                 0.5   \n",
       "103139                       0.000                   0.0                 0.0   \n",
       "103140                       0.000                   0.0                 0.0   \n",
       "\n",
       "        v_min_max_fare_amount_12  v_max_max_total_amount_12  \\\n",
       "0                            0.0                      62.41   \n",
       "1                            0.0                      45.36   \n",
       "2                            0.0                       0.00   \n",
       "3                            0.0                      17.30   \n",
       "4                            0.0                      33.10   \n",
       "...                          ...                        ...   \n",
       "103136                       0.0                      49.22   \n",
       "103137                       0.0                      20.34   \n",
       "103138                       3.0                     170.81   \n",
       "103139                       0.0                      50.50   \n",
       "103140                       0.0                      85.19   \n",
       "\n",
       "        v_min_max_tolls_amount_12  ...  v_min_max_Volumen_2  \\\n",
       "0                             0.0  ...                  0.0   \n",
       "1                             0.0  ...                  0.0   \n",
       "2                             0.0  ...                  0.0   \n",
       "3                             0.0  ...                  0.0   \n",
       "4                             0.0  ...                  0.0   \n",
       "...                           ...  ...                  ...   \n",
       "103136                        0.0  ...                  2.0   \n",
       "103137                        0.0  ...                  0.0   \n",
       "103138                        0.0  ...                  1.0   \n",
       "103139                        0.0  ...                  0.0   \n",
       "103140                        0.0  ...                  1.0   \n",
       "\n",
       "        v_min_max_extra_4  v_max_max_tolls_amount_2  \\\n",
       "0                     0.0                      0.00   \n",
       "1                     0.0                      5.76   \n",
       "2                     0.0                      0.00   \n",
       "3                     0.0                      0.00   \n",
       "4                     0.0                      0.00   \n",
       "...                   ...                       ...   \n",
       "103136                0.5                      0.00   \n",
       "103137                0.0                      0.00   \n",
       "103138                0.5                      0.00   \n",
       "103139                0.0                      0.00   \n",
       "103140                0.0                      0.00   \n",
       "\n",
       "        v_mean_max_trip_distance_2  v_min_max_improvement_surcharge_8  hora  \\\n",
       "0                            0.000                                0.0     0   \n",
       "1                            3.650                                0.0     0   \n",
       "2                            0.000                                0.0     0   \n",
       "3                            0.000                                0.0     0   \n",
       "4                            0.000                                0.0     0   \n",
       "...                            ...                                ...   ...   \n",
       "103136                       7.035                                0.0    23   \n",
       "103137                       0.850                                0.0    23   \n",
       "103138                       7.865                                0.3    23   \n",
       "103139                       0.000                                0.0    23   \n",
       "103140                       1.085                                0.0    23   \n",
       "\n",
       "        fk_id_PUZone  ancla  y       y^e  \n",
       "0                  4    264  1  1.392376  \n",
       "1                 13    264  1  1.653541  \n",
       "2                 17    264  2  1.134790  \n",
       "3                 25    264  1  1.221340  \n",
       "4                 41    264  2  1.264353  \n",
       "...              ...    ... ..       ...  \n",
       "103136           239    363  3  2.154105  \n",
       "103137           244    363  1  1.540642  \n",
       "103138           249    363  5  5.408985  \n",
       "103139           262    363  2  1.503159  \n",
       "103140           263    363  6  2.327694  \n",
       "\n",
       "[103141 rows x 34 columns]"
      ]
     },
     "execution_count": 161,
     "metadata": {},
     "output_type": "execute_result"
    }
   ],
   "source": [
    "Red"
   ]
  },
  {
   "cell_type": "code",
   "execution_count": 162,
   "metadata": {
    "scrolled": true
   },
   "outputs": [
    {
     "data": {
      "text/plain": [
       "1.712710981239714"
      ]
     },
     "execution_count": 162,
     "metadata": {},
     "output_type": "execute_result"
    }
   ],
   "source": [
    "np.abs(Red['y']-Red['y^e']).mean()"
   ]
  },
  {
   "cell_type": "code",
   "execution_count": 163,
   "metadata": {},
   "outputs": [
    {
     "data": {
      "text/plain": [
       "0.639757765974529"
      ]
     },
     "execution_count": 163,
     "metadata": {},
     "output_type": "execute_result"
    }
   ],
   "source": [
    "np.abs((Red['y']-Red['y^e'])/Red['y']).mean()"
   ]
  },
  {
   "cell_type": "code",
   "execution_count": 175,
   "metadata": {},
   "outputs": [],
   "source": [
    "Tabla2=Red[['hora','fk_id_PUZone','ancla','y','y^e']]"
   ]
  },
  {
   "cell_type": "code",
   "execution_count": 234,
   "metadata": {},
   "outputs": [],
   "source": [
    "graf2=Tabla2.loc[Tabla2['ancla']==363]"
   ]
  },
  {
   "cell_type": "code",
   "execution_count": 235,
   "metadata": {},
   "outputs": [
    {
     "data": {
      "text/html": [
       "<div>\n",
       "<style scoped>\n",
       "    .dataframe tbody tr th:only-of-type {\n",
       "        vertical-align: middle;\n",
       "    }\n",
       "\n",
       "    .dataframe tbody tr th {\n",
       "        vertical-align: top;\n",
       "    }\n",
       "\n",
       "    .dataframe thead th {\n",
       "        text-align: right;\n",
       "    }\n",
       "</style>\n",
       "<table border=\"1\" class=\"dataframe\">\n",
       "  <thead>\n",
       "    <tr style=\"text-align: right;\">\n",
       "      <th></th>\n",
       "      <th>hora</th>\n",
       "      <th>fk_id_PUZone</th>\n",
       "      <th>ancla</th>\n",
       "      <th>y</th>\n",
       "      <th>y^e</th>\n",
       "    </tr>\n",
       "  </thead>\n",
       "  <tbody>\n",
       "    <tr>\n",
       "      <th>102182</th>\n",
       "      <td>0</td>\n",
       "      <td>48</td>\n",
       "      <td>363</td>\n",
       "      <td>1</td>\n",
       "      <td>5.035311</td>\n",
       "    </tr>\n",
       "    <tr>\n",
       "      <th>102183</th>\n",
       "      <td>0</td>\n",
       "      <td>68</td>\n",
       "      <td>363</td>\n",
       "      <td>3</td>\n",
       "      <td>3.391514</td>\n",
       "    </tr>\n",
       "    <tr>\n",
       "      <th>102184</th>\n",
       "      <td>0</td>\n",
       "      <td>79</td>\n",
       "      <td>363</td>\n",
       "      <td>7</td>\n",
       "      <td>5.742791</td>\n",
       "    </tr>\n",
       "    <tr>\n",
       "      <th>102185</th>\n",
       "      <td>0</td>\n",
       "      <td>90</td>\n",
       "      <td>363</td>\n",
       "      <td>1</td>\n",
       "      <td>2.915592</td>\n",
       "    </tr>\n",
       "    <tr>\n",
       "      <th>102186</th>\n",
       "      <td>0</td>\n",
       "      <td>100</td>\n",
       "      <td>363</td>\n",
       "      <td>1</td>\n",
       "      <td>3.354164</td>\n",
       "    </tr>\n",
       "    <tr>\n",
       "      <th>...</th>\n",
       "      <td>...</td>\n",
       "      <td>...</td>\n",
       "      <td>...</td>\n",
       "      <td>...</td>\n",
       "      <td>...</td>\n",
       "    </tr>\n",
       "    <tr>\n",
       "      <th>103136</th>\n",
       "      <td>23</td>\n",
       "      <td>239</td>\n",
       "      <td>363</td>\n",
       "      <td>3</td>\n",
       "      <td>2.154105</td>\n",
       "    </tr>\n",
       "    <tr>\n",
       "      <th>103137</th>\n",
       "      <td>23</td>\n",
       "      <td>244</td>\n",
       "      <td>363</td>\n",
       "      <td>1</td>\n",
       "      <td>1.540642</td>\n",
       "    </tr>\n",
       "    <tr>\n",
       "      <th>103138</th>\n",
       "      <td>23</td>\n",
       "      <td>249</td>\n",
       "      <td>363</td>\n",
       "      <td>5</td>\n",
       "      <td>5.408985</td>\n",
       "    </tr>\n",
       "    <tr>\n",
       "      <th>103139</th>\n",
       "      <td>23</td>\n",
       "      <td>262</td>\n",
       "      <td>363</td>\n",
       "      <td>2</td>\n",
       "      <td>1.503159</td>\n",
       "    </tr>\n",
       "    <tr>\n",
       "      <th>103140</th>\n",
       "      <td>23</td>\n",
       "      <td>263</td>\n",
       "      <td>363</td>\n",
       "      <td>6</td>\n",
       "      <td>2.327694</td>\n",
       "    </tr>\n",
       "  </tbody>\n",
       "</table>\n",
       "<p>959 rows × 5 columns</p>\n",
       "</div>"
      ],
      "text/plain": [
       "        hora  fk_id_PUZone  ancla  y       y^e\n",
       "102182     0            48    363  1  5.035311\n",
       "102183     0            68    363  3  3.391514\n",
       "102184     0            79    363  7  5.742791\n",
       "102185     0            90    363  1  2.915592\n",
       "102186     0           100    363  1  3.354164\n",
       "...      ...           ...    ... ..       ...\n",
       "103136    23           239    363  3  2.154105\n",
       "103137    23           244    363  1  1.540642\n",
       "103138    23           249    363  5  5.408985\n",
       "103139    23           262    363  2  1.503159\n",
       "103140    23           263    363  6  2.327694\n",
       "\n",
       "[959 rows x 5 columns]"
      ]
     },
     "execution_count": 235,
     "metadata": {},
     "output_type": "execute_result"
    }
   ],
   "source": [
    "graf2"
   ]
  },
  {
   "cell_type": "code",
   "execution_count": 236,
   "metadata": {},
   "outputs": [],
   "source": [
    "graf2=graf2[['hora','y','y^e']].groupby('hora').sum().reset_index()"
   ]
  },
  {
   "cell_type": "code",
   "execution_count": 237,
   "metadata": {},
   "outputs": [],
   "source": [
    "graf2['y^e']=round(graf2['y^e'])"
   ]
  },
  {
   "cell_type": "code",
   "execution_count": 238,
   "metadata": {},
   "outputs": [
    {
     "data": {
      "image/png": "[encoded data removed]",
      "text/plain": [
       "<Figure size 1080x360 with 1 Axes>"
      ]
     },
     "metadata": {
      "needs_background": "light"
     },
     "output_type": "display_data"
    }
   ],
   "source": [
    "ax=graf2.plot(x='hora', y=['y', 'y^e'], kind='line', style=\"-o\", figsize=(15,5))\n",
    "ax.set_ylabel(\"count\")\n",
    "plt.show()"
   ]
  }
 ],
 "metadata": {
  "kernelspec": {
   "display_name": "Python 3",
   "language": "python",
   "name": "python3"
  },
  "language_info": {
   "codemirror_mode": {
    "name": "ipython",
    "version": 3
   },
   "file_extension": ".py",
   "mimetype": "text/x-python",
   "name": "python",
   "nbconvert_exporter": "python",
   "pygments_lexer": "ipython3",
   "version": "3.8.2"
  },
  "nbTranslate": {
   "displayLangs": [
    "*"
   ],
   "hotkey": "alt-t",
   "langInMainMenu": true,
   "sourceLang": "en",
   "targetLang": "fr",
   "useGoogleTranslate": true
  },
  "toc": {
   "base_numbering": 1,
   "nav_menu": {},
   "number_sections": true,
   "sideBar": true,
   "skip_h1_title": false,
   "title_cell": "Table of Contents",
   "title_sidebar": "Contents",
   "toc_cell": false,
   "toc_position": {},
   "toc_section_display": true,
   "toc_window_display": false
  },
  "varInspector": {
   "cols": {
    "lenName": 16,
    "lenType": 16,
    "lenVar": 40
   },
   "kernels_config": {
    "python": {
     "delete_cmd_postfix": "",
     "delete_cmd_prefix": "del ",
     "library": "var_list.py",
     "varRefreshCmd": "print(var_dic_list())"
    },
    "r": {
     "delete_cmd_postfix": ") ",
     "delete_cmd_prefix": "rm(",
     "library": "var_list.r",
     "varRefreshCmd": "cat(var_dic_list()) "
    }
   },
   "types_to_exclude": [
    "module",
    "function",
    "builtin_function_or_method",
    "instance",
    "_Feature"
   ],
   "window_display": false
  }
 },
 "nbformat": 4,
 "nbformat_minor": 4
}
