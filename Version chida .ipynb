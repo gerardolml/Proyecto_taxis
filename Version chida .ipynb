{
 "cells": [
  {
   "cell_type": "markdown",
   "metadata": {},
   "source": [
    "# 1-. Lectura de datos \n"
   ]
  },
  {
   "cell_type": "code",
   "execution_count": 1,
   "metadata": {
    "ExecuteTime": {
     "end_time": "2021-01-04T00:38:55.293702Z",
     "start_time": "2021-01-04T00:38:53.757290Z"
    }
   },
   "outputs": [],
   "source": [
    "import pandas as pd\n",
    "import statistics as stat\n",
    "import numpy as np\n",
    "import json as js\n",
    "from datetime import datetime\n",
    "import os\n",
    "import random\n",
    "import seaborn as sns\n",
    "import matplotlib.pyplot as plt\n",
    "from sqlalchemy import create_engine"
   ]
  },
  {
   "cell_type": "code",
   "execution_count": 2,
   "metadata": {
    "ExecuteTime": {
     "end_time": "2021-01-04T00:38:56.988722Z",
     "start_time": "2021-01-04T00:38:56.938767Z"
    }
   },
   "outputs": [
    {
     "data": {
      "text/plain": [
       "['2018_Yellow_Taxi_Trip_Data.csv', 'catalogo.json']"
      ]
     },
     "execution_count": 2,
     "metadata": {},
     "output_type": "execute_result"
    }
   ],
   "source": [
    "ruta = '/Users/usuario/Desktop/Luis/Ts/Base de datos'  #Pongan la carpeta donde este su base de datos\n",
    "l_arch = os.listdir(ruta)\n",
    "l_arch"
   ]
  },
  {
   "cell_type": "code",
   "execution_count": 3,
   "metadata": {
    "ExecuteTime": {
     "end_time": "2020-12-23T23:29:40.226596Z",
     "start_time": "2020-12-23T23:23:35.534782Z"
    }
   },
   "outputs": [],
   "source": [
    "muestra= [\n",
    "    x\n",
    "    for x in pd.read_csv(os.path.join(ruta, l_arch[0]), chunksize=10000000)\n",
    "]"
   ]
  },
  {
   "cell_type": "code",
   "execution_count": 4,
   "metadata": {
    "ExecuteTime": {
     "end_time": "2020-12-23T23:41:06.856568Z",
     "start_time": "2020-12-23T23:30:36.602747Z"
    }
   },
   "outputs": [],
   "source": [
    "df=pd.concat(muestra,ignore_index=True)"
   ]
  },
  {
   "cell_type": "code",
   "execution_count": 5,
   "metadata": {
    "ExecuteTime": {
     "end_time": "2020-12-23T23:41:15.025909Z",
     "start_time": "2020-12-23T23:41:14.826830Z"
    },
    "scrolled": true
   },
   "outputs": [
    {
     "name": "stdout",
     "output_type": "stream",
     "text": [
      "<class 'pandas.core.frame.DataFrame'>\n",
      "RangeIndex: 112234626 entries, 0 to 112234625\n",
      "Data columns (total 17 columns):\n",
      " #   Column                 Dtype  \n",
      "---  ------                 -----  \n",
      " 0   VendorID               int64  \n",
      " 1   tpep_pickup_datetime   object \n",
      " 2   tpep_dropoff_datetime  object \n",
      " 3   passenger_count        int64  \n",
      " 4   trip_distance          float64\n",
      " 5   RatecodeID             int64  \n",
      " 6   store_and_fwd_flag     object \n",
      " 7   PULocationID           int64  \n",
      " 8   DOLocationID           int64  \n",
      " 9   payment_type           int64  \n",
      " 10  fare_amount            float64\n",
      " 11  extra                  float64\n",
      " 12  mta_tax                float64\n",
      " 13  tip_amount             float64\n",
      " 14  tolls_amount           float64\n",
      " 15  improvement_surcharge  float64\n",
      " 16  total_amount           float64\n",
      "dtypes: float64(8), int64(6), object(3)\n",
      "memory usage: 14.2+ GB\n"
     ]
    }
   ],
   "source": [
    "df.info()"
   ]
  },
  {
   "cell_type": "markdown",
   "metadata": {},
   "source": [
    "## 1.1-. Muestra aleatoria \n",
    "\n",
    "Decidimos armar una muestra aleatoria representativa de tamaño n ,con el siguiente calculo \n",
    "### $$n=\\frac{Z^2p(1-p)}{\\frac{e^2}{1+\\frac{Z^2p(1-p)}{Ne^2}}}$$\n",
    "\n",
    "Donde:\n",
    "\n",
    "Z es el score de los intervalos de confianza\n",
    "\n",
    "N el tamaño de la población\n",
    "\n",
    "p es la desviación estándar \n",
    "\n",
    "_e_ es el margen de error \n",
    "\n",
    "Como no sabemos cuanta  desviación estándar de la población le asignamoes el valor  0.5 para asegurarse de que la muestra sea lo suficientemente grande, ademas escojeomos un error de $0.01\\%$ ademas con tenemos un nivel de confianza de $99\\% , Z=2.576$  y nuestra $N = 112234625$, asi que \n",
    "\n",
    "### $$n=\\frac{2.576^2 0.5 (1-0.5)}{\\frac{0.001^2}{1+\\frac{2.576^2 0.5 (1-0.5)}{112234625*0.001^2}}}=1683465$$"
   ]
  },
  {
   "cell_type": "code",
   "execution_count": 6,
   "metadata": {
    "ExecuteTime": {
     "end_time": "2020-12-23T23:41:32.870201Z",
     "start_time": "2020-12-23T23:41:30.715934Z"
    }
   },
   "outputs": [],
   "source": [
    "x=random.sample(range(0,112234624),1683465)"
   ]
  },
  {
   "cell_type": "code",
   "execution_count": 16,
   "metadata": {
    "ExecuteTime": {
     "end_time": "2020-12-24T01:30:28.467489Z",
     "start_time": "2020-12-23T23:47:43.202570Z"
    }
   },
   "outputs": [],
   "source": [
    "df_muestra=df.iloc[x,]"
   ]
  },
  {
   "cell_type": "code",
   "execution_count": 18,
   "metadata": {
    "ExecuteTime": {
     "end_time": "2020-12-24T01:53:25.439899Z",
     "start_time": "2020-12-24T01:53:25.412639Z"
    }
   },
   "outputs": [
    {
     "data": {
      "text/html": [
       "<div>\n",
       "<style scoped>\n",
       "    .dataframe tbody tr th:only-of-type {\n",
       "        vertical-align: middle;\n",
       "    }\n",
       "\n",
       "    .dataframe tbody tr th {\n",
       "        vertical-align: top;\n",
       "    }\n",
       "\n",
       "    .dataframe thead th {\n",
       "        text-align: right;\n",
       "    }\n",
       "</style>\n",
       "<table border=\"1\" class=\"dataframe\">\n",
       "  <thead>\n",
       "    <tr style=\"text-align: right;\">\n",
       "      <th></th>\n",
       "      <th>VendorID</th>\n",
       "      <th>tpep_pickup_datetime</th>\n",
       "      <th>tpep_dropoff_datetime</th>\n",
       "      <th>passenger_count</th>\n",
       "      <th>trip_distance</th>\n",
       "      <th>RatecodeID</th>\n",
       "      <th>store_and_fwd_flag</th>\n",
       "      <th>PULocationID</th>\n",
       "      <th>DOLocationID</th>\n",
       "      <th>payment_type</th>\n",
       "      <th>fare_amount</th>\n",
       "      <th>extra</th>\n",
       "      <th>mta_tax</th>\n",
       "      <th>tip_amount</th>\n",
       "      <th>tolls_amount</th>\n",
       "      <th>improvement_surcharge</th>\n",
       "      <th>total_amount</th>\n",
       "    </tr>\n",
       "  </thead>\n",
       "  <tbody>\n",
       "    <tr>\n",
       "      <th>12497563</th>\n",
       "      <td>2</td>\n",
       "      <td>11/06/2018 12:42:24 PM</td>\n",
       "      <td>11/06/2018 12:54:49 PM</td>\n",
       "      <td>1</td>\n",
       "      <td>0.87</td>\n",
       "      <td>1</td>\n",
       "      <td>N</td>\n",
       "      <td>229</td>\n",
       "      <td>237</td>\n",
       "      <td>2</td>\n",
       "      <td>9.0</td>\n",
       "      <td>0.0</td>\n",
       "      <td>0.5</td>\n",
       "      <td>0.00</td>\n",
       "      <td>0.00</td>\n",
       "      <td>0.3</td>\n",
       "      <td>9.80</td>\n",
       "    </tr>\n",
       "    <tr>\n",
       "      <th>49556802</th>\n",
       "      <td>1</td>\n",
       "      <td>02/16/2018 07:19:59 PM</td>\n",
       "      <td>02/16/2018 07:26:41 PM</td>\n",
       "      <td>0</td>\n",
       "      <td>1.50</td>\n",
       "      <td>1</td>\n",
       "      <td>N</td>\n",
       "      <td>48</td>\n",
       "      <td>158</td>\n",
       "      <td>1</td>\n",
       "      <td>7.0</td>\n",
       "      <td>1.0</td>\n",
       "      <td>0.5</td>\n",
       "      <td>1.32</td>\n",
       "      <td>0.00</td>\n",
       "      <td>0.3</td>\n",
       "      <td>10.12</td>\n",
       "    </tr>\n",
       "    <tr>\n",
       "      <th>48232374</th>\n",
       "      <td>1</td>\n",
       "      <td>02/12/2018 04:50:01 PM</td>\n",
       "      <td>02/12/2018 05:43:55 PM</td>\n",
       "      <td>3</td>\n",
       "      <td>22.60</td>\n",
       "      <td>2</td>\n",
       "      <td>N</td>\n",
       "      <td>132</td>\n",
       "      <td>48</td>\n",
       "      <td>2</td>\n",
       "      <td>52.0</td>\n",
       "      <td>0.0</td>\n",
       "      <td>0.5</td>\n",
       "      <td>0.00</td>\n",
       "      <td>5.76</td>\n",
       "      <td>0.3</td>\n",
       "      <td>58.56</td>\n",
       "    </tr>\n",
       "    <tr>\n",
       "      <th>71005448</th>\n",
       "      <td>2</td>\n",
       "      <td>03/28/2018 07:58:44 PM</td>\n",
       "      <td>03/28/2018 08:07:14 PM</td>\n",
       "      <td>1</td>\n",
       "      <td>1.61</td>\n",
       "      <td>1</td>\n",
       "      <td>N</td>\n",
       "      <td>68</td>\n",
       "      <td>211</td>\n",
       "      <td>1</td>\n",
       "      <td>8.0</td>\n",
       "      <td>1.0</td>\n",
       "      <td>0.5</td>\n",
       "      <td>1.00</td>\n",
       "      <td>0.00</td>\n",
       "      <td>0.3</td>\n",
       "      <td>10.80</td>\n",
       "    </tr>\n",
       "    <tr>\n",
       "      <th>11286082</th>\n",
       "      <td>1</td>\n",
       "      <td>11/02/2018 06:34:49 AM</td>\n",
       "      <td>11/02/2018 06:50:07 AM</td>\n",
       "      <td>1</td>\n",
       "      <td>2.70</td>\n",
       "      <td>1</td>\n",
       "      <td>N</td>\n",
       "      <td>79</td>\n",
       "      <td>230</td>\n",
       "      <td>1</td>\n",
       "      <td>12.5</td>\n",
       "      <td>0.0</td>\n",
       "      <td>0.5</td>\n",
       "      <td>2.65</td>\n",
       "      <td>0.00</td>\n",
       "      <td>0.3</td>\n",
       "      <td>15.95</td>\n",
       "    </tr>\n",
       "  </tbody>\n",
       "</table>\n",
       "</div>"
      ],
      "text/plain": [
       "          VendorID    tpep_pickup_datetime   tpep_dropoff_datetime  \\\n",
       "12497563         2  11/06/2018 12:42:24 PM  11/06/2018 12:54:49 PM   \n",
       "49556802         1  02/16/2018 07:19:59 PM  02/16/2018 07:26:41 PM   \n",
       "48232374         1  02/12/2018 04:50:01 PM  02/12/2018 05:43:55 PM   \n",
       "71005448         2  03/28/2018 07:58:44 PM  03/28/2018 08:07:14 PM   \n",
       "11286082         1  11/02/2018 06:34:49 AM  11/02/2018 06:50:07 AM   \n",
       "\n",
       "          passenger_count  trip_distance  RatecodeID store_and_fwd_flag  \\\n",
       "12497563                1           0.87           1                  N   \n",
       "49556802                0           1.50           1                  N   \n",
       "48232374                3          22.60           2                  N   \n",
       "71005448                1           1.61           1                  N   \n",
       "11286082                1           2.70           1                  N   \n",
       "\n",
       "          PULocationID  DOLocationID  payment_type  fare_amount  extra  \\\n",
       "12497563           229           237             2          9.0    0.0   \n",
       "49556802            48           158             1          7.0    1.0   \n",
       "48232374           132            48             2         52.0    0.0   \n",
       "71005448            68           211             1          8.0    1.0   \n",
       "11286082            79           230             1         12.5    0.0   \n",
       "\n",
       "          mta_tax  tip_amount  tolls_amount  improvement_surcharge  \\\n",
       "12497563      0.5        0.00          0.00                    0.3   \n",
       "49556802      0.5        1.32          0.00                    0.3   \n",
       "48232374      0.5        0.00          5.76                    0.3   \n",
       "71005448      0.5        1.00          0.00                    0.3   \n",
       "11286082      0.5        2.65          0.00                    0.3   \n",
       "\n",
       "          total_amount  \n",
       "12497563          9.80  \n",
       "49556802         10.12  \n",
       "48232374         58.56  \n",
       "71005448         10.80  \n",
       "11286082         15.95  "
      ]
     },
     "execution_count": 18,
     "metadata": {},
     "output_type": "execute_result"
    }
   ],
   "source": [
    "df_muestra.head()"
   ]
  },
  {
   "cell_type": "code",
   "execution_count": null,
   "metadata": {},
   "outputs": [],
   "source": [
    "df_muestra.to_csv('muestra.csv',index=False)"
   ]
  },
  {
   "cell_type": "markdown",
   "metadata": {},
   "source": [
    "Hacemos un csv de la muestra para tener la muestra mas rapido y no cargar el codigo pasado, ya que es mas facil correr directamente el csv para otra persona, o también nos sirve de respando en caso de que el kernel no funcione "
   ]
  },
  {
   "cell_type": "code",
   "execution_count": 3,
   "metadata": {
    "ExecuteTime": {
     "end_time": "2021-01-04T00:39:27.654431Z",
     "start_time": "2021-01-04T00:39:21.403080Z"
    }
   },
   "outputs": [],
   "source": [
    "df_muestra=pd.read_csv('muestra.csv')"
   ]
  },
  {
   "cell_type": "code",
   "execution_count": 4,
   "metadata": {
    "ExecuteTime": {
     "end_time": "2021-01-04T00:39:29.872488Z",
     "start_time": "2021-01-04T00:39:29.402228Z"
    }
   },
   "outputs": [
    {
     "name": "stdout",
     "output_type": "stream",
     "text": [
      "<class 'pandas.core.frame.DataFrame'>\n",
      "RangeIndex: 1683465 entries, 0 to 1683464\n",
      "Data columns (total 17 columns):\n",
      " #   Column                 Non-Null Count    Dtype  \n",
      "---  ------                 --------------    -----  \n",
      " 0   VendorID               1683465 non-null  int64  \n",
      " 1   tpep_pickup_datetime   1683465 non-null  object \n",
      " 2   tpep_dropoff_datetime  1683465 non-null  object \n",
      " 3   passenger_count        1683465 non-null  int64  \n",
      " 4   trip_distance          1683465 non-null  float64\n",
      " 5   RatecodeID             1683465 non-null  int64  \n",
      " 6   store_and_fwd_flag     1683465 non-null  object \n",
      " 7   PULocationID           1683465 non-null  int64  \n",
      " 8   DOLocationID           1683465 non-null  int64  \n",
      " 9   payment_type           1683465 non-null  int64  \n",
      " 10  fare_amount            1683465 non-null  float64\n",
      " 11  extra                  1683465 non-null  float64\n",
      " 12  mta_tax                1683465 non-null  float64\n",
      " 13  tip_amount             1683465 non-null  float64\n",
      " 14  tolls_amount           1683465 non-null  float64\n",
      " 15  improvement_surcharge  1683465 non-null  float64\n",
      " 16  total_amount           1683465 non-null  float64\n",
      "dtypes: float64(8), int64(6), object(3)\n",
      "memory usage: 218.3+ MB\n"
     ]
    }
   ],
   "source": [
    "df_muestra.info()"
   ]
  },
  {
   "cell_type": "markdown",
   "metadata": {
    "lang": "en"
   },
   "source": [
    "## 1.2-. Catalogos \n",
    "\n",
    "Como ya tenemos un catalogo en json simplemte los cargamos "
   ]
  },
  {
   "cell_type": "code",
   "execution_count": 5,
   "metadata": {
    "ExecuteTime": {
     "end_time": "2021-01-04T00:39:31.626986Z",
     "start_time": "2021-01-04T00:39:31.615388Z"
    }
   },
   "outputs": [],
   "source": [
    "catalogos = js.load(open(os.path.join(ruta, l_arch[-1]), 'rb'))"
   ]
  },
  {
   "cell_type": "markdown",
   "metadata": {},
   "source": [
    "Como no tenemos el catalogo de las zonas pero si tenemos un _csv_ solamente lo cargaremos "
   ]
  },
  {
   "cell_type": "code",
   "execution_count": 6,
   "metadata": {
    "ExecuteTime": {
     "end_time": "2021-01-04T00:39:33.366626Z",
     "start_time": "2021-01-04T00:39:33.328558Z"
    }
   },
   "outputs": [],
   "source": [
    "PULocationID = pd.read_csv('taxi+_zone_lookup.csv')\n",
    "PULocationID.columns = [\n",
    "    'PULocationID', 'PUBorough', 'PUZone', 'PUservice_zone'\n",
    "]\n",
    "DOLocationID = pd.read_csv('taxi+_zone_lookup.csv')\n",
    "DOLocationID.columns = [\n",
    "    'DOLocationID', 'DOBorough', 'DOZone', 'DOservice_zone'\n",
    "]"
   ]
  },
  {
   "cell_type": "markdown",
   "metadata": {},
   "source": [
    "### 1.2.1-. Creacion de tuplas de catalogos "
   ]
  },
  {
   "cell_type": "code",
   "execution_count": 7,
   "metadata": {
    "ExecuteTime": {
     "end_time": "2021-01-04T00:39:35.973850Z",
     "start_time": "2021-01-04T00:39:35.949774Z"
    }
   },
   "outputs": [],
   "source": [
    "l_cat = [(x,\n",
    "          pd.DataFrame.from_dict(\n",
    "              catalogos[x], orient='index',\n",
    "              columns=[\"x_%s\" % x]).reset_index().rename(columns={'index': x}))\n",
    "         for x in catalogos.keys()]\n",
    "l_catzon = [('PULocationID', PULocationID), ('DOLocationID', DOLocationID)]"
   ]
  },
  {
   "cell_type": "markdown",
   "metadata": {
    "ExecuteTime": {
     "end_time": "2020-12-23T00:04:14.553791Z",
     "start_time": "2020-12-23T00:04:14.540456Z"
    }
   },
   "source": [
    "## 1.3-. Unir datos con los catalogos "
   ]
  },
  {
   "cell_type": "code",
   "execution_count": 8,
   "metadata": {
    "ExecuteTime": {
     "end_time": "2021-01-04T00:39:59.284016Z",
     "start_time": "2021-01-04T00:39:41.270828Z"
    }
   },
   "outputs": [
    {
     "name": "stdout",
     "output_type": "stream",
     "text": [
      "VendorID\n",
      "RatecodeID\n",
      "store_and_fwd_flag\n",
      "payment_type\n"
     ]
    }
   ],
   "source": [
    "for key, cat in l_cat:\n",
    "    print(key)\n",
    "    df_muestra[key] = df_muestra[key].fillna(9999).astype('S')\n",
    "    cat[key] = cat[key].astype('S')\n",
    "    df_muestra = df_muestra.merge(cat, on=key, how='left').drop(\n",
    "        key, axis=1).rename(columns={'x_%s' % key: key})"
   ]
  },
  {
   "cell_type": "code",
   "execution_count": 9,
   "metadata": {
    "ExecuteTime": {
     "end_time": "2021-01-04T00:40:09.127425Z",
     "start_time": "2021-01-04T00:39:59.288007Z"
    }
   },
   "outputs": [
    {
     "name": "stdout",
     "output_type": "stream",
     "text": [
      "PULocationID\n",
      "DOLocationID\n"
     ]
    }
   ],
   "source": [
    "for key, cat in l_catzon:\n",
    "    print(key)\n",
    "    df_muestra[key] = df_muestra[key].fillna(9999).astype('S')\n",
    "    cat[key] = cat[key].astype('S')\n",
    "    df_muestra = df_muestra.merge(cat, on=key, how='left').drop(\n",
    "        key, axis=1).rename(columns={'x_%s' % key: key})"
   ]
  },
  {
   "cell_type": "code",
   "execution_count": 10,
   "metadata": {
    "ExecuteTime": {
     "end_time": "2021-01-04T00:40:47.672465Z",
     "start_time": "2021-01-04T00:40:46.153192Z"
    },
    "scrolled": true
   },
   "outputs": [
    {
     "data": {
      "text/html": [
       "<div>\n",
       "<style scoped>\n",
       "    .dataframe tbody tr th:only-of-type {\n",
       "        vertical-align: middle;\n",
       "    }\n",
       "\n",
       "    .dataframe tbody tr th {\n",
       "        vertical-align: top;\n",
       "    }\n",
       "\n",
       "    .dataframe thead th {\n",
       "        text-align: right;\n",
       "    }\n",
       "</style>\n",
       "<table border=\"1\" class=\"dataframe\">\n",
       "  <thead>\n",
       "    <tr style=\"text-align: right;\">\n",
       "      <th></th>\n",
       "      <th>tpep_pickup_datetime</th>\n",
       "      <th>tpep_dropoff_datetime</th>\n",
       "      <th>passenger_count</th>\n",
       "      <th>trip_distance</th>\n",
       "      <th>fare_amount</th>\n",
       "      <th>extra</th>\n",
       "      <th>mta_tax</th>\n",
       "      <th>tip_amount</th>\n",
       "      <th>tolls_amount</th>\n",
       "      <th>improvement_surcharge</th>\n",
       "      <th>...</th>\n",
       "      <th>VendorID</th>\n",
       "      <th>RatecodeID</th>\n",
       "      <th>store_and_fwd_flag</th>\n",
       "      <th>payment_type</th>\n",
       "      <th>PUBorough</th>\n",
       "      <th>PUZone</th>\n",
       "      <th>PUservice_zone</th>\n",
       "      <th>DOBorough</th>\n",
       "      <th>DOZone</th>\n",
       "      <th>DOservice_zone</th>\n",
       "    </tr>\n",
       "  </thead>\n",
       "  <tbody>\n",
       "    <tr>\n",
       "      <th>0</th>\n",
       "      <td>11/06/2018 12:42:24 PM</td>\n",
       "      <td>11/06/2018 12:54:49 PM</td>\n",
       "      <td>1</td>\n",
       "      <td>0.87</td>\n",
       "      <td>9.0</td>\n",
       "      <td>0.0</td>\n",
       "      <td>0.5</td>\n",
       "      <td>0.00</td>\n",
       "      <td>0.00</td>\n",
       "      <td>0.3</td>\n",
       "      <td>...</td>\n",
       "      <td>VeriFone Inc</td>\n",
       "      <td>Standard rate</td>\n",
       "      <td>not a store and forward trip</td>\n",
       "      <td>Cash</td>\n",
       "      <td>Manhattan</td>\n",
       "      <td>Sutton Place/Turtle Bay North</td>\n",
       "      <td>Yellow Zone</td>\n",
       "      <td>Manhattan</td>\n",
       "      <td>Upper East Side South</td>\n",
       "      <td>Yellow Zone</td>\n",
       "    </tr>\n",
       "    <tr>\n",
       "      <th>1</th>\n",
       "      <td>02/16/2018 07:19:59 PM</td>\n",
       "      <td>02/16/2018 07:26:41 PM</td>\n",
       "      <td>0</td>\n",
       "      <td>1.50</td>\n",
       "      <td>7.0</td>\n",
       "      <td>1.0</td>\n",
       "      <td>0.5</td>\n",
       "      <td>1.32</td>\n",
       "      <td>0.00</td>\n",
       "      <td>0.3</td>\n",
       "      <td>...</td>\n",
       "      <td>Creative Mobile Technologies</td>\n",
       "      <td>Standard rate</td>\n",
       "      <td>not a store and forward trip</td>\n",
       "      <td>Credit card</td>\n",
       "      <td>Manhattan</td>\n",
       "      <td>Clinton East</td>\n",
       "      <td>Yellow Zone</td>\n",
       "      <td>Manhattan</td>\n",
       "      <td>Meatpacking/West Village West</td>\n",
       "      <td>Yellow Zone</td>\n",
       "    </tr>\n",
       "    <tr>\n",
       "      <th>2</th>\n",
       "      <td>02/12/2018 04:50:01 PM</td>\n",
       "      <td>02/12/2018 05:43:55 PM</td>\n",
       "      <td>3</td>\n",
       "      <td>22.60</td>\n",
       "      <td>52.0</td>\n",
       "      <td>0.0</td>\n",
       "      <td>0.5</td>\n",
       "      <td>0.00</td>\n",
       "      <td>5.76</td>\n",
       "      <td>0.3</td>\n",
       "      <td>...</td>\n",
       "      <td>Creative Mobile Technologies</td>\n",
       "      <td>JFK</td>\n",
       "      <td>not a store and forward trip</td>\n",
       "      <td>Cash</td>\n",
       "      <td>Queens</td>\n",
       "      <td>JFK Airport</td>\n",
       "      <td>Airports</td>\n",
       "      <td>Manhattan</td>\n",
       "      <td>Clinton East</td>\n",
       "      <td>Yellow Zone</td>\n",
       "    </tr>\n",
       "    <tr>\n",
       "      <th>3</th>\n",
       "      <td>03/28/2018 07:58:44 PM</td>\n",
       "      <td>03/28/2018 08:07:14 PM</td>\n",
       "      <td>1</td>\n",
       "      <td>1.61</td>\n",
       "      <td>8.0</td>\n",
       "      <td>1.0</td>\n",
       "      <td>0.5</td>\n",
       "      <td>1.00</td>\n",
       "      <td>0.00</td>\n",
       "      <td>0.3</td>\n",
       "      <td>...</td>\n",
       "      <td>VeriFone Inc</td>\n",
       "      <td>Standard rate</td>\n",
       "      <td>not a store and forward trip</td>\n",
       "      <td>Credit card</td>\n",
       "      <td>Manhattan</td>\n",
       "      <td>East Chelsea</td>\n",
       "      <td>Yellow Zone</td>\n",
       "      <td>Manhattan</td>\n",
       "      <td>SoHo</td>\n",
       "      <td>Yellow Zone</td>\n",
       "    </tr>\n",
       "    <tr>\n",
       "      <th>4</th>\n",
       "      <td>11/02/2018 06:34:49 AM</td>\n",
       "      <td>11/02/2018 06:50:07 AM</td>\n",
       "      <td>1</td>\n",
       "      <td>2.70</td>\n",
       "      <td>12.5</td>\n",
       "      <td>0.0</td>\n",
       "      <td>0.5</td>\n",
       "      <td>2.65</td>\n",
       "      <td>0.00</td>\n",
       "      <td>0.3</td>\n",
       "      <td>...</td>\n",
       "      <td>Creative Mobile Technologies</td>\n",
       "      <td>Standard rate</td>\n",
       "      <td>not a store and forward trip</td>\n",
       "      <td>Credit card</td>\n",
       "      <td>Manhattan</td>\n",
       "      <td>East Village</td>\n",
       "      <td>Yellow Zone</td>\n",
       "      <td>Manhattan</td>\n",
       "      <td>Times Sq/Theatre District</td>\n",
       "      <td>Yellow Zone</td>\n",
       "    </tr>\n",
       "    <tr>\n",
       "      <th>...</th>\n",
       "      <td>...</td>\n",
       "      <td>...</td>\n",
       "      <td>...</td>\n",
       "      <td>...</td>\n",
       "      <td>...</td>\n",
       "      <td>...</td>\n",
       "      <td>...</td>\n",
       "      <td>...</td>\n",
       "      <td>...</td>\n",
       "      <td>...</td>\n",
       "      <td>...</td>\n",
       "      <td>...</td>\n",
       "      <td>...</td>\n",
       "      <td>...</td>\n",
       "      <td>...</td>\n",
       "      <td>...</td>\n",
       "      <td>...</td>\n",
       "      <td>...</td>\n",
       "      <td>...</td>\n",
       "      <td>...</td>\n",
       "      <td>...</td>\n",
       "    </tr>\n",
       "    <tr>\n",
       "      <th>1683460</th>\n",
       "      <td>12/22/2018 03:38:53 PM</td>\n",
       "      <td>12/22/2018 03:57:07 PM</td>\n",
       "      <td>1</td>\n",
       "      <td>1.58</td>\n",
       "      <td>12.0</td>\n",
       "      <td>0.0</td>\n",
       "      <td>0.5</td>\n",
       "      <td>0.00</td>\n",
       "      <td>0.00</td>\n",
       "      <td>0.3</td>\n",
       "      <td>...</td>\n",
       "      <td>VeriFone Inc</td>\n",
       "      <td>Standard rate</td>\n",
       "      <td>not a store and forward trip</td>\n",
       "      <td>Cash</td>\n",
       "      <td>Manhattan</td>\n",
       "      <td>Times Sq/Theatre District</td>\n",
       "      <td>Yellow Zone</td>\n",
       "      <td>Manhattan</td>\n",
       "      <td>Penn Station/Madison Sq West</td>\n",
       "      <td>Yellow Zone</td>\n",
       "    </tr>\n",
       "    <tr>\n",
       "      <th>1683461</th>\n",
       "      <td>03/18/2018 12:55:53 AM</td>\n",
       "      <td>03/18/2018 01:07:14 AM</td>\n",
       "      <td>0</td>\n",
       "      <td>2.20</td>\n",
       "      <td>10.0</td>\n",
       "      <td>0.5</td>\n",
       "      <td>0.5</td>\n",
       "      <td>1.00</td>\n",
       "      <td>0.00</td>\n",
       "      <td>0.3</td>\n",
       "      <td>...</td>\n",
       "      <td>Creative Mobile Technologies</td>\n",
       "      <td>Standard rate</td>\n",
       "      <td>not a store and forward trip</td>\n",
       "      <td>Credit card</td>\n",
       "      <td>Manhattan</td>\n",
       "      <td>Chinatown</td>\n",
       "      <td>Yellow Zone</td>\n",
       "      <td>Manhattan</td>\n",
       "      <td>Flatiron</td>\n",
       "      <td>Yellow Zone</td>\n",
       "    </tr>\n",
       "    <tr>\n",
       "      <th>1683462</th>\n",
       "      <td>11/15/2018 02:42:36 AM</td>\n",
       "      <td>11/15/2018 03:03:16 AM</td>\n",
       "      <td>1</td>\n",
       "      <td>9.30</td>\n",
       "      <td>28.5</td>\n",
       "      <td>0.5</td>\n",
       "      <td>0.5</td>\n",
       "      <td>8.85</td>\n",
       "      <td>5.76</td>\n",
       "      <td>0.3</td>\n",
       "      <td>...</td>\n",
       "      <td>Creative Mobile Technologies</td>\n",
       "      <td>Standard rate</td>\n",
       "      <td>not a store and forward trip</td>\n",
       "      <td>Credit card</td>\n",
       "      <td>Manhattan</td>\n",
       "      <td>West Chelsea/Hudson Yards</td>\n",
       "      <td>Yellow Zone</td>\n",
       "      <td>Queens</td>\n",
       "      <td>Forest Hills</td>\n",
       "      <td>Boro Zone</td>\n",
       "    </tr>\n",
       "    <tr>\n",
       "      <th>1683463</th>\n",
       "      <td>12/12/2018 05:57:51 PM</td>\n",
       "      <td>12/12/2018 06:19:49 PM</td>\n",
       "      <td>4</td>\n",
       "      <td>5.17</td>\n",
       "      <td>19.5</td>\n",
       "      <td>1.0</td>\n",
       "      <td>0.5</td>\n",
       "      <td>4.26</td>\n",
       "      <td>0.00</td>\n",
       "      <td>0.3</td>\n",
       "      <td>...</td>\n",
       "      <td>VeriFone Inc</td>\n",
       "      <td>Standard rate</td>\n",
       "      <td>not a store and forward trip</td>\n",
       "      <td>Credit card</td>\n",
       "      <td>Manhattan</td>\n",
       "      <td>Battery Park City</td>\n",
       "      <td>Yellow Zone</td>\n",
       "      <td>Manhattan</td>\n",
       "      <td>Lincoln Square West</td>\n",
       "      <td>Yellow Zone</td>\n",
       "    </tr>\n",
       "    <tr>\n",
       "      <th>1683464</th>\n",
       "      <td>09/22/2018 12:17:32 AM</td>\n",
       "      <td>09/22/2018 12:42:16 AM</td>\n",
       "      <td>1</td>\n",
       "      <td>4.77</td>\n",
       "      <td>19.5</td>\n",
       "      <td>0.5</td>\n",
       "      <td>0.5</td>\n",
       "      <td>4.16</td>\n",
       "      <td>0.00</td>\n",
       "      <td>0.3</td>\n",
       "      <td>...</td>\n",
       "      <td>VeriFone Inc</td>\n",
       "      <td>Standard rate</td>\n",
       "      <td>not a store and forward trip</td>\n",
       "      <td>Credit card</td>\n",
       "      <td>Manhattan</td>\n",
       "      <td>East Chelsea</td>\n",
       "      <td>Yellow Zone</td>\n",
       "      <td>Manhattan</td>\n",
       "      <td>Lenox Hill East</td>\n",
       "      <td>Yellow Zone</td>\n",
       "    </tr>\n",
       "  </tbody>\n",
       "</table>\n",
       "<p>1683465 rows × 21 columns</p>\n",
       "</div>"
      ],
      "text/plain": [
       "           tpep_pickup_datetime   tpep_dropoff_datetime  passenger_count  \\\n",
       "0        11/06/2018 12:42:24 PM  11/06/2018 12:54:49 PM                1   \n",
       "1        02/16/2018 07:19:59 PM  02/16/2018 07:26:41 PM                0   \n",
       "2        02/12/2018 04:50:01 PM  02/12/2018 05:43:55 PM                3   \n",
       "3        03/28/2018 07:58:44 PM  03/28/2018 08:07:14 PM                1   \n",
       "4        11/02/2018 06:34:49 AM  11/02/2018 06:50:07 AM                1   \n",
       "...                         ...                     ...              ...   \n",
       "1683460  12/22/2018 03:38:53 PM  12/22/2018 03:57:07 PM                1   \n",
       "1683461  03/18/2018 12:55:53 AM  03/18/2018 01:07:14 AM                0   \n",
       "1683462  11/15/2018 02:42:36 AM  11/15/2018 03:03:16 AM                1   \n",
       "1683463  12/12/2018 05:57:51 PM  12/12/2018 06:19:49 PM                4   \n",
       "1683464  09/22/2018 12:17:32 AM  09/22/2018 12:42:16 AM                1   \n",
       "\n",
       "         trip_distance  fare_amount  extra  mta_tax  tip_amount  tolls_amount  \\\n",
       "0                 0.87          9.0    0.0      0.5        0.00          0.00   \n",
       "1                 1.50          7.0    1.0      0.5        1.32          0.00   \n",
       "2                22.60         52.0    0.0      0.5        0.00          5.76   \n",
       "3                 1.61          8.0    1.0      0.5        1.00          0.00   \n",
       "4                 2.70         12.5    0.0      0.5        2.65          0.00   \n",
       "...                ...          ...    ...      ...         ...           ...   \n",
       "1683460           1.58         12.0    0.0      0.5        0.00          0.00   \n",
       "1683461           2.20         10.0    0.5      0.5        1.00          0.00   \n",
       "1683462           9.30         28.5    0.5      0.5        8.85          5.76   \n",
       "1683463           5.17         19.5    1.0      0.5        4.26          0.00   \n",
       "1683464           4.77         19.5    0.5      0.5        4.16          0.00   \n",
       "\n",
       "         improvement_surcharge  ...                      VendorID  \\\n",
       "0                          0.3  ...                  VeriFone Inc   \n",
       "1                          0.3  ...  Creative Mobile Technologies   \n",
       "2                          0.3  ...  Creative Mobile Technologies   \n",
       "3                          0.3  ...                  VeriFone Inc   \n",
       "4                          0.3  ...  Creative Mobile Technologies   \n",
       "...                        ...  ...                           ...   \n",
       "1683460                    0.3  ...                  VeriFone Inc   \n",
       "1683461                    0.3  ...  Creative Mobile Technologies   \n",
       "1683462                    0.3  ...  Creative Mobile Technologies   \n",
       "1683463                    0.3  ...                  VeriFone Inc   \n",
       "1683464                    0.3  ...                  VeriFone Inc   \n",
       "\n",
       "            RatecodeID            store_and_fwd_flag payment_type  PUBorough  \\\n",
       "0        Standard rate  not a store and forward trip         Cash  Manhattan   \n",
       "1        Standard rate  not a store and forward trip  Credit card  Manhattan   \n",
       "2                  JFK  not a store and forward trip         Cash     Queens   \n",
       "3        Standard rate  not a store and forward trip  Credit card  Manhattan   \n",
       "4        Standard rate  not a store and forward trip  Credit card  Manhattan   \n",
       "...                ...                           ...          ...        ...   \n",
       "1683460  Standard rate  not a store and forward trip         Cash  Manhattan   \n",
       "1683461  Standard rate  not a store and forward trip  Credit card  Manhattan   \n",
       "1683462  Standard rate  not a store and forward trip  Credit card  Manhattan   \n",
       "1683463  Standard rate  not a store and forward trip  Credit card  Manhattan   \n",
       "1683464  Standard rate  not a store and forward trip  Credit card  Manhattan   \n",
       "\n",
       "                                PUZone PUservice_zone  DOBorough  \\\n",
       "0        Sutton Place/Turtle Bay North    Yellow Zone  Manhattan   \n",
       "1                         Clinton East    Yellow Zone  Manhattan   \n",
       "2                          JFK Airport       Airports  Manhattan   \n",
       "3                         East Chelsea    Yellow Zone  Manhattan   \n",
       "4                         East Village    Yellow Zone  Manhattan   \n",
       "...                                ...            ...        ...   \n",
       "1683460      Times Sq/Theatre District    Yellow Zone  Manhattan   \n",
       "1683461                      Chinatown    Yellow Zone  Manhattan   \n",
       "1683462      West Chelsea/Hudson Yards    Yellow Zone     Queens   \n",
       "1683463              Battery Park City    Yellow Zone  Manhattan   \n",
       "1683464                   East Chelsea    Yellow Zone  Manhattan   \n",
       "\n",
       "                                DOZone DOservice_zone  \n",
       "0                Upper East Side South    Yellow Zone  \n",
       "1        Meatpacking/West Village West    Yellow Zone  \n",
       "2                         Clinton East    Yellow Zone  \n",
       "3                                 SoHo    Yellow Zone  \n",
       "4            Times Sq/Theatre District    Yellow Zone  \n",
       "...                                ...            ...  \n",
       "1683460   Penn Station/Madison Sq West    Yellow Zone  \n",
       "1683461                       Flatiron    Yellow Zone  \n",
       "1683462                   Forest Hills      Boro Zone  \n",
       "1683463            Lincoln Square West    Yellow Zone  \n",
       "1683464                Lenox Hill East    Yellow Zone  \n",
       "\n",
       "[1683465 rows x 21 columns]"
      ]
     },
     "execution_count": 10,
     "metadata": {},
     "output_type": "execute_result"
    }
   ],
   "source": [
    "df_muestra"
   ]
  },
  {
   "cell_type": "markdown",
   "metadata": {},
   "source": [
    "## 1.4-. Cambio de tipo de dato \n",
    "\n",
    "Vemos que el unico tipo de dato que no coincide solo las fechas, asi que las pondremos en tipo date \n"
   ]
  },
  {
   "cell_type": "code",
   "execution_count": 11,
   "metadata": {
    "ExecuteTime": {
     "end_time": "2021-01-04T00:43:25.588432Z",
     "start_time": "2021-01-04T00:41:24.476285Z"
    }
   },
   "outputs": [],
   "source": [
    "df_muestra['tpep_pickup_datetime'] = df_muestra['tpep_pickup_datetime'].map(\n",
    "    lambda x: datetime.strptime(x,'%m/%d/%Y %I:%M:%S %p'))\n",
    "df_muestra['tpep_dropoff_datetime']=df_muestra['tpep_dropoff_datetime'].map(\n",
    "    lambda x: datetime.strptime(x,'%m/%d/%Y %I:%M:%S %p'))\n",
    "df_muestra['tpep_pickup_datetime']=df_muestra['tpep_pickup_datetime'].map(lambda x:x.replace(year=2018))\n",
    "df_muestra['tpep_dropoff_datetime']=df_muestra['tpep_dropoff_datetime'].map(lambda x:x.replace(year=2018))"
   ]
  },
  {
   "cell_type": "code",
   "execution_count": 12,
   "metadata": {
    "ExecuteTime": {
     "end_time": "2021-01-04T00:43:59.776450Z",
     "start_time": "2021-01-04T00:43:58.756356Z"
    },
    "scrolled": true
   },
   "outputs": [
    {
     "data": {
      "text/html": [
       "<div>\n",
       "<style scoped>\n",
       "    .dataframe tbody tr th:only-of-type {\n",
       "        vertical-align: middle;\n",
       "    }\n",
       "\n",
       "    .dataframe tbody tr th {\n",
       "        vertical-align: top;\n",
       "    }\n",
       "\n",
       "    .dataframe thead th {\n",
       "        text-align: right;\n",
       "    }\n",
       "</style>\n",
       "<table border=\"1\" class=\"dataframe\">\n",
       "  <thead>\n",
       "    <tr style=\"text-align: right;\">\n",
       "      <th></th>\n",
       "      <th>tpep_pickup_datetime</th>\n",
       "      <th>tpep_dropoff_datetime</th>\n",
       "      <th>passenger_count</th>\n",
       "      <th>trip_distance</th>\n",
       "      <th>fare_amount</th>\n",
       "      <th>extra</th>\n",
       "      <th>mta_tax</th>\n",
       "      <th>tip_amount</th>\n",
       "      <th>tolls_amount</th>\n",
       "      <th>improvement_surcharge</th>\n",
       "      <th>...</th>\n",
       "      <th>VendorID</th>\n",
       "      <th>RatecodeID</th>\n",
       "      <th>store_and_fwd_flag</th>\n",
       "      <th>payment_type</th>\n",
       "      <th>PUBorough</th>\n",
       "      <th>PUZone</th>\n",
       "      <th>PUservice_zone</th>\n",
       "      <th>DOBorough</th>\n",
       "      <th>DOZone</th>\n",
       "      <th>DOservice_zone</th>\n",
       "    </tr>\n",
       "  </thead>\n",
       "  <tbody>\n",
       "    <tr>\n",
       "      <th>0</th>\n",
       "      <td>2018-11-06 12:42:24</td>\n",
       "      <td>2018-11-06 12:54:49</td>\n",
       "      <td>1</td>\n",
       "      <td>0.87</td>\n",
       "      <td>9.0</td>\n",
       "      <td>0.0</td>\n",
       "      <td>0.5</td>\n",
       "      <td>0.00</td>\n",
       "      <td>0.00</td>\n",
       "      <td>0.3</td>\n",
       "      <td>...</td>\n",
       "      <td>VeriFone Inc</td>\n",
       "      <td>Standard rate</td>\n",
       "      <td>not a store and forward trip</td>\n",
       "      <td>Cash</td>\n",
       "      <td>Manhattan</td>\n",
       "      <td>Sutton Place/Turtle Bay North</td>\n",
       "      <td>Yellow Zone</td>\n",
       "      <td>Manhattan</td>\n",
       "      <td>Upper East Side South</td>\n",
       "      <td>Yellow Zone</td>\n",
       "    </tr>\n",
       "    <tr>\n",
       "      <th>1</th>\n",
       "      <td>2018-02-16 19:19:59</td>\n",
       "      <td>2018-02-16 19:26:41</td>\n",
       "      <td>0</td>\n",
       "      <td>1.50</td>\n",
       "      <td>7.0</td>\n",
       "      <td>1.0</td>\n",
       "      <td>0.5</td>\n",
       "      <td>1.32</td>\n",
       "      <td>0.00</td>\n",
       "      <td>0.3</td>\n",
       "      <td>...</td>\n",
       "      <td>Creative Mobile Technologies</td>\n",
       "      <td>Standard rate</td>\n",
       "      <td>not a store and forward trip</td>\n",
       "      <td>Credit card</td>\n",
       "      <td>Manhattan</td>\n",
       "      <td>Clinton East</td>\n",
       "      <td>Yellow Zone</td>\n",
       "      <td>Manhattan</td>\n",
       "      <td>Meatpacking/West Village West</td>\n",
       "      <td>Yellow Zone</td>\n",
       "    </tr>\n",
       "    <tr>\n",
       "      <th>2</th>\n",
       "      <td>2018-02-12 16:50:01</td>\n",
       "      <td>2018-02-12 17:43:55</td>\n",
       "      <td>3</td>\n",
       "      <td>22.60</td>\n",
       "      <td>52.0</td>\n",
       "      <td>0.0</td>\n",
       "      <td>0.5</td>\n",
       "      <td>0.00</td>\n",
       "      <td>5.76</td>\n",
       "      <td>0.3</td>\n",
       "      <td>...</td>\n",
       "      <td>Creative Mobile Technologies</td>\n",
       "      <td>JFK</td>\n",
       "      <td>not a store and forward trip</td>\n",
       "      <td>Cash</td>\n",
       "      <td>Queens</td>\n",
       "      <td>JFK Airport</td>\n",
       "      <td>Airports</td>\n",
       "      <td>Manhattan</td>\n",
       "      <td>Clinton East</td>\n",
       "      <td>Yellow Zone</td>\n",
       "    </tr>\n",
       "    <tr>\n",
       "      <th>3</th>\n",
       "      <td>2018-03-28 19:58:44</td>\n",
       "      <td>2018-03-28 20:07:14</td>\n",
       "      <td>1</td>\n",
       "      <td>1.61</td>\n",
       "      <td>8.0</td>\n",
       "      <td>1.0</td>\n",
       "      <td>0.5</td>\n",
       "      <td>1.00</td>\n",
       "      <td>0.00</td>\n",
       "      <td>0.3</td>\n",
       "      <td>...</td>\n",
       "      <td>VeriFone Inc</td>\n",
       "      <td>Standard rate</td>\n",
       "      <td>not a store and forward trip</td>\n",
       "      <td>Credit card</td>\n",
       "      <td>Manhattan</td>\n",
       "      <td>East Chelsea</td>\n",
       "      <td>Yellow Zone</td>\n",
       "      <td>Manhattan</td>\n",
       "      <td>SoHo</td>\n",
       "      <td>Yellow Zone</td>\n",
       "    </tr>\n",
       "    <tr>\n",
       "      <th>4</th>\n",
       "      <td>2018-11-02 06:34:49</td>\n",
       "      <td>2018-11-02 06:50:07</td>\n",
       "      <td>1</td>\n",
       "      <td>2.70</td>\n",
       "      <td>12.5</td>\n",
       "      <td>0.0</td>\n",
       "      <td>0.5</td>\n",
       "      <td>2.65</td>\n",
       "      <td>0.00</td>\n",
       "      <td>0.3</td>\n",
       "      <td>...</td>\n",
       "      <td>Creative Mobile Technologies</td>\n",
       "      <td>Standard rate</td>\n",
       "      <td>not a store and forward trip</td>\n",
       "      <td>Credit card</td>\n",
       "      <td>Manhattan</td>\n",
       "      <td>East Village</td>\n",
       "      <td>Yellow Zone</td>\n",
       "      <td>Manhattan</td>\n",
       "      <td>Times Sq/Theatre District</td>\n",
       "      <td>Yellow Zone</td>\n",
       "    </tr>\n",
       "    <tr>\n",
       "      <th>...</th>\n",
       "      <td>...</td>\n",
       "      <td>...</td>\n",
       "      <td>...</td>\n",
       "      <td>...</td>\n",
       "      <td>...</td>\n",
       "      <td>...</td>\n",
       "      <td>...</td>\n",
       "      <td>...</td>\n",
       "      <td>...</td>\n",
       "      <td>...</td>\n",
       "      <td>...</td>\n",
       "      <td>...</td>\n",
       "      <td>...</td>\n",
       "      <td>...</td>\n",
       "      <td>...</td>\n",
       "      <td>...</td>\n",
       "      <td>...</td>\n",
       "      <td>...</td>\n",
       "      <td>...</td>\n",
       "      <td>...</td>\n",
       "      <td>...</td>\n",
       "    </tr>\n",
       "    <tr>\n",
       "      <th>1683460</th>\n",
       "      <td>2018-12-22 15:38:53</td>\n",
       "      <td>2018-12-22 15:57:07</td>\n",
       "      <td>1</td>\n",
       "      <td>1.58</td>\n",
       "      <td>12.0</td>\n",
       "      <td>0.0</td>\n",
       "      <td>0.5</td>\n",
       "      <td>0.00</td>\n",
       "      <td>0.00</td>\n",
       "      <td>0.3</td>\n",
       "      <td>...</td>\n",
       "      <td>VeriFone Inc</td>\n",
       "      <td>Standard rate</td>\n",
       "      <td>not a store and forward trip</td>\n",
       "      <td>Cash</td>\n",
       "      <td>Manhattan</td>\n",
       "      <td>Times Sq/Theatre District</td>\n",
       "      <td>Yellow Zone</td>\n",
       "      <td>Manhattan</td>\n",
       "      <td>Penn Station/Madison Sq West</td>\n",
       "      <td>Yellow Zone</td>\n",
       "    </tr>\n",
       "    <tr>\n",
       "      <th>1683461</th>\n",
       "      <td>2018-03-18 00:55:53</td>\n",
       "      <td>2018-03-18 01:07:14</td>\n",
       "      <td>0</td>\n",
       "      <td>2.20</td>\n",
       "      <td>10.0</td>\n",
       "      <td>0.5</td>\n",
       "      <td>0.5</td>\n",
       "      <td>1.00</td>\n",
       "      <td>0.00</td>\n",
       "      <td>0.3</td>\n",
       "      <td>...</td>\n",
       "      <td>Creative Mobile Technologies</td>\n",
       "      <td>Standard rate</td>\n",
       "      <td>not a store and forward trip</td>\n",
       "      <td>Credit card</td>\n",
       "      <td>Manhattan</td>\n",
       "      <td>Chinatown</td>\n",
       "      <td>Yellow Zone</td>\n",
       "      <td>Manhattan</td>\n",
       "      <td>Flatiron</td>\n",
       "      <td>Yellow Zone</td>\n",
       "    </tr>\n",
       "    <tr>\n",
       "      <th>1683462</th>\n",
       "      <td>2018-11-15 02:42:36</td>\n",
       "      <td>2018-11-15 03:03:16</td>\n",
       "      <td>1</td>\n",
       "      <td>9.30</td>\n",
       "      <td>28.5</td>\n",
       "      <td>0.5</td>\n",
       "      <td>0.5</td>\n",
       "      <td>8.85</td>\n",
       "      <td>5.76</td>\n",
       "      <td>0.3</td>\n",
       "      <td>...</td>\n",
       "      <td>Creative Mobile Technologies</td>\n",
       "      <td>Standard rate</td>\n",
       "      <td>not a store and forward trip</td>\n",
       "      <td>Credit card</td>\n",
       "      <td>Manhattan</td>\n",
       "      <td>West Chelsea/Hudson Yards</td>\n",
       "      <td>Yellow Zone</td>\n",
       "      <td>Queens</td>\n",
       "      <td>Forest Hills</td>\n",
       "      <td>Boro Zone</td>\n",
       "    </tr>\n",
       "    <tr>\n",
       "      <th>1683463</th>\n",
       "      <td>2018-12-12 17:57:51</td>\n",
       "      <td>2018-12-12 18:19:49</td>\n",
       "      <td>4</td>\n",
       "      <td>5.17</td>\n",
       "      <td>19.5</td>\n",
       "      <td>1.0</td>\n",
       "      <td>0.5</td>\n",
       "      <td>4.26</td>\n",
       "      <td>0.00</td>\n",
       "      <td>0.3</td>\n",
       "      <td>...</td>\n",
       "      <td>VeriFone Inc</td>\n",
       "      <td>Standard rate</td>\n",
       "      <td>not a store and forward trip</td>\n",
       "      <td>Credit card</td>\n",
       "      <td>Manhattan</td>\n",
       "      <td>Battery Park City</td>\n",
       "      <td>Yellow Zone</td>\n",
       "      <td>Manhattan</td>\n",
       "      <td>Lincoln Square West</td>\n",
       "      <td>Yellow Zone</td>\n",
       "    </tr>\n",
       "    <tr>\n",
       "      <th>1683464</th>\n",
       "      <td>2018-09-22 00:17:32</td>\n",
       "      <td>2018-09-22 00:42:16</td>\n",
       "      <td>1</td>\n",
       "      <td>4.77</td>\n",
       "      <td>19.5</td>\n",
       "      <td>0.5</td>\n",
       "      <td>0.5</td>\n",
       "      <td>4.16</td>\n",
       "      <td>0.00</td>\n",
       "      <td>0.3</td>\n",
       "      <td>...</td>\n",
       "      <td>VeriFone Inc</td>\n",
       "      <td>Standard rate</td>\n",
       "      <td>not a store and forward trip</td>\n",
       "      <td>Credit card</td>\n",
       "      <td>Manhattan</td>\n",
       "      <td>East Chelsea</td>\n",
       "      <td>Yellow Zone</td>\n",
       "      <td>Manhattan</td>\n",
       "      <td>Lenox Hill East</td>\n",
       "      <td>Yellow Zone</td>\n",
       "    </tr>\n",
       "  </tbody>\n",
       "</table>\n",
       "<p>1683465 rows × 21 columns</p>\n",
       "</div>"
      ],
      "text/plain": [
       "        tpep_pickup_datetime tpep_dropoff_datetime  passenger_count  \\\n",
       "0        2018-11-06 12:42:24   2018-11-06 12:54:49                1   \n",
       "1        2018-02-16 19:19:59   2018-02-16 19:26:41                0   \n",
       "2        2018-02-12 16:50:01   2018-02-12 17:43:55                3   \n",
       "3        2018-03-28 19:58:44   2018-03-28 20:07:14                1   \n",
       "4        2018-11-02 06:34:49   2018-11-02 06:50:07                1   \n",
       "...                      ...                   ...              ...   \n",
       "1683460  2018-12-22 15:38:53   2018-12-22 15:57:07                1   \n",
       "1683461  2018-03-18 00:55:53   2018-03-18 01:07:14                0   \n",
       "1683462  2018-11-15 02:42:36   2018-11-15 03:03:16                1   \n",
       "1683463  2018-12-12 17:57:51   2018-12-12 18:19:49                4   \n",
       "1683464  2018-09-22 00:17:32   2018-09-22 00:42:16                1   \n",
       "\n",
       "         trip_distance  fare_amount  extra  mta_tax  tip_amount  tolls_amount  \\\n",
       "0                 0.87          9.0    0.0      0.5        0.00          0.00   \n",
       "1                 1.50          7.0    1.0      0.5        1.32          0.00   \n",
       "2                22.60         52.0    0.0      0.5        0.00          5.76   \n",
       "3                 1.61          8.0    1.0      0.5        1.00          0.00   \n",
       "4                 2.70         12.5    0.0      0.5        2.65          0.00   \n",
       "...                ...          ...    ...      ...         ...           ...   \n",
       "1683460           1.58         12.0    0.0      0.5        0.00          0.00   \n",
       "1683461           2.20         10.0    0.5      0.5        1.00          0.00   \n",
       "1683462           9.30         28.5    0.5      0.5        8.85          5.76   \n",
       "1683463           5.17         19.5    1.0      0.5        4.26          0.00   \n",
       "1683464           4.77         19.5    0.5      0.5        4.16          0.00   \n",
       "\n",
       "         improvement_surcharge  ...                      VendorID  \\\n",
       "0                          0.3  ...                  VeriFone Inc   \n",
       "1                          0.3  ...  Creative Mobile Technologies   \n",
       "2                          0.3  ...  Creative Mobile Technologies   \n",
       "3                          0.3  ...                  VeriFone Inc   \n",
       "4                          0.3  ...  Creative Mobile Technologies   \n",
       "...                        ...  ...                           ...   \n",
       "1683460                    0.3  ...                  VeriFone Inc   \n",
       "1683461                    0.3  ...  Creative Mobile Technologies   \n",
       "1683462                    0.3  ...  Creative Mobile Technologies   \n",
       "1683463                    0.3  ...                  VeriFone Inc   \n",
       "1683464                    0.3  ...                  VeriFone Inc   \n",
       "\n",
       "            RatecodeID            store_and_fwd_flag payment_type  PUBorough  \\\n",
       "0        Standard rate  not a store and forward trip         Cash  Manhattan   \n",
       "1        Standard rate  not a store and forward trip  Credit card  Manhattan   \n",
       "2                  JFK  not a store and forward trip         Cash     Queens   \n",
       "3        Standard rate  not a store and forward trip  Credit card  Manhattan   \n",
       "4        Standard rate  not a store and forward trip  Credit card  Manhattan   \n",
       "...                ...                           ...          ...        ...   \n",
       "1683460  Standard rate  not a store and forward trip         Cash  Manhattan   \n",
       "1683461  Standard rate  not a store and forward trip  Credit card  Manhattan   \n",
       "1683462  Standard rate  not a store and forward trip  Credit card  Manhattan   \n",
       "1683463  Standard rate  not a store and forward trip  Credit card  Manhattan   \n",
       "1683464  Standard rate  not a store and forward trip  Credit card  Manhattan   \n",
       "\n",
       "                                PUZone PUservice_zone  DOBorough  \\\n",
       "0        Sutton Place/Turtle Bay North    Yellow Zone  Manhattan   \n",
       "1                         Clinton East    Yellow Zone  Manhattan   \n",
       "2                          JFK Airport       Airports  Manhattan   \n",
       "3                         East Chelsea    Yellow Zone  Manhattan   \n",
       "4                         East Village    Yellow Zone  Manhattan   \n",
       "...                                ...            ...        ...   \n",
       "1683460      Times Sq/Theatre District    Yellow Zone  Manhattan   \n",
       "1683461                      Chinatown    Yellow Zone  Manhattan   \n",
       "1683462      West Chelsea/Hudson Yards    Yellow Zone     Queens   \n",
       "1683463              Battery Park City    Yellow Zone  Manhattan   \n",
       "1683464                   East Chelsea    Yellow Zone  Manhattan   \n",
       "\n",
       "                                DOZone DOservice_zone  \n",
       "0                Upper East Side South    Yellow Zone  \n",
       "1        Meatpacking/West Village West    Yellow Zone  \n",
       "2                         Clinton East    Yellow Zone  \n",
       "3                                 SoHo    Yellow Zone  \n",
       "4            Times Sq/Theatre District    Yellow Zone  \n",
       "...                                ...            ...  \n",
       "1683460   Penn Station/Madison Sq West    Yellow Zone  \n",
       "1683461                       Flatiron    Yellow Zone  \n",
       "1683462                   Forest Hills      Boro Zone  \n",
       "1683463            Lincoln Square West    Yellow Zone  \n",
       "1683464                Lenox Hill East    Yellow Zone  \n",
       "\n",
       "[1683465 rows x 21 columns]"
      ]
     },
     "execution_count": 12,
     "metadata": {},
     "output_type": "execute_result"
    }
   ],
   "source": [
    "df_muestra"
   ]
  },
  {
   "cell_type": "markdown",
   "metadata": {},
   "source": [
    "# 2-. Limpieza de datos "
   ]
  },
  {
   "cell_type": "markdown",
   "metadata": {},
   "source": [
    "## 2.1-. Visualización de datos inconsistentes "
   ]
  },
  {
   "cell_type": "code",
   "execution_count": 13,
   "metadata": {
    "ExecuteTime": {
     "end_time": "2021-01-04T00:44:53.203040Z",
     "start_time": "2021-01-04T00:44:52.296145Z"
    }
   },
   "outputs": [
    {
     "data": {
      "text/html": [
       "<div>\n",
       "<style scoped>\n",
       "    .dataframe tbody tr th:only-of-type {\n",
       "        vertical-align: middle;\n",
       "    }\n",
       "\n",
       "    .dataframe tbody tr th {\n",
       "        vertical-align: top;\n",
       "    }\n",
       "\n",
       "    .dataframe thead th {\n",
       "        text-align: right;\n",
       "    }\n",
       "</style>\n",
       "<table border=\"1\" class=\"dataframe\">\n",
       "  <thead>\n",
       "    <tr style=\"text-align: right;\">\n",
       "      <th></th>\n",
       "      <th>passenger_count</th>\n",
       "      <th>trip_distance</th>\n",
       "      <th>fare_amount</th>\n",
       "      <th>extra</th>\n",
       "      <th>mta_tax</th>\n",
       "      <th>tip_amount</th>\n",
       "      <th>tolls_amount</th>\n",
       "      <th>improvement_surcharge</th>\n",
       "      <th>total_amount</th>\n",
       "    </tr>\n",
       "  </thead>\n",
       "  <tbody>\n",
       "    <tr>\n",
       "      <th>count</th>\n",
       "      <td>1.683465e+06</td>\n",
       "      <td>1.683465e+06</td>\n",
       "      <td>1.683465e+06</td>\n",
       "      <td>1.683465e+06</td>\n",
       "      <td>1.683465e+06</td>\n",
       "      <td>1.683465e+06</td>\n",
       "      <td>1.683465e+06</td>\n",
       "      <td>1.683465e+06</td>\n",
       "      <td>1.683465e+06</td>\n",
       "    </tr>\n",
       "    <tr>\n",
       "      <th>mean</th>\n",
       "      <td>1.596098e+00</td>\n",
       "      <td>2.929203e+00</td>\n",
       "      <td>1.299412e+01</td>\n",
       "      <td>3.309224e-01</td>\n",
       "      <td>4.971086e-01</td>\n",
       "      <td>1.872408e+00</td>\n",
       "      <td>3.472416e-01</td>\n",
       "      <td>2.995289e-01</td>\n",
       "      <td>1.634505e+01</td>\n",
       "    </tr>\n",
       "    <tr>\n",
       "      <th>std</th>\n",
       "      <td>1.241695e+00</td>\n",
       "      <td>3.789748e+00</td>\n",
       "      <td>1.325921e+01</td>\n",
       "      <td>4.654262e-01</td>\n",
       "      <td>4.205959e-02</td>\n",
       "      <td>2.615709e+00</td>\n",
       "      <td>1.804324e+00</td>\n",
       "      <td>1.612002e-02</td>\n",
       "      <td>1.574184e+01</td>\n",
       "    </tr>\n",
       "    <tr>\n",
       "      <th>min</th>\n",
       "      <td>0.000000e+00</td>\n",
       "      <td>0.000000e+00</td>\n",
       "      <td>-3.170000e+02</td>\n",
       "      <td>-4.500000e+00</td>\n",
       "      <td>-5.000000e-01</td>\n",
       "      <td>-8.000000e+01</td>\n",
       "      <td>-1.500000e+01</td>\n",
       "      <td>-3.000000e-01</td>\n",
       "      <td>-3.178000e+02</td>\n",
       "    </tr>\n",
       "    <tr>\n",
       "      <th>25%</th>\n",
       "      <td>1.000000e+00</td>\n",
       "      <td>9.600000e-01</td>\n",
       "      <td>6.500000e+00</td>\n",
       "      <td>0.000000e+00</td>\n",
       "      <td>5.000000e-01</td>\n",
       "      <td>0.000000e+00</td>\n",
       "      <td>0.000000e+00</td>\n",
       "      <td>3.000000e-01</td>\n",
       "      <td>8.500000e+00</td>\n",
       "    </tr>\n",
       "    <tr>\n",
       "      <th>50%</th>\n",
       "      <td>1.000000e+00</td>\n",
       "      <td>1.600000e+00</td>\n",
       "      <td>9.500000e+00</td>\n",
       "      <td>0.000000e+00</td>\n",
       "      <td>5.000000e-01</td>\n",
       "      <td>1.400000e+00</td>\n",
       "      <td>0.000000e+00</td>\n",
       "      <td>3.000000e-01</td>\n",
       "      <td>1.180000e+01</td>\n",
       "    </tr>\n",
       "    <tr>\n",
       "      <th>75%</th>\n",
       "      <td>2.000000e+00</td>\n",
       "      <td>3.000000e+00</td>\n",
       "      <td>1.450000e+01</td>\n",
       "      <td>5.000000e-01</td>\n",
       "      <td>5.000000e-01</td>\n",
       "      <td>2.450000e+00</td>\n",
       "      <td>0.000000e+00</td>\n",
       "      <td>3.000000e-01</td>\n",
       "      <td>1.780000e+01</td>\n",
       "    </tr>\n",
       "    <tr>\n",
       "      <th>max</th>\n",
       "      <td>9.000000e+00</td>\n",
       "      <td>3.808300e+02</td>\n",
       "      <td>7.011500e+03</td>\n",
       "      <td>4.000000e+01</td>\n",
       "      <td>3.000000e+00</td>\n",
       "      <td>2.950000e+02</td>\n",
       "      <td>7.676600e+02</td>\n",
       "      <td>1.000000e+00</td>\n",
       "      <td>7.012800e+03</td>\n",
       "    </tr>\n",
       "  </tbody>\n",
       "</table>\n",
       "</div>"
      ],
      "text/plain": [
       "       passenger_count  trip_distance   fare_amount         extra  \\\n",
       "count     1.683465e+06   1.683465e+06  1.683465e+06  1.683465e+06   \n",
       "mean      1.596098e+00   2.929203e+00  1.299412e+01  3.309224e-01   \n",
       "std       1.241695e+00   3.789748e+00  1.325921e+01  4.654262e-01   \n",
       "min       0.000000e+00   0.000000e+00 -3.170000e+02 -4.500000e+00   \n",
       "25%       1.000000e+00   9.600000e-01  6.500000e+00  0.000000e+00   \n",
       "50%       1.000000e+00   1.600000e+00  9.500000e+00  0.000000e+00   \n",
       "75%       2.000000e+00   3.000000e+00  1.450000e+01  5.000000e-01   \n",
       "max       9.000000e+00   3.808300e+02  7.011500e+03  4.000000e+01   \n",
       "\n",
       "            mta_tax    tip_amount  tolls_amount  improvement_surcharge  \\\n",
       "count  1.683465e+06  1.683465e+06  1.683465e+06           1.683465e+06   \n",
       "mean   4.971086e-01  1.872408e+00  3.472416e-01           2.995289e-01   \n",
       "std    4.205959e-02  2.615709e+00  1.804324e+00           1.612002e-02   \n",
       "min   -5.000000e-01 -8.000000e+01 -1.500000e+01          -3.000000e-01   \n",
       "25%    5.000000e-01  0.000000e+00  0.000000e+00           3.000000e-01   \n",
       "50%    5.000000e-01  1.400000e+00  0.000000e+00           3.000000e-01   \n",
       "75%    5.000000e-01  2.450000e+00  0.000000e+00           3.000000e-01   \n",
       "max    3.000000e+00  2.950000e+02  7.676600e+02           1.000000e+00   \n",
       "\n",
       "       total_amount  \n",
       "count  1.683465e+06  \n",
       "mean   1.634505e+01  \n",
       "std    1.574184e+01  \n",
       "min   -3.178000e+02  \n",
       "25%    8.500000e+00  \n",
       "50%    1.180000e+01  \n",
       "75%    1.780000e+01  \n",
       "max    7.012800e+03  "
      ]
     },
     "execution_count": 13,
     "metadata": {},
     "output_type": "execute_result"
    }
   ],
   "source": [
    "df_muestra.describe()"
   ]
  },
  {
   "cell_type": "markdown",
   "metadata": {},
   "source": [
    "Vemos que en **_mta_tax_** y **_improvement_surcharge_** tiene datos con valores que no concuerdan con los constantes;los cuales son $ 0.5,0.3 $ respectivamente  podriamos esperar valores negativos de estos puesto que vemos que hay precios negativos y eso sea un erro de captura. Pero vemos que el maximo de **_mta_tax_** es 3 y el maximo de **_improvement_surcharge_** es 1 asi que tenemos un error en los maximos solamente puesto que en los minimos tenemos los valores constantes pero solamente negativos.\n",
    "\n",
    "Veamos la cantindad estos datos que estan así "
   ]
  },
  {
   "cell_type": "code",
   "execution_count": 14,
   "metadata": {
    "ExecuteTime": {
     "end_time": "2021-01-04T00:45:18.391735Z",
     "start_time": "2021-01-04T00:45:18.369087Z"
    }
   },
   "outputs": [
    {
     "data": {
      "text/plain": [
       "4"
      ]
     },
     "execution_count": 14,
     "metadata": {},
     "output_type": "execute_result"
    }
   ],
   "source": [
    "aux=df_muestra[df_muestra['mta_tax']>0.5][['mta_tax']].copy().assign(n=1)\n",
    "aux.n.count()"
   ]
  },
  {
   "cell_type": "markdown",
   "metadata": {},
   "source": [
    "Vemos que tenemos 4 datos con **_mta_tax_** $>0.5$.\n",
    "\n",
    "Ahora veamos los datos de **_improvement_surcharge_**"
   ]
  },
  {
   "cell_type": "code",
   "execution_count": 15,
   "metadata": {
    "ExecuteTime": {
     "end_time": "2021-01-04T00:45:18.427444Z",
     "start_time": "2021-01-04T00:45:18.396438Z"
    },
    "scrolled": true
   },
   "outputs": [
    {
     "data": {
      "text/plain": [
       "4"
      ]
     },
     "execution_count": 15,
     "metadata": {},
     "output_type": "execute_result"
    }
   ],
   "source": [
    "aux=df_muestra[df_muestra['improvement_surcharge']>0.3][['improvement_surcharge']].copy().assign(n=1)\n",
    "aux.n.count()"
   ]
  },
  {
   "cell_type": "markdown",
   "metadata": {},
   "source": [
    "Vemos que si son los mismos, y si los son los mismos veremos los datos de la parte de pago "
   ]
  },
  {
   "cell_type": "code",
   "execution_count": 16,
   "metadata": {
    "ExecuteTime": {
     "end_time": "2021-01-04T00:45:18.452266Z",
     "start_time": "2021-01-04T00:45:18.431709Z"
    }
   },
   "outputs": [
    {
     "data": {
      "text/html": [
       "<div>\n",
       "<style scoped>\n",
       "    .dataframe tbody tr th:only-of-type {\n",
       "        vertical-align: middle;\n",
       "    }\n",
       "\n",
       "    .dataframe tbody tr th {\n",
       "        vertical-align: top;\n",
       "    }\n",
       "\n",
       "    .dataframe thead th {\n",
       "        text-align: right;\n",
       "    }\n",
       "</style>\n",
       "<table border=\"1\" class=\"dataframe\">\n",
       "  <thead>\n",
       "    <tr style=\"text-align: right;\">\n",
       "      <th></th>\n",
       "      <th>mta_tax</th>\n",
       "      <th>improvement_surcharge</th>\n",
       "    </tr>\n",
       "  </thead>\n",
       "  <tbody>\n",
       "    <tr>\n",
       "      <th>201021</th>\n",
       "      <td>3.0</td>\n",
       "      <td>1.0</td>\n",
       "    </tr>\n",
       "    <tr>\n",
       "      <th>236128</th>\n",
       "      <td>3.0</td>\n",
       "      <td>1.0</td>\n",
       "    </tr>\n",
       "    <tr>\n",
       "      <th>1063745</th>\n",
       "      <td>0.0</td>\n",
       "      <td>1.0</td>\n",
       "    </tr>\n",
       "    <tr>\n",
       "      <th>1171652</th>\n",
       "      <td>3.0</td>\n",
       "      <td>1.0</td>\n",
       "    </tr>\n",
       "  </tbody>\n",
       "</table>\n",
       "</div>"
      ],
      "text/plain": [
       "         mta_tax  improvement_surcharge\n",
       "201021       3.0                    1.0\n",
       "236128       3.0                    1.0\n",
       "1063745      0.0                    1.0\n",
       "1171652      3.0                    1.0"
      ]
     },
     "execution_count": 16,
     "metadata": {},
     "output_type": "execute_result"
    }
   ],
   "source": [
    "df_muestra[df_muestra['improvement_surcharge']>0.3][['mta_tax','improvement_surcharge']]\n"
   ]
  },
  {
   "cell_type": "code",
   "execution_count": 17,
   "metadata": {
    "ExecuteTime": {
     "end_time": "2021-01-04T00:45:18.477976Z",
     "start_time": "2021-01-04T00:45:18.457212Z"
    },
    "scrolled": true
   },
   "outputs": [
    {
     "data": {
      "text/html": [
       "<div>\n",
       "<style scoped>\n",
       "    .dataframe tbody tr th:only-of-type {\n",
       "        vertical-align: middle;\n",
       "    }\n",
       "\n",
       "    .dataframe tbody tr th {\n",
       "        vertical-align: top;\n",
       "    }\n",
       "\n",
       "    .dataframe thead th {\n",
       "        text-align: right;\n",
       "    }\n",
       "</style>\n",
       "<table border=\"1\" class=\"dataframe\">\n",
       "  <thead>\n",
       "    <tr style=\"text-align: right;\">\n",
       "      <th></th>\n",
       "      <th>mta_tax</th>\n",
       "      <th>improvement_surcharge</th>\n",
       "    </tr>\n",
       "  </thead>\n",
       "  <tbody>\n",
       "    <tr>\n",
       "      <th>201021</th>\n",
       "      <td>3.00</td>\n",
       "      <td>1.0</td>\n",
       "    </tr>\n",
       "    <tr>\n",
       "      <th>236128</th>\n",
       "      <td>3.00</td>\n",
       "      <td>1.0</td>\n",
       "    </tr>\n",
       "    <tr>\n",
       "      <th>1006645</th>\n",
       "      <td>0.87</td>\n",
       "      <td>0.0</td>\n",
       "    </tr>\n",
       "    <tr>\n",
       "      <th>1171652</th>\n",
       "      <td>3.00</td>\n",
       "      <td>1.0</td>\n",
       "    </tr>\n",
       "  </tbody>\n",
       "</table>\n",
       "</div>"
      ],
      "text/plain": [
       "         mta_tax  improvement_surcharge\n",
       "201021      3.00                    1.0\n",
       "236128      3.00                    1.0\n",
       "1006645     0.87                    0.0\n",
       "1171652     3.00                    1.0"
      ]
     },
     "execution_count": 17,
     "metadata": {},
     "output_type": "execute_result"
    }
   ],
   "source": [
    "df_muestra[df_muestra['mta_tax']>0.5][['mta_tax','improvement_surcharge']]"
   ]
  },
  {
   "cell_type": "markdown",
   "metadata": {},
   "source": [
    "Vemos que solamente que conciden en 3 "
   ]
  },
  {
   "cell_type": "code",
   "execution_count": 18,
   "metadata": {
    "ExecuteTime": {
     "end_time": "2021-01-04T00:45:18.537055Z",
     "start_time": "2021-01-04T00:45:18.482920Z"
    }
   },
   "outputs": [
    {
     "data": {
      "text/html": [
       "<div>\n",
       "<style scoped>\n",
       "    .dataframe tbody tr th:only-of-type {\n",
       "        vertical-align: middle;\n",
       "    }\n",
       "\n",
       "    .dataframe tbody tr th {\n",
       "        vertical-align: top;\n",
       "    }\n",
       "\n",
       "    .dataframe thead th {\n",
       "        text-align: right;\n",
       "    }\n",
       "</style>\n",
       "<table border=\"1\" class=\"dataframe\">\n",
       "  <thead>\n",
       "    <tr style=\"text-align: right;\">\n",
       "      <th></th>\n",
       "      <th>mta_tax</th>\n",
       "      <th>improvement_surcharge</th>\n",
       "    </tr>\n",
       "  </thead>\n",
       "  <tbody>\n",
       "    <tr>\n",
       "      <th>201021</th>\n",
       "      <td>3.0</td>\n",
       "      <td>1.0</td>\n",
       "    </tr>\n",
       "    <tr>\n",
       "      <th>236128</th>\n",
       "      <td>3.0</td>\n",
       "      <td>1.0</td>\n",
       "    </tr>\n",
       "    <tr>\n",
       "      <th>1171652</th>\n",
       "      <td>3.0</td>\n",
       "      <td>1.0</td>\n",
       "    </tr>\n",
       "  </tbody>\n",
       "</table>\n",
       "</div>"
      ],
      "text/plain": [
       "         mta_tax  improvement_surcharge\n",
       "201021       3.0                    1.0\n",
       "236128       3.0                    1.0\n",
       "1171652      3.0                    1.0"
      ]
     },
     "execution_count": 18,
     "metadata": {},
     "output_type": "execute_result"
    }
   ],
   "source": [
    "df_muestra[\n",
    "    (df_muestra['mta_tax']>0.5) & (df_muestra[\n",
    "        'improvement_surcharge']>0.3)][['mta_tax','improvement_surcharge']]"
   ]
  },
  {
   "cell_type": "markdown",
   "metadata": {},
   "source": [
    "Podemos concluir que podemos cambiar esos valores por los reales \n",
    "\n",
    "Ahora vamos Los tipos de pago "
   ]
  },
  {
   "cell_type": "code",
   "execution_count": 19,
   "metadata": {
    "ExecuteTime": {
     "end_time": "2021-01-04T00:45:18.767186Z",
     "start_time": "2021-01-04T00:45:18.549953Z"
    }
   },
   "outputs": [
    {
     "data": {
      "text/html": [
       "<div>\n",
       "<style scoped>\n",
       "    .dataframe tbody tr th:only-of-type {\n",
       "        vertical-align: middle;\n",
       "    }\n",
       "\n",
       "    .dataframe tbody tr th {\n",
       "        vertical-align: top;\n",
       "    }\n",
       "\n",
       "    .dataframe thead th {\n",
       "        text-align: right;\n",
       "    }\n",
       "</style>\n",
       "<table border=\"1\" class=\"dataframe\">\n",
       "  <thead>\n",
       "    <tr style=\"text-align: right;\">\n",
       "      <th></th>\n",
       "      <th>n</th>\n",
       "    </tr>\n",
       "    <tr>\n",
       "      <th>payment_type</th>\n",
       "      <th></th>\n",
       "    </tr>\n",
       "  </thead>\n",
       "  <tbody>\n",
       "    <tr>\n",
       "      <th>Cash</th>\n",
       "      <td>503391</td>\n",
       "    </tr>\n",
       "    <tr>\n",
       "      <th>Credit card</th>\n",
       "      <td>1168709</td>\n",
       "    </tr>\n",
       "    <tr>\n",
       "      <th>Dispute</th>\n",
       "      <td>2451</td>\n",
       "    </tr>\n",
       "    <tr>\n",
       "      <th>No charge</th>\n",
       "      <td>8914</td>\n",
       "    </tr>\n",
       "  </tbody>\n",
       "</table>\n",
       "</div>"
      ],
      "text/plain": [
       "                    n\n",
       "payment_type         \n",
       "Cash           503391\n",
       "Credit card   1168709\n",
       "Dispute          2451\n",
       "No charge        8914"
      ]
     },
     "execution_count": 19,
     "metadata": {},
     "output_type": "execute_result"
    }
   ],
   "source": [
    "aux = df_muestra[['payment_type']].copy().assign(n=1)\n",
    "aux.groupby('payment_type').count()"
   ]
  },
  {
   "cell_type": "code",
   "execution_count": 20,
   "metadata": {
    "ExecuteTime": {
     "end_time": "2021-01-04T00:45:19.290707Z",
     "start_time": "2021-01-04T00:45:18.771653Z"
    },
    "scrolled": false
   },
   "outputs": [
    {
     "data": {
      "text/plain": [
       "<AxesSubplot:xlabel='payment_type'>"
      ]
     },
     "execution_count": 20,
     "metadata": {},
     "output_type": "execute_result"
    },
    {
     "data": {
      "image/png": "[encoded data removed]",
      "text/plain": [
       "<Figure size 432x288 with 1 Axes>"
      ]
     },
     "metadata": {
      "needs_background": "light"
     },
     "output_type": "display_data"
    }
   ],
   "source": [
    "aux.groupby('payment_type').count().plot(kind='bar')"
   ]
  },
  {
   "cell_type": "markdown",
   "metadata": {},
   "source": [
    "Vemos que hay una fraccion pequña de **_Dispute_** y **_No charge_**.\n",
    "\n",
    "En teoria **_No charge_** el monto y la distancia tiene que ser esto vemos si los numeros cuadran "
   ]
  },
  {
   "cell_type": "code",
   "execution_count": 21,
   "metadata": {
    "ExecuteTime": {
     "end_time": "2021-01-04T00:45:19.609651Z",
     "start_time": "2021-01-04T00:45:19.447048Z"
    }
   },
   "outputs": [
    {
     "data": {
      "text/html": [
       "<div>\n",
       "<style scoped>\n",
       "    .dataframe tbody tr th:only-of-type {\n",
       "        vertical-align: middle;\n",
       "    }\n",
       "\n",
       "    .dataframe tbody tr th {\n",
       "        vertical-align: top;\n",
       "    }\n",
       "\n",
       "    .dataframe thead th {\n",
       "        text-align: right;\n",
       "    }\n",
       "</style>\n",
       "<table border=\"1\" class=\"dataframe\">\n",
       "  <thead>\n",
       "    <tr style=\"text-align: right;\">\n",
       "      <th></th>\n",
       "      <th>n</th>\n",
       "    </tr>\n",
       "    <tr>\n",
       "      <th>payment_type</th>\n",
       "      <th></th>\n",
       "    </tr>\n",
       "  </thead>\n",
       "  <tbody>\n",
       "    <tr>\n",
       "      <th>No charge</th>\n",
       "      <td>3</td>\n",
       "    </tr>\n",
       "  </tbody>\n",
       "</table>\n",
       "</div>"
      ],
      "text/plain": [
       "              n\n",
       "payment_type   \n",
       "No charge     3"
      ]
     },
     "execution_count": 21,
     "metadata": {},
     "output_type": "execute_result"
    }
   ],
   "source": [
    "aux=df_muestra[\n",
    "    (df_muestra['payment_type']=='No charge') &\n",
    "(df_muestra['total_amount']==0)&\n",
    "(df_muestra['trip_distance']==0)][['payment_type']].copy().assign(n=1)\n",
    "aux.groupby('payment_type').count()"
   ]
  },
  {
   "cell_type": "markdown",
   "metadata": {},
   "source": [
    "Ahora vemos lo mismo pero con el pago 0"
   ]
  },
  {
   "cell_type": "code",
   "execution_count": 22,
   "metadata": {
    "ExecuteTime": {
     "end_time": "2021-01-04T00:45:19.854689Z",
     "start_time": "2021-01-04T00:45:19.669247Z"
    }
   },
   "outputs": [
    {
     "data": {
      "text/html": [
       "<div>\n",
       "<style scoped>\n",
       "    .dataframe tbody tr th:only-of-type {\n",
       "        vertical-align: middle;\n",
       "    }\n",
       "\n",
       "    .dataframe tbody tr th {\n",
       "        vertical-align: top;\n",
       "    }\n",
       "\n",
       "    .dataframe thead th {\n",
       "        text-align: right;\n",
       "    }\n",
       "</style>\n",
       "<table border=\"1\" class=\"dataframe\">\n",
       "  <thead>\n",
       "    <tr style=\"text-align: right;\">\n",
       "      <th></th>\n",
       "      <th>n</th>\n",
       "    </tr>\n",
       "    <tr>\n",
       "      <th>payment_type</th>\n",
       "      <th></th>\n",
       "    </tr>\n",
       "  </thead>\n",
       "  <tbody>\n",
       "    <tr>\n",
       "      <th>No charge</th>\n",
       "      <td>3</td>\n",
       "    </tr>\n",
       "  </tbody>\n",
       "</table>\n",
       "</div>"
      ],
      "text/plain": [
       "              n\n",
       "payment_type   \n",
       "No charge     3"
      ]
     },
     "execution_count": 22,
     "metadata": {},
     "output_type": "execute_result"
    }
   ],
   "source": [
    "aux=df_muestra[\n",
    "    (df_muestra['payment_type']=='No charge') &\n",
    "(df_muestra['total_amount']==0)][['payment_type']].copy().assign(n=1)\n",
    "aux.groupby('payment_type').count()"
   ]
  },
  {
   "cell_type": "markdown",
   "metadata": {},
   "source": [
    "Ahora con la distancia 0 "
   ]
  },
  {
   "cell_type": "code",
   "execution_count": 23,
   "metadata": {
    "ExecuteTime": {
     "end_time": "2021-01-04T00:45:20.039399Z",
     "start_time": "2021-01-04T00:45:19.859017Z"
    },
    "scrolled": true
   },
   "outputs": [
    {
     "data": {
      "text/html": [
       "<div>\n",
       "<style scoped>\n",
       "    .dataframe tbody tr th:only-of-type {\n",
       "        vertical-align: middle;\n",
       "    }\n",
       "\n",
       "    .dataframe tbody tr th {\n",
       "        vertical-align: top;\n",
       "    }\n",
       "\n",
       "    .dataframe thead th {\n",
       "        text-align: right;\n",
       "    }\n",
       "</style>\n",
       "<table border=\"1\" class=\"dataframe\">\n",
       "  <thead>\n",
       "    <tr style=\"text-align: right;\">\n",
       "      <th></th>\n",
       "      <th>n</th>\n",
       "    </tr>\n",
       "    <tr>\n",
       "      <th>payment_type</th>\n",
       "      <th></th>\n",
       "    </tr>\n",
       "  </thead>\n",
       "  <tbody>\n",
       "    <tr>\n",
       "      <th>No charge</th>\n",
       "      <td>1448</td>\n",
       "    </tr>\n",
       "  </tbody>\n",
       "</table>\n",
       "</div>"
      ],
      "text/plain": [
       "                 n\n",
       "payment_type      \n",
       "No charge     1448"
      ]
     },
     "execution_count": 23,
     "metadata": {},
     "output_type": "execute_result"
    }
   ],
   "source": [
    "aux=df_muestra[\n",
    "    (df_muestra['payment_type']=='No charge') &\n",
    "(df_muestra['trip_distance']==0)][['payment_type']].copy().assign(n=1)\n",
    "aux.groupby('payment_type').count()"
   ]
  },
  {
   "cell_type": "markdown",
   "metadata": {},
   "source": [
    "Ahora vemos solamente con pago 0 y distancia 0 "
   ]
  },
  {
   "cell_type": "code",
   "execution_count": 24,
   "metadata": {
    "ExecuteTime": {
     "end_time": "2021-01-04T00:45:20.069934Z",
     "start_time": "2021-01-04T00:45:20.043986Z"
    },
    "scrolled": true
   },
   "outputs": [
    {
     "data": {
      "text/html": [
       "<div>\n",
       "<style scoped>\n",
       "    .dataframe tbody tr th:only-of-type {\n",
       "        vertical-align: middle;\n",
       "    }\n",
       "\n",
       "    .dataframe tbody tr th {\n",
       "        vertical-align: top;\n",
       "    }\n",
       "\n",
       "    .dataframe thead th {\n",
       "        text-align: right;\n",
       "    }\n",
       "</style>\n",
       "<table border=\"1\" class=\"dataframe\">\n",
       "  <thead>\n",
       "    <tr style=\"text-align: right;\">\n",
       "      <th></th>\n",
       "      <th>n</th>\n",
       "    </tr>\n",
       "    <tr>\n",
       "      <th>payment_type</th>\n",
       "      <th></th>\n",
       "    </tr>\n",
       "  </thead>\n",
       "  <tbody>\n",
       "    <tr>\n",
       "      <th>Cash</th>\n",
       "      <td>72</td>\n",
       "    </tr>\n",
       "    <tr>\n",
       "      <th>Credit card</th>\n",
       "      <td>112</td>\n",
       "    </tr>\n",
       "    <tr>\n",
       "      <th>No charge</th>\n",
       "      <td>3</td>\n",
       "    </tr>\n",
       "  </tbody>\n",
       "</table>\n",
       "</div>"
      ],
      "text/plain": [
       "                n\n",
       "payment_type     \n",
       "Cash           72\n",
       "Credit card   112\n",
       "No charge       3"
      ]
     },
     "execution_count": 24,
     "metadata": {},
     "output_type": "execute_result"
    }
   ],
   "source": [
    "aux=df_muestra[\n",
    "(df_muestra['total_amount']==0)&\n",
    "(df_muestra['trip_distance']==0)][['payment_type']].copy().assign(n=1)\n",
    "aux.groupby('payment_type').count()"
   ]
  },
  {
   "cell_type": "code",
   "execution_count": 25,
   "metadata": {
    "ExecuteTime": {
     "end_time": "2021-01-04T00:45:20.351032Z",
     "start_time": "2021-01-04T00:45:20.074454Z"
    }
   },
   "outputs": [
    {
     "data": {
      "text/html": [
       "<div>\n",
       "<style scoped>\n",
       "    .dataframe tbody tr th:only-of-type {\n",
       "        vertical-align: middle;\n",
       "    }\n",
       "\n",
       "    .dataframe tbody tr th {\n",
       "        vertical-align: top;\n",
       "    }\n",
       "\n",
       "    .dataframe thead th {\n",
       "        text-align: right;\n",
       "    }\n",
       "</style>\n",
       "<table border=\"1\" class=\"dataframe\">\n",
       "  <thead>\n",
       "    <tr style=\"text-align: right;\">\n",
       "      <th></th>\n",
       "      <th>fare_amount</th>\n",
       "      <th>extra</th>\n",
       "      <th>mta_tax</th>\n",
       "      <th>tip_amount</th>\n",
       "      <th>tolls_amount</th>\n",
       "      <th>improvement_surcharge</th>\n",
       "      <th>total_amount</th>\n",
       "    </tr>\n",
       "    <tr>\n",
       "      <th>total_amount</th>\n",
       "      <th></th>\n",
       "      <th></th>\n",
       "      <th></th>\n",
       "      <th></th>\n",
       "      <th></th>\n",
       "      <th></th>\n",
       "      <th></th>\n",
       "    </tr>\n",
       "  </thead>\n",
       "  <tbody>\n",
       "    <tr>\n",
       "      <th>False</th>\n",
       "      <td>1682370</td>\n",
       "      <td>1682370</td>\n",
       "      <td>1682370</td>\n",
       "      <td>1682370</td>\n",
       "      <td>1682370</td>\n",
       "      <td>1682370</td>\n",
       "      <td>1682370</td>\n",
       "    </tr>\n",
       "    <tr>\n",
       "      <th>True</th>\n",
       "      <td>1095</td>\n",
       "      <td>1095</td>\n",
       "      <td>1095</td>\n",
       "      <td>1095</td>\n",
       "      <td>1095</td>\n",
       "      <td>1095</td>\n",
       "      <td>1095</td>\n",
       "    </tr>\n",
       "  </tbody>\n",
       "</table>\n",
       "</div>"
      ],
      "text/plain": [
       "              fare_amount    extra  mta_tax  tip_amount  tolls_amount  \\\n",
       "total_amount                                                            \n",
       "False             1682370  1682370  1682370     1682370       1682370   \n",
       "True                 1095     1095     1095        1095          1095   \n",
       "\n",
       "              improvement_surcharge  total_amount  \n",
       "total_amount                                       \n",
       "False                       1682370       1682370  \n",
       "True                           1095          1095  "
      ]
     },
     "execution_count": 25,
     "metadata": {},
     "output_type": "execute_result"
    }
   ],
   "source": [
    "aux=df_muestra[['fare_amount','extra','mta_tax','tip_amount',\n",
    "          'tolls_amount','improvement_surcharge','total_amount']].copy()\n",
    "aux.groupby(aux['total_amount']<0).count()"
   ]
  },
  {
   "cell_type": "markdown",
   "metadata": {},
   "source": [
    "## 2.2-. Limpieza de datos "
   ]
  },
  {
   "cell_type": "markdown",
   "metadata": {},
   "source": [
    "Eliminamos los valores negativos "
   ]
  },
  {
   "cell_type": "code",
   "execution_count": 26,
   "metadata": {
    "ExecuteTime": {
     "end_time": "2021-01-04T00:47:26.016337Z",
     "start_time": "2021-01-04T00:47:25.518501Z"
    }
   },
   "outputs": [],
   "source": [
    "df_muestra=df_muestra.drop(df_muestra[df_muestra['total_amount']<0].index,axis=0)"
   ]
  },
  {
   "cell_type": "markdown",
   "metadata": {},
   "source": [
    "Ponemos los valores constantes correspondientes, en este caso son los impuestos y el cargo extra"
   ]
  },
  {
   "cell_type": "code",
   "execution_count": 27,
   "metadata": {
    "ExecuteTime": {
     "end_time": "2021-01-04T00:47:56.734966Z",
     "start_time": "2021-01-04T00:47:55.604872Z"
    },
    "code_folding": []
   },
   "outputs": [],
   "source": [
    "df_muestra['mta_tax'] = df_muestra['mta_tax'].map(\n",
    "    lambda x: x if x == 0.5 else (0 if x == 0 else 0.5) )\n",
    "df_muestra['improvement_surcharge'] = df_muestra['improvement_surcharge'].map(\n",
    "    lambda x: x if x == 0.3 else (0 if x == 0 else 0.3))"
   ]
  },
  {
   "cell_type": "markdown",
   "metadata": {},
   "source": [
    "Ahora pongamos los valores correctos del total, lo que vendria siendo la suma total de los pagos "
   ]
  },
  {
   "cell_type": "code",
   "execution_count": 28,
   "metadata": {
    "ExecuteTime": {
     "end_time": "2021-01-04T00:49:14.171916Z",
     "start_time": "2021-01-04T00:49:14.164701Z"
    },
    "code_folding": []
   },
   "outputs": [],
   "source": [
    "def total(data):\n",
    "    pago=['fare_amount','extra','mta_tax','tip_amount',\n",
    "          'tolls_amount','improvement_surcharge']\n",
    "    aux=[round(x,2) for x in data[pago].sum(axis=1)]\n",
    "    data['total_amount']=aux \n",
    "    "
   ]
  },
  {
   "cell_type": "code",
   "execution_count": 29,
   "metadata": {
    "ExecuteTime": {
     "end_time": "2021-01-04T00:49:16.321297Z",
     "start_time": "2021-01-04T00:49:14.177754Z"
    }
   },
   "outputs": [],
   "source": [
    "total(df_muestra)"
   ]
  },
  {
   "cell_type": "code",
   "execution_count": 30,
   "metadata": {
    "ExecuteTime": {
     "end_time": "2021-01-04T00:49:17.322193Z",
     "start_time": "2021-01-04T00:49:16.324057Z"
    }
   },
   "outputs": [
    {
     "data": {
      "text/html": [
       "<div>\n",
       "<style scoped>\n",
       "    .dataframe tbody tr th:only-of-type {\n",
       "        vertical-align: middle;\n",
       "    }\n",
       "\n",
       "    .dataframe tbody tr th {\n",
       "        vertical-align: top;\n",
       "    }\n",
       "\n",
       "    .dataframe thead th {\n",
       "        text-align: right;\n",
       "    }\n",
       "</style>\n",
       "<table border=\"1\" class=\"dataframe\">\n",
       "  <thead>\n",
       "    <tr style=\"text-align: right;\">\n",
       "      <th></th>\n",
       "      <th>passenger_count</th>\n",
       "      <th>trip_distance</th>\n",
       "      <th>fare_amount</th>\n",
       "      <th>extra</th>\n",
       "      <th>mta_tax</th>\n",
       "      <th>tip_amount</th>\n",
       "      <th>tolls_amount</th>\n",
       "      <th>improvement_surcharge</th>\n",
       "      <th>total_amount</th>\n",
       "    </tr>\n",
       "  </thead>\n",
       "  <tbody>\n",
       "    <tr>\n",
       "      <th>count</th>\n",
       "      <td>1.682370e+06</td>\n",
       "      <td>1.682370e+06</td>\n",
       "      <td>1.682370e+06</td>\n",
       "      <td>1.682370e+06</td>\n",
       "      <td>1.682370e+06</td>\n",
       "      <td>1.682370e+06</td>\n",
       "      <td>1.682370e+06</td>\n",
       "      <td>1.682370e+06</td>\n",
       "      <td>1.682370e+06</td>\n",
       "    </tr>\n",
       "    <tr>\n",
       "      <th>mean</th>\n",
       "      <td>1.596011e+00</td>\n",
       "      <td>2.930805e+00</td>\n",
       "      <td>1.300846e+01</td>\n",
       "      <td>3.313654e-01</td>\n",
       "      <td>4.977457e-01</td>\n",
       "      <td>1.873675e+00</td>\n",
       "      <td>3.475223e-01</td>\n",
       "      <td>2.999174e-01</td>\n",
       "      <td>1.635869e+01</td>\n",
       "    </tr>\n",
       "    <tr>\n",
       "      <th>std</th>\n",
       "      <td>1.241638e+00</td>\n",
       "      <td>3.790328e+00</td>\n",
       "      <td>1.324384e+01</td>\n",
       "      <td>4.650505e-01</td>\n",
       "      <td>3.349700e-02</td>\n",
       "      <td>2.615334e+00</td>\n",
       "      <td>1.804730e+00</td>\n",
       "      <td>4.976126e-03</td>\n",
       "      <td>1.572387e+01</td>\n",
       "    </tr>\n",
       "    <tr>\n",
       "      <th>min</th>\n",
       "      <td>0.000000e+00</td>\n",
       "      <td>0.000000e+00</td>\n",
       "      <td>0.000000e+00</td>\n",
       "      <td>-5.000000e-01</td>\n",
       "      <td>0.000000e+00</td>\n",
       "      <td>0.000000e+00</td>\n",
       "      <td>0.000000e+00</td>\n",
       "      <td>0.000000e+00</td>\n",
       "      <td>0.000000e+00</td>\n",
       "    </tr>\n",
       "    <tr>\n",
       "      <th>25%</th>\n",
       "      <td>1.000000e+00</td>\n",
       "      <td>9.600000e-01</td>\n",
       "      <td>6.500000e+00</td>\n",
       "      <td>0.000000e+00</td>\n",
       "      <td>5.000000e-01</td>\n",
       "      <td>0.000000e+00</td>\n",
       "      <td>0.000000e+00</td>\n",
       "      <td>3.000000e-01</td>\n",
       "      <td>8.500000e+00</td>\n",
       "    </tr>\n",
       "    <tr>\n",
       "      <th>50%</th>\n",
       "      <td>1.000000e+00</td>\n",
       "      <td>1.600000e+00</td>\n",
       "      <td>9.500000e+00</td>\n",
       "      <td>0.000000e+00</td>\n",
       "      <td>5.000000e-01</td>\n",
       "      <td>1.400000e+00</td>\n",
       "      <td>0.000000e+00</td>\n",
       "      <td>3.000000e-01</td>\n",
       "      <td>1.180000e+01</td>\n",
       "    </tr>\n",
       "    <tr>\n",
       "      <th>75%</th>\n",
       "      <td>2.000000e+00</td>\n",
       "      <td>3.000000e+00</td>\n",
       "      <td>1.450000e+01</td>\n",
       "      <td>5.000000e-01</td>\n",
       "      <td>5.000000e-01</td>\n",
       "      <td>2.450000e+00</td>\n",
       "      <td>0.000000e+00</td>\n",
       "      <td>3.000000e-01</td>\n",
       "      <td>1.780000e+01</td>\n",
       "    </tr>\n",
       "    <tr>\n",
       "      <th>max</th>\n",
       "      <td>9.000000e+00</td>\n",
       "      <td>3.808300e+02</td>\n",
       "      <td>7.011500e+03</td>\n",
       "      <td>4.000000e+01</td>\n",
       "      <td>5.000000e-01</td>\n",
       "      <td>2.950000e+02</td>\n",
       "      <td>7.676600e+02</td>\n",
       "      <td>3.000000e-01</td>\n",
       "      <td>7.012800e+03</td>\n",
       "    </tr>\n",
       "  </tbody>\n",
       "</table>\n",
       "</div>"
      ],
      "text/plain": [
       "       passenger_count  trip_distance   fare_amount         extra  \\\n",
       "count     1.682370e+06   1.682370e+06  1.682370e+06  1.682370e+06   \n",
       "mean      1.596011e+00   2.930805e+00  1.300846e+01  3.313654e-01   \n",
       "std       1.241638e+00   3.790328e+00  1.324384e+01  4.650505e-01   \n",
       "min       0.000000e+00   0.000000e+00  0.000000e+00 -5.000000e-01   \n",
       "25%       1.000000e+00   9.600000e-01  6.500000e+00  0.000000e+00   \n",
       "50%       1.000000e+00   1.600000e+00  9.500000e+00  0.000000e+00   \n",
       "75%       2.000000e+00   3.000000e+00  1.450000e+01  5.000000e-01   \n",
       "max       9.000000e+00   3.808300e+02  7.011500e+03  4.000000e+01   \n",
       "\n",
       "            mta_tax    tip_amount  tolls_amount  improvement_surcharge  \\\n",
       "count  1.682370e+06  1.682370e+06  1.682370e+06           1.682370e+06   \n",
       "mean   4.977457e-01  1.873675e+00  3.475223e-01           2.999174e-01   \n",
       "std    3.349700e-02  2.615334e+00  1.804730e+00           4.976126e-03   \n",
       "min    0.000000e+00  0.000000e+00  0.000000e+00           0.000000e+00   \n",
       "25%    5.000000e-01  0.000000e+00  0.000000e+00           3.000000e-01   \n",
       "50%    5.000000e-01  1.400000e+00  0.000000e+00           3.000000e-01   \n",
       "75%    5.000000e-01  2.450000e+00  0.000000e+00           3.000000e-01   \n",
       "max    5.000000e-01  2.950000e+02  7.676600e+02           3.000000e-01   \n",
       "\n",
       "       total_amount  \n",
       "count  1.682370e+06  \n",
       "mean   1.635869e+01  \n",
       "std    1.572387e+01  \n",
       "min    0.000000e+00  \n",
       "25%    8.500000e+00  \n",
       "50%    1.180000e+01  \n",
       "75%    1.780000e+01  \n",
       "max    7.012800e+03  "
      ]
     },
     "execution_count": 30,
     "metadata": {},
     "output_type": "execute_result"
    }
   ],
   "source": [
    "df_muestra.describe()"
   ]
  },
  {
   "cell_type": "markdown",
   "metadata": {},
   "source": [
    "Vemos que hay valores negativos en extra, asi que lo eliminaremos "
   ]
  },
  {
   "cell_type": "code",
   "execution_count": 31,
   "metadata": {
    "ExecuteTime": {
     "end_time": "2021-01-04T00:50:07.653774Z",
     "start_time": "2021-01-04T00:50:07.130859Z"
    }
   },
   "outputs": [],
   "source": [
    "df_muestra=df_muestra.drop(df_muestra[df_muestra['extra']<0].index,axis=0)"
   ]
  },
  {
   "cell_type": "code",
   "execution_count": 32,
   "metadata": {
    "ExecuteTime": {
     "end_time": "2021-01-04T00:50:08.612846Z",
     "start_time": "2021-01-04T00:50:07.656549Z"
    }
   },
   "outputs": [
    {
     "data": {
      "text/html": [
       "<div>\n",
       "<style scoped>\n",
       "    .dataframe tbody tr th:only-of-type {\n",
       "        vertical-align: middle;\n",
       "    }\n",
       "\n",
       "    .dataframe tbody tr th {\n",
       "        vertical-align: top;\n",
       "    }\n",
       "\n",
       "    .dataframe thead th {\n",
       "        text-align: right;\n",
       "    }\n",
       "</style>\n",
       "<table border=\"1\" class=\"dataframe\">\n",
       "  <thead>\n",
       "    <tr style=\"text-align: right;\">\n",
       "      <th></th>\n",
       "      <th>passenger_count</th>\n",
       "      <th>trip_distance</th>\n",
       "      <th>fare_amount</th>\n",
       "      <th>extra</th>\n",
       "      <th>mta_tax</th>\n",
       "      <th>tip_amount</th>\n",
       "      <th>tolls_amount</th>\n",
       "      <th>improvement_surcharge</th>\n",
       "      <th>total_amount</th>\n",
       "    </tr>\n",
       "  </thead>\n",
       "  <tbody>\n",
       "    <tr>\n",
       "      <th>count</th>\n",
       "      <td>1.682369e+06</td>\n",
       "      <td>1.682369e+06</td>\n",
       "      <td>1.682369e+06</td>\n",
       "      <td>1.682369e+06</td>\n",
       "      <td>1.682369e+06</td>\n",
       "      <td>1.682369e+06</td>\n",
       "      <td>1.682369e+06</td>\n",
       "      <td>1.682369e+06</td>\n",
       "      <td>1.682369e+06</td>\n",
       "    </tr>\n",
       "    <tr>\n",
       "      <th>mean</th>\n",
       "      <td>1.596011e+00</td>\n",
       "      <td>2.930806e+00</td>\n",
       "      <td>1.300846e+01</td>\n",
       "      <td>3.313659e-01</td>\n",
       "      <td>4.977457e-01</td>\n",
       "      <td>1.873676e+00</td>\n",
       "      <td>3.475225e-01</td>\n",
       "      <td>2.999174e-01</td>\n",
       "      <td>1.635869e+01</td>\n",
       "    </tr>\n",
       "    <tr>\n",
       "      <th>std</th>\n",
       "      <td>1.241639e+00</td>\n",
       "      <td>3.790329e+00</td>\n",
       "      <td>1.324384e+01</td>\n",
       "      <td>4.650502e-01</td>\n",
       "      <td>3.349701e-02</td>\n",
       "      <td>2.615334e+00</td>\n",
       "      <td>1.804730e+00</td>\n",
       "      <td>4.976127e-03</td>\n",
       "      <td>1.572387e+01</td>\n",
       "    </tr>\n",
       "    <tr>\n",
       "      <th>min</th>\n",
       "      <td>0.000000e+00</td>\n",
       "      <td>0.000000e+00</td>\n",
       "      <td>0.000000e+00</td>\n",
       "      <td>0.000000e+00</td>\n",
       "      <td>0.000000e+00</td>\n",
       "      <td>0.000000e+00</td>\n",
       "      <td>0.000000e+00</td>\n",
       "      <td>0.000000e+00</td>\n",
       "      <td>0.000000e+00</td>\n",
       "    </tr>\n",
       "    <tr>\n",
       "      <th>25%</th>\n",
       "      <td>1.000000e+00</td>\n",
       "      <td>9.600000e-01</td>\n",
       "      <td>6.500000e+00</td>\n",
       "      <td>0.000000e+00</td>\n",
       "      <td>5.000000e-01</td>\n",
       "      <td>0.000000e+00</td>\n",
       "      <td>0.000000e+00</td>\n",
       "      <td>3.000000e-01</td>\n",
       "      <td>8.500000e+00</td>\n",
       "    </tr>\n",
       "    <tr>\n",
       "      <th>50%</th>\n",
       "      <td>1.000000e+00</td>\n",
       "      <td>1.600000e+00</td>\n",
       "      <td>9.500000e+00</td>\n",
       "      <td>0.000000e+00</td>\n",
       "      <td>5.000000e-01</td>\n",
       "      <td>1.400000e+00</td>\n",
       "      <td>0.000000e+00</td>\n",
       "      <td>3.000000e-01</td>\n",
       "      <td>1.180000e+01</td>\n",
       "    </tr>\n",
       "    <tr>\n",
       "      <th>75%</th>\n",
       "      <td>2.000000e+00</td>\n",
       "      <td>3.000000e+00</td>\n",
       "      <td>1.450000e+01</td>\n",
       "      <td>5.000000e-01</td>\n",
       "      <td>5.000000e-01</td>\n",
       "      <td>2.450000e+00</td>\n",
       "      <td>0.000000e+00</td>\n",
       "      <td>3.000000e-01</td>\n",
       "      <td>1.780000e+01</td>\n",
       "    </tr>\n",
       "    <tr>\n",
       "      <th>max</th>\n",
       "      <td>9.000000e+00</td>\n",
       "      <td>3.808300e+02</td>\n",
       "      <td>7.011500e+03</td>\n",
       "      <td>4.000000e+01</td>\n",
       "      <td>5.000000e-01</td>\n",
       "      <td>2.950000e+02</td>\n",
       "      <td>7.676600e+02</td>\n",
       "      <td>3.000000e-01</td>\n",
       "      <td>7.012800e+03</td>\n",
       "    </tr>\n",
       "  </tbody>\n",
       "</table>\n",
       "</div>"
      ],
      "text/plain": [
       "       passenger_count  trip_distance   fare_amount         extra  \\\n",
       "count     1.682369e+06   1.682369e+06  1.682369e+06  1.682369e+06   \n",
       "mean      1.596011e+00   2.930806e+00  1.300846e+01  3.313659e-01   \n",
       "std       1.241639e+00   3.790329e+00  1.324384e+01  4.650502e-01   \n",
       "min       0.000000e+00   0.000000e+00  0.000000e+00  0.000000e+00   \n",
       "25%       1.000000e+00   9.600000e-01  6.500000e+00  0.000000e+00   \n",
       "50%       1.000000e+00   1.600000e+00  9.500000e+00  0.000000e+00   \n",
       "75%       2.000000e+00   3.000000e+00  1.450000e+01  5.000000e-01   \n",
       "max       9.000000e+00   3.808300e+02  7.011500e+03  4.000000e+01   \n",
       "\n",
       "            mta_tax    tip_amount  tolls_amount  improvement_surcharge  \\\n",
       "count  1.682369e+06  1.682369e+06  1.682369e+06           1.682369e+06   \n",
       "mean   4.977457e-01  1.873676e+00  3.475225e-01           2.999174e-01   \n",
       "std    3.349701e-02  2.615334e+00  1.804730e+00           4.976127e-03   \n",
       "min    0.000000e+00  0.000000e+00  0.000000e+00           0.000000e+00   \n",
       "25%    5.000000e-01  0.000000e+00  0.000000e+00           3.000000e-01   \n",
       "50%    5.000000e-01  1.400000e+00  0.000000e+00           3.000000e-01   \n",
       "75%    5.000000e-01  2.450000e+00  0.000000e+00           3.000000e-01   \n",
       "max    5.000000e-01  2.950000e+02  7.676600e+02           3.000000e-01   \n",
       "\n",
       "       total_amount  \n",
       "count  1.682369e+06  \n",
       "mean   1.635869e+01  \n",
       "std    1.572387e+01  \n",
       "min    0.000000e+00  \n",
       "25%    8.500000e+00  \n",
       "50%    1.180000e+01  \n",
       "75%    1.780000e+01  \n",
       "max    7.012800e+03  "
      ]
     },
     "execution_count": 32,
     "metadata": {},
     "output_type": "execute_result"
    }
   ],
   "source": [
    "df_muestra.describe()"
   ]
  },
  {
   "cell_type": "markdown",
   "metadata": {},
   "source": [
    "Ahora eliminaremos las filas que no nos sirvan "
   ]
  },
  {
   "cell_type": "code",
   "execution_count": 35,
   "metadata": {
    "ExecuteTime": {
     "end_time": "2021-01-04T00:59:55.563700Z",
     "start_time": "2021-01-04T00:59:55.557873Z"
    },
    "code_folding": []
   },
   "outputs": [],
   "source": [
    "def borrado(data):\n",
    "    dist = data[(data['total_amount'] == 0) & (data['trip_distance'] == 0)]\n",
    "    data = data.drop(dist.index, axis=0)\n",
    "    data = data.drop(['mta_tax', 'improvement_surcharge'], axis=1)\n",
    "    zero= data[data['trip_distance'] == 0]\n",
    "    data=data.drop(zero.index,axis=0)"
   ]
  },
  {
   "cell_type": "code",
   "execution_count": 36,
   "metadata": {
    "ExecuteTime": {
     "end_time": "2021-01-04T01:00:23.142202Z",
     "start_time": "2021-01-04T01:00:22.009598Z"
    }
   },
   "outputs": [],
   "source": [
    "borrado(df_muestra)"
   ]
  },
  {
   "cell_type": "code",
   "execution_count": 37,
   "metadata": {
    "ExecuteTime": {
     "end_time": "2021-01-04T01:00:52.548463Z",
     "start_time": "2021-01-04T01:00:51.596308Z"
    }
   },
   "outputs": [
    {
     "data": {
      "text/html": [
       "<div>\n",
       "<style scoped>\n",
       "    .dataframe tbody tr th:only-of-type {\n",
       "        vertical-align: middle;\n",
       "    }\n",
       "\n",
       "    .dataframe tbody tr th {\n",
       "        vertical-align: top;\n",
       "    }\n",
       "\n",
       "    .dataframe thead th {\n",
       "        text-align: right;\n",
       "    }\n",
       "</style>\n",
       "<table border=\"1\" class=\"dataframe\">\n",
       "  <thead>\n",
       "    <tr style=\"text-align: right;\">\n",
       "      <th></th>\n",
       "      <th>tpep_pickup_datetime</th>\n",
       "      <th>tpep_dropoff_datetime</th>\n",
       "      <th>passenger_count</th>\n",
       "      <th>trip_distance</th>\n",
       "      <th>fare_amount</th>\n",
       "      <th>extra</th>\n",
       "      <th>mta_tax</th>\n",
       "      <th>tip_amount</th>\n",
       "      <th>tolls_amount</th>\n",
       "      <th>improvement_surcharge</th>\n",
       "      <th>...</th>\n",
       "      <th>VendorID</th>\n",
       "      <th>RatecodeID</th>\n",
       "      <th>store_and_fwd_flag</th>\n",
       "      <th>payment_type</th>\n",
       "      <th>PUBorough</th>\n",
       "      <th>PUZone</th>\n",
       "      <th>PUservice_zone</th>\n",
       "      <th>DOBorough</th>\n",
       "      <th>DOZone</th>\n",
       "      <th>DOservice_zone</th>\n",
       "    </tr>\n",
       "  </thead>\n",
       "  <tbody>\n",
       "    <tr>\n",
       "      <th>0</th>\n",
       "      <td>2018-11-06 12:42:24</td>\n",
       "      <td>2018-11-06 12:54:49</td>\n",
       "      <td>1</td>\n",
       "      <td>0.87</td>\n",
       "      <td>9.0</td>\n",
       "      <td>0.0</td>\n",
       "      <td>0.5</td>\n",
       "      <td>0.00</td>\n",
       "      <td>0.00</td>\n",
       "      <td>0.3</td>\n",
       "      <td>...</td>\n",
       "      <td>VeriFone Inc</td>\n",
       "      <td>Standard rate</td>\n",
       "      <td>not a store and forward trip</td>\n",
       "      <td>Cash</td>\n",
       "      <td>Manhattan</td>\n",
       "      <td>Sutton Place/Turtle Bay North</td>\n",
       "      <td>Yellow Zone</td>\n",
       "      <td>Manhattan</td>\n",
       "      <td>Upper East Side South</td>\n",
       "      <td>Yellow Zone</td>\n",
       "    </tr>\n",
       "    <tr>\n",
       "      <th>1</th>\n",
       "      <td>2018-02-16 19:19:59</td>\n",
       "      <td>2018-02-16 19:26:41</td>\n",
       "      <td>0</td>\n",
       "      <td>1.50</td>\n",
       "      <td>7.0</td>\n",
       "      <td>1.0</td>\n",
       "      <td>0.5</td>\n",
       "      <td>1.32</td>\n",
       "      <td>0.00</td>\n",
       "      <td>0.3</td>\n",
       "      <td>...</td>\n",
       "      <td>Creative Mobile Technologies</td>\n",
       "      <td>Standard rate</td>\n",
       "      <td>not a store and forward trip</td>\n",
       "      <td>Credit card</td>\n",
       "      <td>Manhattan</td>\n",
       "      <td>Clinton East</td>\n",
       "      <td>Yellow Zone</td>\n",
       "      <td>Manhattan</td>\n",
       "      <td>Meatpacking/West Village West</td>\n",
       "      <td>Yellow Zone</td>\n",
       "    </tr>\n",
       "    <tr>\n",
       "      <th>2</th>\n",
       "      <td>2018-02-12 16:50:01</td>\n",
       "      <td>2018-02-12 17:43:55</td>\n",
       "      <td>3</td>\n",
       "      <td>22.60</td>\n",
       "      <td>52.0</td>\n",
       "      <td>0.0</td>\n",
       "      <td>0.5</td>\n",
       "      <td>0.00</td>\n",
       "      <td>5.76</td>\n",
       "      <td>0.3</td>\n",
       "      <td>...</td>\n",
       "      <td>Creative Mobile Technologies</td>\n",
       "      <td>JFK</td>\n",
       "      <td>not a store and forward trip</td>\n",
       "      <td>Cash</td>\n",
       "      <td>Queens</td>\n",
       "      <td>JFK Airport</td>\n",
       "      <td>Airports</td>\n",
       "      <td>Manhattan</td>\n",
       "      <td>Clinton East</td>\n",
       "      <td>Yellow Zone</td>\n",
       "    </tr>\n",
       "    <tr>\n",
       "      <th>3</th>\n",
       "      <td>2018-03-28 19:58:44</td>\n",
       "      <td>2018-03-28 20:07:14</td>\n",
       "      <td>1</td>\n",
       "      <td>1.61</td>\n",
       "      <td>8.0</td>\n",
       "      <td>1.0</td>\n",
       "      <td>0.5</td>\n",
       "      <td>1.00</td>\n",
       "      <td>0.00</td>\n",
       "      <td>0.3</td>\n",
       "      <td>...</td>\n",
       "      <td>VeriFone Inc</td>\n",
       "      <td>Standard rate</td>\n",
       "      <td>not a store and forward trip</td>\n",
       "      <td>Credit card</td>\n",
       "      <td>Manhattan</td>\n",
       "      <td>East Chelsea</td>\n",
       "      <td>Yellow Zone</td>\n",
       "      <td>Manhattan</td>\n",
       "      <td>SoHo</td>\n",
       "      <td>Yellow Zone</td>\n",
       "    </tr>\n",
       "    <tr>\n",
       "      <th>4</th>\n",
       "      <td>2018-11-02 06:34:49</td>\n",
       "      <td>2018-11-02 06:50:07</td>\n",
       "      <td>1</td>\n",
       "      <td>2.70</td>\n",
       "      <td>12.5</td>\n",
       "      <td>0.0</td>\n",
       "      <td>0.5</td>\n",
       "      <td>2.65</td>\n",
       "      <td>0.00</td>\n",
       "      <td>0.3</td>\n",
       "      <td>...</td>\n",
       "      <td>Creative Mobile Technologies</td>\n",
       "      <td>Standard rate</td>\n",
       "      <td>not a store and forward trip</td>\n",
       "      <td>Credit card</td>\n",
       "      <td>Manhattan</td>\n",
       "      <td>East Village</td>\n",
       "      <td>Yellow Zone</td>\n",
       "      <td>Manhattan</td>\n",
       "      <td>Times Sq/Theatre District</td>\n",
       "      <td>Yellow Zone</td>\n",
       "    </tr>\n",
       "    <tr>\n",
       "      <th>...</th>\n",
       "      <td>...</td>\n",
       "      <td>...</td>\n",
       "      <td>...</td>\n",
       "      <td>...</td>\n",
       "      <td>...</td>\n",
       "      <td>...</td>\n",
       "      <td>...</td>\n",
       "      <td>...</td>\n",
       "      <td>...</td>\n",
       "      <td>...</td>\n",
       "      <td>...</td>\n",
       "      <td>...</td>\n",
       "      <td>...</td>\n",
       "      <td>...</td>\n",
       "      <td>...</td>\n",
       "      <td>...</td>\n",
       "      <td>...</td>\n",
       "      <td>...</td>\n",
       "      <td>...</td>\n",
       "      <td>...</td>\n",
       "      <td>...</td>\n",
       "    </tr>\n",
       "    <tr>\n",
       "      <th>1683460</th>\n",
       "      <td>2018-12-22 15:38:53</td>\n",
       "      <td>2018-12-22 15:57:07</td>\n",
       "      <td>1</td>\n",
       "      <td>1.58</td>\n",
       "      <td>12.0</td>\n",
       "      <td>0.0</td>\n",
       "      <td>0.5</td>\n",
       "      <td>0.00</td>\n",
       "      <td>0.00</td>\n",
       "      <td>0.3</td>\n",
       "      <td>...</td>\n",
       "      <td>VeriFone Inc</td>\n",
       "      <td>Standard rate</td>\n",
       "      <td>not a store and forward trip</td>\n",
       "      <td>Cash</td>\n",
       "      <td>Manhattan</td>\n",
       "      <td>Times Sq/Theatre District</td>\n",
       "      <td>Yellow Zone</td>\n",
       "      <td>Manhattan</td>\n",
       "      <td>Penn Station/Madison Sq West</td>\n",
       "      <td>Yellow Zone</td>\n",
       "    </tr>\n",
       "    <tr>\n",
       "      <th>1683461</th>\n",
       "      <td>2018-03-18 00:55:53</td>\n",
       "      <td>2018-03-18 01:07:14</td>\n",
       "      <td>0</td>\n",
       "      <td>2.20</td>\n",
       "      <td>10.0</td>\n",
       "      <td>0.5</td>\n",
       "      <td>0.5</td>\n",
       "      <td>1.00</td>\n",
       "      <td>0.00</td>\n",
       "      <td>0.3</td>\n",
       "      <td>...</td>\n",
       "      <td>Creative Mobile Technologies</td>\n",
       "      <td>Standard rate</td>\n",
       "      <td>not a store and forward trip</td>\n",
       "      <td>Credit card</td>\n",
       "      <td>Manhattan</td>\n",
       "      <td>Chinatown</td>\n",
       "      <td>Yellow Zone</td>\n",
       "      <td>Manhattan</td>\n",
       "      <td>Flatiron</td>\n",
       "      <td>Yellow Zone</td>\n",
       "    </tr>\n",
       "    <tr>\n",
       "      <th>1683462</th>\n",
       "      <td>2018-11-15 02:42:36</td>\n",
       "      <td>2018-11-15 03:03:16</td>\n",
       "      <td>1</td>\n",
       "      <td>9.30</td>\n",
       "      <td>28.5</td>\n",
       "      <td>0.5</td>\n",
       "      <td>0.5</td>\n",
       "      <td>8.85</td>\n",
       "      <td>5.76</td>\n",
       "      <td>0.3</td>\n",
       "      <td>...</td>\n",
       "      <td>Creative Mobile Technologies</td>\n",
       "      <td>Standard rate</td>\n",
       "      <td>not a store and forward trip</td>\n",
       "      <td>Credit card</td>\n",
       "      <td>Manhattan</td>\n",
       "      <td>West Chelsea/Hudson Yards</td>\n",
       "      <td>Yellow Zone</td>\n",
       "      <td>Queens</td>\n",
       "      <td>Forest Hills</td>\n",
       "      <td>Boro Zone</td>\n",
       "    </tr>\n",
       "    <tr>\n",
       "      <th>1683463</th>\n",
       "      <td>2018-12-12 17:57:51</td>\n",
       "      <td>2018-12-12 18:19:49</td>\n",
       "      <td>4</td>\n",
       "      <td>5.17</td>\n",
       "      <td>19.5</td>\n",
       "      <td>1.0</td>\n",
       "      <td>0.5</td>\n",
       "      <td>4.26</td>\n",
       "      <td>0.00</td>\n",
       "      <td>0.3</td>\n",
       "      <td>...</td>\n",
       "      <td>VeriFone Inc</td>\n",
       "      <td>Standard rate</td>\n",
       "      <td>not a store and forward trip</td>\n",
       "      <td>Credit card</td>\n",
       "      <td>Manhattan</td>\n",
       "      <td>Battery Park City</td>\n",
       "      <td>Yellow Zone</td>\n",
       "      <td>Manhattan</td>\n",
       "      <td>Lincoln Square West</td>\n",
       "      <td>Yellow Zone</td>\n",
       "    </tr>\n",
       "    <tr>\n",
       "      <th>1683464</th>\n",
       "      <td>2018-09-22 00:17:32</td>\n",
       "      <td>2018-09-22 00:42:16</td>\n",
       "      <td>1</td>\n",
       "      <td>4.77</td>\n",
       "      <td>19.5</td>\n",
       "      <td>0.5</td>\n",
       "      <td>0.5</td>\n",
       "      <td>4.16</td>\n",
       "      <td>0.00</td>\n",
       "      <td>0.3</td>\n",
       "      <td>...</td>\n",
       "      <td>VeriFone Inc</td>\n",
       "      <td>Standard rate</td>\n",
       "      <td>not a store and forward trip</td>\n",
       "      <td>Credit card</td>\n",
       "      <td>Manhattan</td>\n",
       "      <td>East Chelsea</td>\n",
       "      <td>Yellow Zone</td>\n",
       "      <td>Manhattan</td>\n",
       "      <td>Lenox Hill East</td>\n",
       "      <td>Yellow Zone</td>\n",
       "    </tr>\n",
       "  </tbody>\n",
       "</table>\n",
       "<p>1682369 rows × 21 columns</p>\n",
       "</div>"
      ],
      "text/plain": [
       "        tpep_pickup_datetime tpep_dropoff_datetime  passenger_count  \\\n",
       "0        2018-11-06 12:42:24   2018-11-06 12:54:49                1   \n",
       "1        2018-02-16 19:19:59   2018-02-16 19:26:41                0   \n",
       "2        2018-02-12 16:50:01   2018-02-12 17:43:55                3   \n",
       "3        2018-03-28 19:58:44   2018-03-28 20:07:14                1   \n",
       "4        2018-11-02 06:34:49   2018-11-02 06:50:07                1   \n",
       "...                      ...                   ...              ...   \n",
       "1683460  2018-12-22 15:38:53   2018-12-22 15:57:07                1   \n",
       "1683461  2018-03-18 00:55:53   2018-03-18 01:07:14                0   \n",
       "1683462  2018-11-15 02:42:36   2018-11-15 03:03:16                1   \n",
       "1683463  2018-12-12 17:57:51   2018-12-12 18:19:49                4   \n",
       "1683464  2018-09-22 00:17:32   2018-09-22 00:42:16                1   \n",
       "\n",
       "         trip_distance  fare_amount  extra  mta_tax  tip_amount  tolls_amount  \\\n",
       "0                 0.87          9.0    0.0      0.5        0.00          0.00   \n",
       "1                 1.50          7.0    1.0      0.5        1.32          0.00   \n",
       "2                22.60         52.0    0.0      0.5        0.00          5.76   \n",
       "3                 1.61          8.0    1.0      0.5        1.00          0.00   \n",
       "4                 2.70         12.5    0.0      0.5        2.65          0.00   \n",
       "...                ...          ...    ...      ...         ...           ...   \n",
       "1683460           1.58         12.0    0.0      0.5        0.00          0.00   \n",
       "1683461           2.20         10.0    0.5      0.5        1.00          0.00   \n",
       "1683462           9.30         28.5    0.5      0.5        8.85          5.76   \n",
       "1683463           5.17         19.5    1.0      0.5        4.26          0.00   \n",
       "1683464           4.77         19.5    0.5      0.5        4.16          0.00   \n",
       "\n",
       "         improvement_surcharge  ...                      VendorID  \\\n",
       "0                          0.3  ...                  VeriFone Inc   \n",
       "1                          0.3  ...  Creative Mobile Technologies   \n",
       "2                          0.3  ...  Creative Mobile Technologies   \n",
       "3                          0.3  ...                  VeriFone Inc   \n",
       "4                          0.3  ...  Creative Mobile Technologies   \n",
       "...                        ...  ...                           ...   \n",
       "1683460                    0.3  ...                  VeriFone Inc   \n",
       "1683461                    0.3  ...  Creative Mobile Technologies   \n",
       "1683462                    0.3  ...  Creative Mobile Technologies   \n",
       "1683463                    0.3  ...                  VeriFone Inc   \n",
       "1683464                    0.3  ...                  VeriFone Inc   \n",
       "\n",
       "            RatecodeID            store_and_fwd_flag payment_type  PUBorough  \\\n",
       "0        Standard rate  not a store and forward trip         Cash  Manhattan   \n",
       "1        Standard rate  not a store and forward trip  Credit card  Manhattan   \n",
       "2                  JFK  not a store and forward trip         Cash     Queens   \n",
       "3        Standard rate  not a store and forward trip  Credit card  Manhattan   \n",
       "4        Standard rate  not a store and forward trip  Credit card  Manhattan   \n",
       "...                ...                           ...          ...        ...   \n",
       "1683460  Standard rate  not a store and forward trip         Cash  Manhattan   \n",
       "1683461  Standard rate  not a store and forward trip  Credit card  Manhattan   \n",
       "1683462  Standard rate  not a store and forward trip  Credit card  Manhattan   \n",
       "1683463  Standard rate  not a store and forward trip  Credit card  Manhattan   \n",
       "1683464  Standard rate  not a store and forward trip  Credit card  Manhattan   \n",
       "\n",
       "                                PUZone PUservice_zone  DOBorough  \\\n",
       "0        Sutton Place/Turtle Bay North    Yellow Zone  Manhattan   \n",
       "1                         Clinton East    Yellow Zone  Manhattan   \n",
       "2                          JFK Airport       Airports  Manhattan   \n",
       "3                         East Chelsea    Yellow Zone  Manhattan   \n",
       "4                         East Village    Yellow Zone  Manhattan   \n",
       "...                                ...            ...        ...   \n",
       "1683460      Times Sq/Theatre District    Yellow Zone  Manhattan   \n",
       "1683461                      Chinatown    Yellow Zone  Manhattan   \n",
       "1683462      West Chelsea/Hudson Yards    Yellow Zone     Queens   \n",
       "1683463              Battery Park City    Yellow Zone  Manhattan   \n",
       "1683464                   East Chelsea    Yellow Zone  Manhattan   \n",
       "\n",
       "                                DOZone DOservice_zone  \n",
       "0                Upper East Side South    Yellow Zone  \n",
       "1        Meatpacking/West Village West    Yellow Zone  \n",
       "2                         Clinton East    Yellow Zone  \n",
       "3                                 SoHo    Yellow Zone  \n",
       "4            Times Sq/Theatre District    Yellow Zone  \n",
       "...                                ...            ...  \n",
       "1683460   Penn Station/Madison Sq West    Yellow Zone  \n",
       "1683461                       Flatiron    Yellow Zone  \n",
       "1683462                   Forest Hills      Boro Zone  \n",
       "1683463            Lincoln Square West    Yellow Zone  \n",
       "1683464                Lenox Hill East    Yellow Zone  \n",
       "\n",
       "[1682369 rows x 21 columns]"
      ]
     },
     "execution_count": 37,
     "metadata": {},
     "output_type": "execute_result"
    }
   ],
   "source": [
    "df_muestra"
   ]
  },
  {
   "cell_type": "markdown",
   "metadata": {},
   "source": [
    "# 3-. Conexion a sql "
   ]
  },
  {
   "cell_type": "code",
   "execution_count": 38,
   "metadata": {
    "ExecuteTime": {
     "end_time": "2021-01-04T01:01:20.440394Z",
     "start_time": "2021-01-04T01:01:20.426862Z"
    }
   },
   "outputs": [],
   "source": [
    "credenciales = js.load(open('cred.json','rb'))"
   ]
  },
  {
   "cell_type": "code",
   "execution_count": 39,
   "metadata": {
    "ExecuteTime": {
     "end_time": "2021-01-04T01:01:46.381753Z",
     "start_time": "2021-01-04T01:01:46.374595Z"
    }
   },
   "outputs": [],
   "source": [
    "usuario = credenciales['user']\n",
    "pwd = credenciales['pwd']\n",
    "host = credenciales['host']\n",
    "port = credenciales['port']\n",
    "db = credenciales['db']"
   ]
  },
  {
   "cell_type": "code",
   "execution_count": 40,
   "metadata": {
    "ExecuteTime": {
     "end_time": "2021-01-04T01:01:46.519380Z",
     "start_time": "2021-01-04T01:01:46.386604Z"
    }
   },
   "outputs": [],
   "source": [
    "engine = create_engine(f'mysql+pymysql://{usuario}:{pwd}@{host}:{port}/{db}').connect()"
   ]
  },
  {
   "cell_type": "markdown",
   "metadata": {},
   "source": [
    "# 4-.E-R \n",
    "\n",
    "Veamos como es la relacion de Vendor con Ratecode"
   ]
  },
  {
   "cell_type": "code",
   "execution_count": 41,
   "metadata": {
    "ExecuteTime": {
     "end_time": "2021-01-04T01:02:17.565104Z",
     "start_time": "2021-01-04T01:02:17.466436Z"
    }
   },
   "outputs": [],
   "source": [
    "aux=df_muestra[['VendorID','RatecodeID']].copy().assign(n=1)"
   ]
  },
  {
   "cell_type": "code",
   "execution_count": 42,
   "metadata": {
    "ExecuteTime": {
     "end_time": "2021-01-04T01:02:18.023389Z",
     "start_time": "2021-01-04T01:02:17.568581Z"
    }
   },
   "outputs": [
    {
     "data": {
      "text/html": [
       "<div>\n",
       "<style scoped>\n",
       "    .dataframe tbody tr th:only-of-type {\n",
       "        vertical-align: middle;\n",
       "    }\n",
       "\n",
       "    .dataframe tbody tr th {\n",
       "        vertical-align: top;\n",
       "    }\n",
       "\n",
       "    .dataframe thead th {\n",
       "        text-align: right;\n",
       "    }\n",
       "</style>\n",
       "<table border=\"1\" class=\"dataframe\">\n",
       "  <thead>\n",
       "    <tr style=\"text-align: right;\">\n",
       "      <th></th>\n",
       "      <th>RatecodeID</th>\n",
       "      <th>n</th>\n",
       "    </tr>\n",
       "    <tr>\n",
       "      <th>VendorID</th>\n",
       "      <th></th>\n",
       "      <th></th>\n",
       "    </tr>\n",
       "  </thead>\n",
       "  <tbody>\n",
       "    <tr>\n",
       "      <th>Creative Mobile Technologies</th>\n",
       "      <td>6</td>\n",
       "      <td>7</td>\n",
       "    </tr>\n",
       "    <tr>\n",
       "      <th>VeriFone Inc</th>\n",
       "      <td>6</td>\n",
       "      <td>7</td>\n",
       "    </tr>\n",
       "  </tbody>\n",
       "</table>\n",
       "</div>"
      ],
      "text/plain": [
       "                              RatecodeID  n\n",
       "VendorID                                   \n",
       "Creative Mobile Technologies           6  7\n",
       "VeriFone Inc                           6  7"
      ]
     },
     "execution_count": 42,
     "metadata": {},
     "output_type": "execute_result"
    }
   ],
   "source": [
    "aux.drop_duplicates().groupby('VendorID').count()"
   ]
  },
  {
   "cell_type": "markdown",
   "metadata": {},
   "source": [
    "## Entidad Vendor "
   ]
  },
  {
   "cell_type": "code",
   "execution_count": 43,
   "metadata": {
    "ExecuteTime": {
     "end_time": "2021-01-04T01:03:41.026916Z",
     "start_time": "2021-01-04T01:03:40.593338Z"
    }
   },
   "outputs": [],
   "source": [
    "ent_ven = df_muestra[[\n",
    "    'VendorID'\n",
    "]].copy().drop_duplicates().dropna().reset_index(drop=True).rename(\n",
    "    columns={'VendorID': 'Vendor_code'})\n",
    "ent_ven.insert(0, 'ID', ent_ven.index + 1)\n",
    "ent_ven.to_sql(con=engine,\n",
    "                name='Vendor',\n",
    "                if_exists='replace',\n",
    "                index=False)"
   ]
  },
  {
   "cell_type": "markdown",
   "metadata": {
    "ExecuteTime": {
     "end_time": "2020-12-27T19:13:19.036481Z",
     "start_time": "2020-12-27T19:13:19.011102Z"
    }
   },
   "source": [
    "## Entidad Retecode"
   ]
  },
  {
   "cell_type": "code",
   "execution_count": 44,
   "metadata": {
    "ExecuteTime": {
     "end_time": "2021-01-04T01:04:07.066857Z",
     "start_time": "2021-01-04T01:04:06.824106Z"
    },
    "code_folding": []
   },
   "outputs": [],
   "source": [
    "ent_rate=df_muestra[['RatecodeID']].copy().drop_duplicates().dropna().reset_index(drop=True).rename(\n",
    "    columns={'RatecodeID': 'Retacode_code'})\n",
    "ent_rate.insert(0,'ID', ent_rate.index+1)\n",
    "ent_rate.to_sql(con=engine,\n",
    "                name='Ratecode',\n",
    "                if_exists='replace',\n",
    "                index=False)"
   ]
  },
  {
   "cell_type": "markdown",
   "metadata": {
    "ExecuteTime": {
     "end_time": "2020-12-27T19:15:23.542991Z",
     "start_time": "2020-12-27T19:15:23.520523Z"
    }
   },
   "source": [
    "## Entidad  pago"
   ]
  },
  {
   "cell_type": "code",
   "execution_count": 45,
   "metadata": {
    "ExecuteTime": {
     "end_time": "2021-01-04T01:04:33.132465Z",
     "start_time": "2021-01-04T01:04:32.870926Z"
    }
   },
   "outputs": [],
   "source": [
    "ent_p = df_muestra[['payment_type']].drop_duplicates().reset_index(drop=True).rename(\n",
    "    columns={'payment_type': 'payment_type_code'})   \n",
    "ent_p.insert(0,'ID', ent_p.index+1)\n",
    "ent_p.to_sql(con=engine,\n",
    "                name='Pago',\n",
    "                if_exists='replace',\n",
    "                index=False)"
   ]
  },
  {
   "cell_type": "markdown",
   "metadata": {
    "ExecuteTime": {
     "end_time": "2020-12-27T19:43:47.914843Z",
     "start_time": "2020-12-27T19:43:47.897132Z"
    }
   },
   "source": [
    "## Entidad Zona \n",
    "\n",
    "Como ya tenemos el catalogo de la zona en tabla, solamente lo pondremos "
   ]
  },
  {
   "cell_type": "code",
   "execution_count": 46,
   "metadata": {
    "ExecuteTime": {
     "end_time": "2021-01-04T01:05:02.015818Z",
     "start_time": "2021-01-04T01:05:01.884122Z"
    }
   },
   "outputs": [],
   "source": [
    "ent_z = pd.read_csv('taxi+_zone_lookup.csv').rename(columns={'LocationID': 'ID'})\n",
    "ent_z.to_sql(con=engine,\n",
    "                name='Zona',\n",
    "                if_exists='replace',\n",
    "                index=False)"
   ]
  },
  {
   "cell_type": "markdown",
   "metadata": {},
   "source": [
    "## Entidad viaje \n",
    "\n",
    "Eliminaremos las columnas que no nos aporte info "
   ]
  },
  {
   "cell_type": "code",
   "execution_count": 47,
   "metadata": {
    "ExecuteTime": {
     "end_time": "2021-01-04T01:05:29.220866Z",
     "start_time": "2021-01-04T01:05:28.918614Z"
    }
   },
   "outputs": [],
   "source": [
    "df_muestra.drop(['store_and_fwd_flag','passenger_count'],axis=1,inplace=True)"
   ]
  },
  {
   "cell_type": "code",
   "execution_count": 48,
   "metadata": {
    "ExecuteTime": {
     "end_time": "2021-01-04T01:05:34.076342Z",
     "start_time": "2021-01-04T01:05:34.020593Z"
    },
    "scrolled": true
   },
   "outputs": [
    {
     "data": {
      "text/html": [
       "<div>\n",
       "<style scoped>\n",
       "    .dataframe tbody tr th:only-of-type {\n",
       "        vertical-align: middle;\n",
       "    }\n",
       "\n",
       "    .dataframe tbody tr th {\n",
       "        vertical-align: top;\n",
       "    }\n",
       "\n",
       "    .dataframe thead th {\n",
       "        text-align: right;\n",
       "    }\n",
       "</style>\n",
       "<table border=\"1\" class=\"dataframe\">\n",
       "  <thead>\n",
       "    <tr style=\"text-align: right;\">\n",
       "      <th></th>\n",
       "      <th>tpep_pickup_datetime</th>\n",
       "      <th>tpep_dropoff_datetime</th>\n",
       "      <th>trip_distance</th>\n",
       "      <th>fare_amount</th>\n",
       "      <th>extra</th>\n",
       "      <th>mta_tax</th>\n",
       "      <th>tip_amount</th>\n",
       "      <th>tolls_amount</th>\n",
       "      <th>improvement_surcharge</th>\n",
       "      <th>total_amount</th>\n",
       "      <th>VendorID</th>\n",
       "      <th>RatecodeID</th>\n",
       "      <th>payment_type</th>\n",
       "      <th>PUBorough</th>\n",
       "      <th>PUZone</th>\n",
       "      <th>PUservice_zone</th>\n",
       "      <th>DOBorough</th>\n",
       "      <th>DOZone</th>\n",
       "      <th>DOservice_zone</th>\n",
       "    </tr>\n",
       "  </thead>\n",
       "  <tbody>\n",
       "    <tr>\n",
       "      <th>0</th>\n",
       "      <td>2018-11-06 12:42:24</td>\n",
       "      <td>2018-11-06 12:54:49</td>\n",
       "      <td>0.87</td>\n",
       "      <td>9.0</td>\n",
       "      <td>0.0</td>\n",
       "      <td>0.5</td>\n",
       "      <td>0.00</td>\n",
       "      <td>0.00</td>\n",
       "      <td>0.3</td>\n",
       "      <td>9.80</td>\n",
       "      <td>VeriFone Inc</td>\n",
       "      <td>Standard rate</td>\n",
       "      <td>Cash</td>\n",
       "      <td>Manhattan</td>\n",
       "      <td>Sutton Place/Turtle Bay North</td>\n",
       "      <td>Yellow Zone</td>\n",
       "      <td>Manhattan</td>\n",
       "      <td>Upper East Side South</td>\n",
       "      <td>Yellow Zone</td>\n",
       "    </tr>\n",
       "    <tr>\n",
       "      <th>1</th>\n",
       "      <td>2018-02-16 19:19:59</td>\n",
       "      <td>2018-02-16 19:26:41</td>\n",
       "      <td>1.50</td>\n",
       "      <td>7.0</td>\n",
       "      <td>1.0</td>\n",
       "      <td>0.5</td>\n",
       "      <td>1.32</td>\n",
       "      <td>0.00</td>\n",
       "      <td>0.3</td>\n",
       "      <td>10.12</td>\n",
       "      <td>Creative Mobile Technologies</td>\n",
       "      <td>Standard rate</td>\n",
       "      <td>Credit card</td>\n",
       "      <td>Manhattan</td>\n",
       "      <td>Clinton East</td>\n",
       "      <td>Yellow Zone</td>\n",
       "      <td>Manhattan</td>\n",
       "      <td>Meatpacking/West Village West</td>\n",
       "      <td>Yellow Zone</td>\n",
       "    </tr>\n",
       "    <tr>\n",
       "      <th>2</th>\n",
       "      <td>2018-02-12 16:50:01</td>\n",
       "      <td>2018-02-12 17:43:55</td>\n",
       "      <td>22.60</td>\n",
       "      <td>52.0</td>\n",
       "      <td>0.0</td>\n",
       "      <td>0.5</td>\n",
       "      <td>0.00</td>\n",
       "      <td>5.76</td>\n",
       "      <td>0.3</td>\n",
       "      <td>58.56</td>\n",
       "      <td>Creative Mobile Technologies</td>\n",
       "      <td>JFK</td>\n",
       "      <td>Cash</td>\n",
       "      <td>Queens</td>\n",
       "      <td>JFK Airport</td>\n",
       "      <td>Airports</td>\n",
       "      <td>Manhattan</td>\n",
       "      <td>Clinton East</td>\n",
       "      <td>Yellow Zone</td>\n",
       "    </tr>\n",
       "    <tr>\n",
       "      <th>3</th>\n",
       "      <td>2018-03-28 19:58:44</td>\n",
       "      <td>2018-03-28 20:07:14</td>\n",
       "      <td>1.61</td>\n",
       "      <td>8.0</td>\n",
       "      <td>1.0</td>\n",
       "      <td>0.5</td>\n",
       "      <td>1.00</td>\n",
       "      <td>0.00</td>\n",
       "      <td>0.3</td>\n",
       "      <td>10.80</td>\n",
       "      <td>VeriFone Inc</td>\n",
       "      <td>Standard rate</td>\n",
       "      <td>Credit card</td>\n",
       "      <td>Manhattan</td>\n",
       "      <td>East Chelsea</td>\n",
       "      <td>Yellow Zone</td>\n",
       "      <td>Manhattan</td>\n",
       "      <td>SoHo</td>\n",
       "      <td>Yellow Zone</td>\n",
       "    </tr>\n",
       "    <tr>\n",
       "      <th>4</th>\n",
       "      <td>2018-11-02 06:34:49</td>\n",
       "      <td>2018-11-02 06:50:07</td>\n",
       "      <td>2.70</td>\n",
       "      <td>12.5</td>\n",
       "      <td>0.0</td>\n",
       "      <td>0.5</td>\n",
       "      <td>2.65</td>\n",
       "      <td>0.00</td>\n",
       "      <td>0.3</td>\n",
       "      <td>15.95</td>\n",
       "      <td>Creative Mobile Technologies</td>\n",
       "      <td>Standard rate</td>\n",
       "      <td>Credit card</td>\n",
       "      <td>Manhattan</td>\n",
       "      <td>East Village</td>\n",
       "      <td>Yellow Zone</td>\n",
       "      <td>Manhattan</td>\n",
       "      <td>Times Sq/Theatre District</td>\n",
       "      <td>Yellow Zone</td>\n",
       "    </tr>\n",
       "    <tr>\n",
       "      <th>...</th>\n",
       "      <td>...</td>\n",
       "      <td>...</td>\n",
       "      <td>...</td>\n",
       "      <td>...</td>\n",
       "      <td>...</td>\n",
       "      <td>...</td>\n",
       "      <td>...</td>\n",
       "      <td>...</td>\n",
       "      <td>...</td>\n",
       "      <td>...</td>\n",
       "      <td>...</td>\n",
       "      <td>...</td>\n",
       "      <td>...</td>\n",
       "      <td>...</td>\n",
       "      <td>...</td>\n",
       "      <td>...</td>\n",
       "      <td>...</td>\n",
       "      <td>...</td>\n",
       "      <td>...</td>\n",
       "    </tr>\n",
       "    <tr>\n",
       "      <th>1683460</th>\n",
       "      <td>2018-12-22 15:38:53</td>\n",
       "      <td>2018-12-22 15:57:07</td>\n",
       "      <td>1.58</td>\n",
       "      <td>12.0</td>\n",
       "      <td>0.0</td>\n",
       "      <td>0.5</td>\n",
       "      <td>0.00</td>\n",
       "      <td>0.00</td>\n",
       "      <td>0.3</td>\n",
       "      <td>12.80</td>\n",
       "      <td>VeriFone Inc</td>\n",
       "      <td>Standard rate</td>\n",
       "      <td>Cash</td>\n",
       "      <td>Manhattan</td>\n",
       "      <td>Times Sq/Theatre District</td>\n",
       "      <td>Yellow Zone</td>\n",
       "      <td>Manhattan</td>\n",
       "      <td>Penn Station/Madison Sq West</td>\n",
       "      <td>Yellow Zone</td>\n",
       "    </tr>\n",
       "    <tr>\n",
       "      <th>1683461</th>\n",
       "      <td>2018-03-18 00:55:53</td>\n",
       "      <td>2018-03-18 01:07:14</td>\n",
       "      <td>2.20</td>\n",
       "      <td>10.0</td>\n",
       "      <td>0.5</td>\n",
       "      <td>0.5</td>\n",
       "      <td>1.00</td>\n",
       "      <td>0.00</td>\n",
       "      <td>0.3</td>\n",
       "      <td>12.30</td>\n",
       "      <td>Creative Mobile Technologies</td>\n",
       "      <td>Standard rate</td>\n",
       "      <td>Credit card</td>\n",
       "      <td>Manhattan</td>\n",
       "      <td>Chinatown</td>\n",
       "      <td>Yellow Zone</td>\n",
       "      <td>Manhattan</td>\n",
       "      <td>Flatiron</td>\n",
       "      <td>Yellow Zone</td>\n",
       "    </tr>\n",
       "    <tr>\n",
       "      <th>1683462</th>\n",
       "      <td>2018-11-15 02:42:36</td>\n",
       "      <td>2018-11-15 03:03:16</td>\n",
       "      <td>9.30</td>\n",
       "      <td>28.5</td>\n",
       "      <td>0.5</td>\n",
       "      <td>0.5</td>\n",
       "      <td>8.85</td>\n",
       "      <td>5.76</td>\n",
       "      <td>0.3</td>\n",
       "      <td>44.41</td>\n",
       "      <td>Creative Mobile Technologies</td>\n",
       "      <td>Standard rate</td>\n",
       "      <td>Credit card</td>\n",
       "      <td>Manhattan</td>\n",
       "      <td>West Chelsea/Hudson Yards</td>\n",
       "      <td>Yellow Zone</td>\n",
       "      <td>Queens</td>\n",
       "      <td>Forest Hills</td>\n",
       "      <td>Boro Zone</td>\n",
       "    </tr>\n",
       "    <tr>\n",
       "      <th>1683463</th>\n",
       "      <td>2018-12-12 17:57:51</td>\n",
       "      <td>2018-12-12 18:19:49</td>\n",
       "      <td>5.17</td>\n",
       "      <td>19.5</td>\n",
       "      <td>1.0</td>\n",
       "      <td>0.5</td>\n",
       "      <td>4.26</td>\n",
       "      <td>0.00</td>\n",
       "      <td>0.3</td>\n",
       "      <td>25.56</td>\n",
       "      <td>VeriFone Inc</td>\n",
       "      <td>Standard rate</td>\n",
       "      <td>Credit card</td>\n",
       "      <td>Manhattan</td>\n",
       "      <td>Battery Park City</td>\n",
       "      <td>Yellow Zone</td>\n",
       "      <td>Manhattan</td>\n",
       "      <td>Lincoln Square West</td>\n",
       "      <td>Yellow Zone</td>\n",
       "    </tr>\n",
       "    <tr>\n",
       "      <th>1683464</th>\n",
       "      <td>2018-09-22 00:17:32</td>\n",
       "      <td>2018-09-22 00:42:16</td>\n",
       "      <td>4.77</td>\n",
       "      <td>19.5</td>\n",
       "      <td>0.5</td>\n",
       "      <td>0.5</td>\n",
       "      <td>4.16</td>\n",
       "      <td>0.00</td>\n",
       "      <td>0.3</td>\n",
       "      <td>24.96</td>\n",
       "      <td>VeriFone Inc</td>\n",
       "      <td>Standard rate</td>\n",
       "      <td>Credit card</td>\n",
       "      <td>Manhattan</td>\n",
       "      <td>East Chelsea</td>\n",
       "      <td>Yellow Zone</td>\n",
       "      <td>Manhattan</td>\n",
       "      <td>Lenox Hill East</td>\n",
       "      <td>Yellow Zone</td>\n",
       "    </tr>\n",
       "  </tbody>\n",
       "</table>\n",
       "<p>1682369 rows × 19 columns</p>\n",
       "</div>"
      ],
      "text/plain": [
       "        tpep_pickup_datetime tpep_dropoff_datetime  trip_distance  \\\n",
       "0        2018-11-06 12:42:24   2018-11-06 12:54:49           0.87   \n",
       "1        2018-02-16 19:19:59   2018-02-16 19:26:41           1.50   \n",
       "2        2018-02-12 16:50:01   2018-02-12 17:43:55          22.60   \n",
       "3        2018-03-28 19:58:44   2018-03-28 20:07:14           1.61   \n",
       "4        2018-11-02 06:34:49   2018-11-02 06:50:07           2.70   \n",
       "...                      ...                   ...            ...   \n",
       "1683460  2018-12-22 15:38:53   2018-12-22 15:57:07           1.58   \n",
       "1683461  2018-03-18 00:55:53   2018-03-18 01:07:14           2.20   \n",
       "1683462  2018-11-15 02:42:36   2018-11-15 03:03:16           9.30   \n",
       "1683463  2018-12-12 17:57:51   2018-12-12 18:19:49           5.17   \n",
       "1683464  2018-09-22 00:17:32   2018-09-22 00:42:16           4.77   \n",
       "\n",
       "         fare_amount  extra  mta_tax  tip_amount  tolls_amount  \\\n",
       "0                9.0    0.0      0.5        0.00          0.00   \n",
       "1                7.0    1.0      0.5        1.32          0.00   \n",
       "2               52.0    0.0      0.5        0.00          5.76   \n",
       "3                8.0    1.0      0.5        1.00          0.00   \n",
       "4               12.5    0.0      0.5        2.65          0.00   \n",
       "...              ...    ...      ...         ...           ...   \n",
       "1683460         12.0    0.0      0.5        0.00          0.00   \n",
       "1683461         10.0    0.5      0.5        1.00          0.00   \n",
       "1683462         28.5    0.5      0.5        8.85          5.76   \n",
       "1683463         19.5    1.0      0.5        4.26          0.00   \n",
       "1683464         19.5    0.5      0.5        4.16          0.00   \n",
       "\n",
       "         improvement_surcharge  total_amount                      VendorID  \\\n",
       "0                          0.3          9.80                  VeriFone Inc   \n",
       "1                          0.3         10.12  Creative Mobile Technologies   \n",
       "2                          0.3         58.56  Creative Mobile Technologies   \n",
       "3                          0.3         10.80                  VeriFone Inc   \n",
       "4                          0.3         15.95  Creative Mobile Technologies   \n",
       "...                        ...           ...                           ...   \n",
       "1683460                    0.3         12.80                  VeriFone Inc   \n",
       "1683461                    0.3         12.30  Creative Mobile Technologies   \n",
       "1683462                    0.3         44.41  Creative Mobile Technologies   \n",
       "1683463                    0.3         25.56                  VeriFone Inc   \n",
       "1683464                    0.3         24.96                  VeriFone Inc   \n",
       "\n",
       "            RatecodeID payment_type  PUBorough                         PUZone  \\\n",
       "0        Standard rate         Cash  Manhattan  Sutton Place/Turtle Bay North   \n",
       "1        Standard rate  Credit card  Manhattan                   Clinton East   \n",
       "2                  JFK         Cash     Queens                    JFK Airport   \n",
       "3        Standard rate  Credit card  Manhattan                   East Chelsea   \n",
       "4        Standard rate  Credit card  Manhattan                   East Village   \n",
       "...                ...          ...        ...                            ...   \n",
       "1683460  Standard rate         Cash  Manhattan      Times Sq/Theatre District   \n",
       "1683461  Standard rate  Credit card  Manhattan                      Chinatown   \n",
       "1683462  Standard rate  Credit card  Manhattan      West Chelsea/Hudson Yards   \n",
       "1683463  Standard rate  Credit card  Manhattan              Battery Park City   \n",
       "1683464  Standard rate  Credit card  Manhattan                   East Chelsea   \n",
       "\n",
       "        PUservice_zone  DOBorough                         DOZone  \\\n",
       "0          Yellow Zone  Manhattan          Upper East Side South   \n",
       "1          Yellow Zone  Manhattan  Meatpacking/West Village West   \n",
       "2             Airports  Manhattan                   Clinton East   \n",
       "3          Yellow Zone  Manhattan                           SoHo   \n",
       "4          Yellow Zone  Manhattan      Times Sq/Theatre District   \n",
       "...                ...        ...                            ...   \n",
       "1683460    Yellow Zone  Manhattan   Penn Station/Madison Sq West   \n",
       "1683461    Yellow Zone  Manhattan                       Flatiron   \n",
       "1683462    Yellow Zone     Queens                   Forest Hills   \n",
       "1683463    Yellow Zone  Manhattan            Lincoln Square West   \n",
       "1683464    Yellow Zone  Manhattan                Lenox Hill East   \n",
       "\n",
       "        DOservice_zone  \n",
       "0          Yellow Zone  \n",
       "1          Yellow Zone  \n",
       "2          Yellow Zone  \n",
       "3          Yellow Zone  \n",
       "4          Yellow Zone  \n",
       "...                ...  \n",
       "1683460    Yellow Zone  \n",
       "1683461    Yellow Zone  \n",
       "1683462      Boro Zone  \n",
       "1683463    Yellow Zone  \n",
       "1683464    Yellow Zone  \n",
       "\n",
       "[1682369 rows x 19 columns]"
      ]
     },
     "execution_count": 48,
     "metadata": {},
     "output_type": "execute_result"
    }
   ],
   "source": [
    "df_muestra"
   ]
  },
  {
   "cell_type": "markdown",
   "metadata": {},
   "source": [
    "Quitamos el VendorID y le ponemos una llave foranea "
   ]
  },
  {
   "cell_type": "code",
   "execution_count": 49,
   "metadata": {
    "ExecuteTime": {
     "end_time": "2021-01-04T01:05:40.153801Z",
     "start_time": "2021-01-04T01:05:38.903098Z"
    }
   },
   "outputs": [],
   "source": [
    "df_muestra=df_muestra.merge(ent_ven,\n",
    "                 left_on='VendorID',\n",
    "                 right_on='Vendor_code',\n",
    "                 how='left').drop(['VendorID','Vendor_code'], axis=1)\n",
    "df_muestra.rename(columns={'ID':'fk_id_Vendor'},inplace=True)"
   ]
  },
  {
   "cell_type": "code",
   "execution_count": 50,
   "metadata": {
    "ExecuteTime": {
     "end_time": "2021-01-04T01:05:44.978254Z",
     "start_time": "2021-01-04T01:05:44.927128Z"
    }
   },
   "outputs": [
    {
     "data": {
      "text/html": [
       "<div>\n",
       "<style scoped>\n",
       "    .dataframe tbody tr th:only-of-type {\n",
       "        vertical-align: middle;\n",
       "    }\n",
       "\n",
       "    .dataframe tbody tr th {\n",
       "        vertical-align: top;\n",
       "    }\n",
       "\n",
       "    .dataframe thead th {\n",
       "        text-align: right;\n",
       "    }\n",
       "</style>\n",
       "<table border=\"1\" class=\"dataframe\">\n",
       "  <thead>\n",
       "    <tr style=\"text-align: right;\">\n",
       "      <th></th>\n",
       "      <th>tpep_pickup_datetime</th>\n",
       "      <th>tpep_dropoff_datetime</th>\n",
       "      <th>trip_distance</th>\n",
       "      <th>fare_amount</th>\n",
       "      <th>extra</th>\n",
       "      <th>mta_tax</th>\n",
       "      <th>tip_amount</th>\n",
       "      <th>tolls_amount</th>\n",
       "      <th>improvement_surcharge</th>\n",
       "      <th>total_amount</th>\n",
       "      <th>RatecodeID</th>\n",
       "      <th>payment_type</th>\n",
       "      <th>PUBorough</th>\n",
       "      <th>PUZone</th>\n",
       "      <th>PUservice_zone</th>\n",
       "      <th>DOBorough</th>\n",
       "      <th>DOZone</th>\n",
       "      <th>DOservice_zone</th>\n",
       "      <th>fk_id_Vendor</th>\n",
       "    </tr>\n",
       "  </thead>\n",
       "  <tbody>\n",
       "    <tr>\n",
       "      <th>0</th>\n",
       "      <td>2018-11-06 12:42:24</td>\n",
       "      <td>2018-11-06 12:54:49</td>\n",
       "      <td>0.87</td>\n",
       "      <td>9.0</td>\n",
       "      <td>0.0</td>\n",
       "      <td>0.5</td>\n",
       "      <td>0.00</td>\n",
       "      <td>0.00</td>\n",
       "      <td>0.3</td>\n",
       "      <td>9.80</td>\n",
       "      <td>Standard rate</td>\n",
       "      <td>Cash</td>\n",
       "      <td>Manhattan</td>\n",
       "      <td>Sutton Place/Turtle Bay North</td>\n",
       "      <td>Yellow Zone</td>\n",
       "      <td>Manhattan</td>\n",
       "      <td>Upper East Side South</td>\n",
       "      <td>Yellow Zone</td>\n",
       "      <td>1.0</td>\n",
       "    </tr>\n",
       "    <tr>\n",
       "      <th>1</th>\n",
       "      <td>2018-02-16 19:19:59</td>\n",
       "      <td>2018-02-16 19:26:41</td>\n",
       "      <td>1.50</td>\n",
       "      <td>7.0</td>\n",
       "      <td>1.0</td>\n",
       "      <td>0.5</td>\n",
       "      <td>1.32</td>\n",
       "      <td>0.00</td>\n",
       "      <td>0.3</td>\n",
       "      <td>10.12</td>\n",
       "      <td>Standard rate</td>\n",
       "      <td>Credit card</td>\n",
       "      <td>Manhattan</td>\n",
       "      <td>Clinton East</td>\n",
       "      <td>Yellow Zone</td>\n",
       "      <td>Manhattan</td>\n",
       "      <td>Meatpacking/West Village West</td>\n",
       "      <td>Yellow Zone</td>\n",
       "      <td>2.0</td>\n",
       "    </tr>\n",
       "    <tr>\n",
       "      <th>2</th>\n",
       "      <td>2018-02-12 16:50:01</td>\n",
       "      <td>2018-02-12 17:43:55</td>\n",
       "      <td>22.60</td>\n",
       "      <td>52.0</td>\n",
       "      <td>0.0</td>\n",
       "      <td>0.5</td>\n",
       "      <td>0.00</td>\n",
       "      <td>5.76</td>\n",
       "      <td>0.3</td>\n",
       "      <td>58.56</td>\n",
       "      <td>JFK</td>\n",
       "      <td>Cash</td>\n",
       "      <td>Queens</td>\n",
       "      <td>JFK Airport</td>\n",
       "      <td>Airports</td>\n",
       "      <td>Manhattan</td>\n",
       "      <td>Clinton East</td>\n",
       "      <td>Yellow Zone</td>\n",
       "      <td>2.0</td>\n",
       "    </tr>\n",
       "    <tr>\n",
       "      <th>3</th>\n",
       "      <td>2018-03-28 19:58:44</td>\n",
       "      <td>2018-03-28 20:07:14</td>\n",
       "      <td>1.61</td>\n",
       "      <td>8.0</td>\n",
       "      <td>1.0</td>\n",
       "      <td>0.5</td>\n",
       "      <td>1.00</td>\n",
       "      <td>0.00</td>\n",
       "      <td>0.3</td>\n",
       "      <td>10.80</td>\n",
       "      <td>Standard rate</td>\n",
       "      <td>Credit card</td>\n",
       "      <td>Manhattan</td>\n",
       "      <td>East Chelsea</td>\n",
       "      <td>Yellow Zone</td>\n",
       "      <td>Manhattan</td>\n",
       "      <td>SoHo</td>\n",
       "      <td>Yellow Zone</td>\n",
       "      <td>1.0</td>\n",
       "    </tr>\n",
       "    <tr>\n",
       "      <th>4</th>\n",
       "      <td>2018-11-02 06:34:49</td>\n",
       "      <td>2018-11-02 06:50:07</td>\n",
       "      <td>2.70</td>\n",
       "      <td>12.5</td>\n",
       "      <td>0.0</td>\n",
       "      <td>0.5</td>\n",
       "      <td>2.65</td>\n",
       "      <td>0.00</td>\n",
       "      <td>0.3</td>\n",
       "      <td>15.95</td>\n",
       "      <td>Standard rate</td>\n",
       "      <td>Credit card</td>\n",
       "      <td>Manhattan</td>\n",
       "      <td>East Village</td>\n",
       "      <td>Yellow Zone</td>\n",
       "      <td>Manhattan</td>\n",
       "      <td>Times Sq/Theatre District</td>\n",
       "      <td>Yellow Zone</td>\n",
       "      <td>2.0</td>\n",
       "    </tr>\n",
       "    <tr>\n",
       "      <th>...</th>\n",
       "      <td>...</td>\n",
       "      <td>...</td>\n",
       "      <td>...</td>\n",
       "      <td>...</td>\n",
       "      <td>...</td>\n",
       "      <td>...</td>\n",
       "      <td>...</td>\n",
       "      <td>...</td>\n",
       "      <td>...</td>\n",
       "      <td>...</td>\n",
       "      <td>...</td>\n",
       "      <td>...</td>\n",
       "      <td>...</td>\n",
       "      <td>...</td>\n",
       "      <td>...</td>\n",
       "      <td>...</td>\n",
       "      <td>...</td>\n",
       "      <td>...</td>\n",
       "      <td>...</td>\n",
       "    </tr>\n",
       "    <tr>\n",
       "      <th>1682364</th>\n",
       "      <td>2018-12-22 15:38:53</td>\n",
       "      <td>2018-12-22 15:57:07</td>\n",
       "      <td>1.58</td>\n",
       "      <td>12.0</td>\n",
       "      <td>0.0</td>\n",
       "      <td>0.5</td>\n",
       "      <td>0.00</td>\n",
       "      <td>0.00</td>\n",
       "      <td>0.3</td>\n",
       "      <td>12.80</td>\n",
       "      <td>Standard rate</td>\n",
       "      <td>Cash</td>\n",
       "      <td>Manhattan</td>\n",
       "      <td>Times Sq/Theatre District</td>\n",
       "      <td>Yellow Zone</td>\n",
       "      <td>Manhattan</td>\n",
       "      <td>Penn Station/Madison Sq West</td>\n",
       "      <td>Yellow Zone</td>\n",
       "      <td>1.0</td>\n",
       "    </tr>\n",
       "    <tr>\n",
       "      <th>1682365</th>\n",
       "      <td>2018-03-18 00:55:53</td>\n",
       "      <td>2018-03-18 01:07:14</td>\n",
       "      <td>2.20</td>\n",
       "      <td>10.0</td>\n",
       "      <td>0.5</td>\n",
       "      <td>0.5</td>\n",
       "      <td>1.00</td>\n",
       "      <td>0.00</td>\n",
       "      <td>0.3</td>\n",
       "      <td>12.30</td>\n",
       "      <td>Standard rate</td>\n",
       "      <td>Credit card</td>\n",
       "      <td>Manhattan</td>\n",
       "      <td>Chinatown</td>\n",
       "      <td>Yellow Zone</td>\n",
       "      <td>Manhattan</td>\n",
       "      <td>Flatiron</td>\n",
       "      <td>Yellow Zone</td>\n",
       "      <td>2.0</td>\n",
       "    </tr>\n",
       "    <tr>\n",
       "      <th>1682366</th>\n",
       "      <td>2018-11-15 02:42:36</td>\n",
       "      <td>2018-11-15 03:03:16</td>\n",
       "      <td>9.30</td>\n",
       "      <td>28.5</td>\n",
       "      <td>0.5</td>\n",
       "      <td>0.5</td>\n",
       "      <td>8.85</td>\n",
       "      <td>5.76</td>\n",
       "      <td>0.3</td>\n",
       "      <td>44.41</td>\n",
       "      <td>Standard rate</td>\n",
       "      <td>Credit card</td>\n",
       "      <td>Manhattan</td>\n",
       "      <td>West Chelsea/Hudson Yards</td>\n",
       "      <td>Yellow Zone</td>\n",
       "      <td>Queens</td>\n",
       "      <td>Forest Hills</td>\n",
       "      <td>Boro Zone</td>\n",
       "      <td>2.0</td>\n",
       "    </tr>\n",
       "    <tr>\n",
       "      <th>1682367</th>\n",
       "      <td>2018-12-12 17:57:51</td>\n",
       "      <td>2018-12-12 18:19:49</td>\n",
       "      <td>5.17</td>\n",
       "      <td>19.5</td>\n",
       "      <td>1.0</td>\n",
       "      <td>0.5</td>\n",
       "      <td>4.26</td>\n",
       "      <td>0.00</td>\n",
       "      <td>0.3</td>\n",
       "      <td>25.56</td>\n",
       "      <td>Standard rate</td>\n",
       "      <td>Credit card</td>\n",
       "      <td>Manhattan</td>\n",
       "      <td>Battery Park City</td>\n",
       "      <td>Yellow Zone</td>\n",
       "      <td>Manhattan</td>\n",
       "      <td>Lincoln Square West</td>\n",
       "      <td>Yellow Zone</td>\n",
       "      <td>1.0</td>\n",
       "    </tr>\n",
       "    <tr>\n",
       "      <th>1682368</th>\n",
       "      <td>2018-09-22 00:17:32</td>\n",
       "      <td>2018-09-22 00:42:16</td>\n",
       "      <td>4.77</td>\n",
       "      <td>19.5</td>\n",
       "      <td>0.5</td>\n",
       "      <td>0.5</td>\n",
       "      <td>4.16</td>\n",
       "      <td>0.00</td>\n",
       "      <td>0.3</td>\n",
       "      <td>24.96</td>\n",
       "      <td>Standard rate</td>\n",
       "      <td>Credit card</td>\n",
       "      <td>Manhattan</td>\n",
       "      <td>East Chelsea</td>\n",
       "      <td>Yellow Zone</td>\n",
       "      <td>Manhattan</td>\n",
       "      <td>Lenox Hill East</td>\n",
       "      <td>Yellow Zone</td>\n",
       "      <td>1.0</td>\n",
       "    </tr>\n",
       "  </tbody>\n",
       "</table>\n",
       "<p>1682369 rows × 19 columns</p>\n",
       "</div>"
      ],
      "text/plain": [
       "        tpep_pickup_datetime tpep_dropoff_datetime  trip_distance  \\\n",
       "0        2018-11-06 12:42:24   2018-11-06 12:54:49           0.87   \n",
       "1        2018-02-16 19:19:59   2018-02-16 19:26:41           1.50   \n",
       "2        2018-02-12 16:50:01   2018-02-12 17:43:55          22.60   \n",
       "3        2018-03-28 19:58:44   2018-03-28 20:07:14           1.61   \n",
       "4        2018-11-02 06:34:49   2018-11-02 06:50:07           2.70   \n",
       "...                      ...                   ...            ...   \n",
       "1682364  2018-12-22 15:38:53   2018-12-22 15:57:07           1.58   \n",
       "1682365  2018-03-18 00:55:53   2018-03-18 01:07:14           2.20   \n",
       "1682366  2018-11-15 02:42:36   2018-11-15 03:03:16           9.30   \n",
       "1682367  2018-12-12 17:57:51   2018-12-12 18:19:49           5.17   \n",
       "1682368  2018-09-22 00:17:32   2018-09-22 00:42:16           4.77   \n",
       "\n",
       "         fare_amount  extra  mta_tax  tip_amount  tolls_amount  \\\n",
       "0                9.0    0.0      0.5        0.00          0.00   \n",
       "1                7.0    1.0      0.5        1.32          0.00   \n",
       "2               52.0    0.0      0.5        0.00          5.76   \n",
       "3                8.0    1.0      0.5        1.00          0.00   \n",
       "4               12.5    0.0      0.5        2.65          0.00   \n",
       "...              ...    ...      ...         ...           ...   \n",
       "1682364         12.0    0.0      0.5        0.00          0.00   \n",
       "1682365         10.0    0.5      0.5        1.00          0.00   \n",
       "1682366         28.5    0.5      0.5        8.85          5.76   \n",
       "1682367         19.5    1.0      0.5        4.26          0.00   \n",
       "1682368         19.5    0.5      0.5        4.16          0.00   \n",
       "\n",
       "         improvement_surcharge  total_amount     RatecodeID payment_type  \\\n",
       "0                          0.3          9.80  Standard rate         Cash   \n",
       "1                          0.3         10.12  Standard rate  Credit card   \n",
       "2                          0.3         58.56            JFK         Cash   \n",
       "3                          0.3         10.80  Standard rate  Credit card   \n",
       "4                          0.3         15.95  Standard rate  Credit card   \n",
       "...                        ...           ...            ...          ...   \n",
       "1682364                    0.3         12.80  Standard rate         Cash   \n",
       "1682365                    0.3         12.30  Standard rate  Credit card   \n",
       "1682366                    0.3         44.41  Standard rate  Credit card   \n",
       "1682367                    0.3         25.56  Standard rate  Credit card   \n",
       "1682368                    0.3         24.96  Standard rate  Credit card   \n",
       "\n",
       "         PUBorough                         PUZone PUservice_zone  DOBorough  \\\n",
       "0        Manhattan  Sutton Place/Turtle Bay North    Yellow Zone  Manhattan   \n",
       "1        Manhattan                   Clinton East    Yellow Zone  Manhattan   \n",
       "2           Queens                    JFK Airport       Airports  Manhattan   \n",
       "3        Manhattan                   East Chelsea    Yellow Zone  Manhattan   \n",
       "4        Manhattan                   East Village    Yellow Zone  Manhattan   \n",
       "...            ...                            ...            ...        ...   \n",
       "1682364  Manhattan      Times Sq/Theatre District    Yellow Zone  Manhattan   \n",
       "1682365  Manhattan                      Chinatown    Yellow Zone  Manhattan   \n",
       "1682366  Manhattan      West Chelsea/Hudson Yards    Yellow Zone     Queens   \n",
       "1682367  Manhattan              Battery Park City    Yellow Zone  Manhattan   \n",
       "1682368  Manhattan                   East Chelsea    Yellow Zone  Manhattan   \n",
       "\n",
       "                                DOZone DOservice_zone  fk_id_Vendor  \n",
       "0                Upper East Side South    Yellow Zone           1.0  \n",
       "1        Meatpacking/West Village West    Yellow Zone           2.0  \n",
       "2                         Clinton East    Yellow Zone           2.0  \n",
       "3                                 SoHo    Yellow Zone           1.0  \n",
       "4            Times Sq/Theatre District    Yellow Zone           2.0  \n",
       "...                                ...            ...           ...  \n",
       "1682364   Penn Station/Madison Sq West    Yellow Zone           1.0  \n",
       "1682365                       Flatiron    Yellow Zone           2.0  \n",
       "1682366                   Forest Hills      Boro Zone           2.0  \n",
       "1682367            Lincoln Square West    Yellow Zone           1.0  \n",
       "1682368                Lenox Hill East    Yellow Zone           1.0  \n",
       "\n",
       "[1682369 rows x 19 columns]"
      ]
     },
     "execution_count": 50,
     "metadata": {},
     "output_type": "execute_result"
    }
   ],
   "source": [
    "df_muestra"
   ]
  },
  {
   "cell_type": "code",
   "execution_count": 51,
   "metadata": {
    "ExecuteTime": {
     "end_time": "2021-01-04T01:05:51.143239Z",
     "start_time": "2021-01-04T01:05:49.912004Z"
    }
   },
   "outputs": [],
   "source": [
    "df_muestra=df_muestra.merge(ent_rate,\n",
    "                 left_on='RatecodeID',\n",
    "                 right_on='Retacode_code',\n",
    "                 how='left').drop(['RatecodeID','Retacode_code'], axis=1)\n",
    "df_muestra.rename(columns={'ID':'fk_id_Ratecode'},inplace=True)"
   ]
  },
  {
   "cell_type": "code",
   "execution_count": 52,
   "metadata": {
    "ExecuteTime": {
     "end_time": "2021-01-04T01:05:55.991455Z",
     "start_time": "2021-01-04T01:05:55.929304Z"
    }
   },
   "outputs": [
    {
     "data": {
      "text/html": [
       "<div>\n",
       "<style scoped>\n",
       "    .dataframe tbody tr th:only-of-type {\n",
       "        vertical-align: middle;\n",
       "    }\n",
       "\n",
       "    .dataframe tbody tr th {\n",
       "        vertical-align: top;\n",
       "    }\n",
       "\n",
       "    .dataframe thead th {\n",
       "        text-align: right;\n",
       "    }\n",
       "</style>\n",
       "<table border=\"1\" class=\"dataframe\">\n",
       "  <thead>\n",
       "    <tr style=\"text-align: right;\">\n",
       "      <th></th>\n",
       "      <th>tpep_pickup_datetime</th>\n",
       "      <th>tpep_dropoff_datetime</th>\n",
       "      <th>trip_distance</th>\n",
       "      <th>fare_amount</th>\n",
       "      <th>extra</th>\n",
       "      <th>mta_tax</th>\n",
       "      <th>tip_amount</th>\n",
       "      <th>tolls_amount</th>\n",
       "      <th>improvement_surcharge</th>\n",
       "      <th>total_amount</th>\n",
       "      <th>payment_type</th>\n",
       "      <th>PUBorough</th>\n",
       "      <th>PUZone</th>\n",
       "      <th>PUservice_zone</th>\n",
       "      <th>DOBorough</th>\n",
       "      <th>DOZone</th>\n",
       "      <th>DOservice_zone</th>\n",
       "      <th>fk_id_Vendor</th>\n",
       "      <th>fk_id_Ratecode</th>\n",
       "    </tr>\n",
       "  </thead>\n",
       "  <tbody>\n",
       "    <tr>\n",
       "      <th>0</th>\n",
       "      <td>2018-11-06 12:42:24</td>\n",
       "      <td>2018-11-06 12:54:49</td>\n",
       "      <td>0.87</td>\n",
       "      <td>9.0</td>\n",
       "      <td>0.0</td>\n",
       "      <td>0.5</td>\n",
       "      <td>0.00</td>\n",
       "      <td>0.00</td>\n",
       "      <td>0.3</td>\n",
       "      <td>9.80</td>\n",
       "      <td>Cash</td>\n",
       "      <td>Manhattan</td>\n",
       "      <td>Sutton Place/Turtle Bay North</td>\n",
       "      <td>Yellow Zone</td>\n",
       "      <td>Manhattan</td>\n",
       "      <td>Upper East Side South</td>\n",
       "      <td>Yellow Zone</td>\n",
       "      <td>1.0</td>\n",
       "      <td>1.0</td>\n",
       "    </tr>\n",
       "    <tr>\n",
       "      <th>1</th>\n",
       "      <td>2018-02-16 19:19:59</td>\n",
       "      <td>2018-02-16 19:26:41</td>\n",
       "      <td>1.50</td>\n",
       "      <td>7.0</td>\n",
       "      <td>1.0</td>\n",
       "      <td>0.5</td>\n",
       "      <td>1.32</td>\n",
       "      <td>0.00</td>\n",
       "      <td>0.3</td>\n",
       "      <td>10.12</td>\n",
       "      <td>Credit card</td>\n",
       "      <td>Manhattan</td>\n",
       "      <td>Clinton East</td>\n",
       "      <td>Yellow Zone</td>\n",
       "      <td>Manhattan</td>\n",
       "      <td>Meatpacking/West Village West</td>\n",
       "      <td>Yellow Zone</td>\n",
       "      <td>2.0</td>\n",
       "      <td>1.0</td>\n",
       "    </tr>\n",
       "    <tr>\n",
       "      <th>2</th>\n",
       "      <td>2018-02-12 16:50:01</td>\n",
       "      <td>2018-02-12 17:43:55</td>\n",
       "      <td>22.60</td>\n",
       "      <td>52.0</td>\n",
       "      <td>0.0</td>\n",
       "      <td>0.5</td>\n",
       "      <td>0.00</td>\n",
       "      <td>5.76</td>\n",
       "      <td>0.3</td>\n",
       "      <td>58.56</td>\n",
       "      <td>Cash</td>\n",
       "      <td>Queens</td>\n",
       "      <td>JFK Airport</td>\n",
       "      <td>Airports</td>\n",
       "      <td>Manhattan</td>\n",
       "      <td>Clinton East</td>\n",
       "      <td>Yellow Zone</td>\n",
       "      <td>2.0</td>\n",
       "      <td>2.0</td>\n",
       "    </tr>\n",
       "    <tr>\n",
       "      <th>3</th>\n",
       "      <td>2018-03-28 19:58:44</td>\n",
       "      <td>2018-03-28 20:07:14</td>\n",
       "      <td>1.61</td>\n",
       "      <td>8.0</td>\n",
       "      <td>1.0</td>\n",
       "      <td>0.5</td>\n",
       "      <td>1.00</td>\n",
       "      <td>0.00</td>\n",
       "      <td>0.3</td>\n",
       "      <td>10.80</td>\n",
       "      <td>Credit card</td>\n",
       "      <td>Manhattan</td>\n",
       "      <td>East Chelsea</td>\n",
       "      <td>Yellow Zone</td>\n",
       "      <td>Manhattan</td>\n",
       "      <td>SoHo</td>\n",
       "      <td>Yellow Zone</td>\n",
       "      <td>1.0</td>\n",
       "      <td>1.0</td>\n",
       "    </tr>\n",
       "    <tr>\n",
       "      <th>4</th>\n",
       "      <td>2018-11-02 06:34:49</td>\n",
       "      <td>2018-11-02 06:50:07</td>\n",
       "      <td>2.70</td>\n",
       "      <td>12.5</td>\n",
       "      <td>0.0</td>\n",
       "      <td>0.5</td>\n",
       "      <td>2.65</td>\n",
       "      <td>0.00</td>\n",
       "      <td>0.3</td>\n",
       "      <td>15.95</td>\n",
       "      <td>Credit card</td>\n",
       "      <td>Manhattan</td>\n",
       "      <td>East Village</td>\n",
       "      <td>Yellow Zone</td>\n",
       "      <td>Manhattan</td>\n",
       "      <td>Times Sq/Theatre District</td>\n",
       "      <td>Yellow Zone</td>\n",
       "      <td>2.0</td>\n",
       "      <td>1.0</td>\n",
       "    </tr>\n",
       "    <tr>\n",
       "      <th>...</th>\n",
       "      <td>...</td>\n",
       "      <td>...</td>\n",
       "      <td>...</td>\n",
       "      <td>...</td>\n",
       "      <td>...</td>\n",
       "      <td>...</td>\n",
       "      <td>...</td>\n",
       "      <td>...</td>\n",
       "      <td>...</td>\n",
       "      <td>...</td>\n",
       "      <td>...</td>\n",
       "      <td>...</td>\n",
       "      <td>...</td>\n",
       "      <td>...</td>\n",
       "      <td>...</td>\n",
       "      <td>...</td>\n",
       "      <td>...</td>\n",
       "      <td>...</td>\n",
       "      <td>...</td>\n",
       "    </tr>\n",
       "    <tr>\n",
       "      <th>1682364</th>\n",
       "      <td>2018-12-22 15:38:53</td>\n",
       "      <td>2018-12-22 15:57:07</td>\n",
       "      <td>1.58</td>\n",
       "      <td>12.0</td>\n",
       "      <td>0.0</td>\n",
       "      <td>0.5</td>\n",
       "      <td>0.00</td>\n",
       "      <td>0.00</td>\n",
       "      <td>0.3</td>\n",
       "      <td>12.80</td>\n",
       "      <td>Cash</td>\n",
       "      <td>Manhattan</td>\n",
       "      <td>Times Sq/Theatre District</td>\n",
       "      <td>Yellow Zone</td>\n",
       "      <td>Manhattan</td>\n",
       "      <td>Penn Station/Madison Sq West</td>\n",
       "      <td>Yellow Zone</td>\n",
       "      <td>1.0</td>\n",
       "      <td>1.0</td>\n",
       "    </tr>\n",
       "    <tr>\n",
       "      <th>1682365</th>\n",
       "      <td>2018-03-18 00:55:53</td>\n",
       "      <td>2018-03-18 01:07:14</td>\n",
       "      <td>2.20</td>\n",
       "      <td>10.0</td>\n",
       "      <td>0.5</td>\n",
       "      <td>0.5</td>\n",
       "      <td>1.00</td>\n",
       "      <td>0.00</td>\n",
       "      <td>0.3</td>\n",
       "      <td>12.30</td>\n",
       "      <td>Credit card</td>\n",
       "      <td>Manhattan</td>\n",
       "      <td>Chinatown</td>\n",
       "      <td>Yellow Zone</td>\n",
       "      <td>Manhattan</td>\n",
       "      <td>Flatiron</td>\n",
       "      <td>Yellow Zone</td>\n",
       "      <td>2.0</td>\n",
       "      <td>1.0</td>\n",
       "    </tr>\n",
       "    <tr>\n",
       "      <th>1682366</th>\n",
       "      <td>2018-11-15 02:42:36</td>\n",
       "      <td>2018-11-15 03:03:16</td>\n",
       "      <td>9.30</td>\n",
       "      <td>28.5</td>\n",
       "      <td>0.5</td>\n",
       "      <td>0.5</td>\n",
       "      <td>8.85</td>\n",
       "      <td>5.76</td>\n",
       "      <td>0.3</td>\n",
       "      <td>44.41</td>\n",
       "      <td>Credit card</td>\n",
       "      <td>Manhattan</td>\n",
       "      <td>West Chelsea/Hudson Yards</td>\n",
       "      <td>Yellow Zone</td>\n",
       "      <td>Queens</td>\n",
       "      <td>Forest Hills</td>\n",
       "      <td>Boro Zone</td>\n",
       "      <td>2.0</td>\n",
       "      <td>1.0</td>\n",
       "    </tr>\n",
       "    <tr>\n",
       "      <th>1682367</th>\n",
       "      <td>2018-12-12 17:57:51</td>\n",
       "      <td>2018-12-12 18:19:49</td>\n",
       "      <td>5.17</td>\n",
       "      <td>19.5</td>\n",
       "      <td>1.0</td>\n",
       "      <td>0.5</td>\n",
       "      <td>4.26</td>\n",
       "      <td>0.00</td>\n",
       "      <td>0.3</td>\n",
       "      <td>25.56</td>\n",
       "      <td>Credit card</td>\n",
       "      <td>Manhattan</td>\n",
       "      <td>Battery Park City</td>\n",
       "      <td>Yellow Zone</td>\n",
       "      <td>Manhattan</td>\n",
       "      <td>Lincoln Square West</td>\n",
       "      <td>Yellow Zone</td>\n",
       "      <td>1.0</td>\n",
       "      <td>1.0</td>\n",
       "    </tr>\n",
       "    <tr>\n",
       "      <th>1682368</th>\n",
       "      <td>2018-09-22 00:17:32</td>\n",
       "      <td>2018-09-22 00:42:16</td>\n",
       "      <td>4.77</td>\n",
       "      <td>19.5</td>\n",
       "      <td>0.5</td>\n",
       "      <td>0.5</td>\n",
       "      <td>4.16</td>\n",
       "      <td>0.00</td>\n",
       "      <td>0.3</td>\n",
       "      <td>24.96</td>\n",
       "      <td>Credit card</td>\n",
       "      <td>Manhattan</td>\n",
       "      <td>East Chelsea</td>\n",
       "      <td>Yellow Zone</td>\n",
       "      <td>Manhattan</td>\n",
       "      <td>Lenox Hill East</td>\n",
       "      <td>Yellow Zone</td>\n",
       "      <td>1.0</td>\n",
       "      <td>1.0</td>\n",
       "    </tr>\n",
       "  </tbody>\n",
       "</table>\n",
       "<p>1682369 rows × 19 columns</p>\n",
       "</div>"
      ],
      "text/plain": [
       "        tpep_pickup_datetime tpep_dropoff_datetime  trip_distance  \\\n",
       "0        2018-11-06 12:42:24   2018-11-06 12:54:49           0.87   \n",
       "1        2018-02-16 19:19:59   2018-02-16 19:26:41           1.50   \n",
       "2        2018-02-12 16:50:01   2018-02-12 17:43:55          22.60   \n",
       "3        2018-03-28 19:58:44   2018-03-28 20:07:14           1.61   \n",
       "4        2018-11-02 06:34:49   2018-11-02 06:50:07           2.70   \n",
       "...                      ...                   ...            ...   \n",
       "1682364  2018-12-22 15:38:53   2018-12-22 15:57:07           1.58   \n",
       "1682365  2018-03-18 00:55:53   2018-03-18 01:07:14           2.20   \n",
       "1682366  2018-11-15 02:42:36   2018-11-15 03:03:16           9.30   \n",
       "1682367  2018-12-12 17:57:51   2018-12-12 18:19:49           5.17   \n",
       "1682368  2018-09-22 00:17:32   2018-09-22 00:42:16           4.77   \n",
       "\n",
       "         fare_amount  extra  mta_tax  tip_amount  tolls_amount  \\\n",
       "0                9.0    0.0      0.5        0.00          0.00   \n",
       "1                7.0    1.0      0.5        1.32          0.00   \n",
       "2               52.0    0.0      0.5        0.00          5.76   \n",
       "3                8.0    1.0      0.5        1.00          0.00   \n",
       "4               12.5    0.0      0.5        2.65          0.00   \n",
       "...              ...    ...      ...         ...           ...   \n",
       "1682364         12.0    0.0      0.5        0.00          0.00   \n",
       "1682365         10.0    0.5      0.5        1.00          0.00   \n",
       "1682366         28.5    0.5      0.5        8.85          5.76   \n",
       "1682367         19.5    1.0      0.5        4.26          0.00   \n",
       "1682368         19.5    0.5      0.5        4.16          0.00   \n",
       "\n",
       "         improvement_surcharge  total_amount payment_type  PUBorough  \\\n",
       "0                          0.3          9.80         Cash  Manhattan   \n",
       "1                          0.3         10.12  Credit card  Manhattan   \n",
       "2                          0.3         58.56         Cash     Queens   \n",
       "3                          0.3         10.80  Credit card  Manhattan   \n",
       "4                          0.3         15.95  Credit card  Manhattan   \n",
       "...                        ...           ...          ...        ...   \n",
       "1682364                    0.3         12.80         Cash  Manhattan   \n",
       "1682365                    0.3         12.30  Credit card  Manhattan   \n",
       "1682366                    0.3         44.41  Credit card  Manhattan   \n",
       "1682367                    0.3         25.56  Credit card  Manhattan   \n",
       "1682368                    0.3         24.96  Credit card  Manhattan   \n",
       "\n",
       "                                PUZone PUservice_zone  DOBorough  \\\n",
       "0        Sutton Place/Turtle Bay North    Yellow Zone  Manhattan   \n",
       "1                         Clinton East    Yellow Zone  Manhattan   \n",
       "2                          JFK Airport       Airports  Manhattan   \n",
       "3                         East Chelsea    Yellow Zone  Manhattan   \n",
       "4                         East Village    Yellow Zone  Manhattan   \n",
       "...                                ...            ...        ...   \n",
       "1682364      Times Sq/Theatre District    Yellow Zone  Manhattan   \n",
       "1682365                      Chinatown    Yellow Zone  Manhattan   \n",
       "1682366      West Chelsea/Hudson Yards    Yellow Zone     Queens   \n",
       "1682367              Battery Park City    Yellow Zone  Manhattan   \n",
       "1682368                   East Chelsea    Yellow Zone  Manhattan   \n",
       "\n",
       "                                DOZone DOservice_zone  fk_id_Vendor  \\\n",
       "0                Upper East Side South    Yellow Zone           1.0   \n",
       "1        Meatpacking/West Village West    Yellow Zone           2.0   \n",
       "2                         Clinton East    Yellow Zone           2.0   \n",
       "3                                 SoHo    Yellow Zone           1.0   \n",
       "4            Times Sq/Theatre District    Yellow Zone           2.0   \n",
       "...                                ...            ...           ...   \n",
       "1682364   Penn Station/Madison Sq West    Yellow Zone           1.0   \n",
       "1682365                       Flatiron    Yellow Zone           2.0   \n",
       "1682366                   Forest Hills      Boro Zone           2.0   \n",
       "1682367            Lincoln Square West    Yellow Zone           1.0   \n",
       "1682368                Lenox Hill East    Yellow Zone           1.0   \n",
       "\n",
       "         fk_id_Ratecode  \n",
       "0                   1.0  \n",
       "1                   1.0  \n",
       "2                   2.0  \n",
       "3                   1.0  \n",
       "4                   1.0  \n",
       "...                 ...  \n",
       "1682364             1.0  \n",
       "1682365             1.0  \n",
       "1682366             1.0  \n",
       "1682367             1.0  \n",
       "1682368             1.0  \n",
       "\n",
       "[1682369 rows x 19 columns]"
      ]
     },
     "execution_count": 52,
     "metadata": {},
     "output_type": "execute_result"
    }
   ],
   "source": [
    "df_muestra"
   ]
  },
  {
   "cell_type": "code",
   "execution_count": 53,
   "metadata": {
    "ExecuteTime": {
     "end_time": "2021-01-04T01:06:02.406060Z",
     "start_time": "2021-01-04T01:06:00.965530Z"
    },
    "code_folding": []
   },
   "outputs": [],
   "source": [
    "df_muestra=df_muestra.merge(ent_p,\n",
    "                 left_on='payment_type',\n",
    "                 right_on='payment_type_code',\n",
    "                 how='left').drop(['payment_type','payment_type_code'], axis=1)\n",
    "df_muestra.rename(columns={'ID':'fk_id_payment_type'},inplace=True)"
   ]
  },
  {
   "cell_type": "code",
   "execution_count": 54,
   "metadata": {
    "ExecuteTime": {
     "end_time": "2021-01-04T01:06:08.520283Z",
     "start_time": "2021-01-04T01:06:08.470912Z"
    },
    "scrolled": true
   },
   "outputs": [
    {
     "data": {
      "text/html": [
       "<div>\n",
       "<style scoped>\n",
       "    .dataframe tbody tr th:only-of-type {\n",
       "        vertical-align: middle;\n",
       "    }\n",
       "\n",
       "    .dataframe tbody tr th {\n",
       "        vertical-align: top;\n",
       "    }\n",
       "\n",
       "    .dataframe thead th {\n",
       "        text-align: right;\n",
       "    }\n",
       "</style>\n",
       "<table border=\"1\" class=\"dataframe\">\n",
       "  <thead>\n",
       "    <tr style=\"text-align: right;\">\n",
       "      <th></th>\n",
       "      <th>tpep_pickup_datetime</th>\n",
       "      <th>tpep_dropoff_datetime</th>\n",
       "      <th>trip_distance</th>\n",
       "      <th>fare_amount</th>\n",
       "      <th>extra</th>\n",
       "      <th>mta_tax</th>\n",
       "      <th>tip_amount</th>\n",
       "      <th>tolls_amount</th>\n",
       "      <th>improvement_surcharge</th>\n",
       "      <th>total_amount</th>\n",
       "      <th>PUBorough</th>\n",
       "      <th>PUZone</th>\n",
       "      <th>PUservice_zone</th>\n",
       "      <th>DOBorough</th>\n",
       "      <th>DOZone</th>\n",
       "      <th>DOservice_zone</th>\n",
       "      <th>fk_id_Vendor</th>\n",
       "      <th>fk_id_Ratecode</th>\n",
       "      <th>fk_id_payment_type</th>\n",
       "    </tr>\n",
       "  </thead>\n",
       "  <tbody>\n",
       "    <tr>\n",
       "      <th>0</th>\n",
       "      <td>2018-11-06 12:42:24</td>\n",
       "      <td>2018-11-06 12:54:49</td>\n",
       "      <td>0.87</td>\n",
       "      <td>9.0</td>\n",
       "      <td>0.0</td>\n",
       "      <td>0.5</td>\n",
       "      <td>0.00</td>\n",
       "      <td>0.00</td>\n",
       "      <td>0.3</td>\n",
       "      <td>9.80</td>\n",
       "      <td>Manhattan</td>\n",
       "      <td>Sutton Place/Turtle Bay North</td>\n",
       "      <td>Yellow Zone</td>\n",
       "      <td>Manhattan</td>\n",
       "      <td>Upper East Side South</td>\n",
       "      <td>Yellow Zone</td>\n",
       "      <td>1.0</td>\n",
       "      <td>1.0</td>\n",
       "      <td>1</td>\n",
       "    </tr>\n",
       "    <tr>\n",
       "      <th>1</th>\n",
       "      <td>2018-02-16 19:19:59</td>\n",
       "      <td>2018-02-16 19:26:41</td>\n",
       "      <td>1.50</td>\n",
       "      <td>7.0</td>\n",
       "      <td>1.0</td>\n",
       "      <td>0.5</td>\n",
       "      <td>1.32</td>\n",
       "      <td>0.00</td>\n",
       "      <td>0.3</td>\n",
       "      <td>10.12</td>\n",
       "      <td>Manhattan</td>\n",
       "      <td>Clinton East</td>\n",
       "      <td>Yellow Zone</td>\n",
       "      <td>Manhattan</td>\n",
       "      <td>Meatpacking/West Village West</td>\n",
       "      <td>Yellow Zone</td>\n",
       "      <td>2.0</td>\n",
       "      <td>1.0</td>\n",
       "      <td>2</td>\n",
       "    </tr>\n",
       "    <tr>\n",
       "      <th>2</th>\n",
       "      <td>2018-02-12 16:50:01</td>\n",
       "      <td>2018-02-12 17:43:55</td>\n",
       "      <td>22.60</td>\n",
       "      <td>52.0</td>\n",
       "      <td>0.0</td>\n",
       "      <td>0.5</td>\n",
       "      <td>0.00</td>\n",
       "      <td>5.76</td>\n",
       "      <td>0.3</td>\n",
       "      <td>58.56</td>\n",
       "      <td>Queens</td>\n",
       "      <td>JFK Airport</td>\n",
       "      <td>Airports</td>\n",
       "      <td>Manhattan</td>\n",
       "      <td>Clinton East</td>\n",
       "      <td>Yellow Zone</td>\n",
       "      <td>2.0</td>\n",
       "      <td>2.0</td>\n",
       "      <td>1</td>\n",
       "    </tr>\n",
       "    <tr>\n",
       "      <th>3</th>\n",
       "      <td>2018-03-28 19:58:44</td>\n",
       "      <td>2018-03-28 20:07:14</td>\n",
       "      <td>1.61</td>\n",
       "      <td>8.0</td>\n",
       "      <td>1.0</td>\n",
       "      <td>0.5</td>\n",
       "      <td>1.00</td>\n",
       "      <td>0.00</td>\n",
       "      <td>0.3</td>\n",
       "      <td>10.80</td>\n",
       "      <td>Manhattan</td>\n",
       "      <td>East Chelsea</td>\n",
       "      <td>Yellow Zone</td>\n",
       "      <td>Manhattan</td>\n",
       "      <td>SoHo</td>\n",
       "      <td>Yellow Zone</td>\n",
       "      <td>1.0</td>\n",
       "      <td>1.0</td>\n",
       "      <td>2</td>\n",
       "    </tr>\n",
       "    <tr>\n",
       "      <th>4</th>\n",
       "      <td>2018-11-02 06:34:49</td>\n",
       "      <td>2018-11-02 06:50:07</td>\n",
       "      <td>2.70</td>\n",
       "      <td>12.5</td>\n",
       "      <td>0.0</td>\n",
       "      <td>0.5</td>\n",
       "      <td>2.65</td>\n",
       "      <td>0.00</td>\n",
       "      <td>0.3</td>\n",
       "      <td>15.95</td>\n",
       "      <td>Manhattan</td>\n",
       "      <td>East Village</td>\n",
       "      <td>Yellow Zone</td>\n",
       "      <td>Manhattan</td>\n",
       "      <td>Times Sq/Theatre District</td>\n",
       "      <td>Yellow Zone</td>\n",
       "      <td>2.0</td>\n",
       "      <td>1.0</td>\n",
       "      <td>2</td>\n",
       "    </tr>\n",
       "    <tr>\n",
       "      <th>...</th>\n",
       "      <td>...</td>\n",
       "      <td>...</td>\n",
       "      <td>...</td>\n",
       "      <td>...</td>\n",
       "      <td>...</td>\n",
       "      <td>...</td>\n",
       "      <td>...</td>\n",
       "      <td>...</td>\n",
       "      <td>...</td>\n",
       "      <td>...</td>\n",
       "      <td>...</td>\n",
       "      <td>...</td>\n",
       "      <td>...</td>\n",
       "      <td>...</td>\n",
       "      <td>...</td>\n",
       "      <td>...</td>\n",
       "      <td>...</td>\n",
       "      <td>...</td>\n",
       "      <td>...</td>\n",
       "    </tr>\n",
       "    <tr>\n",
       "      <th>1682364</th>\n",
       "      <td>2018-12-22 15:38:53</td>\n",
       "      <td>2018-12-22 15:57:07</td>\n",
       "      <td>1.58</td>\n",
       "      <td>12.0</td>\n",
       "      <td>0.0</td>\n",
       "      <td>0.5</td>\n",
       "      <td>0.00</td>\n",
       "      <td>0.00</td>\n",
       "      <td>0.3</td>\n",
       "      <td>12.80</td>\n",
       "      <td>Manhattan</td>\n",
       "      <td>Times Sq/Theatre District</td>\n",
       "      <td>Yellow Zone</td>\n",
       "      <td>Manhattan</td>\n",
       "      <td>Penn Station/Madison Sq West</td>\n",
       "      <td>Yellow Zone</td>\n",
       "      <td>1.0</td>\n",
       "      <td>1.0</td>\n",
       "      <td>1</td>\n",
       "    </tr>\n",
       "    <tr>\n",
       "      <th>1682365</th>\n",
       "      <td>2018-03-18 00:55:53</td>\n",
       "      <td>2018-03-18 01:07:14</td>\n",
       "      <td>2.20</td>\n",
       "      <td>10.0</td>\n",
       "      <td>0.5</td>\n",
       "      <td>0.5</td>\n",
       "      <td>1.00</td>\n",
       "      <td>0.00</td>\n",
       "      <td>0.3</td>\n",
       "      <td>12.30</td>\n",
       "      <td>Manhattan</td>\n",
       "      <td>Chinatown</td>\n",
       "      <td>Yellow Zone</td>\n",
       "      <td>Manhattan</td>\n",
       "      <td>Flatiron</td>\n",
       "      <td>Yellow Zone</td>\n",
       "      <td>2.0</td>\n",
       "      <td>1.0</td>\n",
       "      <td>2</td>\n",
       "    </tr>\n",
       "    <tr>\n",
       "      <th>1682366</th>\n",
       "      <td>2018-11-15 02:42:36</td>\n",
       "      <td>2018-11-15 03:03:16</td>\n",
       "      <td>9.30</td>\n",
       "      <td>28.5</td>\n",
       "      <td>0.5</td>\n",
       "      <td>0.5</td>\n",
       "      <td>8.85</td>\n",
       "      <td>5.76</td>\n",
       "      <td>0.3</td>\n",
       "      <td>44.41</td>\n",
       "      <td>Manhattan</td>\n",
       "      <td>West Chelsea/Hudson Yards</td>\n",
       "      <td>Yellow Zone</td>\n",
       "      <td>Queens</td>\n",
       "      <td>Forest Hills</td>\n",
       "      <td>Boro Zone</td>\n",
       "      <td>2.0</td>\n",
       "      <td>1.0</td>\n",
       "      <td>2</td>\n",
       "    </tr>\n",
       "    <tr>\n",
       "      <th>1682367</th>\n",
       "      <td>2018-12-12 17:57:51</td>\n",
       "      <td>2018-12-12 18:19:49</td>\n",
       "      <td>5.17</td>\n",
       "      <td>19.5</td>\n",
       "      <td>1.0</td>\n",
       "      <td>0.5</td>\n",
       "      <td>4.26</td>\n",
       "      <td>0.00</td>\n",
       "      <td>0.3</td>\n",
       "      <td>25.56</td>\n",
       "      <td>Manhattan</td>\n",
       "      <td>Battery Park City</td>\n",
       "      <td>Yellow Zone</td>\n",
       "      <td>Manhattan</td>\n",
       "      <td>Lincoln Square West</td>\n",
       "      <td>Yellow Zone</td>\n",
       "      <td>1.0</td>\n",
       "      <td>1.0</td>\n",
       "      <td>2</td>\n",
       "    </tr>\n",
       "    <tr>\n",
       "      <th>1682368</th>\n",
       "      <td>2018-09-22 00:17:32</td>\n",
       "      <td>2018-09-22 00:42:16</td>\n",
       "      <td>4.77</td>\n",
       "      <td>19.5</td>\n",
       "      <td>0.5</td>\n",
       "      <td>0.5</td>\n",
       "      <td>4.16</td>\n",
       "      <td>0.00</td>\n",
       "      <td>0.3</td>\n",
       "      <td>24.96</td>\n",
       "      <td>Manhattan</td>\n",
       "      <td>East Chelsea</td>\n",
       "      <td>Yellow Zone</td>\n",
       "      <td>Manhattan</td>\n",
       "      <td>Lenox Hill East</td>\n",
       "      <td>Yellow Zone</td>\n",
       "      <td>1.0</td>\n",
       "      <td>1.0</td>\n",
       "      <td>2</td>\n",
       "    </tr>\n",
       "  </tbody>\n",
       "</table>\n",
       "<p>1682369 rows × 19 columns</p>\n",
       "</div>"
      ],
      "text/plain": [
       "        tpep_pickup_datetime tpep_dropoff_datetime  trip_distance  \\\n",
       "0        2018-11-06 12:42:24   2018-11-06 12:54:49           0.87   \n",
       "1        2018-02-16 19:19:59   2018-02-16 19:26:41           1.50   \n",
       "2        2018-02-12 16:50:01   2018-02-12 17:43:55          22.60   \n",
       "3        2018-03-28 19:58:44   2018-03-28 20:07:14           1.61   \n",
       "4        2018-11-02 06:34:49   2018-11-02 06:50:07           2.70   \n",
       "...                      ...                   ...            ...   \n",
       "1682364  2018-12-22 15:38:53   2018-12-22 15:57:07           1.58   \n",
       "1682365  2018-03-18 00:55:53   2018-03-18 01:07:14           2.20   \n",
       "1682366  2018-11-15 02:42:36   2018-11-15 03:03:16           9.30   \n",
       "1682367  2018-12-12 17:57:51   2018-12-12 18:19:49           5.17   \n",
       "1682368  2018-09-22 00:17:32   2018-09-22 00:42:16           4.77   \n",
       "\n",
       "         fare_amount  extra  mta_tax  tip_amount  tolls_amount  \\\n",
       "0                9.0    0.0      0.5        0.00          0.00   \n",
       "1                7.0    1.0      0.5        1.32          0.00   \n",
       "2               52.0    0.0      0.5        0.00          5.76   \n",
       "3                8.0    1.0      0.5        1.00          0.00   \n",
       "4               12.5    0.0      0.5        2.65          0.00   \n",
       "...              ...    ...      ...         ...           ...   \n",
       "1682364         12.0    0.0      0.5        0.00          0.00   \n",
       "1682365         10.0    0.5      0.5        1.00          0.00   \n",
       "1682366         28.5    0.5      0.5        8.85          5.76   \n",
       "1682367         19.5    1.0      0.5        4.26          0.00   \n",
       "1682368         19.5    0.5      0.5        4.16          0.00   \n",
       "\n",
       "         improvement_surcharge  total_amount  PUBorough  \\\n",
       "0                          0.3          9.80  Manhattan   \n",
       "1                          0.3         10.12  Manhattan   \n",
       "2                          0.3         58.56     Queens   \n",
       "3                          0.3         10.80  Manhattan   \n",
       "4                          0.3         15.95  Manhattan   \n",
       "...                        ...           ...        ...   \n",
       "1682364                    0.3         12.80  Manhattan   \n",
       "1682365                    0.3         12.30  Manhattan   \n",
       "1682366                    0.3         44.41  Manhattan   \n",
       "1682367                    0.3         25.56  Manhattan   \n",
       "1682368                    0.3         24.96  Manhattan   \n",
       "\n",
       "                                PUZone PUservice_zone  DOBorough  \\\n",
       "0        Sutton Place/Turtle Bay North    Yellow Zone  Manhattan   \n",
       "1                         Clinton East    Yellow Zone  Manhattan   \n",
       "2                          JFK Airport       Airports  Manhattan   \n",
       "3                         East Chelsea    Yellow Zone  Manhattan   \n",
       "4                         East Village    Yellow Zone  Manhattan   \n",
       "...                                ...            ...        ...   \n",
       "1682364      Times Sq/Theatre District    Yellow Zone  Manhattan   \n",
       "1682365                      Chinatown    Yellow Zone  Manhattan   \n",
       "1682366      West Chelsea/Hudson Yards    Yellow Zone     Queens   \n",
       "1682367              Battery Park City    Yellow Zone  Manhattan   \n",
       "1682368                   East Chelsea    Yellow Zone  Manhattan   \n",
       "\n",
       "                                DOZone DOservice_zone  fk_id_Vendor  \\\n",
       "0                Upper East Side South    Yellow Zone           1.0   \n",
       "1        Meatpacking/West Village West    Yellow Zone           2.0   \n",
       "2                         Clinton East    Yellow Zone           2.0   \n",
       "3                                 SoHo    Yellow Zone           1.0   \n",
       "4            Times Sq/Theatre District    Yellow Zone           2.0   \n",
       "...                                ...            ...           ...   \n",
       "1682364   Penn Station/Madison Sq West    Yellow Zone           1.0   \n",
       "1682365                       Flatiron    Yellow Zone           2.0   \n",
       "1682366                   Forest Hills      Boro Zone           2.0   \n",
       "1682367            Lincoln Square West    Yellow Zone           1.0   \n",
       "1682368                Lenox Hill East    Yellow Zone           1.0   \n",
       "\n",
       "         fk_id_Ratecode  fk_id_payment_type  \n",
       "0                   1.0                   1  \n",
       "1                   1.0                   2  \n",
       "2                   2.0                   1  \n",
       "3                   1.0                   2  \n",
       "4                   1.0                   2  \n",
       "...                 ...                 ...  \n",
       "1682364             1.0                   1  \n",
       "1682365             1.0                   2  \n",
       "1682366             1.0                   2  \n",
       "1682367             1.0                   2  \n",
       "1682368             1.0                   2  \n",
       "\n",
       "[1682369 rows x 19 columns]"
      ]
     },
     "execution_count": 54,
     "metadata": {},
     "output_type": "execute_result"
    }
   ],
   "source": [
    "df_muestra"
   ]
  },
  {
   "cell_type": "code",
   "execution_count": 55,
   "metadata": {
    "ExecuteTime": {
     "end_time": "2021-01-04T01:06:20.722147Z",
     "start_time": "2021-01-04T01:06:15.928763Z"
    },
    "code_folding": [],
    "scrolled": false
   },
   "outputs": [],
   "source": [
    "df_muestra=df_muestra.merge(ent_z,\n",
    "                 left_on=['PUBorough','PUZone','PUservice_zone'],\n",
    "                 right_on=['Borough','Zone','service_zone'],\n",
    "                 how='left').drop(['PUBorough','PUZone','PUservice_zone',\n",
    "                                  'Borough','Zone','service_zone'], axis=1)\n",
    "df_muestra.rename(columns={'ID':'fk_id_PUZone'},inplace=True)\n",
    "\n",
    "df_muestra=df_muestra.merge(ent_z,\n",
    "                 left_on=['DOBorough','DOZone','DOservice_zone'],\n",
    "                 right_on=['Borough','Zone','service_zone'],\n",
    "                 how='left').drop(['DOBorough','DOZone','DOservice_zone',\n",
    "                                  'Borough','Zone','service_zone'], axis=1)\n",
    "df_muestra.rename(columns={'ID':'fk_id_DOZone'},inplace=True)"
   ]
  },
  {
   "cell_type": "code",
   "execution_count": 56,
   "metadata": {
    "ExecuteTime": {
     "end_time": "2021-01-04T01:06:25.457477Z",
     "start_time": "2021-01-04T01:06:25.417898Z"
    }
   },
   "outputs": [
    {
     "data": {
      "text/html": [
       "<div>\n",
       "<style scoped>\n",
       "    .dataframe tbody tr th:only-of-type {\n",
       "        vertical-align: middle;\n",
       "    }\n",
       "\n",
       "    .dataframe tbody tr th {\n",
       "        vertical-align: top;\n",
       "    }\n",
       "\n",
       "    .dataframe thead th {\n",
       "        text-align: right;\n",
       "    }\n",
       "</style>\n",
       "<table border=\"1\" class=\"dataframe\">\n",
       "  <thead>\n",
       "    <tr style=\"text-align: right;\">\n",
       "      <th></th>\n",
       "      <th>tpep_pickup_datetime</th>\n",
       "      <th>tpep_dropoff_datetime</th>\n",
       "      <th>trip_distance</th>\n",
       "      <th>fare_amount</th>\n",
       "      <th>extra</th>\n",
       "      <th>mta_tax</th>\n",
       "      <th>tip_amount</th>\n",
       "      <th>tolls_amount</th>\n",
       "      <th>improvement_surcharge</th>\n",
       "      <th>total_amount</th>\n",
       "      <th>fk_id_Vendor</th>\n",
       "      <th>fk_id_Ratecode</th>\n",
       "      <th>fk_id_payment_type</th>\n",
       "      <th>fk_id_PUZone</th>\n",
       "      <th>fk_id_DOZone</th>\n",
       "    </tr>\n",
       "  </thead>\n",
       "  <tbody>\n",
       "    <tr>\n",
       "      <th>0</th>\n",
       "      <td>2018-11-06 12:42:24</td>\n",
       "      <td>2018-11-06 12:54:49</td>\n",
       "      <td>0.87</td>\n",
       "      <td>9.0</td>\n",
       "      <td>0.0</td>\n",
       "      <td>0.5</td>\n",
       "      <td>0.00</td>\n",
       "      <td>0.00</td>\n",
       "      <td>0.3</td>\n",
       "      <td>9.80</td>\n",
       "      <td>1.0</td>\n",
       "      <td>1.0</td>\n",
       "      <td>1</td>\n",
       "      <td>229</td>\n",
       "      <td>237</td>\n",
       "    </tr>\n",
       "    <tr>\n",
       "      <th>1</th>\n",
       "      <td>2018-02-16 19:19:59</td>\n",
       "      <td>2018-02-16 19:26:41</td>\n",
       "      <td>1.50</td>\n",
       "      <td>7.0</td>\n",
       "      <td>1.0</td>\n",
       "      <td>0.5</td>\n",
       "      <td>1.32</td>\n",
       "      <td>0.00</td>\n",
       "      <td>0.3</td>\n",
       "      <td>10.12</td>\n",
       "      <td>2.0</td>\n",
       "      <td>1.0</td>\n",
       "      <td>2</td>\n",
       "      <td>48</td>\n",
       "      <td>158</td>\n",
       "    </tr>\n",
       "    <tr>\n",
       "      <th>2</th>\n",
       "      <td>2018-02-12 16:50:01</td>\n",
       "      <td>2018-02-12 17:43:55</td>\n",
       "      <td>22.60</td>\n",
       "      <td>52.0</td>\n",
       "      <td>0.0</td>\n",
       "      <td>0.5</td>\n",
       "      <td>0.00</td>\n",
       "      <td>5.76</td>\n",
       "      <td>0.3</td>\n",
       "      <td>58.56</td>\n",
       "      <td>2.0</td>\n",
       "      <td>2.0</td>\n",
       "      <td>1</td>\n",
       "      <td>132</td>\n",
       "      <td>48</td>\n",
       "    </tr>\n",
       "    <tr>\n",
       "      <th>3</th>\n",
       "      <td>2018-03-28 19:58:44</td>\n",
       "      <td>2018-03-28 20:07:14</td>\n",
       "      <td>1.61</td>\n",
       "      <td>8.0</td>\n",
       "      <td>1.0</td>\n",
       "      <td>0.5</td>\n",
       "      <td>1.00</td>\n",
       "      <td>0.00</td>\n",
       "      <td>0.3</td>\n",
       "      <td>10.80</td>\n",
       "      <td>1.0</td>\n",
       "      <td>1.0</td>\n",
       "      <td>2</td>\n",
       "      <td>68</td>\n",
       "      <td>211</td>\n",
       "    </tr>\n",
       "    <tr>\n",
       "      <th>4</th>\n",
       "      <td>2018-11-02 06:34:49</td>\n",
       "      <td>2018-11-02 06:50:07</td>\n",
       "      <td>2.70</td>\n",
       "      <td>12.5</td>\n",
       "      <td>0.0</td>\n",
       "      <td>0.5</td>\n",
       "      <td>2.65</td>\n",
       "      <td>0.00</td>\n",
       "      <td>0.3</td>\n",
       "      <td>15.95</td>\n",
       "      <td>2.0</td>\n",
       "      <td>1.0</td>\n",
       "      <td>2</td>\n",
       "      <td>79</td>\n",
       "      <td>230</td>\n",
       "    </tr>\n",
       "    <tr>\n",
       "      <th>...</th>\n",
       "      <td>...</td>\n",
       "      <td>...</td>\n",
       "      <td>...</td>\n",
       "      <td>...</td>\n",
       "      <td>...</td>\n",
       "      <td>...</td>\n",
       "      <td>...</td>\n",
       "      <td>...</td>\n",
       "      <td>...</td>\n",
       "      <td>...</td>\n",
       "      <td>...</td>\n",
       "      <td>...</td>\n",
       "      <td>...</td>\n",
       "      <td>...</td>\n",
       "      <td>...</td>\n",
       "    </tr>\n",
       "    <tr>\n",
       "      <th>1682988</th>\n",
       "      <td>2018-12-22 15:38:53</td>\n",
       "      <td>2018-12-22 15:57:07</td>\n",
       "      <td>1.58</td>\n",
       "      <td>12.0</td>\n",
       "      <td>0.0</td>\n",
       "      <td>0.5</td>\n",
       "      <td>0.00</td>\n",
       "      <td>0.00</td>\n",
       "      <td>0.3</td>\n",
       "      <td>12.80</td>\n",
       "      <td>1.0</td>\n",
       "      <td>1.0</td>\n",
       "      <td>1</td>\n",
       "      <td>230</td>\n",
       "      <td>186</td>\n",
       "    </tr>\n",
       "    <tr>\n",
       "      <th>1682989</th>\n",
       "      <td>2018-03-18 00:55:53</td>\n",
       "      <td>2018-03-18 01:07:14</td>\n",
       "      <td>2.20</td>\n",
       "      <td>10.0</td>\n",
       "      <td>0.5</td>\n",
       "      <td>0.5</td>\n",
       "      <td>1.00</td>\n",
       "      <td>0.00</td>\n",
       "      <td>0.3</td>\n",
       "      <td>12.30</td>\n",
       "      <td>2.0</td>\n",
       "      <td>1.0</td>\n",
       "      <td>2</td>\n",
       "      <td>45</td>\n",
       "      <td>90</td>\n",
       "    </tr>\n",
       "    <tr>\n",
       "      <th>1682990</th>\n",
       "      <td>2018-11-15 02:42:36</td>\n",
       "      <td>2018-11-15 03:03:16</td>\n",
       "      <td>9.30</td>\n",
       "      <td>28.5</td>\n",
       "      <td>0.5</td>\n",
       "      <td>0.5</td>\n",
       "      <td>8.85</td>\n",
       "      <td>5.76</td>\n",
       "      <td>0.3</td>\n",
       "      <td>44.41</td>\n",
       "      <td>2.0</td>\n",
       "      <td>1.0</td>\n",
       "      <td>2</td>\n",
       "      <td>246</td>\n",
       "      <td>95</td>\n",
       "    </tr>\n",
       "    <tr>\n",
       "      <th>1682991</th>\n",
       "      <td>2018-12-12 17:57:51</td>\n",
       "      <td>2018-12-12 18:19:49</td>\n",
       "      <td>5.17</td>\n",
       "      <td>19.5</td>\n",
       "      <td>1.0</td>\n",
       "      <td>0.5</td>\n",
       "      <td>4.26</td>\n",
       "      <td>0.00</td>\n",
       "      <td>0.3</td>\n",
       "      <td>25.56</td>\n",
       "      <td>1.0</td>\n",
       "      <td>1.0</td>\n",
       "      <td>2</td>\n",
       "      <td>13</td>\n",
       "      <td>143</td>\n",
       "    </tr>\n",
       "    <tr>\n",
       "      <th>1682992</th>\n",
       "      <td>2018-09-22 00:17:32</td>\n",
       "      <td>2018-09-22 00:42:16</td>\n",
       "      <td>4.77</td>\n",
       "      <td>19.5</td>\n",
       "      <td>0.5</td>\n",
       "      <td>0.5</td>\n",
       "      <td>4.16</td>\n",
       "      <td>0.00</td>\n",
       "      <td>0.3</td>\n",
       "      <td>24.96</td>\n",
       "      <td>1.0</td>\n",
       "      <td>1.0</td>\n",
       "      <td>2</td>\n",
       "      <td>68</td>\n",
       "      <td>140</td>\n",
       "    </tr>\n",
       "  </tbody>\n",
       "</table>\n",
       "<p>1682993 rows × 15 columns</p>\n",
       "</div>"
      ],
      "text/plain": [
       "        tpep_pickup_datetime tpep_dropoff_datetime  trip_distance  \\\n",
       "0        2018-11-06 12:42:24   2018-11-06 12:54:49           0.87   \n",
       "1        2018-02-16 19:19:59   2018-02-16 19:26:41           1.50   \n",
       "2        2018-02-12 16:50:01   2018-02-12 17:43:55          22.60   \n",
       "3        2018-03-28 19:58:44   2018-03-28 20:07:14           1.61   \n",
       "4        2018-11-02 06:34:49   2018-11-02 06:50:07           2.70   \n",
       "...                      ...                   ...            ...   \n",
       "1682988  2018-12-22 15:38:53   2018-12-22 15:57:07           1.58   \n",
       "1682989  2018-03-18 00:55:53   2018-03-18 01:07:14           2.20   \n",
       "1682990  2018-11-15 02:42:36   2018-11-15 03:03:16           9.30   \n",
       "1682991  2018-12-12 17:57:51   2018-12-12 18:19:49           5.17   \n",
       "1682992  2018-09-22 00:17:32   2018-09-22 00:42:16           4.77   \n",
       "\n",
       "         fare_amount  extra  mta_tax  tip_amount  tolls_amount  \\\n",
       "0                9.0    0.0      0.5        0.00          0.00   \n",
       "1                7.0    1.0      0.5        1.32          0.00   \n",
       "2               52.0    0.0      0.5        0.00          5.76   \n",
       "3                8.0    1.0      0.5        1.00          0.00   \n",
       "4               12.5    0.0      0.5        2.65          0.00   \n",
       "...              ...    ...      ...         ...           ...   \n",
       "1682988         12.0    0.0      0.5        0.00          0.00   \n",
       "1682989         10.0    0.5      0.5        1.00          0.00   \n",
       "1682990         28.5    0.5      0.5        8.85          5.76   \n",
       "1682991         19.5    1.0      0.5        4.26          0.00   \n",
       "1682992         19.5    0.5      0.5        4.16          0.00   \n",
       "\n",
       "         improvement_surcharge  total_amount  fk_id_Vendor  fk_id_Ratecode  \\\n",
       "0                          0.3          9.80           1.0             1.0   \n",
       "1                          0.3         10.12           2.0             1.0   \n",
       "2                          0.3         58.56           2.0             2.0   \n",
       "3                          0.3         10.80           1.0             1.0   \n",
       "4                          0.3         15.95           2.0             1.0   \n",
       "...                        ...           ...           ...             ...   \n",
       "1682988                    0.3         12.80           1.0             1.0   \n",
       "1682989                    0.3         12.30           2.0             1.0   \n",
       "1682990                    0.3         44.41           2.0             1.0   \n",
       "1682991                    0.3         25.56           1.0             1.0   \n",
       "1682992                    0.3         24.96           1.0             1.0   \n",
       "\n",
       "         fk_id_payment_type  fk_id_PUZone  fk_id_DOZone  \n",
       "0                         1           229           237  \n",
       "1                         2            48           158  \n",
       "2                         1           132            48  \n",
       "3                         2            68           211  \n",
       "4                         2            79           230  \n",
       "...                     ...           ...           ...  \n",
       "1682988                   1           230           186  \n",
       "1682989                   2            45            90  \n",
       "1682990                   2           246            95  \n",
       "1682991                   2            13           143  \n",
       "1682992                   2            68           140  \n",
       "\n",
       "[1682993 rows x 15 columns]"
      ]
     },
     "execution_count": 56,
     "metadata": {},
     "output_type": "execute_result"
    }
   ],
   "source": [
    "df_muestra"
   ]
  },
  {
   "cell_type": "code",
   "execution_count": 57,
   "metadata": {
    "ExecuteTime": {
     "end_time": "2021-01-04T01:06:30.133362Z",
     "start_time": "2021-01-04T01:06:30.107284Z"
    }
   },
   "outputs": [],
   "source": [
    "df_muestra.insert(0,'ID',df_muestra.index+1)"
   ]
  },
  {
   "cell_type": "code",
   "execution_count": 58,
   "metadata": {
    "ExecuteTime": {
     "end_time": "2021-01-04T01:06:34.903604Z",
     "start_time": "2021-01-04T01:06:34.854864Z"
    }
   },
   "outputs": [
    {
     "data": {
      "text/html": [
       "<div>\n",
       "<style scoped>\n",
       "    .dataframe tbody tr th:only-of-type {\n",
       "        vertical-align: middle;\n",
       "    }\n",
       "\n",
       "    .dataframe tbody tr th {\n",
       "        vertical-align: top;\n",
       "    }\n",
       "\n",
       "    .dataframe thead th {\n",
       "        text-align: right;\n",
       "    }\n",
       "</style>\n",
       "<table border=\"1\" class=\"dataframe\">\n",
       "  <thead>\n",
       "    <tr style=\"text-align: right;\">\n",
       "      <th></th>\n",
       "      <th>ID</th>\n",
       "      <th>tpep_pickup_datetime</th>\n",
       "      <th>tpep_dropoff_datetime</th>\n",
       "      <th>trip_distance</th>\n",
       "      <th>fare_amount</th>\n",
       "      <th>extra</th>\n",
       "      <th>mta_tax</th>\n",
       "      <th>tip_amount</th>\n",
       "      <th>tolls_amount</th>\n",
       "      <th>improvement_surcharge</th>\n",
       "      <th>total_amount</th>\n",
       "      <th>fk_id_Vendor</th>\n",
       "      <th>fk_id_Ratecode</th>\n",
       "      <th>fk_id_payment_type</th>\n",
       "      <th>fk_id_PUZone</th>\n",
       "      <th>fk_id_DOZone</th>\n",
       "    </tr>\n",
       "  </thead>\n",
       "  <tbody>\n",
       "    <tr>\n",
       "      <th>0</th>\n",
       "      <td>1</td>\n",
       "      <td>2018-11-06 12:42:24</td>\n",
       "      <td>2018-11-06 12:54:49</td>\n",
       "      <td>0.87</td>\n",
       "      <td>9.0</td>\n",
       "      <td>0.0</td>\n",
       "      <td>0.5</td>\n",
       "      <td>0.00</td>\n",
       "      <td>0.00</td>\n",
       "      <td>0.3</td>\n",
       "      <td>9.80</td>\n",
       "      <td>1.0</td>\n",
       "      <td>1.0</td>\n",
       "      <td>1</td>\n",
       "      <td>229</td>\n",
       "      <td>237</td>\n",
       "    </tr>\n",
       "    <tr>\n",
       "      <th>1</th>\n",
       "      <td>2</td>\n",
       "      <td>2018-02-16 19:19:59</td>\n",
       "      <td>2018-02-16 19:26:41</td>\n",
       "      <td>1.50</td>\n",
       "      <td>7.0</td>\n",
       "      <td>1.0</td>\n",
       "      <td>0.5</td>\n",
       "      <td>1.32</td>\n",
       "      <td>0.00</td>\n",
       "      <td>0.3</td>\n",
       "      <td>10.12</td>\n",
       "      <td>2.0</td>\n",
       "      <td>1.0</td>\n",
       "      <td>2</td>\n",
       "      <td>48</td>\n",
       "      <td>158</td>\n",
       "    </tr>\n",
       "    <tr>\n",
       "      <th>2</th>\n",
       "      <td>3</td>\n",
       "      <td>2018-02-12 16:50:01</td>\n",
       "      <td>2018-02-12 17:43:55</td>\n",
       "      <td>22.60</td>\n",
       "      <td>52.0</td>\n",
       "      <td>0.0</td>\n",
       "      <td>0.5</td>\n",
       "      <td>0.00</td>\n",
       "      <td>5.76</td>\n",
       "      <td>0.3</td>\n",
       "      <td>58.56</td>\n",
       "      <td>2.0</td>\n",
       "      <td>2.0</td>\n",
       "      <td>1</td>\n",
       "      <td>132</td>\n",
       "      <td>48</td>\n",
       "    </tr>\n",
       "    <tr>\n",
       "      <th>3</th>\n",
       "      <td>4</td>\n",
       "      <td>2018-03-28 19:58:44</td>\n",
       "      <td>2018-03-28 20:07:14</td>\n",
       "      <td>1.61</td>\n",
       "      <td>8.0</td>\n",
       "      <td>1.0</td>\n",
       "      <td>0.5</td>\n",
       "      <td>1.00</td>\n",
       "      <td>0.00</td>\n",
       "      <td>0.3</td>\n",
       "      <td>10.80</td>\n",
       "      <td>1.0</td>\n",
       "      <td>1.0</td>\n",
       "      <td>2</td>\n",
       "      <td>68</td>\n",
       "      <td>211</td>\n",
       "    </tr>\n",
       "    <tr>\n",
       "      <th>4</th>\n",
       "      <td>5</td>\n",
       "      <td>2018-11-02 06:34:49</td>\n",
       "      <td>2018-11-02 06:50:07</td>\n",
       "      <td>2.70</td>\n",
       "      <td>12.5</td>\n",
       "      <td>0.0</td>\n",
       "      <td>0.5</td>\n",
       "      <td>2.65</td>\n",
       "      <td>0.00</td>\n",
       "      <td>0.3</td>\n",
       "      <td>15.95</td>\n",
       "      <td>2.0</td>\n",
       "      <td>1.0</td>\n",
       "      <td>2</td>\n",
       "      <td>79</td>\n",
       "      <td>230</td>\n",
       "    </tr>\n",
       "  </tbody>\n",
       "</table>\n",
       "</div>"
      ],
      "text/plain": [
       "   ID tpep_pickup_datetime tpep_dropoff_datetime  trip_distance  fare_amount  \\\n",
       "0   1  2018-11-06 12:42:24   2018-11-06 12:54:49           0.87          9.0   \n",
       "1   2  2018-02-16 19:19:59   2018-02-16 19:26:41           1.50          7.0   \n",
       "2   3  2018-02-12 16:50:01   2018-02-12 17:43:55          22.60         52.0   \n",
       "3   4  2018-03-28 19:58:44   2018-03-28 20:07:14           1.61          8.0   \n",
       "4   5  2018-11-02 06:34:49   2018-11-02 06:50:07           2.70         12.5   \n",
       "\n",
       "   extra  mta_tax  tip_amount  tolls_amount  improvement_surcharge  \\\n",
       "0    0.0      0.5        0.00          0.00                    0.3   \n",
       "1    1.0      0.5        1.32          0.00                    0.3   \n",
       "2    0.0      0.5        0.00          5.76                    0.3   \n",
       "3    1.0      0.5        1.00          0.00                    0.3   \n",
       "4    0.0      0.5        2.65          0.00                    0.3   \n",
       "\n",
       "   total_amount  fk_id_Vendor  fk_id_Ratecode  fk_id_payment_type  \\\n",
       "0          9.80           1.0             1.0                   1   \n",
       "1         10.12           2.0             1.0                   2   \n",
       "2         58.56           2.0             2.0                   1   \n",
       "3         10.80           1.0             1.0                   2   \n",
       "4         15.95           2.0             1.0                   2   \n",
       "\n",
       "   fk_id_PUZone  fk_id_DOZone  \n",
       "0           229           237  \n",
       "1            48           158  \n",
       "2           132            48  \n",
       "3            68           211  \n",
       "4            79           230  "
      ]
     },
     "execution_count": 58,
     "metadata": {},
     "output_type": "execute_result"
    }
   ],
   "source": [
    "df_muestra.head()"
   ]
  },
  {
   "cell_type": "markdown",
   "metadata": {},
   "source": [
    "Guardamos el df para posteriormente cargarlo y no hacer todo el proceso anterior"
   ]
  },
  {
   "cell_type": "code",
   "execution_count": 59,
   "metadata": {
    "ExecuteTime": {
     "end_time": "2021-01-04T01:06:40.344659Z",
     "start_time": "2021-01-04T01:06:39.510055Z"
    }
   },
   "outputs": [],
   "source": [
    "df_muestra.to_pickle('viaje.pickle')"
   ]
  },
  {
   "cell_type": "code",
   "execution_count": 60,
   "metadata": {
    "ExecuteTime": {
     "end_time": "2021-01-04T01:06:45.255529Z",
     "start_time": "2021-01-04T01:06:45.117782Z"
    }
   },
   "outputs": [],
   "source": [
    "df_muestra=pd.read_pickle('viaje.pickle')"
   ]
  },
  {
   "cell_type": "code",
   "execution_count": 61,
   "metadata": {
    "ExecuteTime": {
     "end_time": "2021-01-04T01:10:11.425101Z",
     "start_time": "2021-01-04T01:06:49.856072Z"
    }
   },
   "outputs": [],
   "source": [
    "df_muestra.to_sql(con=engine,\n",
    "                name='viaje',\n",
    "                if_exists='replace',\n",
    "                chunksize=10000,\n",
    "                index=False)"
   ]
  },
  {
   "cell_type": "code",
   "execution_count": 62,
   "metadata": {
    "ExecuteTime": {
     "end_time": "2021-01-04T01:10:11.685747Z",
     "start_time": "2021-01-04T01:10:11.428458Z"
    }
   },
   "outputs": [
    {
     "name": "stdout",
     "output_type": "stream",
     "text": [
      "<class 'pandas.core.frame.DataFrame'>\n",
      "Int64Index: 1682993 entries, 0 to 1682992\n",
      "Data columns (total 16 columns):\n",
      " #   Column                 Non-Null Count    Dtype         \n",
      "---  ------                 --------------    -----         \n",
      " 0   ID                     1682993 non-null  int64         \n",
      " 1   tpep_pickup_datetime   1682993 non-null  datetime64[ns]\n",
      " 2   tpep_dropoff_datetime  1682993 non-null  datetime64[ns]\n",
      " 3   trip_distance          1682993 non-null  float64       \n",
      " 4   fare_amount            1682993 non-null  float64       \n",
      " 5   extra                  1682993 non-null  float64       \n",
      " 6   mta_tax                1682993 non-null  float64       \n",
      " 7   tip_amount             1682993 non-null  float64       \n",
      " 8   tolls_amount           1682993 non-null  float64       \n",
      " 9   improvement_surcharge  1682993 non-null  float64       \n",
      " 10  total_amount           1682993 non-null  float64       \n",
      " 11  fk_id_Vendor           1675642 non-null  float64       \n",
      " 12  fk_id_Ratecode         1682920 non-null  float64       \n",
      " 13  fk_id_payment_type     1682993 non-null  int64         \n",
      " 14  fk_id_PUZone           1682993 non-null  int64         \n",
      " 15  fk_id_DOZone           1682993 non-null  int64         \n",
      "dtypes: datetime64[ns](2), float64(10), int64(4)\n",
      "memory usage: 218.3 MB\n"
     ]
    }
   ],
   "source": [
    "df_muestra.info()"
   ]
  },
  {
   "cell_type": "markdown",
   "metadata": {
    "ExecuteTime": {
     "end_time": "2020-12-31T04:10:18.786920Z",
     "start_time": "2020-12-31T04:09:28.360348Z"
    }
   },
   "source": [
    "# 5-. Modelo de Arbol "
   ]
  },
  {
   "cell_type": "markdown",
   "metadata": {},
   "source": [
    "Ponemos nuestras variables que ocuparemos en enteros "
   ]
  },
  {
   "cell_type": "code",
   "execution_count": 62,
   "metadata": {
    "ExecuteTime": {
     "end_time": "2021-01-03T20:03:22.231224Z",
     "start_time": "2021-01-03T20:03:20.903492Z"
    }
   },
   "outputs": [],
   "source": [
    "df=df_muestra.copy()"
   ]
  },
  {
   "cell_type": "code",
   "execution_count": 63,
   "metadata": {
    "ExecuteTime": {
     "end_time": "2021-01-03T20:03:30.041232Z",
     "start_time": "2021-01-03T20:03:28.489522Z"
    }
   },
   "outputs": [],
   "source": [
    "varc=['fk_id_Vendor', 'fk_id_Ratecode', 'fk_id_PUZone','ID']\n",
    "for x in varc:\n",
    "    df[x] = pd.to_numeric(df[x], errors='coerce')\n",
    "    df = df.dropna(subset=[x])\n",
    "    df[x] = df[x].astype(int)"
   ]
  },
  {
   "cell_type": "code",
   "execution_count": 64,
   "metadata": {
    "ExecuteTime": {
     "end_time": "2021-01-03T20:05:03.303137Z",
     "start_time": "2021-01-03T20:04:46.489772Z"
    }
   },
   "outputs": [],
   "source": [
    "horas=pd.DataFrame()\n",
    "horas['HoraSalida']=df.tpep_pickup_datetime.map(lambda x : x.hour)"
   ]
  },
  {
   "cell_type": "code",
   "execution_count": 65,
   "metadata": {
    "ExecuteTime": {
     "end_time": "2021-01-03T20:05:08.741810Z",
     "start_time": "2021-01-03T20:05:08.724020Z"
    }
   },
   "outputs": [],
   "source": [
    "df.insert(3,'Horas',horas)"
   ]
  },
  {
   "cell_type": "markdown",
   "metadata": {},
   "source": [
    "Agregamos el volumen del viaje, pero como cada viaje represente un volumen le asiganmos a cada uno el numero 1 "
   ]
  },
  {
   "cell_type": "code",
   "execution_count": 66,
   "metadata": {
    "ExecuteTime": {
     "end_time": "2021-01-03T20:05:59.462517Z",
     "start_time": "2021-01-03T20:05:59.366659Z"
    }
   },
   "outputs": [],
   "source": [
    "df=df.assign(Volumen=1)"
   ]
  },
  {
   "cell_type": "markdown",
   "metadata": {},
   "source": [
    "Relizamos una trasnformacion a nuestros datos, ya que con esta transformacion nos sera de ultilidad, las variables que escogemos son las varibles categoricas, puesto que las varibles cuantitativas, en este caso el dinero no aportan tanto para el volumen de los viajes "
   ]
  },
  {
   "cell_type": "code",
   "execution_count": 143,
   "metadata": {
    "ExecuteTime": {
     "end_time": "2021-01-03T21:37:53.786732Z",
     "start_time": "2021-01-03T21:37:53.399030Z"
    }
   },
   "outputs": [],
   "source": [
    "df_modelo=df[['Horas','fk_id_Vendor',\n",
    "              'fk_id_Ratecode','Volumen']].copy().groupby([\n",
    "    'Horas','fk_id_Vendor', 'fk_id_Ratecode']).sum().reset_index()"
   ]
  },
  {
   "cell_type": "code",
   "execution_count": 144,
   "metadata": {
    "ExecuteTime": {
     "end_time": "2021-01-03T21:38:04.845654Z",
     "start_time": "2021-01-03T21:38:04.815289Z"
    }
   },
   "outputs": [
    {
     "data": {
      "text/html": [
       "<div>\n",
       "<style scoped>\n",
       "    .dataframe tbody tr th:only-of-type {\n",
       "        vertical-align: middle;\n",
       "    }\n",
       "\n",
       "    .dataframe tbody tr th {\n",
       "        vertical-align: top;\n",
       "    }\n",
       "\n",
       "    .dataframe thead th {\n",
       "        text-align: right;\n",
       "    }\n",
       "</style>\n",
       "<table border=\"1\" class=\"dataframe\">\n",
       "  <thead>\n",
       "    <tr style=\"text-align: right;\">\n",
       "      <th></th>\n",
       "      <th>Horas</th>\n",
       "      <th>fk_id_Vendor</th>\n",
       "      <th>fk_id_Ratecode</th>\n",
       "      <th>Volumen</th>\n",
       "    </tr>\n",
       "  </thead>\n",
       "  <tbody>\n",
       "    <tr>\n",
       "      <th>0</th>\n",
       "      <td>0</td>\n",
       "      <td>1</td>\n",
       "      <td>1</td>\n",
       "      <td>29756</td>\n",
       "    </tr>\n",
       "    <tr>\n",
       "      <th>1</th>\n",
       "      <td>0</td>\n",
       "      <td>1</td>\n",
       "      <td>2</td>\n",
       "      <td>666</td>\n",
       "    </tr>\n",
       "    <tr>\n",
       "      <th>2</th>\n",
       "      <td>0</td>\n",
       "      <td>1</td>\n",
       "      <td>3</td>\n",
       "      <td>198</td>\n",
       "    </tr>\n",
       "    <tr>\n",
       "      <th>3</th>\n",
       "      <td>0</td>\n",
       "      <td>1</td>\n",
       "      <td>4</td>\n",
       "      <td>14</td>\n",
       "    </tr>\n",
       "    <tr>\n",
       "      <th>4</th>\n",
       "      <td>0</td>\n",
       "      <td>1</td>\n",
       "      <td>5</td>\n",
       "      <td>25</td>\n",
       "    </tr>\n",
       "    <tr>\n",
       "      <th>...</th>\n",
       "      <td>...</td>\n",
       "      <td>...</td>\n",
       "      <td>...</td>\n",
       "      <td>...</td>\n",
       "    </tr>\n",
       "    <tr>\n",
       "      <th>246</th>\n",
       "      <td>23</td>\n",
       "      <td>2</td>\n",
       "      <td>2</td>\n",
       "      <td>483</td>\n",
       "    </tr>\n",
       "    <tr>\n",
       "      <th>247</th>\n",
       "      <td>23</td>\n",
       "      <td>2</td>\n",
       "      <td>3</td>\n",
       "      <td>117</td>\n",
       "    </tr>\n",
       "    <tr>\n",
       "      <th>248</th>\n",
       "      <td>23</td>\n",
       "      <td>2</td>\n",
       "      <td>4</td>\n",
       "      <td>16</td>\n",
       "    </tr>\n",
       "    <tr>\n",
       "      <th>249</th>\n",
       "      <td>23</td>\n",
       "      <td>2</td>\n",
       "      <td>5</td>\n",
       "      <td>23</td>\n",
       "    </tr>\n",
       "    <tr>\n",
       "      <th>250</th>\n",
       "      <td>23</td>\n",
       "      <td>2</td>\n",
       "      <td>6</td>\n",
       "      <td>1</td>\n",
       "    </tr>\n",
       "  </tbody>\n",
       "</table>\n",
       "<p>251 rows × 4 columns</p>\n",
       "</div>"
      ],
      "text/plain": [
       "     Horas  fk_id_Vendor  fk_id_Ratecode  Volumen\n",
       "0        0             1               1    29756\n",
       "1        0             1               2      666\n",
       "2        0             1               3      198\n",
       "3        0             1               4       14\n",
       "4        0             1               5       25\n",
       "..     ...           ...             ...      ...\n",
       "246     23             2               2      483\n",
       "247     23             2               3      117\n",
       "248     23             2               4       16\n",
       "249     23             2               5       23\n",
       "250     23             2               6        1\n",
       "\n",
       "[251 rows x 4 columns]"
      ]
     },
     "execution_count": 144,
     "metadata": {},
     "output_type": "execute_result"
    }
   ],
   "source": [
    "df_modelo "
   ]
  },
  {
   "cell_type": "markdown",
   "metadata": {},
   "source": [
    "Veamos como se comporta las horas con el volumen de viajes "
   ]
  },
  {
   "cell_type": "code",
   "execution_count": 127,
   "metadata": {
    "ExecuteTime": {
     "end_time": "2021-01-03T21:32:14.550102Z",
     "start_time": "2021-01-03T21:32:11.928439Z"
    }
   },
   "outputs": [
    {
     "data": {
      "text/plain": [
       "<AxesSubplot:xlabel='Horas', ylabel='Volumen'>"
      ]
     },
     "execution_count": 127,
     "metadata": {},
     "output_type": "execute_result"
    },
    {
     "data": {
      "image/png": "[encoded data removed]",
      "text/plain": [
       "<Figure size 1080x360 with 1 Axes>"
      ]
     },
     "metadata": {
      "needs_background": "light"
     },
     "output_type": "display_data"
    }
   ],
   "source": [
    "fig, ax = plt.subplots(figsize = (15,5))\n",
    "sns.barplot(y='Volumen',x='Horas',data=df_modelo,ax=ax)"
   ]
  },
  {
   "cell_type": "markdown",
   "metadata": {},
   "source": [
    "## 5.1-. Armado de modelo "
   ]
  },
  {
   "cell_type": "code",
   "execution_count": 128,
   "metadata": {
    "ExecuteTime": {
     "end_time": "2021-01-03T21:32:25.326497Z",
     "start_time": "2021-01-03T21:32:25.319823Z"
    }
   },
   "outputs": [],
   "source": [
    "varc=['Horas','fk_id_Vendor','fk_id_Ratecode']"
   ]
  },
  {
   "cell_type": "code",
   "execution_count": 74,
   "metadata": {
    "ExecuteTime": {
     "end_time": "2021-01-03T20:16:02.743959Z",
     "start_time": "2021-01-03T20:16:01.884739Z"
    }
   },
   "outputs": [],
   "source": [
    "from sklearn.tree import DecisionTreeRegressor"
   ]
  },
  {
   "cell_type": "code",
   "execution_count": 75,
   "metadata": {
    "ExecuteTime": {
     "end_time": "2021-01-03T20:16:11.776164Z",
     "start_time": "2021-01-03T20:16:11.770599Z"
    }
   },
   "outputs": [],
   "source": [
    "hiper_param = dict(criterion =[\"friedman_mse\"],\n",
    "splitter = [\"best\", \"random\"],\n",
    "max_leaf_nodes = list(range(2, 100)),\n",
    "min_samples_split= [2, 3, 4])"
   ]
  },
  {
   "cell_type": "code",
   "execution_count": 77,
   "metadata": {
    "ExecuteTime": {
     "end_time": "2021-01-03T20:18:07.182137Z",
     "start_time": "2021-01-03T20:18:07.175713Z"
    }
   },
   "outputs": [],
   "source": [
    "from sklearn.model_selection import GridSearchCV\n",
    "from sklearn.model_selection import train_test_split\n",
    "from sklearn.metrics import mean_absolute_error"
   ]
  },
  {
   "cell_type": "code",
   "execution_count": 129,
   "metadata": {
    "ExecuteTime": {
     "end_time": "2021-01-03T21:32:35.569253Z",
     "start_time": "2021-01-03T21:32:35.551810Z"
    }
   },
   "outputs": [],
   "source": [
    "X = df_modelo[varc].copy()\n",
    "y = df_modelo['Volumen'].copy()"
   ]
  },
  {
   "cell_type": "code",
   "execution_count": 130,
   "metadata": {
    "ExecuteTime": {
     "end_time": "2021-01-03T21:32:47.440429Z",
     "start_time": "2021-01-03T21:32:47.416298Z"
    }
   },
   "outputs": [],
   "source": [
    "Xt, Xv, yt, yv = train_test_split(X,y,train_size=0.7)"
   ]
  },
  {
   "cell_type": "code",
   "execution_count": 131,
   "metadata": {
    "ExecuteTime": {
     "end_time": "2021-01-03T21:32:57.829036Z",
     "start_time": "2021-01-03T21:32:57.809122Z"
    }
   },
   "outputs": [
    {
     "data": {
      "text/plain": [
       "((175, 3), (76, 3))"
      ]
     },
     "execution_count": 131,
     "metadata": {},
     "output_type": "execute_result"
    }
   ],
   "source": [
    "Xt.shape,Xv.shape"
   ]
  },
  {
   "cell_type": "code",
   "execution_count": 132,
   "metadata": {
    "ExecuteTime": {
     "end_time": "2021-01-03T21:33:08.896568Z",
     "start_time": "2021-01-03T21:33:08.878971Z"
    }
   },
   "outputs": [],
   "source": [
    "from sklearn.model_selection import GridSearchCV\n",
    "grid = GridSearchCV(DecisionTreeRegressor(random_state=42),\n",
    "                    hiper_param ,\n",
    "                    verbose=1, \n",
    "                    cv=10,\n",
    "                    scoring='explained_variance',\n",
    "                    n_jobs=-1)"
   ]
  },
  {
   "cell_type": "code",
   "execution_count": 133,
   "metadata": {
    "ExecuteTime": {
     "end_time": "2021-01-03T21:34:04.690914Z",
     "start_time": "2021-01-03T21:33:20.621163Z"
    }
   },
   "outputs": [
    {
     "name": "stdout",
     "output_type": "stream",
     "text": [
      "Fitting 10 folds for each of 588 candidates, totalling 5880 fits\n"
     ]
    },
    {
     "name": "stderr",
     "output_type": "stream",
     "text": [
      "[Parallel(n_jobs=-1)]: Using backend LokyBackend with 4 concurrent workers.\n",
      "[Parallel(n_jobs=-1)]: Done  56 tasks      | elapsed:    7.3s\n",
      "[Parallel(n_jobs=-1)]: Done 1232 tasks      | elapsed:   14.3s\n",
      "[Parallel(n_jobs=-1)]: Done 3232 tasks      | elapsed:   25.1s\n",
      "[Parallel(n_jobs=-1)]: Done 5880 out of 5880 | elapsed:   43.9s finished\n"
     ]
    },
    {
     "data": {
      "text/plain": [
       "GridSearchCV(cv=10, estimator=DecisionTreeRegressor(random_state=42), n_jobs=-1,\n",
       "             param_grid={'criterion': ['friedman_mse'],\n",
       "                         'max_leaf_nodes': [2, 3, 4, 5, 6, 7, 8, 9, 10, 11, 12,\n",
       "                                            13, 14, 15, 16, 17, 18, 19, 20, 21,\n",
       "                                            22, 23, 24, 25, 26, 27, 28, 29, 30,\n",
       "                                            31, ...],\n",
       "                         'min_samples_split': [2, 3, 4],\n",
       "                         'splitter': ['best', 'random']},\n",
       "             scoring='explained_variance', verbose=1)"
      ]
     },
     "execution_count": 133,
     "metadata": {},
     "output_type": "execute_result"
    }
   ],
   "source": [
    "grid.fit(Xt,yt)"
   ]
  },
  {
   "cell_type": "code",
   "execution_count": 134,
   "metadata": {
    "ExecuteTime": {
     "end_time": "2021-01-03T21:34:15.881862Z",
     "start_time": "2021-01-03T21:34:15.868958Z"
    }
   },
   "outputs": [
    {
     "data": {
      "text/plain": [
       "{'criterion': 'friedman_mse',\n",
       " 'max_leaf_nodes': 49,\n",
       " 'min_samples_split': 3,\n",
       " 'splitter': 'best'}"
      ]
     },
     "execution_count": 134,
     "metadata": {},
     "output_type": "execute_result"
    }
   ],
   "source": [
    "grid.best_params_"
   ]
  },
  {
   "cell_type": "code",
   "execution_count": 135,
   "metadata": {
    "ExecuteTime": {
     "end_time": "2021-01-03T21:34:24.771672Z",
     "start_time": "2021-01-03T21:34:24.763903Z"
    }
   },
   "outputs": [
    {
     "data": {
      "text/plain": [
       "0.9742975442336752"
      ]
     },
     "execution_count": 135,
     "metadata": {},
     "output_type": "execute_result"
    }
   ],
   "source": [
    "grid.best_score_"
   ]
  },
  {
   "cell_type": "markdown",
   "metadata": {},
   "source": [
    "Podemos ver que tenemos un muy buen score, asi que utilizaremos ese modelo "
   ]
  },
  {
   "cell_type": "code",
   "execution_count": 136,
   "metadata": {
    "ExecuteTime": {
     "end_time": "2021-01-03T21:34:36.827321Z",
     "start_time": "2021-01-03T21:34:36.821509Z"
    }
   },
   "outputs": [],
   "source": [
    "modelo = grid.best_estimator_"
   ]
  },
  {
   "cell_type": "code",
   "execution_count": 137,
   "metadata": {
    "ExecuteTime": {
     "end_time": "2021-01-03T21:34:47.606962Z",
     "start_time": "2021-01-03T21:34:47.569543Z"
    }
   },
   "outputs": [
    {
     "data": {
      "text/plain": [
       "DecisionTreeRegressor(criterion='friedman_mse', max_leaf_nodes=49,\n",
       "                      min_samples_split=3, random_state=42)"
      ]
     },
     "execution_count": 137,
     "metadata": {},
     "output_type": "execute_result"
    }
   ],
   "source": [
    "modelo.fit(Xt,yt)"
   ]
  },
  {
   "cell_type": "code",
   "execution_count": 138,
   "metadata": {
    "ExecuteTime": {
     "end_time": "2021-01-03T21:34:58.036704Z",
     "start_time": "2021-01-03T21:34:58.003038Z"
    }
   },
   "outputs": [
    {
     "name": "stdout",
     "output_type": "stream",
     "text": [
      "0.9975733483691142\n",
      "0.9769030139951516\n"
     ]
    }
   ],
   "source": [
    "print(modelo.score(Xt,yt))\n",
    "print(modelo.score(Xv,yv))"
   ]
  },
  {
   "cell_type": "code",
   "execution_count": 139,
   "metadata": {
    "ExecuteTime": {
     "end_time": "2021-01-03T21:36:44.214464Z",
     "start_time": "2021-01-03T21:36:44.196833Z"
    }
   },
   "outputs": [
    {
     "name": "stdout",
     "output_type": "stream",
     "text": [
      "205.79271148459387\n",
      "880.8300374097008\n"
     ]
    }
   ],
   "source": [
    "print(mean_absolute_error(y_true=yt,y_pred=modelo.predict(Xt)))\n",
    "print(mean_absolute_error(y_true=yv,y_pred=modelo.predict(Xv)))"
   ]
  },
  {
   "cell_type": "code",
   "execution_count": 140,
   "metadata": {
    "ExecuteTime": {
     "end_time": "2021-01-03T21:36:54.013069Z",
     "start_time": "2021-01-03T21:36:54.005024Z"
    }
   },
   "outputs": [],
   "source": [
    "df_Apredic=df_modelo.copy()"
   ]
  },
  {
   "cell_type": "code",
   "execution_count": 141,
   "metadata": {
    "ExecuteTime": {
     "end_time": "2021-01-03T21:37:03.808754Z",
     "start_time": "2021-01-03T21:37:03.783685Z"
    }
   },
   "outputs": [],
   "source": [
    "df_Apredic['Volpredict']=modelo.apply(df_modelo[varc])"
   ]
  },
  {
   "cell_type": "code",
   "execution_count": 142,
   "metadata": {
    "ExecuteTime": {
     "end_time": "2021-01-03T21:37:18.037381Z",
     "start_time": "2021-01-03T21:37:18.009894Z"
    }
   },
   "outputs": [
    {
     "data": {
      "text/html": [
       "<div>\n",
       "<style scoped>\n",
       "    .dataframe tbody tr th:only-of-type {\n",
       "        vertical-align: middle;\n",
       "    }\n",
       "\n",
       "    .dataframe tbody tr th {\n",
       "        vertical-align: top;\n",
       "    }\n",
       "\n",
       "    .dataframe thead th {\n",
       "        text-align: right;\n",
       "    }\n",
       "</style>\n",
       "<table border=\"1\" class=\"dataframe\">\n",
       "  <thead>\n",
       "    <tr style=\"text-align: right;\">\n",
       "      <th></th>\n",
       "      <th>Horas</th>\n",
       "      <th>fk_id_Vendor</th>\n",
       "      <th>fk_id_Ratecode</th>\n",
       "      <th>fk_id_PUZone</th>\n",
       "      <th>Volumen</th>\n",
       "      <th>Volpredict</th>\n",
       "    </tr>\n",
       "  </thead>\n",
       "  <tbody>\n",
       "    <tr>\n",
       "      <th>0</th>\n",
       "      <td>0</td>\n",
       "      <td>1</td>\n",
       "      <td>1</td>\n",
       "      <td>4572776</td>\n",
       "      <td>29756</td>\n",
       "      <td>17</td>\n",
       "    </tr>\n",
       "    <tr>\n",
       "      <th>1</th>\n",
       "      <td>0</td>\n",
       "      <td>1</td>\n",
       "      <td>2</td>\n",
       "      <td>90931</td>\n",
       "      <td>666</td>\n",
       "      <td>59</td>\n",
       "    </tr>\n",
       "    <tr>\n",
       "      <th>2</th>\n",
       "      <td>0</td>\n",
       "      <td>1</td>\n",
       "      <td>3</td>\n",
       "      <td>35978</td>\n",
       "      <td>198</td>\n",
       "      <td>83</td>\n",
       "    </tr>\n",
       "    <tr>\n",
       "      <th>3</th>\n",
       "      <td>0</td>\n",
       "      <td>1</td>\n",
       "      <td>4</td>\n",
       "      <td>2339</td>\n",
       "      <td>14</td>\n",
       "      <td>79</td>\n",
       "    </tr>\n",
       "    <tr>\n",
       "      <th>4</th>\n",
       "      <td>0</td>\n",
       "      <td>1</td>\n",
       "      <td>5</td>\n",
       "      <td>3513</td>\n",
       "      <td>25</td>\n",
       "      <td>78</td>\n",
       "    </tr>\n",
       "    <tr>\n",
       "      <th>...</th>\n",
       "      <td>...</td>\n",
       "      <td>...</td>\n",
       "      <td>...</td>\n",
       "      <td>...</td>\n",
       "      <td>...</td>\n",
       "      <td>...</td>\n",
       "    </tr>\n",
       "    <tr>\n",
       "      <th>246</th>\n",
       "      <td>23</td>\n",
       "      <td>2</td>\n",
       "      <td>2</td>\n",
       "      <td>65743</td>\n",
       "      <td>483</td>\n",
       "      <td>90</td>\n",
       "    </tr>\n",
       "    <tr>\n",
       "      <th>247</th>\n",
       "      <td>23</td>\n",
       "      <td>2</td>\n",
       "      <td>3</td>\n",
       "      <td>20580</td>\n",
       "      <td>117</td>\n",
       "      <td>62</td>\n",
       "    </tr>\n",
       "    <tr>\n",
       "      <th>248</th>\n",
       "      <td>23</td>\n",
       "      <td>2</td>\n",
       "      <td>4</td>\n",
       "      <td>2786</td>\n",
       "      <td>16</td>\n",
       "      <td>82</td>\n",
       "    </tr>\n",
       "    <tr>\n",
       "      <th>249</th>\n",
       "      <td>23</td>\n",
       "      <td>2</td>\n",
       "      <td>5</td>\n",
       "      <td>3240</td>\n",
       "      <td>23</td>\n",
       "      <td>78</td>\n",
       "    </tr>\n",
       "    <tr>\n",
       "      <th>250</th>\n",
       "      <td>23</td>\n",
       "      <td>2</td>\n",
       "      <td>6</td>\n",
       "      <td>48</td>\n",
       "      <td>1</td>\n",
       "      <td>78</td>\n",
       "    </tr>\n",
       "  </tbody>\n",
       "</table>\n",
       "<p>251 rows × 6 columns</p>\n",
       "</div>"
      ],
      "text/plain": [
       "     Horas  fk_id_Vendor  fk_id_Ratecode  fk_id_PUZone  Volumen  Volpredict\n",
       "0        0             1               1       4572776    29756          17\n",
       "1        0             1               2         90931      666          59\n",
       "2        0             1               3         35978      198          83\n",
       "3        0             1               4          2339       14          79\n",
       "4        0             1               5          3513       25          78\n",
       "..     ...           ...             ...           ...      ...         ...\n",
       "246     23             2               2         65743      483          90\n",
       "247     23             2               3         20580      117          62\n",
       "248     23             2               4          2786       16          82\n",
       "249     23             2               5          3240       23          78\n",
       "250     23             2               6            48        1          78\n",
       "\n",
       "[251 rows x 6 columns]"
      ]
     },
     "execution_count": 142,
     "metadata": {},
     "output_type": "execute_result"
    }
   ],
   "source": [
    "df_Apredic"
   ]
  },
  {
   "cell_type": "code",
   "execution_count": 147,
   "metadata": {
    "ExecuteTime": {
     "end_time": "2021-01-03T22:36:06.484200Z",
     "start_time": "2021-01-03T22:36:06.474448Z"
    }
   },
   "outputs": [
    {
     "data": {
      "text/plain": [
       "6675.585657370518"
      ]
     },
     "execution_count": 147,
     "metadata": {},
     "output_type": "execute_result"
    }
   ],
   "source": [
    "np.mean(df_modelo['Volumen'])"
   ]
  },
  {
   "cell_type": "code",
   "execution_count": 123,
   "metadata": {
    "ExecuteTime": {
     "end_time": "2021-01-03T21:29:57.617191Z",
     "start_time": "2021-01-03T21:29:57.180172Z"
    },
    "code_folding": [],
    "scrolled": true
   },
   "outputs": [],
   "source": [
    "for i in range(0,len(df_Apredic)):\n",
    "    if df_Apredic[\"Volumen\"][i] = df_Apredic['Volpredict'][i]:\n",
    "        print(i, df_Apredic[\"Volumen\"][i], df_Apredic['Volpredict'][i])"
   ]
  },
  {
   "cell_type": "code",
   "execution_count": null,
   "metadata": {
    "ExecuteTime": {
     "end_time": "2021-01-03T21:30:07.271652Z",
     "start_time": "2021-01-03T21:30:07.259744Z"
    }
   },
   "outputs": [],
   "source": []
  },
  {
   "cell_type": "code",
   "execution_count": 114,
   "metadata": {
    "ExecuteTime": {
     "end_time": "2021-01-03T21:10:07.121448Z",
     "start_time": "2021-01-03T21:10:07.110848Z"
    }
   },
   "outputs": [
    {
     "data": {
      "text/plain": [
       "3"
      ]
     },
     "execution_count": 114,
     "metadata": {},
     "output_type": "execute_result"
    }
   ],
   "source": [
    "len(error)"
   ]
  },
  {
   "cell_type": "code",
   "execution_count": 110,
   "metadata": {
    "ExecuteTime": {
     "end_time": "2021-01-03T20:58:38.984312Z",
     "start_time": "2021-01-03T20:58:38.961137Z"
    }
   },
   "outputs": [
    {
     "ename": "ValueError",
     "evalue": "too many values to unpack (expected 2)",
     "output_type": "error",
     "traceback": [
      "\u001b[0;31m---------------------------------------------------------------------------\u001b[0m",
      "\u001b[0;31mValueError\u001b[0m                                Traceback (most recent call last)",
      "\u001b[0;32m<ipython-input-110-991dbbadfe50>\u001b[0m in \u001b[0;36m<module>\u001b[0;34m\u001b[0m\n\u001b[0;32m----> 1\u001b[0;31m \u001b[0;32mfor\u001b[0m \u001b[0mx\u001b[0m\u001b[0;34m,\u001b[0m \u001b[0my\u001b[0m \u001b[0;32min\u001b[0m \u001b[0mdf_Apredic\u001b[0m\u001b[0;34m[\u001b[0m\u001b[0;34m[\u001b[0m\u001b[0;34m'Volumen'\u001b[0m\u001b[0;34m,\u001b[0m\u001b[0;34m'Volpredict'\u001b[0m\u001b[0;34m]\u001b[0m\u001b[0;34m]\u001b[0m\u001b[0;34m[\u001b[0m\u001b[0;34m:\u001b[0m\u001b[0;34m]\u001b[0m\u001b[0;34m:\u001b[0m\u001b[0;34m\u001b[0m\u001b[0;34m\u001b[0m\u001b[0m\n\u001b[0m\u001b[1;32m      2\u001b[0m        \u001b[0mprint\u001b[0m\u001b[0;34m(\u001b[0m\u001b[0;34m(\u001b[0m\u001b[0mx\u001b[0m\u001b[0;34m,\u001b[0m\u001b[0my\u001b[0m\u001b[0;34m)\u001b[0m\u001b[0;34m)\u001b[0m\u001b[0;34m\u001b[0m\u001b[0;34m\u001b[0m\u001b[0m\n\u001b[1;32m      3\u001b[0m \u001b[0;34m\u001b[0m\u001b[0m\n",
      "\u001b[0;31mValueError\u001b[0m: too many values to unpack (expected 2)"
     ]
    }
   ],
   "source": [
    "for i in range(0,len(data2)):\n",
    "    if data2[\"Volume\"][i] != y_pred[i]:\n",
    "        print(i, data2[\"Volume\"][i], y_pred[i] )"
   ]
  }
 ],
 "metadata": {
  "kernelspec": {
   "display_name": "Python 3",
   "language": "python",
   "name": "python3"
  },
  "language_info": {
   "codemirror_mode": {
    "name": "ipython",
    "version": 3
   },
   "file_extension": ".py",
   "mimetype": "text/x-python",
   "name": "python",
   "nbconvert_exporter": "python",
   "pygments_lexer": "ipython3",
   "version": "3.8.2"
  },
  "nbTranslate": {
   "displayLangs": [
    "*"
   ],
   "hotkey": "alt-t",
   "langInMainMenu": true,
   "sourceLang": "en",
   "targetLang": "fr",
   "useGoogleTranslate": true
  },
  "varInspector": {
   "cols": {
    "lenName": 16,
    "lenType": 16,
    "lenVar": 40
   },
   "kernels_config": {
    "python": {
     "delete_cmd_postfix": "",
     "delete_cmd_prefix": "del ",
     "library": "var_list.py",
     "varRefreshCmd": "print(var_dic_list())"
    },
    "r": {
     "delete_cmd_postfix": ") ",
     "delete_cmd_prefix": "rm(",
     "library": "var_list.r",
     "varRefreshCmd": "cat(var_dic_list()) "
    }
   },
   "types_to_exclude": [
    "module",
    "function",
    "builtin_function_or_method",
    "instance",
    "_Feature"
   ],
   "window_display": false
  }
 },
 "nbformat": 4,
 "nbformat_minor": 4
}
