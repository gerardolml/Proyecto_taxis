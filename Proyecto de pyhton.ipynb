{
 "cells": [
  {
   "cell_type": "code",
   "execution_count": 1,
   "metadata": {
    "ExecuteTime": {
     "end_time": "2020-12-17T01:44:17.129994Z",
     "start_time": "2020-12-17T01:44:16.395985Z"
    }
   },
   "outputs": [],
   "source": [
    "import pandas as pd\n",
    "import numpy as np\n",
    "import json as js\n",
    "import os  "
   ]
  },
  {
   "cell_type": "code",
   "execution_count": 2,
   "metadata": {
    "ExecuteTime": {
     "end_time": "2020-12-17T01:44:18.450909Z",
     "start_time": "2020-12-17T01:44:18.415467Z"
    }
   },
   "outputs": [
    {
     "data": {
      "text/plain": [
       "['2018_Yellow_Taxi_Trip_Data.csv', 'catalogo.json']"
      ]
     },
     "execution_count": 2,
     "metadata": {},
     "output_type": "execute_result"
    }
   ],
   "source": [
    "ruta = '/Users/usuario/Desktop/Luis/Ts/Base de datos'#Pongan la carpeta donde este su base de datos \n",
    "l_arch = os.listdir(ruta)\n",
    "l_arch "
   ]
  },
  {
   "cell_type": "code",
   "execution_count": 3,
   "metadata": {
    "ExecuteTime": {
     "end_time": "2020-12-17T01:44:19.952547Z",
     "start_time": "2020-12-17T01:44:19.942296Z"
    }
   },
   "outputs": [],
   "source": [
    "catalogos = js.load(open(os.path.join(ruta,l_arch[-1]),'rb'))"
   ]
  },
  {
   "cell_type": "code",
   "execution_count": 4,
   "metadata": {
    "ExecuteTime": {
     "end_time": "2020-12-17T01:44:22.121572Z",
     "start_time": "2020-12-17T01:44:22.112254Z"
    }
   },
   "outputs": [
    {
     "data": {
      "text/plain": [
       "dict_keys(['VendorID', 'RatecodeID', 'store_and_fwd_flag', 'payment_type'])"
      ]
     },
     "execution_count": 4,
     "metadata": {},
     "output_type": "execute_result"
    }
   ],
   "source": [
    "catalogos.keys()"
   ]
  },
  {
   "cell_type": "code",
   "execution_count": 5,
   "metadata": {
    "ExecuteTime": {
     "end_time": "2020-12-17T01:44:26.457140Z",
     "start_time": "2020-12-17T01:44:23.664587Z"
    }
   },
   "outputs": [],
   "source": [
    "df_muestra= pd.read_csv(os.path.join(ruta, l_arch[0]),nrows=1000000)"
   ]
  },
  {
   "cell_type": "code",
   "execution_count": 6,
   "metadata": {
    "ExecuteTime": {
     "end_time": "2020-12-17T01:44:32.349889Z",
     "start_time": "2020-12-17T01:44:32.308116Z"
    },
    "scrolled": false
   },
   "outputs": [
    {
     "data": {
      "text/html": [
       "<div>\n",
       "<style scoped>\n",
       "    .dataframe tbody tr th:only-of-type {\n",
       "        vertical-align: middle;\n",
       "    }\n",
       "\n",
       "    .dataframe tbody tr th {\n",
       "        vertical-align: top;\n",
       "    }\n",
       "\n",
       "    .dataframe thead th {\n",
       "        text-align: right;\n",
       "    }\n",
       "</style>\n",
       "<table border=\"1\" class=\"dataframe\">\n",
       "  <thead>\n",
       "    <tr style=\"text-align: right;\">\n",
       "      <th></th>\n",
       "      <th>VendorID</th>\n",
       "      <th>tpep_pickup_datetime</th>\n",
       "      <th>tpep_dropoff_datetime</th>\n",
       "      <th>passenger_count</th>\n",
       "      <th>trip_distance</th>\n",
       "      <th>RatecodeID</th>\n",
       "      <th>store_and_fwd_flag</th>\n",
       "      <th>PULocationID</th>\n",
       "      <th>DOLocationID</th>\n",
       "      <th>payment_type</th>\n",
       "      <th>fare_amount</th>\n",
       "      <th>extra</th>\n",
       "      <th>mta_tax</th>\n",
       "      <th>tip_amount</th>\n",
       "      <th>tolls_amount</th>\n",
       "      <th>improvement_surcharge</th>\n",
       "      <th>total_amount</th>\n",
       "    </tr>\n",
       "  </thead>\n",
       "  <tbody>\n",
       "    <tr>\n",
       "      <th>0</th>\n",
       "      <td>2</td>\n",
       "      <td>09/22/2018 11:46:37 PM</td>\n",
       "      <td>09/23/2018 12:07:10 AM</td>\n",
       "      <td>1</td>\n",
       "      <td>8.00</td>\n",
       "      <td>1</td>\n",
       "      <td>N</td>\n",
       "      <td>230</td>\n",
       "      <td>244</td>\n",
       "      <td>2</td>\n",
       "      <td>25.5</td>\n",
       "      <td>0.5</td>\n",
       "      <td>0.5</td>\n",
       "      <td>0.00</td>\n",
       "      <td>0.0</td>\n",
       "      <td>0.3</td>\n",
       "      <td>26.80</td>\n",
       "    </tr>\n",
       "    <tr>\n",
       "      <th>1</th>\n",
       "      <td>2</td>\n",
       "      <td>09/22/2018 11:00:43 PM</td>\n",
       "      <td>09/22/2018 11:09:36 PM</td>\n",
       "      <td>1</td>\n",
       "      <td>1.70</td>\n",
       "      <td>1</td>\n",
       "      <td>N</td>\n",
       "      <td>141</td>\n",
       "      <td>163</td>\n",
       "      <td>1</td>\n",
       "      <td>8.5</td>\n",
       "      <td>0.5</td>\n",
       "      <td>0.5</td>\n",
       "      <td>1.96</td>\n",
       "      <td>0.0</td>\n",
       "      <td>0.3</td>\n",
       "      <td>11.76</td>\n",
       "    </tr>\n",
       "    <tr>\n",
       "      <th>2</th>\n",
       "      <td>2</td>\n",
       "      <td>09/22/2018 11:10:32 PM</td>\n",
       "      <td>09/22/2018 11:25:50 PM</td>\n",
       "      <td>2</td>\n",
       "      <td>3.84</td>\n",
       "      <td>1</td>\n",
       "      <td>N</td>\n",
       "      <td>163</td>\n",
       "      <td>166</td>\n",
       "      <td>2</td>\n",
       "      <td>14.0</td>\n",
       "      <td>0.5</td>\n",
       "      <td>0.5</td>\n",
       "      <td>0.00</td>\n",
       "      <td>0.0</td>\n",
       "      <td>0.3</td>\n",
       "      <td>15.30</td>\n",
       "    </tr>\n",
       "    <tr>\n",
       "      <th>3</th>\n",
       "      <td>2</td>\n",
       "      <td>09/22/2018 11:27:25 PM</td>\n",
       "      <td>09/22/2018 11:36:29 PM</td>\n",
       "      <td>2</td>\n",
       "      <td>1.80</td>\n",
       "      <td>1</td>\n",
       "      <td>N</td>\n",
       "      <td>166</td>\n",
       "      <td>75</td>\n",
       "      <td>2</td>\n",
       "      <td>8.5</td>\n",
       "      <td>0.5</td>\n",
       "      <td>0.5</td>\n",
       "      <td>0.00</td>\n",
       "      <td>0.0</td>\n",
       "      <td>0.3</td>\n",
       "      <td>9.80</td>\n",
       "    </tr>\n",
       "    <tr>\n",
       "      <th>4</th>\n",
       "      <td>2</td>\n",
       "      <td>09/22/2018 11:50:39 PM</td>\n",
       "      <td>09/23/2018 12:01:52 AM</td>\n",
       "      <td>2</td>\n",
       "      <td>2.43</td>\n",
       "      <td>1</td>\n",
       "      <td>N</td>\n",
       "      <td>229</td>\n",
       "      <td>79</td>\n",
       "      <td>1</td>\n",
       "      <td>10.0</td>\n",
       "      <td>0.5</td>\n",
       "      <td>0.5</td>\n",
       "      <td>2.00</td>\n",
       "      <td>0.0</td>\n",
       "      <td>0.3</td>\n",
       "      <td>13.30</td>\n",
       "    </tr>\n",
       "  </tbody>\n",
       "</table>\n",
       "</div>"
      ],
      "text/plain": [
       "   VendorID    tpep_pickup_datetime   tpep_dropoff_datetime  passenger_count  \\\n",
       "0         2  09/22/2018 11:46:37 PM  09/23/2018 12:07:10 AM                1   \n",
       "1         2  09/22/2018 11:00:43 PM  09/22/2018 11:09:36 PM                1   \n",
       "2         2  09/22/2018 11:10:32 PM  09/22/2018 11:25:50 PM                2   \n",
       "3         2  09/22/2018 11:27:25 PM  09/22/2018 11:36:29 PM                2   \n",
       "4         2  09/22/2018 11:50:39 PM  09/23/2018 12:01:52 AM                2   \n",
       "\n",
       "   trip_distance  RatecodeID store_and_fwd_flag  PULocationID  DOLocationID  \\\n",
       "0           8.00           1                  N           230           244   \n",
       "1           1.70           1                  N           141           163   \n",
       "2           3.84           1                  N           163           166   \n",
       "3           1.80           1                  N           166            75   \n",
       "4           2.43           1                  N           229            79   \n",
       "\n",
       "   payment_type  fare_amount  extra  mta_tax  tip_amount  tolls_amount  \\\n",
       "0             2         25.5    0.5      0.5        0.00           0.0   \n",
       "1             1          8.5    0.5      0.5        1.96           0.0   \n",
       "2             2         14.0    0.5      0.5        0.00           0.0   \n",
       "3             2          8.5    0.5      0.5        0.00           0.0   \n",
       "4             1         10.0    0.5      0.5        2.00           0.0   \n",
       "\n",
       "   improvement_surcharge  total_amount  \n",
       "0                    0.3         26.80  \n",
       "1                    0.3         11.76  \n",
       "2                    0.3         15.30  \n",
       "3                    0.3          9.80  \n",
       "4                    0.3         13.30  "
      ]
     },
     "execution_count": 6,
     "metadata": {},
     "output_type": "execute_result"
    }
   ],
   "source": [
    "df_muestra.head()"
   ]
  },
  {
   "cell_type": "code",
   "execution_count": 7,
   "metadata": {
    "ExecuteTime": {
     "end_time": "2020-12-16T01:47:51.893815Z",
     "start_time": "2020-12-16T01:47:51.768450Z"
    }
   },
   "outputs": [],
   "source": []
  },
  {
   "cell_type": "code",
   "execution_count": 8,
   "metadata": {
    "ExecuteTime": {
     "end_time": "2020-12-16T01:47:53.337666Z",
     "start_time": "2020-12-16T01:47:53.328246Z"
    }
   },
   "outputs": [
    {
     "data": {
      "text/plain": [
       "dtype('S1')"
      ]
     },
     "execution_count": 8,
     "metadata": {},
     "output_type": "execute_result"
    }
   ],
   "source": [
    "df_muestra['store_and_fwd_flag'].dtype"
   ]
  },
  {
   "cell_type": "code",
   "execution_count": 7,
   "metadata": {
    "ExecuteTime": {
     "end_time": "2020-12-17T01:44:37.400179Z",
     "start_time": "2020-12-17T01:44:37.335849Z"
    },
    "code_folding": []
   },
   "outputs": [],
   "source": [
    "l_cat = [(x,pd.DataFrame.from_dict(catalogos[x],\n",
    "                                   orient='index',\n",
    "                                   columns=[\"x_%s\"%x]).reset_index().rename(columns={'index':x})) for x in catalogos.keys()]"
   ]
  },
  {
   "cell_type": "code",
   "execution_count": 8,
   "metadata": {
    "ExecuteTime": {
     "end_time": "2020-12-17T01:44:40.038203Z",
     "start_time": "2020-12-17T01:44:40.013300Z"
    }
   },
   "outputs": [
    {
     "data": {
      "text/plain": [
       "[('VendorID',\n",
       "    VendorID                    x_VendorID\n",
       "  0        1  Creative Mobile Technologies\n",
       "  1        2                  VeriFone Inc),\n",
       " ('RatecodeID',\n",
       "    RatecodeID           x_RatecodeID\n",
       "  0          1          Standard rate\n",
       "  1          2                    JFK\n",
       "  2          3                 Newark\n",
       "  3          4  Nassau or Westchester\n",
       "  4          5        Negotiated fare\n",
       "  5          6             Group ride),\n",
       " ('store_and_fwd_flag',\n",
       "    store_and_fwd_flag          x_store_and_fwd_flag\n",
       "  0                  Y        store and forward trip\n",
       "  1                  N  not a store and forward trip),\n",
       " ('payment_type',\n",
       "    payment_type x_payment_type\n",
       "  0            1    Credit card\n",
       "  1            2           Cash\n",
       "  2            3      No charge\n",
       "  3            4        Dispute\n",
       "  4            5        Unknown\n",
       "  5            6    Voided trip)]"
      ]
     },
     "execution_count": 8,
     "metadata": {},
     "output_type": "execute_result"
    }
   ],
   "source": [
    "l_cat"
   ]
  },
  {
   "cell_type": "code",
   "execution_count": 9,
   "metadata": {
    "ExecuteTime": {
     "end_time": "2020-12-17T01:46:14.922941Z",
     "start_time": "2020-12-17T01:46:06.786526Z"
    },
    "code_folding": [],
    "scrolled": true
   },
   "outputs": [
    {
     "name": "stdout",
     "output_type": "stream",
     "text": [
      "VendorID\n",
      "RatecodeID\n",
      "store_and_fwd_flag\n",
      "payment_type\n"
     ]
    }
   ],
   "source": [
    "for key,cat in l_cat:\n",
    "    print(key)\n",
    "    df_muestra[key] = df_muestra[key].fillna(9999).astype('S')\n",
    "    cat[key] = cat[key].astype('S')\n",
    "    df_muestra = df_muestra.merge(cat,on=key ,how='left').drop(key,axis=1).rename(columns={'x_%s'%key:key})"
   ]
  },
  {
   "cell_type": "code",
   "execution_count": 10,
   "metadata": {
    "ExecuteTime": {
     "end_time": "2020-12-17T01:48:50.695638Z",
     "start_time": "2020-12-17T01:48:50.617347Z"
    }
   },
   "outputs": [
    {
     "data": {
      "text/html": [
       "<div>\n",
       "<style scoped>\n",
       "    .dataframe tbody tr th:only-of-type {\n",
       "        vertical-align: middle;\n",
       "    }\n",
       "\n",
       "    .dataframe tbody tr th {\n",
       "        vertical-align: top;\n",
       "    }\n",
       "\n",
       "    .dataframe thead th {\n",
       "        text-align: right;\n",
       "    }\n",
       "</style>\n",
       "<table border=\"1\" class=\"dataframe\">\n",
       "  <thead>\n",
       "    <tr style=\"text-align: right;\">\n",
       "      <th></th>\n",
       "      <th>tpep_pickup_datetime</th>\n",
       "      <th>tpep_dropoff_datetime</th>\n",
       "      <th>passenger_count</th>\n",
       "      <th>trip_distance</th>\n",
       "      <th>PULocationID</th>\n",
       "      <th>DOLocationID</th>\n",
       "      <th>fare_amount</th>\n",
       "      <th>extra</th>\n",
       "      <th>mta_tax</th>\n",
       "      <th>tip_amount</th>\n",
       "      <th>tolls_amount</th>\n",
       "      <th>improvement_surcharge</th>\n",
       "      <th>total_amount</th>\n",
       "      <th>VendorID</th>\n",
       "      <th>RatecodeID</th>\n",
       "      <th>store_and_fwd_flag</th>\n",
       "      <th>payment_type</th>\n",
       "    </tr>\n",
       "  </thead>\n",
       "  <tbody>\n",
       "    <tr>\n",
       "      <th>0</th>\n",
       "      <td>09/22/2018 11:46:37 PM</td>\n",
       "      <td>09/23/2018 12:07:10 AM</td>\n",
       "      <td>1</td>\n",
       "      <td>8.00</td>\n",
       "      <td>230</td>\n",
       "      <td>244</td>\n",
       "      <td>25.5</td>\n",
       "      <td>0.5</td>\n",
       "      <td>0.5</td>\n",
       "      <td>0.00</td>\n",
       "      <td>0.00</td>\n",
       "      <td>0.3</td>\n",
       "      <td>26.80</td>\n",
       "      <td>VeriFone Inc</td>\n",
       "      <td>Standard rate</td>\n",
       "      <td>not a store and forward trip</td>\n",
       "      <td>Cash</td>\n",
       "    </tr>\n",
       "    <tr>\n",
       "      <th>1</th>\n",
       "      <td>09/22/2018 11:00:43 PM</td>\n",
       "      <td>09/22/2018 11:09:36 PM</td>\n",
       "      <td>1</td>\n",
       "      <td>1.70</td>\n",
       "      <td>141</td>\n",
       "      <td>163</td>\n",
       "      <td>8.5</td>\n",
       "      <td>0.5</td>\n",
       "      <td>0.5</td>\n",
       "      <td>1.96</td>\n",
       "      <td>0.00</td>\n",
       "      <td>0.3</td>\n",
       "      <td>11.76</td>\n",
       "      <td>VeriFone Inc</td>\n",
       "      <td>Standard rate</td>\n",
       "      <td>not a store and forward trip</td>\n",
       "      <td>Credit card</td>\n",
       "    </tr>\n",
       "    <tr>\n",
       "      <th>2</th>\n",
       "      <td>09/22/2018 11:10:32 PM</td>\n",
       "      <td>09/22/2018 11:25:50 PM</td>\n",
       "      <td>2</td>\n",
       "      <td>3.84</td>\n",
       "      <td>163</td>\n",
       "      <td>166</td>\n",
       "      <td>14.0</td>\n",
       "      <td>0.5</td>\n",
       "      <td>0.5</td>\n",
       "      <td>0.00</td>\n",
       "      <td>0.00</td>\n",
       "      <td>0.3</td>\n",
       "      <td>15.30</td>\n",
       "      <td>VeriFone Inc</td>\n",
       "      <td>Standard rate</td>\n",
       "      <td>not a store and forward trip</td>\n",
       "      <td>Cash</td>\n",
       "    </tr>\n",
       "    <tr>\n",
       "      <th>3</th>\n",
       "      <td>09/22/2018 11:27:25 PM</td>\n",
       "      <td>09/22/2018 11:36:29 PM</td>\n",
       "      <td>2</td>\n",
       "      <td>1.80</td>\n",
       "      <td>166</td>\n",
       "      <td>75</td>\n",
       "      <td>8.5</td>\n",
       "      <td>0.5</td>\n",
       "      <td>0.5</td>\n",
       "      <td>0.00</td>\n",
       "      <td>0.00</td>\n",
       "      <td>0.3</td>\n",
       "      <td>9.80</td>\n",
       "      <td>VeriFone Inc</td>\n",
       "      <td>Standard rate</td>\n",
       "      <td>not a store and forward trip</td>\n",
       "      <td>Cash</td>\n",
       "    </tr>\n",
       "    <tr>\n",
       "      <th>4</th>\n",
       "      <td>09/22/2018 11:50:39 PM</td>\n",
       "      <td>09/23/2018 12:01:52 AM</td>\n",
       "      <td>2</td>\n",
       "      <td>2.43</td>\n",
       "      <td>229</td>\n",
       "      <td>79</td>\n",
       "      <td>10.0</td>\n",
       "      <td>0.5</td>\n",
       "      <td>0.5</td>\n",
       "      <td>2.00</td>\n",
       "      <td>0.00</td>\n",
       "      <td>0.3</td>\n",
       "      <td>13.30</td>\n",
       "      <td>VeriFone Inc</td>\n",
       "      <td>Standard rate</td>\n",
       "      <td>not a store and forward trip</td>\n",
       "      <td>Credit card</td>\n",
       "    </tr>\n",
       "    <tr>\n",
       "      <th>...</th>\n",
       "      <td>...</td>\n",
       "      <td>...</td>\n",
       "      <td>...</td>\n",
       "      <td>...</td>\n",
       "      <td>...</td>\n",
       "      <td>...</td>\n",
       "      <td>...</td>\n",
       "      <td>...</td>\n",
       "      <td>...</td>\n",
       "      <td>...</td>\n",
       "      <td>...</td>\n",
       "      <td>...</td>\n",
       "      <td>...</td>\n",
       "      <td>...</td>\n",
       "      <td>...</td>\n",
       "      <td>...</td>\n",
       "      <td>...</td>\n",
       "    </tr>\n",
       "    <tr>\n",
       "      <th>999995</th>\n",
       "      <td>09/26/2018 11:22:35 PM</td>\n",
       "      <td>09/26/2018 11:39:27 PM</td>\n",
       "      <td>1</td>\n",
       "      <td>5.70</td>\n",
       "      <td>161</td>\n",
       "      <td>42</td>\n",
       "      <td>18.0</td>\n",
       "      <td>0.5</td>\n",
       "      <td>0.5</td>\n",
       "      <td>0.00</td>\n",
       "      <td>0.00</td>\n",
       "      <td>0.3</td>\n",
       "      <td>19.30</td>\n",
       "      <td>Creative Mobile Technologies</td>\n",
       "      <td>Standard rate</td>\n",
       "      <td>not a store and forward trip</td>\n",
       "      <td>Credit card</td>\n",
       "    </tr>\n",
       "    <tr>\n",
       "      <th>999996</th>\n",
       "      <td>09/26/2018 11:04:04 PM</td>\n",
       "      <td>09/26/2018 11:14:50 PM</td>\n",
       "      <td>1</td>\n",
       "      <td>0.88</td>\n",
       "      <td>234</td>\n",
       "      <td>234</td>\n",
       "      <td>8.5</td>\n",
       "      <td>0.5</td>\n",
       "      <td>0.5</td>\n",
       "      <td>0.00</td>\n",
       "      <td>0.00</td>\n",
       "      <td>0.3</td>\n",
       "      <td>9.80</td>\n",
       "      <td>VeriFone Inc</td>\n",
       "      <td>Standard rate</td>\n",
       "      <td>not a store and forward trip</td>\n",
       "      <td>Credit card</td>\n",
       "    </tr>\n",
       "    <tr>\n",
       "      <th>999997</th>\n",
       "      <td>09/26/2018 11:45:21 PM</td>\n",
       "      <td>09/27/2018 12:20:07 AM</td>\n",
       "      <td>1</td>\n",
       "      <td>8.50</td>\n",
       "      <td>164</td>\n",
       "      <td>17</td>\n",
       "      <td>28.5</td>\n",
       "      <td>0.5</td>\n",
       "      <td>0.5</td>\n",
       "      <td>7.11</td>\n",
       "      <td>5.76</td>\n",
       "      <td>0.3</td>\n",
       "      <td>42.67</td>\n",
       "      <td>VeriFone Inc</td>\n",
       "      <td>Standard rate</td>\n",
       "      <td>not a store and forward trip</td>\n",
       "      <td>Credit card</td>\n",
       "    </tr>\n",
       "    <tr>\n",
       "      <th>999998</th>\n",
       "      <td>09/26/2018 11:12:10 PM</td>\n",
       "      <td>09/26/2018 11:37:48 PM</td>\n",
       "      <td>1</td>\n",
       "      <td>6.53</td>\n",
       "      <td>236</td>\n",
       "      <td>148</td>\n",
       "      <td>23.0</td>\n",
       "      <td>0.5</td>\n",
       "      <td>0.5</td>\n",
       "      <td>7.29</td>\n",
       "      <td>0.00</td>\n",
       "      <td>0.3</td>\n",
       "      <td>31.59</td>\n",
       "      <td>VeriFone Inc</td>\n",
       "      <td>Standard rate</td>\n",
       "      <td>not a store and forward trip</td>\n",
       "      <td>Credit card</td>\n",
       "    </tr>\n",
       "    <tr>\n",
       "      <th>999999</th>\n",
       "      <td>09/26/2018 11:20:12 PM</td>\n",
       "      <td>09/26/2018 11:30:00 PM</td>\n",
       "      <td>1</td>\n",
       "      <td>4.70</td>\n",
       "      <td>132</td>\n",
       "      <td>216</td>\n",
       "      <td>15.0</td>\n",
       "      <td>0.5</td>\n",
       "      <td>0.5</td>\n",
       "      <td>1.00</td>\n",
       "      <td>0.00</td>\n",
       "      <td>0.3</td>\n",
       "      <td>17.30</td>\n",
       "      <td>Creative Mobile Technologies</td>\n",
       "      <td>Standard rate</td>\n",
       "      <td>not a store and forward trip</td>\n",
       "      <td>Credit card</td>\n",
       "    </tr>\n",
       "  </tbody>\n",
       "</table>\n",
       "<p>1000000 rows × 17 columns</p>\n",
       "</div>"
      ],
      "text/plain": [
       "          tpep_pickup_datetime   tpep_dropoff_datetime  passenger_count  \\\n",
       "0       09/22/2018 11:46:37 PM  09/23/2018 12:07:10 AM                1   \n",
       "1       09/22/2018 11:00:43 PM  09/22/2018 11:09:36 PM                1   \n",
       "2       09/22/2018 11:10:32 PM  09/22/2018 11:25:50 PM                2   \n",
       "3       09/22/2018 11:27:25 PM  09/22/2018 11:36:29 PM                2   \n",
       "4       09/22/2018 11:50:39 PM  09/23/2018 12:01:52 AM                2   \n",
       "...                        ...                     ...              ...   \n",
       "999995  09/26/2018 11:22:35 PM  09/26/2018 11:39:27 PM                1   \n",
       "999996  09/26/2018 11:04:04 PM  09/26/2018 11:14:50 PM                1   \n",
       "999997  09/26/2018 11:45:21 PM  09/27/2018 12:20:07 AM                1   \n",
       "999998  09/26/2018 11:12:10 PM  09/26/2018 11:37:48 PM                1   \n",
       "999999  09/26/2018 11:20:12 PM  09/26/2018 11:30:00 PM                1   \n",
       "\n",
       "        trip_distance  PULocationID  DOLocationID  fare_amount  extra  \\\n",
       "0                8.00           230           244         25.5    0.5   \n",
       "1                1.70           141           163          8.5    0.5   \n",
       "2                3.84           163           166         14.0    0.5   \n",
       "3                1.80           166            75          8.5    0.5   \n",
       "4                2.43           229            79         10.0    0.5   \n",
       "...               ...           ...           ...          ...    ...   \n",
       "999995           5.70           161            42         18.0    0.5   \n",
       "999996           0.88           234           234          8.5    0.5   \n",
       "999997           8.50           164            17         28.5    0.5   \n",
       "999998           6.53           236           148         23.0    0.5   \n",
       "999999           4.70           132           216         15.0    0.5   \n",
       "\n",
       "        mta_tax  tip_amount  tolls_amount  improvement_surcharge  \\\n",
       "0           0.5        0.00          0.00                    0.3   \n",
       "1           0.5        1.96          0.00                    0.3   \n",
       "2           0.5        0.00          0.00                    0.3   \n",
       "3           0.5        0.00          0.00                    0.3   \n",
       "4           0.5        2.00          0.00                    0.3   \n",
       "...         ...         ...           ...                    ...   \n",
       "999995      0.5        0.00          0.00                    0.3   \n",
       "999996      0.5        0.00          0.00                    0.3   \n",
       "999997      0.5        7.11          5.76                    0.3   \n",
       "999998      0.5        7.29          0.00                    0.3   \n",
       "999999      0.5        1.00          0.00                    0.3   \n",
       "\n",
       "        total_amount                      VendorID     RatecodeID  \\\n",
       "0              26.80                  VeriFone Inc  Standard rate   \n",
       "1              11.76                  VeriFone Inc  Standard rate   \n",
       "2              15.30                  VeriFone Inc  Standard rate   \n",
       "3               9.80                  VeriFone Inc  Standard rate   \n",
       "4              13.30                  VeriFone Inc  Standard rate   \n",
       "...              ...                           ...            ...   \n",
       "999995         19.30  Creative Mobile Technologies  Standard rate   \n",
       "999996          9.80                  VeriFone Inc  Standard rate   \n",
       "999997         42.67                  VeriFone Inc  Standard rate   \n",
       "999998         31.59                  VeriFone Inc  Standard rate   \n",
       "999999         17.30  Creative Mobile Technologies  Standard rate   \n",
       "\n",
       "                  store_and_fwd_flag payment_type  \n",
       "0       not a store and forward trip         Cash  \n",
       "1       not a store and forward trip  Credit card  \n",
       "2       not a store and forward trip         Cash  \n",
       "3       not a store and forward trip         Cash  \n",
       "4       not a store and forward trip  Credit card  \n",
       "...                              ...          ...  \n",
       "999995  not a store and forward trip  Credit card  \n",
       "999996  not a store and forward trip  Credit card  \n",
       "999997  not a store and forward trip  Credit card  \n",
       "999998  not a store and forward trip  Credit card  \n",
       "999999  not a store and forward trip  Credit card  \n",
       "\n",
       "[1000000 rows x 17 columns]"
      ]
     },
     "execution_count": 10,
     "metadata": {},
     "output_type": "execute_result"
    }
   ],
   "source": [
    "df_muestra"
   ]
  },
  {
   "cell_type": "code",
   "execution_count": null,
   "metadata": {},
   "outputs": [],
   "source": []
  }
 ],
 "metadata": {
  "kernelspec": {
   "display_name": "Python 3",
   "language": "python",
   "name": "python3"
  },
  "language_info": {
   "codemirror_mode": {
    "name": "ipython",
    "version": 3
   },
   "file_extension": ".py",
   "mimetype": "text/x-python",
   "name": "python",
   "nbconvert_exporter": "python",
   "pygments_lexer": "ipython3",
   "version": "3.8.2"
  },
  "nbTranslate": {
   "displayLangs": [
    "*"
   ],
   "hotkey": "alt-t",
   "langInMainMenu": true,
   "sourceLang": "en",
   "targetLang": "fr",
   "useGoogleTranslate": true
  },
  "varInspector": {
   "cols": {
    "lenName": 16,
    "lenType": 16,
    "lenVar": 40
   },
   "kernels_config": {
    "python": {
     "delete_cmd_postfix": "",
     "delete_cmd_prefix": "del ",
     "library": "var_list.py",
     "varRefreshCmd": "print(var_dic_list())"
    },
    "r": {
     "delete_cmd_postfix": ") ",
     "delete_cmd_prefix": "rm(",
     "library": "var_list.r",
     "varRefreshCmd": "cat(var_dic_list()) "
    }
   },
   "types_to_exclude": [
    "module",
    "function",
    "builtin_function_or_method",
    "instance",
    "_Feature"
   ],
   "window_display": false
  }
 },
 "nbformat": 4,
 "nbformat_minor": 4
}
